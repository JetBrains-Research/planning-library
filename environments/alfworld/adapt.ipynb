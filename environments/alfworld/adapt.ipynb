{
 "cells": [
  {
   "cell_type": "markdown",
   "source": [
    "## Utils"
   ],
   "metadata": {
    "collapsed": false
   },
   "id": "72abf790fb4a74db"
  },
  {
   "cell_type": "markdown",
   "source": [
    "### Imports"
   ],
   "metadata": {
    "collapsed": false
   },
   "id": "63013586d3dd592f"
  },
  {
   "cell_type": "code",
   "outputs": [],
   "source": [
    "import requests\n",
    "from environments.alfworld.common.environment import ALFWorldEnv\n",
    "\n",
    "import os\n",
    "from langchain_openai import ChatOpenAI\n",
    "from planning_library.strategies import ADaPTStrategy\n",
    "from planning_library.strategies.adapt.components import ADaPTPlanner, ADaPTExecutor\n",
    "from planning_library.action_executors import LangchainActionExecutor, MetaTools\n",
    "from planning_library.utils.gym_env_reset_tool import GymEnvResetTool\n",
    "from textwrap import dedent\n",
    "\n",
    "%load_ext autoreload\n",
    "%autoreload 2"
   ],
   "metadata": {
    "collapsed": false,
    "ExecuteTime": {
     "end_time": "2024-05-22T11:46:56.309298Z",
     "start_time": "2024-05-22T11:46:49.025162Z"
    }
   },
   "id": "917b334526ae1418",
   "execution_count": 1
  },
  {
   "cell_type": "markdown",
   "source": [
    "### Logging"
   ],
   "metadata": {
    "collapsed": false
   },
   "id": "d03be61eb1d2d978"
  },
  {
   "cell_type": "code",
   "outputs": [],
   "source": [
    "os.environ[\"LANGCHAIN_TRACING_V2\"] = \"true\"\n",
    "os.environ[\"LANGCHAIN_PROJECT\"] = \"test\"\n",
    "os.environ[\"LANGCHAIN_ENDPOINT\"] = \"https://api.smith.langchain.com\""
   ],
   "metadata": {
    "collapsed": false,
    "ExecuteTime": {
     "end_time": "2024-05-22T11:46:56.326234Z",
     "start_time": "2024-05-22T11:46:56.309732Z"
    }
   },
   "id": "add6277843d9e0d5",
   "execution_count": 2
  },
  {
   "cell_type": "markdown",
   "source": [
    "## Environment"
   ],
   "metadata": {
    "collapsed": false
   },
   "id": "49b12b291a70bf6a"
  },
  {
   "cell_type": "code",
   "outputs": [
    {
     "name": "stdout",
     "output_type": "stream",
     "text": [
      "Initializing AlfredTWEnv...\n"
     ]
    },
    {
     "name": "stderr",
     "output_type": "stream",
     "text": [
      "100%|██████████| 8810/8810 [00:05<00:00, 1712.34it/s]"
     ]
    },
    {
     "name": "stdout",
     "output_type": "stream",
     "text": [
      "Overall we have 3553 games in split=train\n",
      "Training with 3553 games\n"
     ]
    },
    {
     "name": "stderr",
     "output_type": "stream",
     "text": [
      "\n"
     ]
    }
   ],
   "source": [
    "os.environ[\"ALFWORLD_DATA\"] = \"utils/data\"\n",
    "\n",
    "if not \"base_config.yaml\" in os.listdir(\"utils\"):\n",
    "    response = requests.get(\"https://raw.githubusercontent.com/alfworld/alfworld/master/configs/base_config.yaml\")\n",
    "    \n",
    "    with open(\"utils/base_config.yaml\", \"wb\") as f:\n",
    "        f.write(response.content)\n",
    "\n",
    "env = ALFWorldEnv(config_path=\"utils/base_config.yaml\")\n",
    "meta_tools = MetaTools(reset=GymEnvResetTool(env=env))\n",
    "action_executor = LangchainActionExecutor(env.tools, meta_tools=meta_tools)"
   ],
   "metadata": {
    "collapsed": false,
    "ExecuteTime": {
     "end_time": "2024-05-22T11:47:01.752821Z",
     "start_time": "2024-05-22T11:46:56.326441Z"
    }
   },
   "id": "a79748e60e33a68c",
   "execution_count": 3
  },
  {
   "cell_type": "code",
   "outputs": [
    {
     "name": "stdout",
     "output_type": "stream",
     "text": [
      "-= Welcome to TextWorld, ALFRED! =-\n",
      "\n",
      "You are in the middle of a room. Looking quickly around you, you see a bed 1, a cabinet 4, a cabinet 3, a cabinet 2, a cabinet 1, a desk 1, a drawer 2, a drawer 1, a garbagecan 1, a shelf 1, and a sidetable 1.\n",
      "\n",
      "Your task is to: put some pencil on shelf.\n"
     ]
    }
   ],
   "source": [
    "obs, info = env.reset(options={\"next_episode\": True})\n",
    "print(obs)"
   ],
   "metadata": {
    "collapsed": false,
    "ExecuteTime": {
     "end_time": "2024-05-22T11:47:02.433994Z",
     "start_time": "2024-05-22T11:47:01.751585Z"
    }
   },
   "id": "e6feb0742d5fd134",
   "execution_count": 4
  },
  {
   "cell_type": "markdown",
   "source": [
    "## Strategy"
   ],
   "metadata": {
    "collapsed": false
   },
   "id": "c73a0b66343809e6"
  },
  {
   "cell_type": "markdown",
   "source": [
    "### Hyperparameters"
   ],
   "metadata": {
    "collapsed": false
   },
   "id": "8ea5dbf565405291"
  },
  {
   "cell_type": "code",
   "outputs": [],
   "source": [
    "# ADaPT hyperparameters\n",
    "max_depth = 3  # maximum decomposition depth\n",
    "executor_max_iterations = 2  # maximum number of iterations for the executor; when reached, the loop will exit\n",
    "planner_max_iterations = 20  # maximum number of iterations for the planner; when reached, the loop will exit\n",
    "\n",
    "# other hyperparameters\n",
    "model_name = \"gpt-3.5-turbo\"\n",
    "temperature = 0.8"
   ],
   "metadata": {
    "collapsed": false,
    "ExecuteTime": {
     "end_time": "2024-05-22T11:47:02.450759Z",
     "start_time": "2024-05-22T11:47:02.433294Z"
    }
   },
   "id": "95866c282598a829",
   "execution_count": 5
  },
  {
   "cell_type": "markdown",
   "source": [
    "### Executor"
   ],
   "metadata": {
    "collapsed": false
   },
   "id": "be5638126da22e9d"
  },
  {
   "cell_type": "markdown",
   "source": [
    "Default Executor is powered by any strategy from the library. By default, a simple one is used (see `planning_library/strategies/simple/simple_strategy.py` for more details)."
   ],
   "metadata": {
    "collapsed": false
   },
   "id": "1a668ccc0e924025"
  },
  {
   "cell_type": "code",
   "outputs": [],
   "source": [
    "executor = ADaPTExecutor.create_simple_strategy(llm=ChatOpenAI(model=model_name, temperature=temperature),\n",
    "                                             parser_name=\"openai-tools\",\n",
    "                                                user_message=dedent(\"\"\"\n",
    "            You are ALFRED, an intelligent agent navigating in a household.\n",
    "\n",
    "            {inputs}\"\"\"),      max_iterations=executor_max_iterations,\n",
    "                                                return_intermediate_steps=True,\n",
    "                                                return_finish_log=True,\n",
    "                                                action_executor=action_executor)"
   ],
   "metadata": {
    "collapsed": false,
    "ExecuteTime": {
     "end_time": "2024-05-22T11:47:02.547042Z",
     "start_time": "2024-05-22T11:47:02.450869Z"
    }
   },
   "id": "979177816823c6a7",
   "execution_count": 6
  },
  {
   "cell_type": "markdown",
   "source": [
    "### Planner\n",
    "\n",
    "Planner can either be:\n",
    "\n",
    "* `agent`: llm with tools, can be powered by any strategy from the library. By default, a simple one is used (see `planning_library/strategies/simple/simple_strategy.py` for more details).\n",
    "* `simple`: a single call to llm."
   ],
   "metadata": {
    "collapsed": false
   },
   "id": "9f6d98010f0d114"
  },
  {
   "cell_type": "code",
   "outputs": [],
   "source": [
    "agent_planner = ADaPTPlanner.create_agent_planner(llm=ChatOpenAI(model=model_name, temperature=temperature),\n",
    "                                             parser_name=\"openai-tools\", \n",
    "                                                user_message=dedent(\"\"\"\n",
    "            Here is the essence of the original task:\n",
    "\n",
    "            {inputs}\n",
    "            \"\"\"),\n",
    "            executor_parser_name=\"openai-tools\")"
   ],
   "metadata": {
    "collapsed": false,
    "ExecuteTime": {
     "end_time": "2024-05-22T11:47:02.574634Z",
     "start_time": "2024-05-22T11:47:02.547704Z"
    }
   },
   "id": "7c15cf73c24ab3f4",
   "execution_count": 7
  },
  {
   "cell_type": "code",
   "outputs": [],
   "source": [
    "simple_planner = ADaPTPlanner.create_simple_planner(llm=ChatOpenAI(model=model_name, temperature=temperature),\n",
    "                                                user_message=dedent(\"\"\"\n",
    "            Here is the essence of the original task:\n",
    "\n",
    "            {inputs}\n",
    "            \"\"\"),\n",
    "            executor_parser_name=\"openai-tools\")"
   ],
   "metadata": {
    "collapsed": false,
    "ExecuteTime": {
     "end_time": "2024-05-22T11:47:02.601599Z",
     "start_time": "2024-05-22T11:47:02.574821Z"
    }
   },
   "id": "e682b3c778b7973b",
   "execution_count": 8
  },
  {
   "cell_type": "markdown",
   "source": [
    "## Defining strategy"
   ],
   "metadata": {
    "collapsed": false
   },
   "id": "b1ebe94eff77889e"
  },
  {
   "cell_type": "code",
   "outputs": [],
   "source": [
    "agent_planner_adapt = ADaPTStrategy(\n",
    "    executor=executor,\n",
    "    planner=agent_planner,\n",
    "    max_depth=max_depth,\n",
    "    return_intermediate_steps=True,\n",
    "    return_finish_log=True,\n",
    ")"
   ],
   "metadata": {
    "collapsed": false,
    "ExecuteTime": {
     "end_time": "2024-05-22T11:47:02.621126Z",
     "start_time": "2024-05-22T11:47:02.601875Z"
    }
   },
   "id": "d7c2708702ec7712",
   "execution_count": 9
  },
  {
   "cell_type": "code",
   "outputs": [
    {
     "name": "stdout",
     "output_type": "stream",
     "text": [
      "\n",
      "\n",
      "\u001B[1m> Entering new ADaPTStrategy chain...\u001B[0m\n",
      "\n",
      "\n",
      "\u001B[1m> Entering new SimpleStrategy chain...\u001B[0m\n",
      "\u001B[32;1m\u001B[1;3mI encountered an issue while trying to put the pencil on the shelf. Let me try again to complete the task.\u001B[0m\n",
      "\n",
      "\u001B[1m> Finished chain.\u001B[0m\n",
      "\n",
      "\n",
      "\u001B[1m> Entering new SimpleStrategy chain...\u001B[0m\n",
      "\u001B[32;1m\u001B[1;3mI have added the first subtask to the plan: \"Go to the shelf 1 and place a pencil on it.\"  \n",
      "The plan is set to aggregate the results with an \"and\" logic, meaning all subtasks must be successfully completed.  \u001B[0m\n",
      "\n",
      "\u001B[1m> Finished chain.\u001B[0m\n",
      "\n",
      "\n",
      "\u001B[1m> Entering new SimpleStrategy chain...\u001B[0m\n",
      "\u001B[32;1m\u001B[1;3m\u001B[0m\n",
      "\n",
      "\u001B[1m> Finished chain.\u001B[0m\n",
      "\n",
      "\n",
      "\u001B[1m> Entering new SimpleStrategy chain...\u001B[0m\n",
      "\u001B[32;1m\u001B[1;3mThe step-by-step plan to successfully solve the task \"Go to the shelf 1 and place a pencil on it\" with \"and\" logic aggregation is as follows:\n",
      "\n",
      "1. Go to shelf 1.\n",
      "2. Place a pencil on shelf 1.\n",
      "\n",
      "This plan ensures that both subtasks are executed sequentially, and the task will only be considered successfully solved if both subtasks are completed successfully in the specified order.\u001B[0m\n",
      "\n",
      "\u001B[1m> Finished chain.\u001B[0m\n",
      "\n",
      "\n",
      "\u001B[1m> Entering new SimpleStrategy chain...\u001B[0m\n",
      "\u001B[32;1m\u001B[1;3mIt seems like I couldn't go to shelf 1. Let me try that again.\u001B[0m\n",
      "\n",
      "\u001B[1m> Finished chain.\u001B[0m\n",
      "\n",
      "\n",
      "\u001B[1m> Entering new SimpleStrategy chain...\u001B[0m\n",
      "\u001B[32;1m\u001B[1;3mI have added the first step to the plan:\n",
      "1. Go to shelf 1\u001B[0m\n",
      "\n",
      "\u001B[1m> Finished chain.\u001B[0m\n",
      "\n",
      "\n",
      "\u001B[1m> Entering new SimpleStrategy chain...\u001B[0m\n",
      "\u001B[32;1m\u001B[1;3mI encountered an issue while trying to go to shelf 1. Let me try that again.\u001B[0m\n",
      "\n",
      "\u001B[1m> Finished chain.\u001B[0m\n",
      "\n",
      "\n",
      "\u001B[1m> Entering new SimpleStrategy chain...\u001B[0m\n",
      "\u001B[32;1m\u001B[1;3mI have added the first step to the plan, which is to \"Move towards shelf 1\". The plan will require the successful completion of each step in sequence for the task to be considered solved.\u001B[0m\n",
      "\n",
      "\u001B[1m> Finished chain.\u001B[0m\n",
      "\u001B[32;1m\u001B[1;3mCouldn't solve the task. Last log: Couldn't solve the task. Last log: Couldn't solve the task. Last log: Couldn't solve the task. Last log: Maximum decomposition depth reached.\u001B[0m\n",
      "\n",
      "\u001B[1m> Finished chain.\u001B[0m\n"
     ]
    },
    {
     "data": {
      "text/plain": "{'inputs': {'inputs': '-= Welcome to TextWorld, ALFRED! =-\\n\\nYou are in the middle of a room. Looking quickly around you, you see a bed 1, a cabinet 4, a cabinet 3, a cabinet 2, a cabinet 1, a desk 1, a drawer 2, a drawer 1, a garbagecan 1, a shelf 1, and a sidetable 1.\\n\\nYour task is to: put some pencil on shelf.'},\n 'intermediate_steps': [[]],\n 'finish_log': [\"Couldn't solve the task. Last log: Couldn't solve the task. Last log: Couldn't solve the task. Last log: Couldn't solve the task. Last log: Maximum decomposition depth reached.\"]}"
     },
     "execution_count": 10,
     "metadata": {},
     "output_type": "execute_result"
    }
   ],
   "source": [
    "agent_planner_adapt.invoke(\n",
    "    {\"inputs\": {\"inputs\": obs}}\n",
    ")"
   ],
   "metadata": {
    "collapsed": false,
    "ExecuteTime": {
     "end_time": "2024-05-22T11:47:28.000648Z",
     "start_time": "2024-05-22T11:47:02.621338Z"
    }
   },
   "id": "8d1b5178959c06",
   "execution_count": 10
  },
  {
   "cell_type": "code",
   "outputs": [],
   "source": [
    "simple_planner_adapt = ADaPTStrategy(\n",
    "    executor=executor,\n",
    "    planner=simple_planner,\n",
    "    max_depth=max_depth,\n",
    "    return_intermediate_steps=True,\n",
    "    return_finish_log=True,\n",
    ")"
   ],
   "metadata": {
    "collapsed": false,
    "ExecuteTime": {
     "end_time": "2024-05-22T11:48:45.000490Z",
     "start_time": "2024-05-22T11:48:44.974383Z"
    }
   },
   "id": "4efce110755d134e",
   "execution_count": 11
  },
  {
   "cell_type": "code",
   "outputs": [
    {
     "name": "stdout",
     "output_type": "stream",
     "text": [
      "\n",
      "\n",
      "\u001B[1m> Entering new ADaPTStrategy chain...\u001B[0m\n",
      "\n",
      "\n",
      "\u001B[1m> Entering new SimpleStrategy chain...\u001B[0m\n",
      "\u001B[32;1m\u001B[1;3m\u001B[0m\n",
      "\n",
      "\u001B[1m> Finished chain.\u001B[0m\n",
      "\n",
      "\n",
      "\u001B[1m> Entering new SimpleStrategy chain...\u001B[0m\n",
      "\u001B[32;1m\u001B[1;3mtask completed\u001B[0m\n",
      "\n",
      "\u001B[1m> Finished chain.\u001B[0m\n",
      "\n",
      "\n",
      "\u001B[1m> Entering new SimpleStrategy chain...\u001B[0m\n",
      "\u001B[32;1m\u001B[1;3mIt seems like I couldn't put the pencil on shelf 1. Let me try again.\u001B[0m\n",
      "\n",
      "\u001B[1m> Finished chain.\u001B[0m\n",
      "\n",
      "\n",
      "\u001B[1m> Entering new SimpleStrategy chain...\u001B[0m\n",
      "\u001B[32;1m\u001B[1;3m\u001B[0m\n",
      "\n",
      "\u001B[1m> Finished chain.\u001B[0m\n",
      "\n",
      "\n",
      "\u001B[1m> Entering new SimpleStrategy chain...\u001B[0m\n",
      "\u001B[32;1m\u001B[1;3m\u001B[0m\n",
      "\n",
      "\u001B[1m> Finished chain.\u001B[0m\n",
      "\u001B[32;1m\u001B[1;3mCouldn't solve the task. Last log: Couldn't solve the task. Last log: Couldn't solve the task. Last log: Couldn't solve the task. Last log: Maximum decomposition depth reached.\u001B[0m\n",
      "\n",
      "\u001B[1m> Finished chain.\u001B[0m\n"
     ]
    },
    {
     "data": {
      "text/plain": "{'inputs': {'inputs': '-= Welcome to TextWorld, ALFRED! =-\\n\\nYou are in the middle of a room. Looking quickly around you, you see a bed 1, a cabinet 4, a cabinet 3, a cabinet 2, a cabinet 1, a desk 1, a drawer 2, a drawer 1, a garbagecan 1, a shelf 1, and a sidetable 1.\\n\\nYour task is to: put some pencil on shelf.'},\n 'intermediate_steps': [[(OpenAIToolAgentAction(tool='goto', tool_input={'receptable_type': 'sidetable', 'receptable_id': 1}, log=\"\\nInvoking: `goto` with `{'receptable_type': 'sidetable', 'receptable_id': 1}`\\n\\n\\n\", message_log=[AIMessageChunk(content='', additional_kwargs={'tool_calls': [{'index': 0, 'id': 'call_zVKtRn26Dhvg6cESJx9Xfk54', 'function': {'arguments': '{\"receptable_type\":\"sidetable\",\"receptable_id\":1}', 'name': 'goto'}, 'type': 'function'}]})], tool_call_id='call_zVKtRn26Dhvg6cESJx9Xfk54'),\n    AgentStep(action=OpenAIToolAgentAction(tool='goto', tool_input={'receptable_type': 'sidetable', 'receptable_id': 1}, log=\"\\nInvoking: `goto` with `{'receptable_type': 'sidetable', 'receptable_id': 1}`\\n\\n\\n\", message_log=[AIMessageChunk(content='', additional_kwargs={'tool_calls': [{'index': 0, 'id': 'call_zVKtRn26Dhvg6cESJx9Xfk54', 'function': {'arguments': '{\"receptable_type\":\"sidetable\",\"receptable_id\":1}', 'name': 'goto'}, 'type': 'function'}]})], tool_call_id='call_zVKtRn26Dhvg6cESJx9Xfk54'), observation=('You arrive at loc 15. On the sidetable 1, you see a cd 1, a cellphone 2, a cellphone 1, and a pencil 1.', 0, False, False, {'won': False, 'extra.expert_plan': ['take pencil 1 from sidetable 1'], 'extra.gamefile': None, 'admissible_commands': ['examine sidetable 1', 'go to bed 1', 'go to cabinet 1', 'go to cabinet 2', 'go to cabinet 3', 'go to cabinet 4', 'go to desk 1', 'go to drawer 1', 'go to drawer 2', 'go to garbagecan 1', 'go to shelf 1', 'inventory', 'look', 'take cd 1 from sidetable 1', 'take cellphone 1 from sidetable 1', 'take cellphone 2 from sidetable 1', 'take pencil 1 from sidetable 1'], 'facts': [Proposition('cancontain', (Variable('shelftype ', 'rtype'), Variable('pentype ', 'otype'))), Proposition('cancontain', (Variable('sidetabletype ', 'rtype'), Variable('laptoptype ', 'otype'))), Proposition('cancontain', (Variable('bedtype ', 'rtype'), Variable('baseballbattype ', 'otype'))), Proposition('cancontain', (Variable('sidetabletype ', 'rtype'), Variable('cdtype ', 'otype'))), Proposition('cancontain', (Variable('shelftype ', 'rtype'), Variable('keychaintype ', 'otype'))), Proposition('cancontain', (Variable('desktype ', 'rtype'), Variable('laptoptype ', 'otype'))), Proposition('cancontain', (Variable('sidetabletype ', 'rtype'), Variable('cellphonetype ', 'otype'))), Proposition('cancontain', (Variable('drawertype ', 'rtype'), Variable('pentype ', 'otype'))), Proposition('cancontain', (Variable('shelftype ', 'rtype'), Variable('creditcardtype ', 'otype'))), Proposition('cancontain', (Variable('desktype ', 'rtype'), Variable('cdtype ', 'otype'))), Proposition('cancontain', (Variable('shelftype ', 'rtype'), Variable('booktype ', 'otype'))), Proposition('cancontain', (Variable('drawertype ', 'rtype'), Variable('keychaintype ', 'otype'))), Proposition('cancontain', (Variable('shelftype ', 'rtype'), Variable('penciltype ', 'otype'))), Proposition('cancontain', (Variable('sidetabletype ', 'rtype'), Variable('boxtype ', 'otype'))), Proposition('cancontain', (Variable('shelftype ', 'rtype'), Variable('alarmclocktype ', 'otype'))), Proposition('cancontain', (Variable('bedtype ', 'rtype'), Variable('cellphonetype ', 'otype'))), Proposition('cancontain', (Variable('sidetabletype ', 'rtype'), Variable('basketballtype ', 'otype'))), Proposition('cancontain', (Variable('drawertype ', 'rtype'), Variable('booktype ', 'otype'))), Proposition('cancontain', (Variable('sidetabletype ', 'rtype'), Variable('baseballbattype ', 'otype'))), Proposition('cancontain', (Variable('drawertype ', 'rtype'), Variable('creditcardtype ', 'otype'))), Proposition('cancontain', (Variable('desktype ', 'rtype'), Variable('boxtype ', 'otype'))), Proposition('cancontain', (Variable('bedtype ', 'rtype'), Variable('basketballtype ', 'otype'))), Proposition('cancontain', (Variable('cabinettype ', 'rtype'), Variable('booktype ', 'otype'))), Proposition('cancontain', (Variable('drawertype ', 'rtype'), Variable('penciltype ', 'otype'))), Proposition('cancontain', (Variable('sidetabletype ', 'rtype'), Variable('pentype ', 'otype'))), Proposition('cancontain', (Variable('garbagecantype ', 'rtype'), Variable('cdtype ', 'otype'))), Proposition('cancontain', (Variable('bedtype ', 'rtype'), Variable('pillowtype ', 'otype'))), Proposition('cancontain', (Variable('sidetabletype ', 'rtype'), Variable('keychaintype ', 'otype'))), Proposition('cancontain', (Variable('cabinettype ', 'rtype'), Variable('cdtype ', 'otype'))), Proposition('cancontain', (Variable('bedtype ', 'rtype'), Variable('tennisrackettype ', 'otype'))), Proposition('cancontain', (Variable('drawertype ', 'rtype'), Variable('cdtype ', 'otype'))), Proposition('cancontain', (Variable('sidetabletype ', 'rtype'), Variable('creditcardtype ', 'otype'))), Proposition('cancontain', (Variable('sidetabletype ', 'rtype'), Variable('booktype ', 'otype'))), Proposition('cancontain', (Variable('sidetabletype ', 'rtype'), Variable('penciltype ', 'otype'))), Proposition('cancontain', (Variable('desktype ', 'rtype'), Variable('cellphonetype ', 'otype'))), Proposition('cancontain', (Variable('sidetabletype ', 'rtype'), Variable('alarmclocktype ', 'otype'))), Proposition('cancontain', (Variable('cabinettype ', 'rtype'), Variable('boxtype ', 'otype'))), Proposition('cancontain', (Variable('bedtype ', 'rtype'), Variable('booktype ', 'otype'))), Proposition('cancontain', (Variable('shelftype ', 'rtype'), Variable('cdtype ', 'otype'))), Proposition('cancontain', (Variable('desktype ', 'rtype'), Variable('basketballtype ', 'otype'))), Proposition('cancontain', (Variable('garbagecantype ', 'rtype'), Variable('pentype ', 'otype'))), Proposition('cancontain', (Variable('sidetabletype ', 'rtype'), Variable('tennisrackettype ', 'otype'))), Proposition('cancontain', (Variable('desktype ', 'rtype'), Variable('alarmclocktype ', 'otype'))), Proposition('cancontain', (Variable('shelftype ', 'rtype'), Variable('cellphonetype ', 'otype'))), Proposition('cancontain', (Variable('shelftype ', 'rtype'), Variable('boxtype ', 'otype'))), Proposition('cancontain', (Variable('desktype ', 'rtype'), Variable('tennisrackettype ', 'otype'))), Proposition('cancontain', (Variable('bedtype ', 'rtype'), Variable('laptoptype ', 'otype'))), Proposition('cancontain', (Variable('desktype ', 'rtype'), Variable('pentype ', 'otype'))), Proposition('cancontain', (Variable('garbagecantype ', 'rtype'), Variable('penciltype ', 'otype'))), Proposition('cancontain', (Variable('desktype ', 'rtype'), Variable('keychaintype ', 'otype'))), Proposition('cancontain', (Variable('drawertype ', 'rtype'), Variable('cellphonetype ', 'otype'))), Proposition('cancontain', (Variable('desktype ', 'rtype'), Variable('booktype ', 'otype'))), Proposition('cancontain', (Variable('desktype ', 'rtype'), Variable('penciltype ', 'otype'))), Proposition('cancontain', (Variable('desktype ', 'rtype'), Variable('creditcardtype ', 'otype'))), Proposition('inreceptacle', (Variable('pencil 1', 'object'), Variable('sidetable 1', 'receptacle'))), Proposition('inreceptacle', (Variable('box 1', 'object'), Variable('desk 1', 'receptacle'))), Proposition('inreceptacle', (Variable('laptop 2', 'object'), Variable('desk 1', 'receptacle'))), Proposition('inreceptacle', (Variable('creditcard 1', 'object'), Variable('drawer 2', 'receptacle'))), Proposition('inreceptacle', (Variable('alarmclock 2', 'object'), Variable('desk 1', 'receptacle'))), Proposition('inreceptacle', (Variable('laptop 1', 'object'), Variable('bed 1', 'receptacle'))), Proposition('inreceptacle', (Variable('book 1', 'object'), Variable('bed 1', 'receptacle'))), Proposition('inreceptacle', (Variable('cellphone 1', 'object'), Variable('sidetable 1', 'receptacle'))), Proposition('inreceptacle', (Variable('book 2', 'object'), Variable('bed 1', 'receptacle'))), Proposition('inreceptacle', (Variable('keychain 1', 'object'), Variable('drawer 2', 'receptacle'))), Proposition('inreceptacle', (Variable('creditcard 2', 'object'), Variable('desk 1', 'receptacle'))), Proposition('inreceptacle', (Variable('alarmclock 1', 'object'), Variable('desk 1', 'receptacle'))), Proposition('inreceptacle', (Variable('cd 1', 'object'), Variable('sidetable 1', 'receptacle'))), Proposition('inreceptacle', (Variable('keychain 2', 'object'), Variable('shelf 1', 'receptacle'))), Proposition('inreceptacle', (Variable('creditcard 3', 'object'), Variable('desk 1', 'receptacle'))), Proposition('inreceptacle', (Variable('cellphone 2', 'object'), Variable('sidetable 1', 'receptacle'))), Proposition('inreceptacle', (Variable('pencil 2', 'object'), Variable('drawer 1', 'receptacle'))), Proposition('inreceptacle', (Variable('pen 1', 'object'), Variable('shelf 1', 'receptacle'))), Proposition('inreceptacle', (Variable('pencil 3', 'object'), Variable('desk 1', 'receptacle'))), Proposition('inreceptacle', (Variable('book 3', 'object'), Variable('desk 1', 'receptacle'))), Proposition('inreceptacle', (Variable('pillow 1', 'object'), Variable('bed 1', 'receptacle'))), Proposition('atlocation', (Variable('agent1 ', 'agent'), Variable('loc 15', 'location'))), Proposition('objecttype', (Variable('book 1', 'object'), Variable('booktype ', 'otype'))), Proposition('objecttype', (Variable('creditcard 1', 'object'), Variable('creditcardtype ', 'otype'))), Proposition('objecttype', (Variable('book 3', 'object'), Variable('booktype ', 'otype'))), Proposition('objecttype', (Variable('laptop 1', 'object'), Variable('laptoptype ', 'otype'))), Proposition('objecttype', (Variable('pillow 1', 'object'), Variable('pillowtype ', 'otype'))), Proposition('objecttype', (Variable('window 1', 'object'), Variable('windowtype ', 'otype'))), Proposition('objecttype', (Variable('cellphone 2', 'object'), Variable('cellphonetype ', 'otype'))), Proposition('objecttype', (Variable('keychain 2', 'object'), Variable('keychaintype ', 'otype'))), Proposition('objecttype', (Variable('baseballbat 1', 'object'), Variable('baseballbattype ', 'otype'))), Proposition('objecttype', (Variable('basketball 1', 'object'), Variable('basketballtype ', 'otype'))), Proposition('objecttype', (Variable('keychain 1', 'object'), Variable('keychaintype ', 'otype'))), Proposition('objecttype', (Variable('pen 1', 'object'), Variable('pentype ', 'otype'))), Proposition('objecttype', (Variable('lightswitch 1', 'object'), Variable('lightswitchtype ', 'otype'))), Proposition('objecttype', (Variable('creditcard 2', 'object'), Variable('creditcardtype ', 'otype'))), Proposition('objecttype', (Variable('laptop 2', 'object'), Variable('laptoptype ', 'otype'))), Proposition('objecttype', (Variable('book 2', 'object'), Variable('booktype ', 'otype'))), Proposition('objecttype', (Variable('blinds 1', 'object'), Variable('blindstype ', 'otype'))), Proposition('objecttype', (Variable('alarmclock 2', 'object'), Variable('alarmclocktype ', 'otype'))), Proposition('objecttype', (Variable('cd 1', 'object'), Variable('cdtype ', 'otype'))), Proposition('objecttype', (Variable('creditcard 3', 'object'), Variable('creditcardtype ', 'otype'))), Proposition('objecttype', (Variable('tennisracket 1', 'object'), Variable('tennisrackettype ', 'otype'))), Proposition('objecttype', (Variable('chair 1', 'object'), Variable('chairtype ', 'otype'))), Proposition('objecttype', (Variable('box 1', 'object'), Variable('boxtype ', 'otype'))), Proposition('objecttype', (Variable('pencil 1', 'object'), Variable('penciltype ', 'otype'))), Proposition('objecttype', (Variable('pencil 2', 'object'), Variable('penciltype ', 'otype'))), Proposition('objecttype', (Variable('pencil 3', 'object'), Variable('penciltype ', 'otype'))), Proposition('objecttype', (Variable('mirror 1', 'object'), Variable('mirrortype ', 'otype'))), Proposition('objecttype', (Variable('cellphone 1', 'object'), Variable('cellphonetype ', 'otype'))), Proposition('objecttype', (Variable('alarmclock 1', 'object'), Variable('alarmclocktype ', 'otype'))), Proposition('objecttype', (Variable('poster 1', 'object'), Variable('postertype ', 'otype'))), Proposition('objectatlocation', (Variable('pillow 1', 'object'), Variable('loc 11', 'location'))), Proposition('objectatlocation', (Variable('alarmclock 1', 'object'), Variable('loc 8', 'location'))), Proposition('objectatlocation', (Variable('pencil 3', 'object'), Variable('loc 8', 'location'))), Proposition('objectatlocation', (Variable('tennisracket 1', 'object'), Variable('loc 5', 'location'))), Proposition('objectatlocation', (Variable('cellphone 1', 'object'), Variable('loc 15', 'location'))), Proposition('objectatlocation', (Variable('lightswitch 1', 'object'), Variable('loc 13', 'location'))), Proposition('objectatlocation', (Variable('keychain 2', 'object'), Variable('loc 9', 'location'))), Proposition('objectatlocation', (Variable('book 3', 'object'), Variable('loc 8', 'location'))), Proposition('objectatlocation', (Variable('cd 1', 'object'), Variable('loc 15', 'location'))), Proposition('objectatlocation', (Variable('creditcard 1', 'object'), Variable('loc 17', 'location'))), Proposition('objectatlocation', (Variable('pencil 2', 'object'), Variable('loc 16', 'location'))), Proposition('objectatlocation', (Variable('chair 1', 'object'), Variable('loc 7', 'location'))), Proposition('objectatlocation', (Variable('laptop 1', 'object'), Variable('loc 11', 'location'))), Proposition('objectatlocation', (Variable('book 1', 'object'), Variable('loc 11', 'location'))), Proposition('objectatlocation', (Variable('cellphone 2', 'object'), Variable('loc 15', 'location'))), Proposition('objectatlocation', (Variable('poster 1', 'object'), Variable('loc 1', 'location'))), Proposition('objectatlocation', (Variable('mirror 1', 'object'), Variable('loc 14', 'location'))), Proposition('objectatlocation', (Variable('pen 1', 'object'), Variable('loc 9', 'location'))), Proposition('objectatlocation', (Variable('book 2', 'object'), Variable('loc 11', 'location'))), Proposition('objectatlocation', (Variable('box 1', 'object'), Variable('loc 8', 'location'))), Proposition('objectatlocation', (Variable('blinds 1', 'object'), Variable('loc 3', 'location'))), Proposition('objectatlocation', (Variable('laptop 2', 'object'), Variable('loc 8', 'location'))), Proposition('objectatlocation', (Variable('creditcard 2', 'object'), Variable('loc 8', 'location'))), Proposition('objectatlocation', (Variable('keychain 1', 'object'), Variable('loc 17', 'location'))), Proposition('objectatlocation', (Variable('baseballbat 1', 'object'), Variable('loc 6', 'location'))), Proposition('objectatlocation', (Variable('pencil 1', 'object'), Variable('loc 15', 'location'))), Proposition('objectatlocation', (Variable('basketball 1', 'object'), Variable('loc 10', 'location'))), Proposition('objectatlocation', (Variable('alarmclock 2', 'object'), Variable('loc 8', 'location'))), Proposition('objectatlocation', (Variable('window 1', 'object'), Variable('loc 4', 'location'))), Proposition('objectatlocation', (Variable('creditcard 3', 'object'), Variable('loc 8', 'location'))), Proposition('pickupable', (Variable('creditcard 1', 'object'),)), Proposition('pickupable', (Variable('laptop 2', 'object'),)), Proposition('pickupable', (Variable('book 1', 'object'),)), Proposition('pickupable', (Variable('basketball 1', 'object'),)), Proposition('pickupable', (Variable('cellphone 1', 'object'),)), Proposition('pickupable', (Variable('pencil 1', 'object'),)), Proposition('pickupable', (Variable('pen 1', 'object'),)), Proposition('pickupable', (Variable('keychain 2', 'object'),)), Proposition('pickupable', (Variable('pencil 3', 'object'),)), Proposition('pickupable', (Variable('cd 1', 'object'),)), Proposition('pickupable', (Variable('cellphone 2', 'object'),)), Proposition('pickupable', (Variable('box 1', 'object'),)), Proposition('pickupable', (Variable('creditcard 2', 'object'),)), Proposition('pickupable', (Variable('alarmclock 2', 'object'),)), Proposition('pickupable', (Variable('book 3', 'object'),)), Proposition('pickupable', (Variable('tennisracket 1', 'object'),)), Proposition('pickupable', (Variable('keychain 1', 'object'),)), Proposition('pickupable', (Variable('pillow 1', 'object'),)), Proposition('pickupable', (Variable('pencil 2', 'object'),)), Proposition('pickupable', (Variable('book 2', 'object'),)), Proposition('pickupable', (Variable('creditcard 3', 'object'),)), Proposition('pickupable', (Variable('baseballbat 1', 'object'),)), Proposition('pickupable', (Variable('alarmclock 1', 'object'),)), Proposition('pickupable', (Variable('laptop 1', 'object'),)), Proposition('receptacletype', (Variable('cabinet 2', 'receptacle'), Variable('cabinettype ', 'rtype'))), Proposition('receptacletype', (Variable('drawer 2', 'receptacle'), Variable('drawertype ', 'rtype'))), Proposition('receptacletype', (Variable('cabinet 4', 'receptacle'), Variable('cabinettype ', 'rtype'))), Proposition('receptacletype', (Variable('shelf 1', 'receptacle'), Variable('shelftype ', 'rtype'))), Proposition('receptacletype', (Variable('drawer 1', 'receptacle'), Variable('drawertype ', 'rtype'))), Proposition('receptacletype', (Variable('garbagecan 1', 'receptacle'), Variable('garbagecantype ', 'rtype'))), Proposition('receptacletype', (Variable('sidetable 1', 'receptacle'), Variable('sidetabletype ', 'rtype'))), Proposition('receptacletype', (Variable('cabinet 3', 'receptacle'), Variable('cabinettype ', 'rtype'))), Proposition('receptacletype', (Variable('cabinet 1', 'receptacle'), Variable('cabinettype ', 'rtype'))), Proposition('receptacletype', (Variable('bed 1', 'receptacle'), Variable('bedtype ', 'rtype'))), Proposition('receptacletype', (Variable('desk 1', 'receptacle'), Variable('desktype ', 'rtype'))), Proposition('receptacleatlocation', (Variable('drawer 1', 'receptacle'), Variable('loc 16', 'location'))), Proposition('receptacleatlocation', (Variable('garbagecan 1', 'receptacle'), Variable('loc 19', 'location'))), Proposition('receptacleatlocation', (Variable('bed 1', 'receptacle'), Variable('loc 11', 'location'))), Proposition('receptacleatlocation', (Variable('shelf 1', 'receptacle'), Variable('loc 9', 'location'))), Proposition('receptacleatlocation', (Variable('drawer 2', 'receptacle'), Variable('loc 17', 'location'))), Proposition('receptacleatlocation', (Variable('cabinet 4', 'receptacle'), Variable('loc 12', 'location'))), Proposition('receptacleatlocation', (Variable('sidetable 1', 'receptacle'), Variable('loc 15', 'location'))), Proposition('receptacleatlocation', (Variable('desk 1', 'receptacle'), Variable('loc 8', 'location'))), Proposition('receptacleatlocation', (Variable('cabinet 3', 'receptacle'), Variable('loc 9', 'location'))), Proposition('receptacleatlocation', (Variable('cabinet 2', 'receptacle'), Variable('loc 2', 'location'))), Proposition('receptacleatlocation', (Variable('cabinet 1', 'receptacle'), Variable('loc 2', 'location'))), Proposition('openable', (Variable('cabinet 4', 'receptacle'),)), Proposition('openable', (Variable('cabinet 2', 'receptacle'),)), Proposition('openable', (Variable('cabinet 3', 'receptacle'),)), Proposition('openable', (Variable('drawer 1', 'receptacle'),)), Proposition('openable', (Variable('cabinet 1', 'receptacle'),)), Proposition('openable', (Variable('drawer 2', 'receptacle'),)), Proposition('isreceptacleobject', (Variable('box 1', 'object'),)), Proposition('not_atlocation', (Variable('agent1 ', 'agent'), Variable('loc 18', 'location'))), Proposition('not_atlocation', (Variable('agent1 ', 'agent'), Variable('loc 9', 'location')))]}))),\n   (OpenAIToolAgentAction(tool='goto', tool_input={'receptable_type': 'sidetable', 'receptable_id': 1}, log=\"\\nInvoking: `goto` with `{'receptable_type': 'sidetable', 'receptable_id': 1}`\\n\\n\\n\", message_log=[AIMessageChunk(content='', additional_kwargs={'tool_calls': [{'index': 0, 'id': 'call_zVKtRn26Dhvg6cESJx9Xfk54', 'function': {'arguments': '{\"receptable_type\":\"sidetable\",\"receptable_id\":1}', 'name': 'goto'}, 'type': 'function'}]})], tool_call_id='call_zVKtRn26Dhvg6cESJx9Xfk54'),\n    AgentStep(action=OpenAIToolAgentAction(tool='goto', tool_input={'receptable_type': 'sidetable', 'receptable_id': 1}, log=\"\\nInvoking: `goto` with `{'receptable_type': 'sidetable', 'receptable_id': 1}`\\n\\n\\n\", message_log=[AIMessageChunk(content='', additional_kwargs={'tool_calls': [{'index': 0, 'id': 'call_zVKtRn26Dhvg6cESJx9Xfk54', 'function': {'arguments': '{\"receptable_type\":\"sidetable\",\"receptable_id\":1}', 'name': 'goto'}, 'type': 'function'}]})], tool_call_id='call_zVKtRn26Dhvg6cESJx9Xfk54'), observation=('You arrive at loc 15. On the sidetable 1, you see a cd 1, a cellphone 2, a cellphone 1, and a pencil 1.', 0, False, False, {'won': False, 'extra.expert_plan': ['take pencil 1 from sidetable 1'], 'extra.gamefile': None, 'admissible_commands': ['examine sidetable 1', 'go to bed 1', 'go to cabinet 1', 'go to cabinet 2', 'go to cabinet 3', 'go to cabinet 4', 'go to desk 1', 'go to drawer 1', 'go to drawer 2', 'go to garbagecan 1', 'go to shelf 1', 'inventory', 'look', 'take cd 1 from sidetable 1', 'take cellphone 1 from sidetable 1', 'take cellphone 2 from sidetable 1', 'take pencil 1 from sidetable 1'], 'facts': [Proposition('cancontain', (Variable('shelftype ', 'rtype'), Variable('pentype ', 'otype'))), Proposition('cancontain', (Variable('sidetabletype ', 'rtype'), Variable('laptoptype ', 'otype'))), Proposition('cancontain', (Variable('bedtype ', 'rtype'), Variable('baseballbattype ', 'otype'))), Proposition('cancontain', (Variable('sidetabletype ', 'rtype'), Variable('cdtype ', 'otype'))), Proposition('cancontain', (Variable('shelftype ', 'rtype'), Variable('keychaintype ', 'otype'))), Proposition('cancontain', (Variable('desktype ', 'rtype'), Variable('laptoptype ', 'otype'))), Proposition('cancontain', (Variable('sidetabletype ', 'rtype'), Variable('cellphonetype ', 'otype'))), Proposition('cancontain', (Variable('drawertype ', 'rtype'), Variable('pentype ', 'otype'))), Proposition('cancontain', (Variable('shelftype ', 'rtype'), Variable('creditcardtype ', 'otype'))), Proposition('cancontain', (Variable('desktype ', 'rtype'), Variable('cdtype ', 'otype'))), Proposition('cancontain', (Variable('shelftype ', 'rtype'), Variable('booktype ', 'otype'))), Proposition('cancontain', (Variable('drawertype ', 'rtype'), Variable('keychaintype ', 'otype'))), Proposition('cancontain', (Variable('shelftype ', 'rtype'), Variable('penciltype ', 'otype'))), Proposition('cancontain', (Variable('sidetabletype ', 'rtype'), Variable('boxtype ', 'otype'))), Proposition('cancontain', (Variable('shelftype ', 'rtype'), Variable('alarmclocktype ', 'otype'))), Proposition('cancontain', (Variable('bedtype ', 'rtype'), Variable('cellphonetype ', 'otype'))), Proposition('cancontain', (Variable('sidetabletype ', 'rtype'), Variable('basketballtype ', 'otype'))), Proposition('cancontain', (Variable('drawertype ', 'rtype'), Variable('booktype ', 'otype'))), Proposition('cancontain', (Variable('sidetabletype ', 'rtype'), Variable('baseballbattype ', 'otype'))), Proposition('cancontain', (Variable('drawertype ', 'rtype'), Variable('creditcardtype ', 'otype'))), Proposition('cancontain', (Variable('desktype ', 'rtype'), Variable('boxtype ', 'otype'))), Proposition('cancontain', (Variable('bedtype ', 'rtype'), Variable('basketballtype ', 'otype'))), Proposition('cancontain', (Variable('cabinettype ', 'rtype'), Variable('booktype ', 'otype'))), Proposition('cancontain', (Variable('drawertype ', 'rtype'), Variable('penciltype ', 'otype'))), Proposition('cancontain', (Variable('sidetabletype ', 'rtype'), Variable('pentype ', 'otype'))), Proposition('cancontain', (Variable('garbagecantype ', 'rtype'), Variable('cdtype ', 'otype'))), Proposition('cancontain', (Variable('bedtype ', 'rtype'), Variable('pillowtype ', 'otype'))), Proposition('cancontain', (Variable('sidetabletype ', 'rtype'), Variable('keychaintype ', 'otype'))), Proposition('cancontain', (Variable('cabinettype ', 'rtype'), Variable('cdtype ', 'otype'))), Proposition('cancontain', (Variable('bedtype ', 'rtype'), Variable('tennisrackettype ', 'otype'))), Proposition('cancontain', (Variable('drawertype ', 'rtype'), Variable('cdtype ', 'otype'))), Proposition('cancontain', (Variable('sidetabletype ', 'rtype'), Variable('creditcardtype ', 'otype'))), Proposition('cancontain', (Variable('sidetabletype ', 'rtype'), Variable('booktype ', 'otype'))), Proposition('cancontain', (Variable('sidetabletype ', 'rtype'), Variable('penciltype ', 'otype'))), Proposition('cancontain', (Variable('desktype ', 'rtype'), Variable('cellphonetype ', 'otype'))), Proposition('cancontain', (Variable('sidetabletype ', 'rtype'), Variable('alarmclocktype ', 'otype'))), Proposition('cancontain', (Variable('cabinettype ', 'rtype'), Variable('boxtype ', 'otype'))), Proposition('cancontain', (Variable('bedtype ', 'rtype'), Variable('booktype ', 'otype'))), Proposition('cancontain', (Variable('shelftype ', 'rtype'), Variable('cdtype ', 'otype'))), Proposition('cancontain', (Variable('desktype ', 'rtype'), Variable('basketballtype ', 'otype'))), Proposition('cancontain', (Variable('garbagecantype ', 'rtype'), Variable('pentype ', 'otype'))), Proposition('cancontain', (Variable('sidetabletype ', 'rtype'), Variable('tennisrackettype ', 'otype'))), Proposition('cancontain', (Variable('desktype ', 'rtype'), Variable('alarmclocktype ', 'otype'))), Proposition('cancontain', (Variable('shelftype ', 'rtype'), Variable('cellphonetype ', 'otype'))), Proposition('cancontain', (Variable('shelftype ', 'rtype'), Variable('boxtype ', 'otype'))), Proposition('cancontain', (Variable('desktype ', 'rtype'), Variable('tennisrackettype ', 'otype'))), Proposition('cancontain', (Variable('bedtype ', 'rtype'), Variable('laptoptype ', 'otype'))), Proposition('cancontain', (Variable('desktype ', 'rtype'), Variable('pentype ', 'otype'))), Proposition('cancontain', (Variable('garbagecantype ', 'rtype'), Variable('penciltype ', 'otype'))), Proposition('cancontain', (Variable('desktype ', 'rtype'), Variable('keychaintype ', 'otype'))), Proposition('cancontain', (Variable('drawertype ', 'rtype'), Variable('cellphonetype ', 'otype'))), Proposition('cancontain', (Variable('desktype ', 'rtype'), Variable('booktype ', 'otype'))), Proposition('cancontain', (Variable('desktype ', 'rtype'), Variable('penciltype ', 'otype'))), Proposition('cancontain', (Variable('desktype ', 'rtype'), Variable('creditcardtype ', 'otype'))), Proposition('inreceptacle', (Variable('pencil 1', 'object'), Variable('sidetable 1', 'receptacle'))), Proposition('inreceptacle', (Variable('box 1', 'object'), Variable('desk 1', 'receptacle'))), Proposition('inreceptacle', (Variable('laptop 2', 'object'), Variable('desk 1', 'receptacle'))), Proposition('inreceptacle', (Variable('creditcard 1', 'object'), Variable('drawer 2', 'receptacle'))), Proposition('inreceptacle', (Variable('alarmclock 2', 'object'), Variable('desk 1', 'receptacle'))), Proposition('inreceptacle', (Variable('laptop 1', 'object'), Variable('bed 1', 'receptacle'))), Proposition('inreceptacle', (Variable('book 1', 'object'), Variable('bed 1', 'receptacle'))), Proposition('inreceptacle', (Variable('cellphone 1', 'object'), Variable('sidetable 1', 'receptacle'))), Proposition('inreceptacle', (Variable('book 2', 'object'), Variable('bed 1', 'receptacle'))), Proposition('inreceptacle', (Variable('keychain 1', 'object'), Variable('drawer 2', 'receptacle'))), Proposition('inreceptacle', (Variable('creditcard 2', 'object'), Variable('desk 1', 'receptacle'))), Proposition('inreceptacle', (Variable('alarmclock 1', 'object'), Variable('desk 1', 'receptacle'))), Proposition('inreceptacle', (Variable('cd 1', 'object'), Variable('sidetable 1', 'receptacle'))), Proposition('inreceptacle', (Variable('keychain 2', 'object'), Variable('shelf 1', 'receptacle'))), Proposition('inreceptacle', (Variable('creditcard 3', 'object'), Variable('desk 1', 'receptacle'))), Proposition('inreceptacle', (Variable('cellphone 2', 'object'), Variable('sidetable 1', 'receptacle'))), Proposition('inreceptacle', (Variable('pencil 2', 'object'), Variable('drawer 1', 'receptacle'))), Proposition('inreceptacle', (Variable('pen 1', 'object'), Variable('shelf 1', 'receptacle'))), Proposition('inreceptacle', (Variable('pencil 3', 'object'), Variable('desk 1', 'receptacle'))), Proposition('inreceptacle', (Variable('book 3', 'object'), Variable('desk 1', 'receptacle'))), Proposition('inreceptacle', (Variable('pillow 1', 'object'), Variable('bed 1', 'receptacle'))), Proposition('atlocation', (Variable('agent1 ', 'agent'), Variable('loc 15', 'location'))), Proposition('objecttype', (Variable('book 1', 'object'), Variable('booktype ', 'otype'))), Proposition('objecttype', (Variable('creditcard 1', 'object'), Variable('creditcardtype ', 'otype'))), Proposition('objecttype', (Variable('book 3', 'object'), Variable('booktype ', 'otype'))), Proposition('objecttype', (Variable('laptop 1', 'object'), Variable('laptoptype ', 'otype'))), Proposition('objecttype', (Variable('pillow 1', 'object'), Variable('pillowtype ', 'otype'))), Proposition('objecttype', (Variable('window 1', 'object'), Variable('windowtype ', 'otype'))), Proposition('objecttype', (Variable('cellphone 2', 'object'), Variable('cellphonetype ', 'otype'))), Proposition('objecttype', (Variable('keychain 2', 'object'), Variable('keychaintype ', 'otype'))), Proposition('objecttype', (Variable('baseballbat 1', 'object'), Variable('baseballbattype ', 'otype'))), Proposition('objecttype', (Variable('basketball 1', 'object'), Variable('basketballtype ', 'otype'))), Proposition('objecttype', (Variable('keychain 1', 'object'), Variable('keychaintype ', 'otype'))), Proposition('objecttype', (Variable('pen 1', 'object'), Variable('pentype ', 'otype'))), Proposition('objecttype', (Variable('lightswitch 1', 'object'), Variable('lightswitchtype ', 'otype'))), Proposition('objecttype', (Variable('creditcard 2', 'object'), Variable('creditcardtype ', 'otype'))), Proposition('objecttype', (Variable('laptop 2', 'object'), Variable('laptoptype ', 'otype'))), Proposition('objecttype', (Variable('book 2', 'object'), Variable('booktype ', 'otype'))), Proposition('objecttype', (Variable('blinds 1', 'object'), Variable('blindstype ', 'otype'))), Proposition('objecttype', (Variable('alarmclock 2', 'object'), Variable('alarmclocktype ', 'otype'))), Proposition('objecttype', (Variable('cd 1', 'object'), Variable('cdtype ', 'otype'))), Proposition('objecttype', (Variable('creditcard 3', 'object'), Variable('creditcardtype ', 'otype'))), Proposition('objecttype', (Variable('tennisracket 1', 'object'), Variable('tennisrackettype ', 'otype'))), Proposition('objecttype', (Variable('chair 1', 'object'), Variable('chairtype ', 'otype'))), Proposition('objecttype', (Variable('box 1', 'object'), Variable('boxtype ', 'otype'))), Proposition('objecttype', (Variable('pencil 1', 'object'), Variable('penciltype ', 'otype'))), Proposition('objecttype', (Variable('pencil 2', 'object'), Variable('penciltype ', 'otype'))), Proposition('objecttype', (Variable('pencil 3', 'object'), Variable('penciltype ', 'otype'))), Proposition('objecttype', (Variable('mirror 1', 'object'), Variable('mirrortype ', 'otype'))), Proposition('objecttype', (Variable('cellphone 1', 'object'), Variable('cellphonetype ', 'otype'))), Proposition('objecttype', (Variable('alarmclock 1', 'object'), Variable('alarmclocktype ', 'otype'))), Proposition('objecttype', (Variable('poster 1', 'object'), Variable('postertype ', 'otype'))), Proposition('objectatlocation', (Variable('pillow 1', 'object'), Variable('loc 11', 'location'))), Proposition('objectatlocation', (Variable('alarmclock 1', 'object'), Variable('loc 8', 'location'))), Proposition('objectatlocation', (Variable('pencil 3', 'object'), Variable('loc 8', 'location'))), Proposition('objectatlocation', (Variable('tennisracket 1', 'object'), Variable('loc 5', 'location'))), Proposition('objectatlocation', (Variable('cellphone 1', 'object'), Variable('loc 15', 'location'))), Proposition('objectatlocation', (Variable('lightswitch 1', 'object'), Variable('loc 13', 'location'))), Proposition('objectatlocation', (Variable('keychain 2', 'object'), Variable('loc 9', 'location'))), Proposition('objectatlocation', (Variable('book 3', 'object'), Variable('loc 8', 'location'))), Proposition('objectatlocation', (Variable('cd 1', 'object'), Variable('loc 15', 'location'))), Proposition('objectatlocation', (Variable('creditcard 1', 'object'), Variable('loc 17', 'location'))), Proposition('objectatlocation', (Variable('pencil 2', 'object'), Variable('loc 16', 'location'))), Proposition('objectatlocation', (Variable('chair 1', 'object'), Variable('loc 7', 'location'))), Proposition('objectatlocation', (Variable('laptop 1', 'object'), Variable('loc 11', 'location'))), Proposition('objectatlocation', (Variable('book 1', 'object'), Variable('loc 11', 'location'))), Proposition('objectatlocation', (Variable('cellphone 2', 'object'), Variable('loc 15', 'location'))), Proposition('objectatlocation', (Variable('poster 1', 'object'), Variable('loc 1', 'location'))), Proposition('objectatlocation', (Variable('mirror 1', 'object'), Variable('loc 14', 'location'))), Proposition('objectatlocation', (Variable('pen 1', 'object'), Variable('loc 9', 'location'))), Proposition('objectatlocation', (Variable('book 2', 'object'), Variable('loc 11', 'location'))), Proposition('objectatlocation', (Variable('box 1', 'object'), Variable('loc 8', 'location'))), Proposition('objectatlocation', (Variable('blinds 1', 'object'), Variable('loc 3', 'location'))), Proposition('objectatlocation', (Variable('laptop 2', 'object'), Variable('loc 8', 'location'))), Proposition('objectatlocation', (Variable('creditcard 2', 'object'), Variable('loc 8', 'location'))), Proposition('objectatlocation', (Variable('keychain 1', 'object'), Variable('loc 17', 'location'))), Proposition('objectatlocation', (Variable('baseballbat 1', 'object'), Variable('loc 6', 'location'))), Proposition('objectatlocation', (Variable('pencil 1', 'object'), Variable('loc 15', 'location'))), Proposition('objectatlocation', (Variable('basketball 1', 'object'), Variable('loc 10', 'location'))), Proposition('objectatlocation', (Variable('alarmclock 2', 'object'), Variable('loc 8', 'location'))), Proposition('objectatlocation', (Variable('window 1', 'object'), Variable('loc 4', 'location'))), Proposition('objectatlocation', (Variable('creditcard 3', 'object'), Variable('loc 8', 'location'))), Proposition('pickupable', (Variable('creditcard 1', 'object'),)), Proposition('pickupable', (Variable('laptop 2', 'object'),)), Proposition('pickupable', (Variable('book 1', 'object'),)), Proposition('pickupable', (Variable('basketball 1', 'object'),)), Proposition('pickupable', (Variable('cellphone 1', 'object'),)), Proposition('pickupable', (Variable('pencil 1', 'object'),)), Proposition('pickupable', (Variable('pen 1', 'object'),)), Proposition('pickupable', (Variable('keychain 2', 'object'),)), Proposition('pickupable', (Variable('pencil 3', 'object'),)), Proposition('pickupable', (Variable('cd 1', 'object'),)), Proposition('pickupable', (Variable('cellphone 2', 'object'),)), Proposition('pickupable', (Variable('box 1', 'object'),)), Proposition('pickupable', (Variable('creditcard 2', 'object'),)), Proposition('pickupable', (Variable('alarmclock 2', 'object'),)), Proposition('pickupable', (Variable('book 3', 'object'),)), Proposition('pickupable', (Variable('tennisracket 1', 'object'),)), Proposition('pickupable', (Variable('keychain 1', 'object'),)), Proposition('pickupable', (Variable('pillow 1', 'object'),)), Proposition('pickupable', (Variable('pencil 2', 'object'),)), Proposition('pickupable', (Variable('book 2', 'object'),)), Proposition('pickupable', (Variable('creditcard 3', 'object'),)), Proposition('pickupable', (Variable('baseballbat 1', 'object'),)), Proposition('pickupable', (Variable('alarmclock 1', 'object'),)), Proposition('pickupable', (Variable('laptop 1', 'object'),)), Proposition('receptacletype', (Variable('cabinet 2', 'receptacle'), Variable('cabinettype ', 'rtype'))), Proposition('receptacletype', (Variable('drawer 2', 'receptacle'), Variable('drawertype ', 'rtype'))), Proposition('receptacletype', (Variable('cabinet 4', 'receptacle'), Variable('cabinettype ', 'rtype'))), Proposition('receptacletype', (Variable('shelf 1', 'receptacle'), Variable('shelftype ', 'rtype'))), Proposition('receptacletype', (Variable('drawer 1', 'receptacle'), Variable('drawertype ', 'rtype'))), Proposition('receptacletype', (Variable('garbagecan 1', 'receptacle'), Variable('garbagecantype ', 'rtype'))), Proposition('receptacletype', (Variable('sidetable 1', 'receptacle'), Variable('sidetabletype ', 'rtype'))), Proposition('receptacletype', (Variable('cabinet 3', 'receptacle'), Variable('cabinettype ', 'rtype'))), Proposition('receptacletype', (Variable('cabinet 1', 'receptacle'), Variable('cabinettype ', 'rtype'))), Proposition('receptacletype', (Variable('bed 1', 'receptacle'), Variable('bedtype ', 'rtype'))), Proposition('receptacletype', (Variable('desk 1', 'receptacle'), Variable('desktype ', 'rtype'))), Proposition('receptacleatlocation', (Variable('drawer 1', 'receptacle'), Variable('loc 16', 'location'))), Proposition('receptacleatlocation', (Variable('garbagecan 1', 'receptacle'), Variable('loc 19', 'location'))), Proposition('receptacleatlocation', (Variable('bed 1', 'receptacle'), Variable('loc 11', 'location'))), Proposition('receptacleatlocation', (Variable('shelf 1', 'receptacle'), Variable('loc 9', 'location'))), Proposition('receptacleatlocation', (Variable('drawer 2', 'receptacle'), Variable('loc 17', 'location'))), Proposition('receptacleatlocation', (Variable('cabinet 4', 'receptacle'), Variable('loc 12', 'location'))), Proposition('receptacleatlocation', (Variable('sidetable 1', 'receptacle'), Variable('loc 15', 'location'))), Proposition('receptacleatlocation', (Variable('desk 1', 'receptacle'), Variable('loc 8', 'location'))), Proposition('receptacleatlocation', (Variable('cabinet 3', 'receptacle'), Variable('loc 9', 'location'))), Proposition('receptacleatlocation', (Variable('cabinet 2', 'receptacle'), Variable('loc 2', 'location'))), Proposition('receptacleatlocation', (Variable('cabinet 1', 'receptacle'), Variable('loc 2', 'location'))), Proposition('openable', (Variable('cabinet 4', 'receptacle'),)), Proposition('openable', (Variable('cabinet 2', 'receptacle'),)), Proposition('openable', (Variable('cabinet 3', 'receptacle'),)), Proposition('openable', (Variable('drawer 1', 'receptacle'),)), Proposition('openable', (Variable('cabinet 1', 'receptacle'),)), Proposition('openable', (Variable('drawer 2', 'receptacle'),)), Proposition('isreceptacleobject', (Variable('box 1', 'object'),)), Proposition('not_atlocation', (Variable('agent1 ', 'agent'), Variable('loc 18', 'location'))), Proposition('not_atlocation', (Variable('agent1 ', 'agent'), Variable('loc 9', 'location')))]}))),\n   (OpenAIToolAgentAction(tool='goto', tool_input={'receptable_type': 'sidetable', 'receptable_id': 1}, log=\"\\nInvoking: `goto` with `{'receptable_type': 'sidetable', 'receptable_id': 1}`\\n\\n\\n\", message_log=[AIMessageChunk(content='', additional_kwargs={'tool_calls': [{'index': 0, 'id': 'call_zVKtRn26Dhvg6cESJx9Xfk54', 'function': {'arguments': '{\"receptable_type\":\"sidetable\",\"receptable_id\":1}', 'name': 'goto'}, 'type': 'function'}]})], tool_call_id='call_zVKtRn26Dhvg6cESJx9Xfk54'),\n    AgentStep(action=OpenAIToolAgentAction(tool='goto', tool_input={'receptable_type': 'sidetable', 'receptable_id': 1}, log=\"\\nInvoking: `goto` with `{'receptable_type': 'sidetable', 'receptable_id': 1}`\\n\\n\\n\", message_log=[AIMessageChunk(content='', additional_kwargs={'tool_calls': [{'index': 0, 'id': 'call_zVKtRn26Dhvg6cESJx9Xfk54', 'function': {'arguments': '{\"receptable_type\":\"sidetable\",\"receptable_id\":1}', 'name': 'goto'}, 'type': 'function'}]})], tool_call_id='call_zVKtRn26Dhvg6cESJx9Xfk54'), observation=('You arrive at loc 15. On the sidetable 1, you see a cd 1, a cellphone 2, a cellphone 1, and a pencil 1.', 0, False, False, {'won': False, 'extra.expert_plan': ['take pencil 1 from sidetable 1'], 'extra.gamefile': None, 'admissible_commands': ['examine sidetable 1', 'go to bed 1', 'go to cabinet 1', 'go to cabinet 2', 'go to cabinet 3', 'go to cabinet 4', 'go to desk 1', 'go to drawer 1', 'go to drawer 2', 'go to garbagecan 1', 'go to shelf 1', 'inventory', 'look', 'take cd 1 from sidetable 1', 'take cellphone 1 from sidetable 1', 'take cellphone 2 from sidetable 1', 'take pencil 1 from sidetable 1'], 'facts': [Proposition('cancontain', (Variable('shelftype ', 'rtype'), Variable('pentype ', 'otype'))), Proposition('cancontain', (Variable('sidetabletype ', 'rtype'), Variable('laptoptype ', 'otype'))), Proposition('cancontain', (Variable('bedtype ', 'rtype'), Variable('baseballbattype ', 'otype'))), Proposition('cancontain', (Variable('sidetabletype ', 'rtype'), Variable('cdtype ', 'otype'))), Proposition('cancontain', (Variable('shelftype ', 'rtype'), Variable('keychaintype ', 'otype'))), Proposition('cancontain', (Variable('desktype ', 'rtype'), Variable('laptoptype ', 'otype'))), Proposition('cancontain', (Variable('sidetabletype ', 'rtype'), Variable('cellphonetype ', 'otype'))), Proposition('cancontain', (Variable('drawertype ', 'rtype'), Variable('pentype ', 'otype'))), Proposition('cancontain', (Variable('shelftype ', 'rtype'), Variable('creditcardtype ', 'otype'))), Proposition('cancontain', (Variable('desktype ', 'rtype'), Variable('cdtype ', 'otype'))), Proposition('cancontain', (Variable('shelftype ', 'rtype'), Variable('booktype ', 'otype'))), Proposition('cancontain', (Variable('drawertype ', 'rtype'), Variable('keychaintype ', 'otype'))), Proposition('cancontain', (Variable('shelftype ', 'rtype'), Variable('penciltype ', 'otype'))), Proposition('cancontain', (Variable('sidetabletype ', 'rtype'), Variable('boxtype ', 'otype'))), Proposition('cancontain', (Variable('shelftype ', 'rtype'), Variable('alarmclocktype ', 'otype'))), Proposition('cancontain', (Variable('bedtype ', 'rtype'), Variable('cellphonetype ', 'otype'))), Proposition('cancontain', (Variable('sidetabletype ', 'rtype'), Variable('basketballtype ', 'otype'))), Proposition('cancontain', (Variable('drawertype ', 'rtype'), Variable('booktype ', 'otype'))), Proposition('cancontain', (Variable('sidetabletype ', 'rtype'), Variable('baseballbattype ', 'otype'))), Proposition('cancontain', (Variable('drawertype ', 'rtype'), Variable('creditcardtype ', 'otype'))), Proposition('cancontain', (Variable('desktype ', 'rtype'), Variable('boxtype ', 'otype'))), Proposition('cancontain', (Variable('bedtype ', 'rtype'), Variable('basketballtype ', 'otype'))), Proposition('cancontain', (Variable('cabinettype ', 'rtype'), Variable('booktype ', 'otype'))), Proposition('cancontain', (Variable('drawertype ', 'rtype'), Variable('penciltype ', 'otype'))), Proposition('cancontain', (Variable('sidetabletype ', 'rtype'), Variable('pentype ', 'otype'))), Proposition('cancontain', (Variable('garbagecantype ', 'rtype'), Variable('cdtype ', 'otype'))), Proposition('cancontain', (Variable('bedtype ', 'rtype'), Variable('pillowtype ', 'otype'))), Proposition('cancontain', (Variable('sidetabletype ', 'rtype'), Variable('keychaintype ', 'otype'))), Proposition('cancontain', (Variable('cabinettype ', 'rtype'), Variable('cdtype ', 'otype'))), Proposition('cancontain', (Variable('bedtype ', 'rtype'), Variable('tennisrackettype ', 'otype'))), Proposition('cancontain', (Variable('drawertype ', 'rtype'), Variable('cdtype ', 'otype'))), Proposition('cancontain', (Variable('sidetabletype ', 'rtype'), Variable('creditcardtype ', 'otype'))), Proposition('cancontain', (Variable('sidetabletype ', 'rtype'), Variable('booktype ', 'otype'))), Proposition('cancontain', (Variable('sidetabletype ', 'rtype'), Variable('penciltype ', 'otype'))), Proposition('cancontain', (Variable('desktype ', 'rtype'), Variable('cellphonetype ', 'otype'))), Proposition('cancontain', (Variable('sidetabletype ', 'rtype'), Variable('alarmclocktype ', 'otype'))), Proposition('cancontain', (Variable('cabinettype ', 'rtype'), Variable('boxtype ', 'otype'))), Proposition('cancontain', (Variable('bedtype ', 'rtype'), Variable('booktype ', 'otype'))), Proposition('cancontain', (Variable('shelftype ', 'rtype'), Variable('cdtype ', 'otype'))), Proposition('cancontain', (Variable('desktype ', 'rtype'), Variable('basketballtype ', 'otype'))), Proposition('cancontain', (Variable('garbagecantype ', 'rtype'), Variable('pentype ', 'otype'))), Proposition('cancontain', (Variable('sidetabletype ', 'rtype'), Variable('tennisrackettype ', 'otype'))), Proposition('cancontain', (Variable('desktype ', 'rtype'), Variable('alarmclocktype ', 'otype'))), Proposition('cancontain', (Variable('shelftype ', 'rtype'), Variable('cellphonetype ', 'otype'))), Proposition('cancontain', (Variable('shelftype ', 'rtype'), Variable('boxtype ', 'otype'))), Proposition('cancontain', (Variable('desktype ', 'rtype'), Variable('tennisrackettype ', 'otype'))), Proposition('cancontain', (Variable('bedtype ', 'rtype'), Variable('laptoptype ', 'otype'))), Proposition('cancontain', (Variable('desktype ', 'rtype'), Variable('pentype ', 'otype'))), Proposition('cancontain', (Variable('garbagecantype ', 'rtype'), Variable('penciltype ', 'otype'))), Proposition('cancontain', (Variable('desktype ', 'rtype'), Variable('keychaintype ', 'otype'))), Proposition('cancontain', (Variable('drawertype ', 'rtype'), Variable('cellphonetype ', 'otype'))), Proposition('cancontain', (Variable('desktype ', 'rtype'), Variable('booktype ', 'otype'))), Proposition('cancontain', (Variable('desktype ', 'rtype'), Variable('penciltype ', 'otype'))), Proposition('cancontain', (Variable('desktype ', 'rtype'), Variable('creditcardtype ', 'otype'))), Proposition('inreceptacle', (Variable('pencil 1', 'object'), Variable('sidetable 1', 'receptacle'))), Proposition('inreceptacle', (Variable('box 1', 'object'), Variable('desk 1', 'receptacle'))), Proposition('inreceptacle', (Variable('laptop 2', 'object'), Variable('desk 1', 'receptacle'))), Proposition('inreceptacle', (Variable('creditcard 1', 'object'), Variable('drawer 2', 'receptacle'))), Proposition('inreceptacle', (Variable('alarmclock 2', 'object'), Variable('desk 1', 'receptacle'))), Proposition('inreceptacle', (Variable('laptop 1', 'object'), Variable('bed 1', 'receptacle'))), Proposition('inreceptacle', (Variable('book 1', 'object'), Variable('bed 1', 'receptacle'))), Proposition('inreceptacle', (Variable('cellphone 1', 'object'), Variable('sidetable 1', 'receptacle'))), Proposition('inreceptacle', (Variable('book 2', 'object'), Variable('bed 1', 'receptacle'))), Proposition('inreceptacle', (Variable('keychain 1', 'object'), Variable('drawer 2', 'receptacle'))), Proposition('inreceptacle', (Variable('creditcard 2', 'object'), Variable('desk 1', 'receptacle'))), Proposition('inreceptacle', (Variable('alarmclock 1', 'object'), Variable('desk 1', 'receptacle'))), Proposition('inreceptacle', (Variable('cd 1', 'object'), Variable('sidetable 1', 'receptacle'))), Proposition('inreceptacle', (Variable('keychain 2', 'object'), Variable('shelf 1', 'receptacle'))), Proposition('inreceptacle', (Variable('creditcard 3', 'object'), Variable('desk 1', 'receptacle'))), Proposition('inreceptacle', (Variable('cellphone 2', 'object'), Variable('sidetable 1', 'receptacle'))), Proposition('inreceptacle', (Variable('pencil 2', 'object'), Variable('drawer 1', 'receptacle'))), Proposition('inreceptacle', (Variable('pen 1', 'object'), Variable('shelf 1', 'receptacle'))), Proposition('inreceptacle', (Variable('pencil 3', 'object'), Variable('desk 1', 'receptacle'))), Proposition('inreceptacle', (Variable('book 3', 'object'), Variable('desk 1', 'receptacle'))), Proposition('inreceptacle', (Variable('pillow 1', 'object'), Variable('bed 1', 'receptacle'))), Proposition('atlocation', (Variable('agent1 ', 'agent'), Variable('loc 15', 'location'))), Proposition('objecttype', (Variable('book 1', 'object'), Variable('booktype ', 'otype'))), Proposition('objecttype', (Variable('creditcard 1', 'object'), Variable('creditcardtype ', 'otype'))), Proposition('objecttype', (Variable('book 3', 'object'), Variable('booktype ', 'otype'))), Proposition('objecttype', (Variable('laptop 1', 'object'), Variable('laptoptype ', 'otype'))), Proposition('objecttype', (Variable('pillow 1', 'object'), Variable('pillowtype ', 'otype'))), Proposition('objecttype', (Variable('window 1', 'object'), Variable('windowtype ', 'otype'))), Proposition('objecttype', (Variable('cellphone 2', 'object'), Variable('cellphonetype ', 'otype'))), Proposition('objecttype', (Variable('keychain 2', 'object'), Variable('keychaintype ', 'otype'))), Proposition('objecttype', (Variable('baseballbat 1', 'object'), Variable('baseballbattype ', 'otype'))), Proposition('objecttype', (Variable('basketball 1', 'object'), Variable('basketballtype ', 'otype'))), Proposition('objecttype', (Variable('keychain 1', 'object'), Variable('keychaintype ', 'otype'))), Proposition('objecttype', (Variable('pen 1', 'object'), Variable('pentype ', 'otype'))), Proposition('objecttype', (Variable('lightswitch 1', 'object'), Variable('lightswitchtype ', 'otype'))), Proposition('objecttype', (Variable('creditcard 2', 'object'), Variable('creditcardtype ', 'otype'))), Proposition('objecttype', (Variable('laptop 2', 'object'), Variable('laptoptype ', 'otype'))), Proposition('objecttype', (Variable('book 2', 'object'), Variable('booktype ', 'otype'))), Proposition('objecttype', (Variable('blinds 1', 'object'), Variable('blindstype ', 'otype'))), Proposition('objecttype', (Variable('alarmclock 2', 'object'), Variable('alarmclocktype ', 'otype'))), Proposition('objecttype', (Variable('cd 1', 'object'), Variable('cdtype ', 'otype'))), Proposition('objecttype', (Variable('creditcard 3', 'object'), Variable('creditcardtype ', 'otype'))), Proposition('objecttype', (Variable('tennisracket 1', 'object'), Variable('tennisrackettype ', 'otype'))), Proposition('objecttype', (Variable('chair 1', 'object'), Variable('chairtype ', 'otype'))), Proposition('objecttype', (Variable('box 1', 'object'), Variable('boxtype ', 'otype'))), Proposition('objecttype', (Variable('pencil 1', 'object'), Variable('penciltype ', 'otype'))), Proposition('objecttype', (Variable('pencil 2', 'object'), Variable('penciltype ', 'otype'))), Proposition('objecttype', (Variable('pencil 3', 'object'), Variable('penciltype ', 'otype'))), Proposition('objecttype', (Variable('mirror 1', 'object'), Variable('mirrortype ', 'otype'))), Proposition('objecttype', (Variable('cellphone 1', 'object'), Variable('cellphonetype ', 'otype'))), Proposition('objecttype', (Variable('alarmclock 1', 'object'), Variable('alarmclocktype ', 'otype'))), Proposition('objecttype', (Variable('poster 1', 'object'), Variable('postertype ', 'otype'))), Proposition('objectatlocation', (Variable('pillow 1', 'object'), Variable('loc 11', 'location'))), Proposition('objectatlocation', (Variable('alarmclock 1', 'object'), Variable('loc 8', 'location'))), Proposition('objectatlocation', (Variable('pencil 3', 'object'), Variable('loc 8', 'location'))), Proposition('objectatlocation', (Variable('tennisracket 1', 'object'), Variable('loc 5', 'location'))), Proposition('objectatlocation', (Variable('cellphone 1', 'object'), Variable('loc 15', 'location'))), Proposition('objectatlocation', (Variable('lightswitch 1', 'object'), Variable('loc 13', 'location'))), Proposition('objectatlocation', (Variable('keychain 2', 'object'), Variable('loc 9', 'location'))), Proposition('objectatlocation', (Variable('book 3', 'object'), Variable('loc 8', 'location'))), Proposition('objectatlocation', (Variable('cd 1', 'object'), Variable('loc 15', 'location'))), Proposition('objectatlocation', (Variable('creditcard 1', 'object'), Variable('loc 17', 'location'))), Proposition('objectatlocation', (Variable('pencil 2', 'object'), Variable('loc 16', 'location'))), Proposition('objectatlocation', (Variable('chair 1', 'object'), Variable('loc 7', 'location'))), Proposition('objectatlocation', (Variable('laptop 1', 'object'), Variable('loc 11', 'location'))), Proposition('objectatlocation', (Variable('book 1', 'object'), Variable('loc 11', 'location'))), Proposition('objectatlocation', (Variable('cellphone 2', 'object'), Variable('loc 15', 'location'))), Proposition('objectatlocation', (Variable('poster 1', 'object'), Variable('loc 1', 'location'))), Proposition('objectatlocation', (Variable('mirror 1', 'object'), Variable('loc 14', 'location'))), Proposition('objectatlocation', (Variable('pen 1', 'object'), Variable('loc 9', 'location'))), Proposition('objectatlocation', (Variable('book 2', 'object'), Variable('loc 11', 'location'))), Proposition('objectatlocation', (Variable('box 1', 'object'), Variable('loc 8', 'location'))), Proposition('objectatlocation', (Variable('blinds 1', 'object'), Variable('loc 3', 'location'))), Proposition('objectatlocation', (Variable('laptop 2', 'object'), Variable('loc 8', 'location'))), Proposition('objectatlocation', (Variable('creditcard 2', 'object'), Variable('loc 8', 'location'))), Proposition('objectatlocation', (Variable('keychain 1', 'object'), Variable('loc 17', 'location'))), Proposition('objectatlocation', (Variable('baseballbat 1', 'object'), Variable('loc 6', 'location'))), Proposition('objectatlocation', (Variable('pencil 1', 'object'), Variable('loc 15', 'location'))), Proposition('objectatlocation', (Variable('basketball 1', 'object'), Variable('loc 10', 'location'))), Proposition('objectatlocation', (Variable('alarmclock 2', 'object'), Variable('loc 8', 'location'))), Proposition('objectatlocation', (Variable('window 1', 'object'), Variable('loc 4', 'location'))), Proposition('objectatlocation', (Variable('creditcard 3', 'object'), Variable('loc 8', 'location'))), Proposition('pickupable', (Variable('creditcard 1', 'object'),)), Proposition('pickupable', (Variable('laptop 2', 'object'),)), Proposition('pickupable', (Variable('book 1', 'object'),)), Proposition('pickupable', (Variable('basketball 1', 'object'),)), Proposition('pickupable', (Variable('cellphone 1', 'object'),)), Proposition('pickupable', (Variable('pencil 1', 'object'),)), Proposition('pickupable', (Variable('pen 1', 'object'),)), Proposition('pickupable', (Variable('keychain 2', 'object'),)), Proposition('pickupable', (Variable('pencil 3', 'object'),)), Proposition('pickupable', (Variable('cd 1', 'object'),)), Proposition('pickupable', (Variable('cellphone 2', 'object'),)), Proposition('pickupable', (Variable('box 1', 'object'),)), Proposition('pickupable', (Variable('creditcard 2', 'object'),)), Proposition('pickupable', (Variable('alarmclock 2', 'object'),)), Proposition('pickupable', (Variable('book 3', 'object'),)), Proposition('pickupable', (Variable('tennisracket 1', 'object'),)), Proposition('pickupable', (Variable('keychain 1', 'object'),)), Proposition('pickupable', (Variable('pillow 1', 'object'),)), Proposition('pickupable', (Variable('pencil 2', 'object'),)), Proposition('pickupable', (Variable('book 2', 'object'),)), Proposition('pickupable', (Variable('creditcard 3', 'object'),)), Proposition('pickupable', (Variable('baseballbat 1', 'object'),)), Proposition('pickupable', (Variable('alarmclock 1', 'object'),)), Proposition('pickupable', (Variable('laptop 1', 'object'),)), Proposition('receptacletype', (Variable('cabinet 2', 'receptacle'), Variable('cabinettype ', 'rtype'))), Proposition('receptacletype', (Variable('drawer 2', 'receptacle'), Variable('drawertype ', 'rtype'))), Proposition('receptacletype', (Variable('cabinet 4', 'receptacle'), Variable('cabinettype ', 'rtype'))), Proposition('receptacletype', (Variable('shelf 1', 'receptacle'), Variable('shelftype ', 'rtype'))), Proposition('receptacletype', (Variable('drawer 1', 'receptacle'), Variable('drawertype ', 'rtype'))), Proposition('receptacletype', (Variable('garbagecan 1', 'receptacle'), Variable('garbagecantype ', 'rtype'))), Proposition('receptacletype', (Variable('sidetable 1', 'receptacle'), Variable('sidetabletype ', 'rtype'))), Proposition('receptacletype', (Variable('cabinet 3', 'receptacle'), Variable('cabinettype ', 'rtype'))), Proposition('receptacletype', (Variable('cabinet 1', 'receptacle'), Variable('cabinettype ', 'rtype'))), Proposition('receptacletype', (Variable('bed 1', 'receptacle'), Variable('bedtype ', 'rtype'))), Proposition('receptacletype', (Variable('desk 1', 'receptacle'), Variable('desktype ', 'rtype'))), Proposition('receptacleatlocation', (Variable('drawer 1', 'receptacle'), Variable('loc 16', 'location'))), Proposition('receptacleatlocation', (Variable('garbagecan 1', 'receptacle'), Variable('loc 19', 'location'))), Proposition('receptacleatlocation', (Variable('bed 1', 'receptacle'), Variable('loc 11', 'location'))), Proposition('receptacleatlocation', (Variable('shelf 1', 'receptacle'), Variable('loc 9', 'location'))), Proposition('receptacleatlocation', (Variable('drawer 2', 'receptacle'), Variable('loc 17', 'location'))), Proposition('receptacleatlocation', (Variable('cabinet 4', 'receptacle'), Variable('loc 12', 'location'))), Proposition('receptacleatlocation', (Variable('sidetable 1', 'receptacle'), Variable('loc 15', 'location'))), Proposition('receptacleatlocation', (Variable('desk 1', 'receptacle'), Variable('loc 8', 'location'))), Proposition('receptacleatlocation', (Variable('cabinet 3', 'receptacle'), Variable('loc 9', 'location'))), Proposition('receptacleatlocation', (Variable('cabinet 2', 'receptacle'), Variable('loc 2', 'location'))), Proposition('receptacleatlocation', (Variable('cabinet 1', 'receptacle'), Variable('loc 2', 'location'))), Proposition('openable', (Variable('cabinet 4', 'receptacle'),)), Proposition('openable', (Variable('cabinet 2', 'receptacle'),)), Proposition('openable', (Variable('cabinet 3', 'receptacle'),)), Proposition('openable', (Variable('drawer 1', 'receptacle'),)), Proposition('openable', (Variable('cabinet 1', 'receptacle'),)), Proposition('openable', (Variable('drawer 2', 'receptacle'),)), Proposition('isreceptacleobject', (Variable('box 1', 'object'),)), Proposition('not_atlocation', (Variable('agent1 ', 'agent'), Variable('loc 18', 'location'))), Proposition('not_atlocation', (Variable('agent1 ', 'agent'), Variable('loc 9', 'location')))]}))),\n   (OpenAIToolAgentAction(tool='goto', tool_input={'receptable_type': 'sidetable', 'receptable_id': 1}, log=\"\\nInvoking: `goto` with `{'receptable_type': 'sidetable', 'receptable_id': 1}`\\n\\n\\n\", message_log=[AIMessageChunk(content='', additional_kwargs={'tool_calls': [{'index': 0, 'id': 'call_zVKtRn26Dhvg6cESJx9Xfk54', 'function': {'arguments': '{\"receptable_type\":\"sidetable\",\"receptable_id\":1}', 'name': 'goto'}, 'type': 'function'}]})], tool_call_id='call_zVKtRn26Dhvg6cESJx9Xfk54'),\n    AgentStep(action=OpenAIToolAgentAction(tool='goto', tool_input={'receptable_type': 'sidetable', 'receptable_id': 1}, log=\"\\nInvoking: `goto` with `{'receptable_type': 'sidetable', 'receptable_id': 1}`\\n\\n\\n\", message_log=[AIMessageChunk(content='', additional_kwargs={'tool_calls': [{'index': 0, 'id': 'call_zVKtRn26Dhvg6cESJx9Xfk54', 'function': {'arguments': '{\"receptable_type\":\"sidetable\",\"receptable_id\":1}', 'name': 'goto'}, 'type': 'function'}]})], tool_call_id='call_zVKtRn26Dhvg6cESJx9Xfk54'), observation=('You arrive at loc 15. On the sidetable 1, you see a cd 1, a cellphone 2, a cellphone 1, and a pencil 1.', 0, False, False, {'won': False, 'extra.expert_plan': ['take pencil 1 from sidetable 1'], 'extra.gamefile': None, 'admissible_commands': ['examine sidetable 1', 'go to bed 1', 'go to cabinet 1', 'go to cabinet 2', 'go to cabinet 3', 'go to cabinet 4', 'go to desk 1', 'go to drawer 1', 'go to drawer 2', 'go to garbagecan 1', 'go to shelf 1', 'inventory', 'look', 'take cd 1 from sidetable 1', 'take cellphone 1 from sidetable 1', 'take cellphone 2 from sidetable 1', 'take pencil 1 from sidetable 1'], 'facts': [Proposition('cancontain', (Variable('shelftype ', 'rtype'), Variable('pentype ', 'otype'))), Proposition('cancontain', (Variable('sidetabletype ', 'rtype'), Variable('laptoptype ', 'otype'))), Proposition('cancontain', (Variable('bedtype ', 'rtype'), Variable('baseballbattype ', 'otype'))), Proposition('cancontain', (Variable('sidetabletype ', 'rtype'), Variable('cdtype ', 'otype'))), Proposition('cancontain', (Variable('shelftype ', 'rtype'), Variable('keychaintype ', 'otype'))), Proposition('cancontain', (Variable('desktype ', 'rtype'), Variable('laptoptype ', 'otype'))), Proposition('cancontain', (Variable('sidetabletype ', 'rtype'), Variable('cellphonetype ', 'otype'))), Proposition('cancontain', (Variable('drawertype ', 'rtype'), Variable('pentype ', 'otype'))), Proposition('cancontain', (Variable('shelftype ', 'rtype'), Variable('creditcardtype ', 'otype'))), Proposition('cancontain', (Variable('desktype ', 'rtype'), Variable('cdtype ', 'otype'))), Proposition('cancontain', (Variable('shelftype ', 'rtype'), Variable('booktype ', 'otype'))), Proposition('cancontain', (Variable('drawertype ', 'rtype'), Variable('keychaintype ', 'otype'))), Proposition('cancontain', (Variable('shelftype ', 'rtype'), Variable('penciltype ', 'otype'))), Proposition('cancontain', (Variable('sidetabletype ', 'rtype'), Variable('boxtype ', 'otype'))), Proposition('cancontain', (Variable('shelftype ', 'rtype'), Variable('alarmclocktype ', 'otype'))), Proposition('cancontain', (Variable('bedtype ', 'rtype'), Variable('cellphonetype ', 'otype'))), Proposition('cancontain', (Variable('sidetabletype ', 'rtype'), Variable('basketballtype ', 'otype'))), Proposition('cancontain', (Variable('drawertype ', 'rtype'), Variable('booktype ', 'otype'))), Proposition('cancontain', (Variable('sidetabletype ', 'rtype'), Variable('baseballbattype ', 'otype'))), Proposition('cancontain', (Variable('drawertype ', 'rtype'), Variable('creditcardtype ', 'otype'))), Proposition('cancontain', (Variable('desktype ', 'rtype'), Variable('boxtype ', 'otype'))), Proposition('cancontain', (Variable('bedtype ', 'rtype'), Variable('basketballtype ', 'otype'))), Proposition('cancontain', (Variable('cabinettype ', 'rtype'), Variable('booktype ', 'otype'))), Proposition('cancontain', (Variable('drawertype ', 'rtype'), Variable('penciltype ', 'otype'))), Proposition('cancontain', (Variable('sidetabletype ', 'rtype'), Variable('pentype ', 'otype'))), Proposition('cancontain', (Variable('garbagecantype ', 'rtype'), Variable('cdtype ', 'otype'))), Proposition('cancontain', (Variable('bedtype ', 'rtype'), Variable('pillowtype ', 'otype'))), Proposition('cancontain', (Variable('sidetabletype ', 'rtype'), Variable('keychaintype ', 'otype'))), Proposition('cancontain', (Variable('cabinettype ', 'rtype'), Variable('cdtype ', 'otype'))), Proposition('cancontain', (Variable('bedtype ', 'rtype'), Variable('tennisrackettype ', 'otype'))), Proposition('cancontain', (Variable('drawertype ', 'rtype'), Variable('cdtype ', 'otype'))), Proposition('cancontain', (Variable('sidetabletype ', 'rtype'), Variable('creditcardtype ', 'otype'))), Proposition('cancontain', (Variable('sidetabletype ', 'rtype'), Variable('booktype ', 'otype'))), Proposition('cancontain', (Variable('sidetabletype ', 'rtype'), Variable('penciltype ', 'otype'))), Proposition('cancontain', (Variable('desktype ', 'rtype'), Variable('cellphonetype ', 'otype'))), Proposition('cancontain', (Variable('sidetabletype ', 'rtype'), Variable('alarmclocktype ', 'otype'))), Proposition('cancontain', (Variable('cabinettype ', 'rtype'), Variable('boxtype ', 'otype'))), Proposition('cancontain', (Variable('bedtype ', 'rtype'), Variable('booktype ', 'otype'))), Proposition('cancontain', (Variable('shelftype ', 'rtype'), Variable('cdtype ', 'otype'))), Proposition('cancontain', (Variable('desktype ', 'rtype'), Variable('basketballtype ', 'otype'))), Proposition('cancontain', (Variable('garbagecantype ', 'rtype'), Variable('pentype ', 'otype'))), Proposition('cancontain', (Variable('sidetabletype ', 'rtype'), Variable('tennisrackettype ', 'otype'))), Proposition('cancontain', (Variable('desktype ', 'rtype'), Variable('alarmclocktype ', 'otype'))), Proposition('cancontain', (Variable('shelftype ', 'rtype'), Variable('cellphonetype ', 'otype'))), Proposition('cancontain', (Variable('shelftype ', 'rtype'), Variable('boxtype ', 'otype'))), Proposition('cancontain', (Variable('desktype ', 'rtype'), Variable('tennisrackettype ', 'otype'))), Proposition('cancontain', (Variable('bedtype ', 'rtype'), Variable('laptoptype ', 'otype'))), Proposition('cancontain', (Variable('desktype ', 'rtype'), Variable('pentype ', 'otype'))), Proposition('cancontain', (Variable('garbagecantype ', 'rtype'), Variable('penciltype ', 'otype'))), Proposition('cancontain', (Variable('desktype ', 'rtype'), Variable('keychaintype ', 'otype'))), Proposition('cancontain', (Variable('drawertype ', 'rtype'), Variable('cellphonetype ', 'otype'))), Proposition('cancontain', (Variable('desktype ', 'rtype'), Variable('booktype ', 'otype'))), Proposition('cancontain', (Variable('desktype ', 'rtype'), Variable('penciltype ', 'otype'))), Proposition('cancontain', (Variable('desktype ', 'rtype'), Variable('creditcardtype ', 'otype'))), Proposition('inreceptacle', (Variable('pencil 1', 'object'), Variable('sidetable 1', 'receptacle'))), Proposition('inreceptacle', (Variable('box 1', 'object'), Variable('desk 1', 'receptacle'))), Proposition('inreceptacle', (Variable('laptop 2', 'object'), Variable('desk 1', 'receptacle'))), Proposition('inreceptacle', (Variable('creditcard 1', 'object'), Variable('drawer 2', 'receptacle'))), Proposition('inreceptacle', (Variable('alarmclock 2', 'object'), Variable('desk 1', 'receptacle'))), Proposition('inreceptacle', (Variable('laptop 1', 'object'), Variable('bed 1', 'receptacle'))), Proposition('inreceptacle', (Variable('book 1', 'object'), Variable('bed 1', 'receptacle'))), Proposition('inreceptacle', (Variable('cellphone 1', 'object'), Variable('sidetable 1', 'receptacle'))), Proposition('inreceptacle', (Variable('book 2', 'object'), Variable('bed 1', 'receptacle'))), Proposition('inreceptacle', (Variable('keychain 1', 'object'), Variable('drawer 2', 'receptacle'))), Proposition('inreceptacle', (Variable('creditcard 2', 'object'), Variable('desk 1', 'receptacle'))), Proposition('inreceptacle', (Variable('alarmclock 1', 'object'), Variable('desk 1', 'receptacle'))), Proposition('inreceptacle', (Variable('cd 1', 'object'), Variable('sidetable 1', 'receptacle'))), Proposition('inreceptacle', (Variable('keychain 2', 'object'), Variable('shelf 1', 'receptacle'))), Proposition('inreceptacle', (Variable('creditcard 3', 'object'), Variable('desk 1', 'receptacle'))), Proposition('inreceptacle', (Variable('cellphone 2', 'object'), Variable('sidetable 1', 'receptacle'))), Proposition('inreceptacle', (Variable('pencil 2', 'object'), Variable('drawer 1', 'receptacle'))), Proposition('inreceptacle', (Variable('pen 1', 'object'), Variable('shelf 1', 'receptacle'))), Proposition('inreceptacle', (Variable('pencil 3', 'object'), Variable('desk 1', 'receptacle'))), Proposition('inreceptacle', (Variable('book 3', 'object'), Variable('desk 1', 'receptacle'))), Proposition('inreceptacle', (Variable('pillow 1', 'object'), Variable('bed 1', 'receptacle'))), Proposition('atlocation', (Variable('agent1 ', 'agent'), Variable('loc 15', 'location'))), Proposition('objecttype', (Variable('book 1', 'object'), Variable('booktype ', 'otype'))), Proposition('objecttype', (Variable('creditcard 1', 'object'), Variable('creditcardtype ', 'otype'))), Proposition('objecttype', (Variable('book 3', 'object'), Variable('booktype ', 'otype'))), Proposition('objecttype', (Variable('laptop 1', 'object'), Variable('laptoptype ', 'otype'))), Proposition('objecttype', (Variable('pillow 1', 'object'), Variable('pillowtype ', 'otype'))), Proposition('objecttype', (Variable('window 1', 'object'), Variable('windowtype ', 'otype'))), Proposition('objecttype', (Variable('cellphone 2', 'object'), Variable('cellphonetype ', 'otype'))), Proposition('objecttype', (Variable('keychain 2', 'object'), Variable('keychaintype ', 'otype'))), Proposition('objecttype', (Variable('baseballbat 1', 'object'), Variable('baseballbattype ', 'otype'))), Proposition('objecttype', (Variable('basketball 1', 'object'), Variable('basketballtype ', 'otype'))), Proposition('objecttype', (Variable('keychain 1', 'object'), Variable('keychaintype ', 'otype'))), Proposition('objecttype', (Variable('pen 1', 'object'), Variable('pentype ', 'otype'))), Proposition('objecttype', (Variable('lightswitch 1', 'object'), Variable('lightswitchtype ', 'otype'))), Proposition('objecttype', (Variable('creditcard 2', 'object'), Variable('creditcardtype ', 'otype'))), Proposition('objecttype', (Variable('laptop 2', 'object'), Variable('laptoptype ', 'otype'))), Proposition('objecttype', (Variable('book 2', 'object'), Variable('booktype ', 'otype'))), Proposition('objecttype', (Variable('blinds 1', 'object'), Variable('blindstype ', 'otype'))), Proposition('objecttype', (Variable('alarmclock 2', 'object'), Variable('alarmclocktype ', 'otype'))), Proposition('objecttype', (Variable('cd 1', 'object'), Variable('cdtype ', 'otype'))), Proposition('objecttype', (Variable('creditcard 3', 'object'), Variable('creditcardtype ', 'otype'))), Proposition('objecttype', (Variable('tennisracket 1', 'object'), Variable('tennisrackettype ', 'otype'))), Proposition('objecttype', (Variable('chair 1', 'object'), Variable('chairtype ', 'otype'))), Proposition('objecttype', (Variable('box 1', 'object'), Variable('boxtype ', 'otype'))), Proposition('objecttype', (Variable('pencil 1', 'object'), Variable('penciltype ', 'otype'))), Proposition('objecttype', (Variable('pencil 2', 'object'), Variable('penciltype ', 'otype'))), Proposition('objecttype', (Variable('pencil 3', 'object'), Variable('penciltype ', 'otype'))), Proposition('objecttype', (Variable('mirror 1', 'object'), Variable('mirrortype ', 'otype'))), Proposition('objecttype', (Variable('cellphone 1', 'object'), Variable('cellphonetype ', 'otype'))), Proposition('objecttype', (Variable('alarmclock 1', 'object'), Variable('alarmclocktype ', 'otype'))), Proposition('objecttype', (Variable('poster 1', 'object'), Variable('postertype ', 'otype'))), Proposition('objectatlocation', (Variable('pillow 1', 'object'), Variable('loc 11', 'location'))), Proposition('objectatlocation', (Variable('alarmclock 1', 'object'), Variable('loc 8', 'location'))), Proposition('objectatlocation', (Variable('pencil 3', 'object'), Variable('loc 8', 'location'))), Proposition('objectatlocation', (Variable('tennisracket 1', 'object'), Variable('loc 5', 'location'))), Proposition('objectatlocation', (Variable('cellphone 1', 'object'), Variable('loc 15', 'location'))), Proposition('objectatlocation', (Variable('lightswitch 1', 'object'), Variable('loc 13', 'location'))), Proposition('objectatlocation', (Variable('keychain 2', 'object'), Variable('loc 9', 'location'))), Proposition('objectatlocation', (Variable('book 3', 'object'), Variable('loc 8', 'location'))), Proposition('objectatlocation', (Variable('cd 1', 'object'), Variable('loc 15', 'location'))), Proposition('objectatlocation', (Variable('creditcard 1', 'object'), Variable('loc 17', 'location'))), Proposition('objectatlocation', (Variable('pencil 2', 'object'), Variable('loc 16', 'location'))), Proposition('objectatlocation', (Variable('chair 1', 'object'), Variable('loc 7', 'location'))), Proposition('objectatlocation', (Variable('laptop 1', 'object'), Variable('loc 11', 'location'))), Proposition('objectatlocation', (Variable('book 1', 'object'), Variable('loc 11', 'location'))), Proposition('objectatlocation', (Variable('cellphone 2', 'object'), Variable('loc 15', 'location'))), Proposition('objectatlocation', (Variable('poster 1', 'object'), Variable('loc 1', 'location'))), Proposition('objectatlocation', (Variable('mirror 1', 'object'), Variable('loc 14', 'location'))), Proposition('objectatlocation', (Variable('pen 1', 'object'), Variable('loc 9', 'location'))), Proposition('objectatlocation', (Variable('book 2', 'object'), Variable('loc 11', 'location'))), Proposition('objectatlocation', (Variable('box 1', 'object'), Variable('loc 8', 'location'))), Proposition('objectatlocation', (Variable('blinds 1', 'object'), Variable('loc 3', 'location'))), Proposition('objectatlocation', (Variable('laptop 2', 'object'), Variable('loc 8', 'location'))), Proposition('objectatlocation', (Variable('creditcard 2', 'object'), Variable('loc 8', 'location'))), Proposition('objectatlocation', (Variable('keychain 1', 'object'), Variable('loc 17', 'location'))), Proposition('objectatlocation', (Variable('baseballbat 1', 'object'), Variable('loc 6', 'location'))), Proposition('objectatlocation', (Variable('pencil 1', 'object'), Variable('loc 15', 'location'))), Proposition('objectatlocation', (Variable('basketball 1', 'object'), Variable('loc 10', 'location'))), Proposition('objectatlocation', (Variable('alarmclock 2', 'object'), Variable('loc 8', 'location'))), Proposition('objectatlocation', (Variable('window 1', 'object'), Variable('loc 4', 'location'))), Proposition('objectatlocation', (Variable('creditcard 3', 'object'), Variable('loc 8', 'location'))), Proposition('pickupable', (Variable('creditcard 1', 'object'),)), Proposition('pickupable', (Variable('laptop 2', 'object'),)), Proposition('pickupable', (Variable('book 1', 'object'),)), Proposition('pickupable', (Variable('basketball 1', 'object'),)), Proposition('pickupable', (Variable('cellphone 1', 'object'),)), Proposition('pickupable', (Variable('pencil 1', 'object'),)), Proposition('pickupable', (Variable('pen 1', 'object'),)), Proposition('pickupable', (Variable('keychain 2', 'object'),)), Proposition('pickupable', (Variable('pencil 3', 'object'),)), Proposition('pickupable', (Variable('cd 1', 'object'),)), Proposition('pickupable', (Variable('cellphone 2', 'object'),)), Proposition('pickupable', (Variable('box 1', 'object'),)), Proposition('pickupable', (Variable('creditcard 2', 'object'),)), Proposition('pickupable', (Variable('alarmclock 2', 'object'),)), Proposition('pickupable', (Variable('book 3', 'object'),)), Proposition('pickupable', (Variable('tennisracket 1', 'object'),)), Proposition('pickupable', (Variable('keychain 1', 'object'),)), Proposition('pickupable', (Variable('pillow 1', 'object'),)), Proposition('pickupable', (Variable('pencil 2', 'object'),)), Proposition('pickupable', (Variable('book 2', 'object'),)), Proposition('pickupable', (Variable('creditcard 3', 'object'),)), Proposition('pickupable', (Variable('baseballbat 1', 'object'),)), Proposition('pickupable', (Variable('alarmclock 1', 'object'),)), Proposition('pickupable', (Variable('laptop 1', 'object'),)), Proposition('receptacletype', (Variable('cabinet 2', 'receptacle'), Variable('cabinettype ', 'rtype'))), Proposition('receptacletype', (Variable('drawer 2', 'receptacle'), Variable('drawertype ', 'rtype'))), Proposition('receptacletype', (Variable('cabinet 4', 'receptacle'), Variable('cabinettype ', 'rtype'))), Proposition('receptacletype', (Variable('shelf 1', 'receptacle'), Variable('shelftype ', 'rtype'))), Proposition('receptacletype', (Variable('drawer 1', 'receptacle'), Variable('drawertype ', 'rtype'))), Proposition('receptacletype', (Variable('garbagecan 1', 'receptacle'), Variable('garbagecantype ', 'rtype'))), Proposition('receptacletype', (Variable('sidetable 1', 'receptacle'), Variable('sidetabletype ', 'rtype'))), Proposition('receptacletype', (Variable('cabinet 3', 'receptacle'), Variable('cabinettype ', 'rtype'))), Proposition('receptacletype', (Variable('cabinet 1', 'receptacle'), Variable('cabinettype ', 'rtype'))), Proposition('receptacletype', (Variable('bed 1', 'receptacle'), Variable('bedtype ', 'rtype'))), Proposition('receptacletype', (Variable('desk 1', 'receptacle'), Variable('desktype ', 'rtype'))), Proposition('receptacleatlocation', (Variable('drawer 1', 'receptacle'), Variable('loc 16', 'location'))), Proposition('receptacleatlocation', (Variable('garbagecan 1', 'receptacle'), Variable('loc 19', 'location'))), Proposition('receptacleatlocation', (Variable('bed 1', 'receptacle'), Variable('loc 11', 'location'))), Proposition('receptacleatlocation', (Variable('shelf 1', 'receptacle'), Variable('loc 9', 'location'))), Proposition('receptacleatlocation', (Variable('drawer 2', 'receptacle'), Variable('loc 17', 'location'))), Proposition('receptacleatlocation', (Variable('cabinet 4', 'receptacle'), Variable('loc 12', 'location'))), Proposition('receptacleatlocation', (Variable('sidetable 1', 'receptacle'), Variable('loc 15', 'location'))), Proposition('receptacleatlocation', (Variable('desk 1', 'receptacle'), Variable('loc 8', 'location'))), Proposition('receptacleatlocation', (Variable('cabinet 3', 'receptacle'), Variable('loc 9', 'location'))), Proposition('receptacleatlocation', (Variable('cabinet 2', 'receptacle'), Variable('loc 2', 'location'))), Proposition('receptacleatlocation', (Variable('cabinet 1', 'receptacle'), Variable('loc 2', 'location'))), Proposition('openable', (Variable('cabinet 4', 'receptacle'),)), Proposition('openable', (Variable('cabinet 2', 'receptacle'),)), Proposition('openable', (Variable('cabinet 3', 'receptacle'),)), Proposition('openable', (Variable('drawer 1', 'receptacle'),)), Proposition('openable', (Variable('cabinet 1', 'receptacle'),)), Proposition('openable', (Variable('drawer 2', 'receptacle'),)), Proposition('isreceptacleobject', (Variable('box 1', 'object'),)), Proposition('not_atlocation', (Variable('agent1 ', 'agent'), Variable('loc 18', 'location'))), Proposition('not_atlocation', (Variable('agent1 ', 'agent'), Variable('loc 9', 'location')))]})))]],\n 'finish_log': [\"Couldn't solve the task. Last log: Couldn't solve the task. Last log: Couldn't solve the task. Last log: Couldn't solve the task. Last log: Maximum decomposition depth reached.\"]}"
     },
     "execution_count": 12,
     "metadata": {},
     "output_type": "execute_result"
    }
   ],
   "source": [
    "simple_planner_adapt.invoke(\n",
    "    {\"inputs\": {\"inputs\": obs}}\n",
    ")"
   ],
   "metadata": {
    "collapsed": false,
    "ExecuteTime": {
     "end_time": "2024-05-22T11:49:04.835275Z",
     "start_time": "2024-05-22T11:48:45.217344Z"
    }
   },
   "id": "bfcf7662db19240c",
   "execution_count": 12
  },
  {
   "cell_type": "code",
   "outputs": [],
   "source": [],
   "metadata": {
    "collapsed": false
   },
   "id": "f5b8866ffd80b2ee",
   "execution_count": null
  }
 ],
 "metadata": {
  "kernelspec": {
   "display_name": "Python 3",
   "language": "python",
   "name": "python3"
  },
  "language_info": {
   "codemirror_mode": {
    "name": "ipython",
    "version": 2
   },
   "file_extension": ".py",
   "mimetype": "text/x-python",
   "name": "python",
   "nbconvert_exporter": "python",
   "pygments_lexer": "ipython2",
   "version": "2.7.6"
  }
 },
 "nbformat": 4,
 "nbformat_minor": 5
}
