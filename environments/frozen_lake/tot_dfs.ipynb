{
 "cells": [
  {
   "cell_type": "markdown",
   "source": [
    "# Frozen Lake + ToT-DFS"
   ],
   "metadata": {
    "collapsed": false
   },
   "id": "8ab5229e11b9de8a"
  },
  {
   "cell_type": "markdown",
   "source": [
    "## Utils"
   ],
   "metadata": {
    "collapsed": false
   },
   "id": "3c73e3eb315551f3"
  },
  {
   "cell_type": "markdown",
   "source": [
    "### Imports"
   ],
   "metadata": {
    "collapsed": false
   },
   "id": "eec2163dd7345c7c"
  },
  {
   "cell_type": "code",
   "execution_count": 100,
   "id": "initial_id",
   "metadata": {
    "collapsed": true,
    "ExecuteTime": {
     "end_time": "2024-03-15T13:00:56.056013Z",
     "start_time": "2024-03-15T13:00:56.039544Z"
    }
   },
   "outputs": [
    {
     "name": "stdout",
     "output_type": "stream",
     "text": [
      "The autoreload extension is already loaded. To reload it, use:\n",
      "  %reload_ext autoreload\n"
     ]
    }
   ],
   "source": [
    "import gymnasium as gym\n",
    "from environments.frozen_lake.common.environment import FrozenLakeEnvWrapper\n",
    "from environments.frozen_lake.common.evaluate_output_parser import FrozenMapEvaluateOutputParser\n",
    "from langchain_openai import ChatOpenAI\n",
    "from gymnasium.envs.toy_text.frozen_lake import generate_random_map\n",
    "import os\n",
    "from environments.frozen_lake.tot_dfs.evaluate_prompts import evaluate_prompt\n",
    "from environments.frozen_lake.tot_dfs.generate_prompts import generate_openai_tools_prompt\n",
    "from planning_library.strategies import TreeOfThoughtsDFSStrategy\n",
    "from operator import itemgetter\n",
    "from langchain_core.agents import AgentAction, AgentFinish\n",
    "from langchain_core.runnables import RunnableLambda\n",
    "\n",
    "\n",
    "%load_ext autoreload\n",
    "%autoreload 2"
   ]
  },
  {
   "cell_type": "markdown",
   "source": [
    "### Logging"
   ],
   "metadata": {
    "collapsed": false
   },
   "id": "d0bcf35dedecec01"
  },
  {
   "cell_type": "code",
   "outputs": [],
   "source": [
    "os.environ[\"LANGCHAIN_TRACING_V2\"] = \"true\"\n",
    "os.environ[\"LANGCHAIN_PROJECT\"] = \"ToT + Frozen Lake test\"\n",
    "os.environ[\"LANGCHAIN_ENDPOINT\"] = \"https://api.smith.langchain.com\""
   ],
   "metadata": {
    "collapsed": false,
    "ExecuteTime": {
     "end_time": "2024-03-15T13:00:56.543995Z",
     "start_time": "2024-03-15T13:00:56.528189Z"
    }
   },
   "id": "aee33b8be999e0ff",
   "execution_count": 101
  },
  {
   "cell_type": "markdown",
   "source": [
    "## Environment"
   ],
   "metadata": {
    "collapsed": false
   },
   "id": "4dac36d55f295aa9"
  },
  {
   "cell_type": "markdown",
   "source": [
    "We use a custom wrapper on top of Frozen Lake from gym. It changes the following:\n",
    "* it accepts `AgentAction` from LangChain and internally calls the original environment with right actions;\n",
    "* it transforms the observations returned by the original environment: instead of a single number, it's now current position (x,y) on the board;\n",
    "* it supports performing a given sequence of actions when resetting an environment."
   ],
   "metadata": {
    "collapsed": false
   },
   "id": "92bf19c458046259"
  },
  {
   "cell_type": "code",
   "outputs": [
    {
     "data": {
      "text/plain": "(0, {'prob': 1})"
     },
     "execution_count": 102,
     "metadata": {},
     "output_type": "execute_result"
    }
   ],
   "source": [
    "env = gym.make(\"FrozenLake-v1\", desc=generate_random_map(size=4), is_slippery=True, render_mode=\"human\")\n",
    "env = FrozenLakeEnvWrapper(env)\n",
    "env.reset(seed=123)"
   ],
   "metadata": {
    "collapsed": false,
    "ExecuteTime": {
     "end_time": "2024-03-15T13:00:57.594672Z",
     "start_time": "2024-03-15T13:00:57.297671Z"
    }
   },
   "id": "5122049321be2caf",
   "execution_count": 102
  },
  {
   "cell_type": "markdown",
   "source": [
    "## Strategy"
   ],
   "metadata": {
    "collapsed": false
   },
   "id": "9130c20958cf37fe"
  },
  {
   "cell_type": "markdown",
   "source": [
    "### Hyperparameters"
   ],
   "metadata": {
    "collapsed": false
   },
   "id": "86ea926f4d1d0974"
  },
  {
   "cell_type": "code",
   "outputs": [],
   "source": [
    "# ToT hyperparameters\n",
    "max_num_thoughts = 3  # number of thoughts to generate at each iteration\n",
    "max_num_steps = 20  # total maximum number of iterations\n",
    "value_threshold = 0.1  # threshold for evaluation; only thoughts with value > value_threshold will be explored\n",
    "\n",
    "# other hyperparameters\n",
    "model_name = \"gpt-3.5-turbo\"\n",
    "temperature = 0.8"
   ],
   "metadata": {
    "collapsed": false,
    "ExecuteTime": {
     "end_time": "2024-03-15T13:01:59.203924Z",
     "start_time": "2024-03-15T13:01:59.192212Z"
    }
   },
   "id": "ae7d67618da5e8fe",
   "execution_count": 117
  },
  {
   "cell_type": "markdown",
   "source": [
    "### Evaluator"
   ],
   "metadata": {
    "collapsed": false
   },
   "id": "414c866ff82acaf0"
  },
  {
   "cell_type": "markdown",
   "source": [
    "#### Prompt"
   ],
   "metadata": {
    "collapsed": false
   },
   "id": "518711ff67a45558"
  },
  {
   "cell_type": "code",
   "outputs": [
    {
     "data": {
      "text/plain": "['inputs', 'next_thought', 'trajectory']"
     },
     "execution_count": 118,
     "metadata": {},
     "output_type": "execute_result"
    }
   ],
   "source": [
    "evaluate_prompt.input_variables"
   ],
   "metadata": {
    "collapsed": false,
    "ExecuteTime": {
     "end_time": "2024-03-15T13:01:59.972801Z",
     "start_time": "2024-03-15T13:01:59.954352Z"
    }
   },
   "id": "93ab4504f5480f3c",
   "execution_count": 118
  },
  {
   "cell_type": "code",
   "outputs": [
    {
     "name": "stdout",
     "output_type": "stream",
     "text": [
      "System: You are a helpful assistant that judges whether suggestions for individual steps in Frozen Lake game seem plausible.\n",
      "Human: \n",
      "In Frozen Lake game, you move on a 2D grid. The end goal is to cross this grid from start \n",
      "to finish without falling into any holes.\n",
      "\n",
      "You start at location (0,0) (upper left corner) of the frozen lake grid world, and the finish is located \n",
      "at far extent of the world, i.e., (n - 1, n - 1) for n x n grid (lower right corner). \n",
      "\n",
      "The first coordinate is X axis.\n",
      "When you move left, you decrease your first coordinate by 1 (can't be bigger than n - 1).\n",
      "When you move right, you increase your first coordinate by 1 (can't be lower than 0).\n",
      "\n",
      "The second coordinate is Y axis. \n",
      "When you move down, you increase your second coordinate by 1 (can't be bigger than n - 1).\n",
      "When you move right, you decrease your second coordinate by 1 (can't be lower than 0).\n",
      "\n",
      "You will be given a map, optionally, a sequence of intermediate steps and a suggestion for the next step. Your goal is\n",
      "to evaluate whether this new suggestion brings one closer to achieving the goal or not.   \n",
      "\n",
      "You are allowed to comment your decision, but make sure to always output a number between 0 and 1\n",
      "in the end, where 0 would mean 'current suggestion is incorrect or makes reaching the goal impossible' and \n",
      "1 would mean 'current suggestion will surely help in achieving the goal'. Use the following format: [[number]].\n",
      "\n",
      "Human: \n",
      "The map is an n x n grid where different types of cells are denoted by different letters:\n",
      "* S - start cell\n",
      "* G - goal cell\n",
      "* F - frozen cell\n",
      "* H - hole cell\n",
      "\n",
      "Example for 2 x 2 case:\n",
      "SH\n",
      "FG\n",
      "\n",
      "Current map:\n",
      "SFFF\n",
      "FFFH\n",
      "FFFF\n",
      "FFFG\n",
      "\n",
      "Human: Suggestion for the next step: move right\n",
      "Human: Your verdict about the suggestion for the next step (ALWAYS output a number between 0 and 1 in the end in a format [[number]]):\n"
     ]
    }
   ],
   "source": [
    "print(\n",
    "    evaluate_prompt.format(\n",
    "        inputs=\"\\n\".join(\"\".join(x.decode() for x in y) for y in env.get_wrapper_attr(\"desc\")),\n",
    "        trajectory=[],\n",
    "        next_thought=\"move right\",\n",
    "    )\n",
    ")"
   ],
   "metadata": {
    "collapsed": false,
    "ExecuteTime": {
     "end_time": "2024-03-15T13:02:00.180983Z",
     "start_time": "2024-03-15T13:02:00.163278Z"
    }
   },
   "id": "3670d1d4c0f26f49",
   "execution_count": 119
  },
  {
   "cell_type": "markdown",
   "source": [
    "#### Formatting utils"
   ],
   "metadata": {
    "collapsed": false
   },
   "id": "9098932a61d1bbd1"
  },
  {
   "cell_type": "code",
   "outputs": [],
   "source": [
    "from langchain.agents.format_scratchpad.openai_tools import format_to_openai_tool_messages\n",
    "from typing import Union, List\n",
    "\n",
    "\n",
    "def format_next_thought(next_thought: Union[List[AgentAction], AgentAction, AgentFinish]) -> str:\n",
    "    if isinstance(next_thought, AgentAction):\n",
    "        return f\"Call {next_thought.tool} with input {next_thought.tool_input}\"\n",
    "    elif isinstance(next_thought, AgentFinish):\n",
    "        return f\"Finish with the following comment: {next_thought.log}\"\n",
    "    else:\n",
    "        return \"; \".join([format_next_thought(action) for action in next_thought])"
   ],
   "metadata": {
    "collapsed": false,
    "ExecuteTime": {
     "end_time": "2024-03-15T13:02:00.526078Z",
     "start_time": "2024-03-15T13:02:00.514071Z"
    }
   },
   "id": "306be62320daa610",
   "execution_count": 120
  },
  {
   "cell_type": "markdown",
   "source": [
    "#### Putting it all together"
   ],
   "metadata": {
    "collapsed": false
   },
   "id": "83e08d4239d84148"
  },
  {
   "cell_type": "code",
   "outputs": [],
   "source": [
    "evaluator_runnable = (\n",
    "    {\n",
    "        \"inputs\": itemgetter(\"inputs\") | RunnableLambda(itemgetter(\"inputs\")),\n",
    "        \"trajectory\": itemgetter(\"trajectory\") | RunnableLambda(format_to_openai_tool_messages),\n",
    "        \"next_thought\": itemgetter(\"next_thought\") | RunnableLambda(format_next_thought),\n",
    "    }\n",
    "    | evaluate_prompt\n",
    "    | ChatOpenAI(model=model_name, temperature=temperature)\n",
    "    | FrozenMapEvaluateOutputParser()\n",
    ").with_config(run_name=\"Evaluate Thought\")"
   ],
   "metadata": {
    "collapsed": false,
    "ExecuteTime": {
     "end_time": "2024-03-15T13:02:00.888735Z",
     "start_time": "2024-03-15T13:02:00.863829Z"
    }
   },
   "id": "db1c0017fa6fa64c",
   "execution_count": 121
  },
  {
   "cell_type": "markdown",
   "source": [],
   "metadata": {
    "collapsed": false
   },
   "id": "769611b3ad46dcad"
  },
  {
   "cell_type": "markdown",
   "source": [
    "### Thought Generator"
   ],
   "metadata": {
    "collapsed": false
   },
   "id": "2f13a07c6594bdcc"
  },
  {
   "cell_type": "markdown",
   "source": [
    "#### Prompt"
   ],
   "metadata": {
    "collapsed": false
   },
   "id": "99e0e443395a4d8"
  },
  {
   "cell_type": "code",
   "outputs": [
    {
     "data": {
      "text/plain": "['agent_scratchpad', 'inputs', 'previous_thoughts']"
     },
     "execution_count": 122,
     "metadata": {},
     "output_type": "execute_result"
    }
   ],
   "source": [
    "generate_openai_tools_prompt.input_variables"
   ],
   "metadata": {
    "collapsed": false,
    "ExecuteTime": {
     "end_time": "2024-03-15T13:02:01.572631Z",
     "start_time": "2024-03-15T13:02:01.554412Z"
    }
   },
   "id": "67d2520342c83b0f",
   "execution_count": 122
  },
  {
   "cell_type": "code",
   "outputs": [
    {
     "name": "stdout",
     "output_type": "stream",
     "text": [
      "System: You are an intelligent agent playing a Frozen Lake game.\n",
      "Human: \n",
      "In Frozen Lake game, you move on a 2D grid. Your goal is to cross this grid from start \n",
      "to finish without falling into any holes.\n",
      "\n",
      "You start at location (0,0) (upper left corner) of the frozen lake grid world, and the finish is located \n",
      "at far extent of the world, i.e., (n - 1, n - 1) for n x n grid (lower right corner).\n",
      "\n",
      "The first coordinate is X axis.\n",
      "When you move left, you decrease your first coordinate by 1 (can't be bigger than n - 1).\n",
      "When you move right, you increase your first coordinate by 1 (can't be lower than 0).\n",
      "\n",
      "The second coordinate is Y axis. \n",
      "When you move down, you increase your second coordinate by 1 (can't be bigger than n - 1).\n",
      "When you move right, you decrease your second coordinate by 1 (can't be lower than 0).\n",
      "\n",
      "The map is an n x n grid where different types of cells are denoted by different letters:\n",
      "* S - start cell\n",
      "* G - goal cell\n",
      "* F - frozen cell\n",
      "* H - hole cell\n",
      "\n",
      "Example for 2 x 2 case:\n",
      "SH\n",
      "FG\n",
      "\n",
      "Use tools to move; refrain from calling tools only when the game has ended. Pay attention to the `terminated`\n",
      "flag returned by the tool calls: if it is set to True, it means the game has ended, you won't be allowed to move \n",
      "anymore.\n",
      "\n",
      "Current map:\n",
      "SFFF\n",
      "FFFH\n",
      "FFFF\n",
      "FFFG \n",
      "\n",
      "Human: You might have already made some suggestions for the current state - if you did, you will find them below.\n",
      "Human: Please, suggest exactly ONE (1) tool call, no more and no less, DIFFERENT from your previous suggestions.\n"
     ]
    }
   ],
   "source": [
    "print(\n",
    "    generate_openai_tools_prompt.format(\n",
    "        inputs=\"\\n\".join(\"\".join(x.decode() for x in y) for y in env.get_wrapper_attr(\"desc\")),\n",
    "        agent_scratchpad=[],\n",
    "        previous_thoughts=[],\n",
    "    )\n",
    ")"
   ],
   "metadata": {
    "collapsed": false,
    "ExecuteTime": {
     "end_time": "2024-03-15T13:02:01.750835Z",
     "start_time": "2024-03-15T13:02:01.734661Z"
    }
   },
   "id": "132106992346243e",
   "execution_count": 123
  },
  {
   "cell_type": "markdown",
   "source": [
    "#### Tools"
   ],
   "metadata": {
    "collapsed": false
   },
   "id": "57d64c121ae8283"
  },
  {
   "cell_type": "code",
   "outputs": [
    {
     "data": {
      "text/plain": "[MoveTool(env=<gymnasium.envs.toy_text.frozen_lake.FrozenLakeEnv object at 0x2f960de90>)]"
     },
     "execution_count": 124,
     "metadata": {},
     "output_type": "execute_result"
    }
   ],
   "source": [
    "tools = [env.name_to_tool_map[name] for name in env.name_to_tool_map]\n",
    "tools"
   ],
   "metadata": {
    "collapsed": false,
    "ExecuteTime": {
     "end_time": "2024-03-15T13:02:02.136591Z",
     "start_time": "2024-03-15T13:02:02.119925Z"
    }
   },
   "id": "bbd69bc9a518f0a",
   "execution_count": 124
  },
  {
   "cell_type": "markdown",
   "source": [
    "#### Formatting utils"
   ],
   "metadata": {
    "collapsed": false
   },
   "id": "47f4d6bb65c5a69d"
  },
  {
   "cell_type": "code",
   "outputs": [],
   "source": [
    "from langchain_core.utils.function_calling import convert_to_openai_tool\n",
    "from langchain_core.messages import BaseMessage, AIMessage\n",
    "\n",
    "from langchain.agents.format_scratchpad.openai_tools import format_to_openai_tool_messages\n",
    "from langchain.agents.output_parsers.openai_tools import OpenAIToolsAgentOutputParser, OpenAIToolAgentAction\n",
    "\n",
    "\n",
    "def format_previous_thoughts(\n",
    "    previous_thoughts: List[Union[List[AgentAction], AgentFinish, AgentAction]]\n",
    ") -> List[BaseMessage]:\n",
    "    messages = []\n",
    "    for agent_action in previous_thoughts:\n",
    "        if isinstance(agent_action, OpenAIToolAgentAction):\n",
    "            messages.append(AIMessage(content=f\"Calling {agent_action.tool} with {agent_action.tool_input}\"))\n",
    "        elif isinstance(agent_action, list):\n",
    "            messages.extend(format_previous_thoughts(agent_action))\n",
    "        else:\n",
    "            messages.append(AIMessage(content=agent_action.log))\n",
    "    return messages"
   ],
   "metadata": {
    "collapsed": false,
    "ExecuteTime": {
     "end_time": "2024-03-15T13:02:02.607836Z",
     "start_time": "2024-03-15T13:02:02.590244Z"
    }
   },
   "id": "6edd0006d2ab5e63",
   "execution_count": 125
  },
  {
   "cell_type": "markdown",
   "source": [
    "#### Putting it all together"
   ],
   "metadata": {
    "collapsed": false
   },
   "id": "c3da96aecd9a0ffb"
  },
  {
   "cell_type": "code",
   "outputs": [],
   "source": [
    "# copied from langchain.agents.create_openai_tools_agent to allow for custom formatting of `previous_thoughts in inputs\n",
    "\n",
    "llm = ChatOpenAI(model=model_name, temperature=temperature).bind(tools=[convert_to_openai_tool(tool) for tool in tools])\n",
    "\n",
    "agent = (\n",
    "    {\n",
    "        \"inputs\": itemgetter(\"inputs\"),\n",
    "        \"agent_scratchpad\": lambda x: format_to_openai_tool_messages(x[\"intermediate_steps\"]),\n",
    "        \"previous_thoughts\": lambda x: format_previous_thoughts(x[\"previous_thoughts\"]),\n",
    "    }\n",
    "    | generate_openai_tools_prompt\n",
    "    | llm\n",
    "    | OpenAIToolsAgentOutputParser()\n",
    ").with_config(run_name=\"Generate Thought\")"
   ],
   "metadata": {
    "collapsed": false,
    "ExecuteTime": {
     "end_time": "2024-03-15T13:02:03.038006Z",
     "start_time": "2024-03-15T13:02:03.014100Z"
    }
   },
   "id": "fdb0490b7c3ad463",
   "execution_count": 126
  },
  {
   "cell_type": "markdown",
   "source": [
    "### Defining strategy"
   ],
   "metadata": {
    "collapsed": false
   },
   "id": "7c0bc09fd442d91e"
  },
  {
   "cell_type": "code",
   "outputs": [],
   "source": [
    "from planning_library.action_executors import GymnasiumActionExecutor\n",
    "\n",
    "\n",
    "action_executor = GymnasiumActionExecutor(env, seed=123)"
   ],
   "metadata": {
    "collapsed": false,
    "ExecuteTime": {
     "end_time": "2024-03-15T13:02:03.501415Z",
     "start_time": "2024-03-15T13:02:03.485082Z"
    }
   },
   "id": "99fa5cb9d01eecd3",
   "execution_count": 127
  },
  {
   "cell_type": "code",
   "outputs": [],
   "source": [
    "strategy_executor = TreeOfThoughtsDFSStrategy.create(\n",
    "    agent=agent,\n",
    "    tools=tools,\n",
    "    action_executor=action_executor,\n",
    "    evaluator_runnable=evaluator_runnable,\n",
    "    value_threshold=value_threshold,\n",
    "    max_num_thoughts=max_num_thoughts,\n",
    "    max_iterations=max_num_steps,\n",
    ")"
   ],
   "metadata": {
    "collapsed": false,
    "ExecuteTime": {
     "end_time": "2024-03-15T13:02:03.722922Z",
     "start_time": "2024-03-15T13:02:03.705868Z"
    }
   },
   "id": "19f8ef30963e897",
   "execution_count": 128
  },
  {
   "cell_type": "code",
   "outputs": [
    {
     "name": "stdout",
     "output_type": "stream",
     "text": [
      "\n",
      "\n",
      "\u001B[1m> Entering new TreeOfThoughtsDFSStrategy chain...\u001B[0m\n",
      "\n",
      "\u001B[1m> Finished chain.\u001B[0m\n"
     ]
    },
    {
     "data": {
      "text/plain": "{'inputs': 'SFFF\\nFFFH\\nFFFF\\nFFFG', 'outputs': []}"
     },
     "execution_count": 129,
     "metadata": {},
     "output_type": "execute_result"
    }
   ],
   "source": [
    "env.reset(seed=123)\n",
    "strategy_executor.invoke({\"inputs\": \"\\n\".join(\"\".join(x.decode() for x in y) for y in env.get_wrapper_attr(\"desc\"))})"
   ],
   "metadata": {
    "collapsed": false,
    "ExecuteTime": {
     "end_time": "2024-03-15T13:02:15.050589Z",
     "start_time": "2024-03-15T13:02:03.967901Z"
    }
   },
   "id": "b96348d4272ea0ad",
   "execution_count": 129
  }
 ],
 "metadata": {
  "kernelspec": {
   "display_name": "Python 3",
   "language": "python",
   "name": "python3"
  },
  "language_info": {
   "codemirror_mode": {
    "name": "ipython",
    "version": 2
   },
   "file_extension": ".py",
   "mimetype": "text/x-python",
   "name": "python",
   "nbconvert_exporter": "python",
   "pygments_lexer": "ipython2",
   "version": "2.7.6"
  }
 },
 "nbformat": 4,
 "nbformat_minor": 5
}
