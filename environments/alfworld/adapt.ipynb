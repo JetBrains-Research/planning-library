{
 "cells": [
  {
   "cell_type": "markdown",
   "source": [
    "## Utils"
   ],
   "metadata": {
    "collapsed": false
   },
   "id": "72abf790fb4a74db"
  },
  {
   "cell_type": "markdown",
   "source": [
    "### Imports"
   ],
   "metadata": {
    "collapsed": false
   },
   "id": "63013586d3dd592f"
  },
  {
   "cell_type": "code",
   "outputs": [],
   "source": [
    "import requests\n",
    "from environments.alfworld.common.environment import ALFWorldEnv\n",
    "\n",
    "import os\n",
    "from langchain_openai import ChatOpenAI\n",
    "from planning_library.strategies import ADaPTStrategy\n",
    "from planning_library.strategies.adapt.components import ADaPTPlanner, ADaPTExecutor\n",
    "from planning_library.action_executors import GymnasiumActionExecutor\n",
    "from textwrap import dedent\n",
    "\n",
    "%load_ext autoreload\n",
    "%autoreload 2"
   ],
   "metadata": {
    "collapsed": false,
    "ExecuteTime": {
     "end_time": "2024-04-24T09:50:25.677462Z",
     "start_time": "2024-04-24T09:50:23.448218Z"
    }
   },
   "id": "917b334526ae1418",
   "execution_count": 1
  },
  {
   "cell_type": "markdown",
   "source": [
    "### Logging"
   ],
   "metadata": {
    "collapsed": false
   },
   "id": "d03be61eb1d2d978"
  },
  {
   "cell_type": "code",
   "outputs": [],
   "source": [
    "os.environ[\"LANGCHAIN_TRACING_V2\"] = \"true\"\n",
    "os.environ[\"LANGCHAIN_PROJECT\"] = \"ALFWorld + ADaPT (new)\"\n",
    "os.environ[\"LANGCHAIN_ENDPOINT\"] = \"https://api.smith.langchain.com\""
   ],
   "metadata": {
    "collapsed": false,
    "ExecuteTime": {
     "end_time": "2024-04-24T09:50:25.696826Z",
     "start_time": "2024-04-24T09:50:25.678452Z"
    }
   },
   "id": "add6277843d9e0d5",
   "execution_count": 2
  },
  {
   "cell_type": "markdown",
   "source": [
    "## Environment"
   ],
   "metadata": {
    "collapsed": false
   },
   "id": "49b12b291a70bf6a"
  },
  {
   "cell_type": "code",
   "outputs": [
    {
     "name": "stdout",
     "output_type": "stream",
     "text": [
      "Initializing AlfredTWEnv...\n"
     ]
    },
    {
     "name": "stderr",
     "output_type": "stream",
     "text": [
      "100%|██████████| 8810/8810 [00:03<00:00, 2827.99it/s]"
     ]
    },
    {
     "name": "stdout",
     "output_type": "stream",
     "text": [
      "Overall we have 3553 games in split=train\n",
      "Training with 3553 games\n"
     ]
    },
    {
     "name": "stderr",
     "output_type": "stream",
     "text": [
      "\n"
     ]
    }
   ],
   "source": [
    "os.environ[\"ALFWORLD_DATA\"] = \"utils/data\"\n",
    "\n",
    "if not \"base_config.yaml\" in os.listdir(\"utils\"):\n",
    "    response = requests.get(\"https://raw.githubusercontent.com/alfworld/alfworld/master/configs/base_config.yaml\")\n",
    "    \n",
    "    with open(\"utils/base_config.yaml\", \"wb\") as f:\n",
    "        f.write(response.content)\n",
    "\n",
    "env = ALFWorldEnv(config_path=\"utils/base_config.yaml\")"
   ],
   "metadata": {
    "collapsed": false,
    "ExecuteTime": {
     "end_time": "2024-04-24T09:50:29.071017Z",
     "start_time": "2024-04-24T09:50:25.697041Z"
    }
   },
   "id": "a79748e60e33a68c",
   "execution_count": 3
  },
  {
   "cell_type": "code",
   "outputs": [
    {
     "name": "stdout",
     "output_type": "stream",
     "text": [
      "-= Welcome to TextWorld, ALFRED! =-\n",
      "\n",
      "You are in the middle of a room. Looking quickly around you, you see a bed 1, a cabinet 4, a cabinet 3, a cabinet 2, a cabinet 1, a desk 1, a drawer 2, a drawer 1, a garbagecan 1, a shelf 1, and a sidetable 1.\n",
      "\n",
      "Your task is to: put some pencil on shelf.\n"
     ]
    }
   ],
   "source": [
    "obs, info = env.reset(options={\"next_episode\": True})\n",
    "print(obs)"
   ],
   "metadata": {
    "collapsed": false,
    "ExecuteTime": {
     "end_time": "2024-04-24T09:50:29.588448Z",
     "start_time": "2024-04-24T09:50:29.070262Z"
    }
   },
   "id": "e6feb0742d5fd134",
   "execution_count": 4
  },
  {
   "cell_type": "markdown",
   "source": [
    "## Strategy"
   ],
   "metadata": {
    "collapsed": false
   },
   "id": "c73a0b66343809e6"
  },
  {
   "cell_type": "markdown",
   "source": [
    "### Hyperparameters"
   ],
   "metadata": {
    "collapsed": false
   },
   "id": "8ea5dbf565405291"
  },
  {
   "cell_type": "code",
   "outputs": [],
   "source": [
    "# ADaPT hyperparameters\n",
    "max_depth = 3  # maximum decomposition depth\n",
    "executor_max_iterations = 2  # maximum number of iterations for the executor; when reached, the loop will exit\n",
    "planner_max_iterations = 20  # maximum number of iterations for the planner; when reached, the loop will exit\n",
    "\n",
    "# other hyperparameters\n",
    "model_name = \"gpt-3.5-turbo\"\n",
    "temperature = 0.8"
   ],
   "metadata": {
    "collapsed": false,
    "ExecuteTime": {
     "end_time": "2024-04-24T09:50:29.605900Z",
     "start_time": "2024-04-24T09:50:29.587882Z"
    }
   },
   "id": "95866c282598a829",
   "execution_count": 5
  },
  {
   "cell_type": "markdown",
   "source": [
    "### Executor"
   ],
   "metadata": {
    "collapsed": false
   },
   "id": "be5638126da22e9d"
  },
  {
   "cell_type": "markdown",
   "source": [
    "Default Executor is powered by any strategy from the library. By default, a simple one is used (see `planning_library/strategies/simple/simple_strategy.py` for more details)."
   ],
   "metadata": {
    "collapsed": false
   },
   "id": "1a668ccc0e924025"
  },
  {
   "cell_type": "code",
   "outputs": [],
   "source": [
    "action_executor = GymnasiumActionExecutor(env)\n",
    "executor = ADaPTExecutor.create_simple_strategy(llm=ChatOpenAI(model=model_name, temperature=temperature),\n",
    "                                                tools=env.tools,\n",
    "                                             parser_name=\"openai-tools\", \n",
    "                                                action_executor=action_executor,\n",
    "                                                user_message=dedent(\"\"\"\n",
    "            You are ALFRED, an intelligent agent navigating in a household.\n",
    "\n",
    "            {inputs}\"\"\"),      max_iterations=executor_max_iterations,\n",
    "                                                return_intermediate_steps=True,\n",
    "                                                return_finish_log=True)"
   ],
   "metadata": {
    "collapsed": false,
    "ExecuteTime": {
     "end_time": "2024-04-24T09:50:29.704515Z",
     "start_time": "2024-04-24T09:50:29.607028Z"
    }
   },
   "id": "979177816823c6a7",
   "execution_count": 6
  },
  {
   "cell_type": "markdown",
   "source": [
    "### Planner\n",
    "\n",
    "Planner can either be:\n",
    "\n",
    "* `agent`: llm with tools, can be powered by any strategy from the library. By default, a simple one is used (see `planning_library/strategies/simple/simple_strategy.py` for more details).\n",
    "* `simple`: a single call to llm."
   ],
   "metadata": {
    "collapsed": false
   },
   "id": "9f6d98010f0d114"
  },
  {
   "cell_type": "code",
   "outputs": [],
   "source": [
    "agent_planner = ADaPTPlanner.create_agent_planner(llm=ChatOpenAI(model=model_name, temperature=temperature),\n",
    "                                             parser_name=\"openai-tools\", \n",
    "                                                user_message=dedent(\"\"\"\n",
    "            Here is the essence of the original task:\n",
    "\n",
    "            {inputs}\n",
    "            \"\"\"),\n",
    "            executor_parser_name=\"openai-tools\")"
   ],
   "metadata": {
    "collapsed": false,
    "ExecuteTime": {
     "end_time": "2024-04-24T09:49:04.853127Z",
     "start_time": "2024-04-24T09:49:04.823573Z"
    }
   },
   "id": "7c15cf73c24ab3f4",
   "execution_count": 7
  },
  {
   "cell_type": "code",
   "outputs": [],
   "source": [
    "simple_planner = ADaPTPlanner.create_simple_planner(llm=ChatOpenAI(model=model_name, temperature=temperature),\n",
    "                                                user_message=dedent(\"\"\"\n",
    "            Here is the essence of the original task:\n",
    "\n",
    "            {inputs}\n",
    "            \"\"\"),\n",
    "            executor_parser_name=\"openai-tools\")"
   ],
   "metadata": {
    "collapsed": false,
    "ExecuteTime": {
     "end_time": "2024-04-24T09:50:29.733491Z",
     "start_time": "2024-04-24T09:50:29.704555Z"
    }
   },
   "id": "e682b3c778b7973b",
   "execution_count": 7
  },
  {
   "cell_type": "markdown",
   "source": [
    "## Defining strategy"
   ],
   "metadata": {
    "collapsed": false
   },
   "id": "b1ebe94eff77889e"
  },
  {
   "cell_type": "code",
   "outputs": [],
   "source": [
    "agent_planner_adapt = ADaPTStrategy(\n",
    "    executor=executor,\n",
    "    planner=agent_planner,\n",
    "    max_depth=max_depth,\n",
    "    return_intermediate_steps=True,\n",
    "    return_finish_log=True,\n",
    ")"
   ],
   "metadata": {
    "collapsed": false,
    "ExecuteTime": {
     "end_time": "2024-04-24T09:47:51.740304Z",
     "start_time": "2024-04-24T09:47:51.721891Z"
    }
   },
   "id": "d7c2708702ec7712",
   "execution_count": 9
  },
  {
   "cell_type": "code",
   "outputs": [
    {
     "name": "stdout",
     "output_type": "stream",
     "text": [
      "\n",
      "\n",
      "\u001B[1m> Entering new ADaPTStrategy chain...\u001B[0m\n",
      "\n",
      "\n",
      "\u001B[1m> Entering new SimpleStrategy chain...\u001B[0m\n",
      "\u001B[32;1m\u001B[1;3m\u001B[0m\n",
      "\n",
      "\u001B[1m> Finished chain.\u001B[0m\n",
      "\n",
      "\n",
      "\u001B[1m> Entering new SimpleStrategy chain...\u001B[0m\n",
      "\u001B[32;1m\u001B[1;3mI have constructed a step-by-step plan with an \"and\" aggregation logic to successfully solve the task of putting a pencil on the shelf:\n",
      "\n",
      "1. Check if there is a pencil on the desk 1.\n",
      "2. Put the pencil from desk 1 onto shelf 1.\n",
      "\n",
      "The plan requires the successful completion of both subtasks in order to achieve the goal. Feel free to proceed with the execution of the plan.\u001B[0m\n",
      "\n",
      "\u001B[1m> Finished chain.\u001B[0m\n",
      "\n",
      "\n",
      "\u001B[1m> Entering new SimpleStrategy chain...\u001B[0m\n",
      "\u001B[32;1m\u001B[1;3mTask completed.\u001B[0m\n",
      "\n",
      "\u001B[1m> Finished chain.\u001B[0m\n",
      "\n",
      "\n",
      "\u001B[1m> Entering new SimpleStrategy chain...\u001B[0m\n",
      "\u001B[32;1m\u001B[1;3m\u001B[0m\n",
      "\n",
      "\u001B[1m> Finished chain.\u001B[0m\n",
      "\n",
      "\n",
      "\u001B[1m> Entering new SimpleStrategy chain...\u001B[0m\n",
      "\u001B[32;1m\u001B[1;3mI have formulated a step-by-step plan to solve the task successfully:\n",
      "1. Take the pencil from desk 1.\n",
      "2. Put the pencil onto shelf 1.\n",
      "\n",
      "The plan follows the logic that all subtasks must be completed successfully in order to consider the task solved.\u001B[0m\n",
      "\n",
      "\u001B[1m> Finished chain.\u001B[0m\n",
      "\n",
      "\n",
      "\u001B[1m> Entering new SimpleStrategy chain...\u001B[0m\n",
      "\u001B[32;1m\u001B[1;3m\u001B[0m\n",
      "\n",
      "\u001B[1m> Finished chain.\u001B[0m\n",
      "\n",
      "\n",
      "\u001B[1m> Entering new SimpleStrategy chain...\u001B[0m\n",
      "\u001B[32;1m\u001B[1;3mI have added a subtask to take the pencil from desk 1 at position 0 in the plan. The aggregation logic is set to \"and\", meaning all subtasks must be completed successfully for the task to be considered solved.\u001B[0m\n",
      "\n",
      "\u001B[1m> Finished chain.\u001B[0m\n",
      "\n",
      "\n",
      "\u001B[1m> Entering new SimpleStrategy chain...\u001B[0m\n",
      "\u001B[32;1m\u001B[1;3m\u001B[0m\n",
      "\n",
      "\u001B[1m> Finished chain.\u001B[0m\n",
      "\n",
      "\n",
      "\u001B[1m> Entering new SimpleStrategy chain...\u001B[0m\n",
      "\u001B[32;1m\u001B[1;3mI have added the first subtask to take the pencil from desk 1, and set the aggregation mode to \"and\" to ensure that all subtasks need to be successfully completed to solve the task.\u001B[0m\n",
      "\n",
      "\u001B[1m> Finished chain.\u001B[0m\n",
      "\u001B[32;1m\u001B[1;3mCouldn't solve the task. Last log: Couldn't solve the task. Last log: Couldn't solve the task. Last log: Couldn't solve the task. Last log: Maximum decomposition depth reached.\u001B[0m\n",
      "\n",
      "\u001B[1m> Finished chain.\u001B[0m\n"
     ]
    },
    {
     "data": {
      "text/plain": "{'inputs': {'inputs': '-= Welcome to TextWorld, ALFRED! =-\\n\\nYou are in the middle of a room. Looking quickly around you, you see a bed 1, a cabinet 4, a cabinet 3, a cabinet 2, a cabinet 1, a desk 1, a drawer 2, a drawer 1, a garbagecan 1, a shelf 1, and a sidetable 1.\\n\\nYour task is to: put some pencil on shelf.'},\n 'intermediate_steps': [[(OpenAIToolAgentAction(tool='look', tool_input={}, log='\\nInvoking: `look` with `{}`\\n\\n\\n', message_log=[AIMessageChunk(content='', additional_kwargs={'tool_calls': [{'index': 0, 'id': 'call_2r8sx6QR3ZgHeW0O8MlO4a8e', 'function': {'arguments': '{}', 'name': 'look'}, 'type': 'function'}]})], tool_call_id='call_2r8sx6QR3ZgHeW0O8MlO4a8e'),\n    {'observation': 'You are facing the cabinet 3, and shelf 1. Next to it, you see nothing.',\n     'reward': 0,\n     'terminated': False,\n     'truncated': False,\n     'info': {}}),\n   (OpenAIToolAgentAction(tool='look', tool_input={}, log='\\nInvoking: `look` with `{}`\\n\\n\\n', message_log=[AIMessageChunk(content='', additional_kwargs={'tool_calls': [{'index': 0, 'id': 'call_2r8sx6QR3ZgHeW0O8MlO4a8e', 'function': {'arguments': '{}', 'name': 'look'}, 'type': 'function'}]})], tool_call_id='call_2r8sx6QR3ZgHeW0O8MlO4a8e'),\n    {'observation': 'You are facing the cabinet 3, and shelf 1. Next to it, you see nothing.',\n     'reward': 0,\n     'terminated': False,\n     'truncated': False,\n     'info': {}})]],\n 'finish_log': [\"Couldn't solve the task. Last log: Couldn't solve the task. Last log: Couldn't solve the task. Last log: Couldn't solve the task. Last log: Maximum decomposition depth reached.\"]}"
     },
     "execution_count": 10,
     "metadata": {},
     "output_type": "execute_result"
    }
   ],
   "source": [
    "agent_planner_adapt.invoke(\n",
    "    {\"inputs\": {\"inputs\": obs}}\n",
    ")"
   ],
   "metadata": {
    "collapsed": false,
    "ExecuteTime": {
     "end_time": "2024-04-24T09:48:22.475556Z",
     "start_time": "2024-04-24T09:47:51.740901Z"
    }
   },
   "id": "8d1b5178959c06",
   "execution_count": 10
  },
  {
   "cell_type": "code",
   "outputs": [],
   "source": [
    "simple_planner_adapt = ADaPTStrategy(\n",
    "    executor=executor,\n",
    "    planner=simple_planner,\n",
    "    max_depth=max_depth,\n",
    "    return_intermediate_steps=True,\n",
    "    return_finish_log=True,\n",
    ")"
   ],
   "metadata": {
    "collapsed": false,
    "ExecuteTime": {
     "end_time": "2024-04-24T09:50:32.745288Z",
     "start_time": "2024-04-24T09:50:32.719793Z"
    }
   },
   "id": "4efce110755d134e",
   "execution_count": 8
  },
  {
   "cell_type": "code",
   "outputs": [
    {
     "name": "stdout",
     "output_type": "stream",
     "text": [
      "\n",
      "\n",
      "\u001B[1m> Entering new ADaPTStrategy chain...\u001B[0m\n",
      "\n",
      "\n",
      "\u001B[1m> Entering new SimpleStrategy chain...\u001B[0m\n",
      "\u001B[32;1m\u001B[1;3m\u001B[0m\n",
      "\n",
      "\u001B[1m> Finished chain.\u001B[0m\n",
      "\n",
      "\n",
      "\u001B[1m> Entering new SimpleStrategy chain...\u001B[0m\n",
      "\u001B[32;1m\u001B[1;3m\u001B[0m\n",
      "\n",
      "\u001B[1m> Finished chain.\u001B[0m\n",
      "\n",
      "\n",
      "\u001B[1m> Entering new SimpleStrategy chain...\u001B[0m\n",
      "\u001B[32;1m\u001B[1;3mIt seems I couldn't go to shelf 1. Let me try again.\u001B[0m\n",
      "\n",
      "\u001B[1m> Finished chain.\u001B[0m\n",
      "\n",
      "\n",
      "\u001B[1m> Entering new SimpleStrategy chain...\u001B[0m\n",
      "\u001B[32;1m\u001B[1;3m\u001B[0m\n",
      "\n",
      "\u001B[1m> Finished chain.\u001B[0m\n",
      "\u001B[32;1m\u001B[1;3mCouldn't solve the task. Last log: Couldn't solve the task. Last log: Couldn't solve the task. Last log: Couldn't solve the task. Last log: Maximum decomposition depth reached.\u001B[0m\n",
      "\n",
      "\u001B[1m> Finished chain.\u001B[0m\n"
     ]
    },
    {
     "data": {
      "text/plain": "{'inputs': {'inputs': '-= Welcome to TextWorld, ALFRED! =-\\n\\nYou are in the middle of a room. Looking quickly around you, you see a bed 1, a cabinet 4, a cabinet 3, a cabinet 2, a cabinet 1, a desk 1, a drawer 2, a drawer 1, a garbagecan 1, a shelf 1, and a sidetable 1.\\n\\nYour task is to: put some pencil on shelf.'},\n 'intermediate_steps': [[]],\n 'finish_log': [\"Couldn't solve the task. Last log: Couldn't solve the task. Last log: Couldn't solve the task. Last log: Couldn't solve the task. Last log: Maximum decomposition depth reached.\"]}"
     },
     "execution_count": 9,
     "metadata": {},
     "output_type": "execute_result"
    }
   ],
   "source": [
    "simple_planner_adapt.invoke(\n",
    "    {\"inputs\": {\"inputs\": obs}}\n",
    ")"
   ],
   "metadata": {
    "collapsed": false,
    "ExecuteTime": {
     "end_time": "2024-04-24T09:50:47.930079Z",
     "start_time": "2024-04-24T09:50:32.898494Z"
    }
   },
   "id": "bfcf7662db19240c",
   "execution_count": 9
  }
 ],
 "metadata": {
  "kernelspec": {
   "display_name": "Python 3",
   "language": "python",
   "name": "python3"
  },
  "language_info": {
   "codemirror_mode": {
    "name": "ipython",
    "version": 2
   },
   "file_extension": ".py",
   "mimetype": "text/x-python",
   "name": "python",
   "nbconvert_exporter": "python",
   "pygments_lexer": "ipython2",
   "version": "2.7.6"
  }
 },
 "nbformat": 4,
 "nbformat_minor": 5
}
