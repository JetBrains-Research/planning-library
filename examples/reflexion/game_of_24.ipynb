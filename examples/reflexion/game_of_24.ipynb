{
 "cells": [
  {
   "cell_type": "markdown",
   "source": [
    "# Utils"
   ],
   "metadata": {
    "collapsed": false
   },
   "id": "1fef8f224fc8d74e"
  },
  {
   "cell_type": "markdown",
   "source": [
    "## Imports"
   ],
   "metadata": {
    "collapsed": false
   },
   "id": "14f9579a2b3aa475"
  },
  {
   "cell_type": "code",
   "source": [
    "from langchain_openai import ChatOpenAI\n",
    "from textwrap import dedent\n",
    "from planning_library.strategies.reflexion import ReflexionStrategy\n",
    "from planning_library.strategies.reflexion.components import ReflexionActor, ReflexionEvaluator, ReflexionSelfReflection\n",
    "from planning_library.utils.gym_env_reset_tool import GymEnvResetTool\n",
    "from planning_library.action_executors import LangchainActionExecutor, MetaTools\n",
    "from environments.game_of_24.environment import GameOf24Env\n",
    "\n",
    "import os\n",
    "\n",
    "%load_ext autoreload\n",
    "%autoreload 2"
   ],
   "metadata": {
    "collapsed": false,
    "ExecuteTime": {
     "end_time": "2024-06-25T16:20:37.172405Z",
     "start_time": "2024-06-25T16:20:36.509774Z"
    }
   },
   "id": "b53511c71640dcea",
   "outputs": [],
   "execution_count": 1
  },
  {
   "cell_type": "markdown",
   "source": [
    "## Logging"
   ],
   "metadata": {
    "collapsed": false
   },
   "id": "fa006dc2f0d04e39"
  },
  {
   "cell_type": "code",
   "source": [
    "os.environ[\"LANGCHAIN_TRACING_V2\"] = \"true\"\n",
    "os.environ[\"LANGCHAIN_PROJECT\"] = \"Reflexion + Game of 24\"\n",
    "os.environ[\"LANGCHAIN_ENDPOINT\"] = \"https://api.smith.langchain.com\""
   ],
   "metadata": {
    "collapsed": false,
    "ExecuteTime": {
     "end_time": "2024-06-25T16:20:38.536506Z",
     "start_time": "2024-06-25T16:20:38.201652Z"
    }
   },
   "id": "c6dea842a5c669ab",
   "outputs": [],
   "execution_count": 2
  },
  {
   "cell_type": "markdown",
   "source": [
    "## Defining environment"
   ],
   "metadata": {
    "collapsed": false
   },
   "id": "89ceb41dcab95adc"
  },
  {
   "cell_type": "code",
   "source": [
    "env = GameOf24Env()\n",
    "meta_tools = MetaTools(reset=GymEnvResetTool(env=env))"
   ],
   "metadata": {
    "collapsed": false,
    "ExecuteTime": {
     "end_time": "2024-06-25T16:20:40.534535Z",
     "start_time": "2024-06-25T16:20:40.519983Z"
    }
   },
   "id": "6777295e88f644e7",
   "outputs": [],
   "execution_count": 3
  },
  {
   "cell_type": "markdown",
   "source": [
    "## Defining hyperparameters"
   ],
   "metadata": {
    "collapsed": false
   },
   "id": "57c32637a187d62e"
  },
  {
   "cell_type": "code",
   "source": [
    "# Reflexion hyperparameters\n",
    "value_threshold = 1.0  # threshold for evaluation; when reached, the loop will exit\n",
    "max_num_iterations = 2  # maximum number of iterations; when reached, the loop will exit\n",
    "\n",
    "# other hyperparameters\n",
    "model_name = \"gpt-3.5-turbo\"\n",
    "temperature = 0.8"
   ],
   "metadata": {
    "collapsed": false,
    "ExecuteTime": {
     "end_time": "2024-06-25T16:20:41.648093Z",
     "start_time": "2024-06-25T16:20:41.637242Z"
    }
   },
   "id": "b98d2eebc3a91cbe",
   "outputs": [],
   "execution_count": 4
  },
  {
   "cell_type": "markdown",
   "source": [
    "# Defining strategy components"
   ],
   "metadata": {
    "collapsed": false
   },
   "id": "7f67d00c3360f761"
  },
  {
   "cell_type": "markdown",
   "source": [
    "## Agent"
   ],
   "metadata": {
    "collapsed": false
   },
   "id": "3007e162abab3317"
  },
  {
   "cell_type": "markdown",
   "source": [
    "Agent components:\n",
    "\n",
    "* LLM (`BaseChatModel` from LangChain)\n",
    "* Prompt (`ChatPromptTemplate` from LangChain)\n",
    "* Tools (`Sequence[BaseTool]`, where `BaseTool` is a LangChain primitive)\n",
    "* Function Calling Parser (either passed explicitly or by its name)"
   ],
   "metadata": {
    "collapsed": false
   },
   "id": "d66fb225e916d5f9"
  },
  {
   "cell_type": "code",
   "source": [
    "actor = ReflexionActor.create(llm=ChatOpenAI(model=model_name, temperature=temperature), tools=env.tools, parser_name=\"openai-tools\", user_message=dedent(\"\"\"\n",
    "            You are given four numbers, and your goal is to obtain 24 from given numbers via basic arithmetic operations. \n",
    "            This might be not the first attempt you took, so pay attention to self-reflections about your previous failures. \n",
    "            When you're ready to answer, make sure to include a mathematical expression showing how to obtain 24 from given numbers, \n",
    "            for instance: '(2 + 2) * (12 / 2) = 24'.\n",
    "            \n",
    "            Inputs:\n",
    "            {numbers}\"\"\"))"
   ],
   "metadata": {
    "collapsed": false,
    "ExecuteTime": {
     "end_time": "2024-06-25T16:20:44.148357Z",
     "start_time": "2024-06-25T16:20:44.117807Z"
    }
   },
   "id": "34acfc8b28bbaf2f",
   "outputs": [],
   "execution_count": 5
  },
  {
   "cell_type": "markdown",
   "source": [],
   "metadata": {
    "collapsed": false
   },
   "id": "4125fc03d924f1c8"
  },
  {
   "cell_type": "markdown",
   "source": [
    "## Other components"
   ],
   "metadata": {
    "collapsed": false
   },
   "id": "4289010808288890"
  },
  {
   "cell_type": "markdown",
   "source": [
    "Other Reflexion components are even simpler by default, since they don't use tools.\n",
    "\n",
    "* Self-Reflection needs only prompt + LLM.\n",
    "* Evaluator needs prompt + LLM + threshold (it outputs a float, and the execution loop will continue only if float < threshold).\n",
    "\n",
    "However, in this case, both components also receive intermediate_steps as part of input, so they also need the same parser.\n"
   ],
   "metadata": {
    "collapsed": false
   },
   "id": "c7b14e5e5c101c77"
  },
  {
   "cell_type": "code",
   "source": [
    "evaluator = ReflexionEvaluator.create(llm=ChatOpenAI(model=model_name, temperature=temperature), \n",
    "                                      user_message=dedent(\"\"\"\n",
    "                                      Given an input and an answer, give a judgement if the answer is correct, i.e. \n",
    "                                      1) it uses each given number exactly once; \n",
    "                                      2) it doesn't use any other number; \n",
    "                                      3) given mathematical expression correctly reaches 24.\n",
    "                                      \n",
    "                                      Inputs:\n",
    "                                      {numbers}\n",
    "                                      \"\"\"), \n",
    "                                      threshold=value_threshold,\n",
    "                                      parser_name=\"openai-tools\")"
   ],
   "metadata": {
    "collapsed": false,
    "ExecuteTime": {
     "end_time": "2024-06-25T16:20:46.590499Z",
     "start_time": "2024-06-25T16:20:46.570959Z"
    }
   },
   "id": "608d21e1c040ba1d",
   "outputs": [],
   "execution_count": 6
  },
  {
   "cell_type": "code",
   "source": [
    "self_reflection = ReflexionSelfReflection.create(llm=ChatOpenAI(model=model_name, temperature=temperature),\n",
    "                                                 user_message=dedent(\"\"\"\n",
    "                                                 You will be given inputs for Game of 24 and your previous trial, \n",
    "                                                 where you had to use basic arithmetic operations (+ - * /) with given numbers to obtain 24. \n",
    "                                                 You were unsuccessful.\n",
    "                                                 \n",
    "                                                 Inputs:\n",
    "                                                 {numbers}\n",
    "                                                 \"\"\"), parser_name=\"openai-tools\")"
   ],
   "metadata": {
    "collapsed": false,
    "ExecuteTime": {
     "end_time": "2024-06-25T16:20:47.016188Z",
     "start_time": "2024-06-25T16:20:46.989449Z"
    }
   },
   "id": "b20c88b95bc90932",
   "outputs": [],
   "execution_count": 7
  },
  {
   "cell_type": "code",
   "source": [
    "from typing import Dict, Any\n",
    "\n",
    "\n",
    "def reset_environment(inputs: Dict[str, Any]) -> None:\n",
    "    env.reset(options={\"numbers\": [float(n) for n in inputs[\"numbers\"].split()]})\n",
    "    \n",
    "action_executor = LangchainActionExecutor(env.tools, meta_tools=meta_tools)"
   ],
   "metadata": {
    "collapsed": false,
    "ExecuteTime": {
     "end_time": "2024-06-25T16:20:47.405638Z",
     "start_time": "2024-06-25T16:20:47.395938Z"
    }
   },
   "id": "f6e2fed4f770e360",
   "outputs": [],
   "execution_count": 8
  },
  {
   "cell_type": "code",
   "source": [
    "reflexion = ReflexionStrategy.create_from_components(\n",
    "    action_executor=action_executor,\n",
    "    actor=actor,\n",
    "    evaluator=evaluator,\n",
    "    self_reflection=self_reflection,\n",
    "    reset_environment=reset_environment,\n",
    "    max_iterations=max_num_iterations,\n",
    ")"
   ],
   "metadata": {
    "collapsed": false,
    "ExecuteTime": {
     "end_time": "2024-06-25T16:20:52.275046Z",
     "start_time": "2024-06-25T16:20:52.258582Z"
    }
   },
   "id": "d5217c49707cefc",
   "outputs": [],
   "execution_count": 9
  },
  {
   "cell_type": "code",
   "source": [
    "env.reset(options={\"numbers\": [1, 1, 4, 6]})\n",
    "reflexion.invoke(\n",
    "    {\"inputs\": {\"numbers\": \"1 1 4 6\"}},\n",
    "    {\"recursion_limit\": 1000},\n",
    ")"
   ],
   "metadata": {
    "collapsed": false,
    "ExecuteTime": {
     "end_time": "2024-06-25T16:21:12.035395Z",
     "start_time": "2024-06-25T16:20:53.708720Z"
    }
   },
   "id": "415a8d21878f332d",
   "outputs": [
    {
     "data": {
      "text/plain": [
       "{'inputs': {'numbers': '1 1 4 6'},\n",
       " 'agent_outcome': AgentFinish(return_values={'output': \"I have performed multiple arithmetic operations on the given numbers. Here are the results:\\n\\n1. \\\\(1 + 1 = 2\\\\)\\n2. \\\\(2 \\\\times 10 = 20\\\\)\\n\\nUnfortunately, the numbers available after these operations are 1.0 and 10.0, and I couldn't reach the target number 24 within the given constraints.\"}, log=\"I have performed multiple arithmetic operations on the given numbers. Here are the results:\\n\\n1. \\\\(1 + 1 = 2\\\\)\\n2. \\\\(2 \\\\times 10 = 20\\\\)\\n\\nUnfortunately, the numbers available after these operations are 1.0 and 10.0, and I couldn't reach the target number 24 within the given constraints.\"),\n",
       " 'evaluator_should_continue': True,\n",
       " 'self_reflection_memory': InMemoryChatMessageHistory(messages=[('content', 'In this trial, the failure to reach the target number 24 might be attributed to the lack of incorporating division as an arithmetic operation. To mitigate this shortcoming and increase the chances of success in the next attempt, the plan would involve actively considering the use of division strategically in combination with addition, subtraction, and multiplication to manipulate the numbers effectively towards the target value.'), ('additional_kwargs', {}), ('response_metadata', {'token_usage': {'completion_tokens': 73, 'prompt_tokens': 2045, 'total_tokens': 2118}, 'model_name': 'gpt-3.5-turbo', 'system_fingerprint': None, 'finish_reason': 'stop', 'logprobs': None}), ('type', 'ai'), ('name', None), ('id', 'run-ce6ca9bc-83f7-4059-af68-8498ba546376-0'), ('example', False), ('tool_calls', []), ('invalid_tool_calls', []), ('content', 'Possible Reason for Failure:\\nThe lack of strategic planning and considering the order of operations might have hindered the progress, leading to numbers diverging from the target during the calculations.\\n\\nMitigation Plan:\\nCreate a systematic plan outlining the order of operations to reach the target number efficiently. Prioritize operations that reduce the deviation from the target number and maintain flexibility in rearranging numbers to explore alternative paths to success.'), ('additional_kwargs', {}), ('response_metadata', {'token_usage': {'completion_tokens': 80, 'prompt_tokens': 2384, 'total_tokens': 2464}, 'model_name': 'gpt-3.5-turbo', 'system_fingerprint': None, 'finish_reason': 'stop', 'logprobs': None}), ('type', 'ai'), ('name', None), ('id', 'run-3362fde1-9864-4813-a544-460b9bac0e7f-0'), ('example', False), ('tool_calls', []), ('invalid_tool_calls', [])]),\n",
       " 'self_reflections': [AIMessage(content='In this trial, the failure to reach the target number 24 might be attributed to the lack of incorporating division as an arithmetic operation. To mitigate this shortcoming and increase the chances of success in the next attempt, the plan would involve actively considering the use of division strategically in combination with addition, subtraction, and multiplication to manipulate the numbers effectively towards the target value.')],\n",
       " 'intermediate_steps': [(ToolAgentAction(tool='add', tool_input={'number1': 6, 'number2': 4}, log=\"\\nInvoking: `add` with `{'number1': 6, 'number2': 4}`\\n\\n\\n\", message_log=[AIMessageChunk(content='', additional_kwargs={'tool_calls': [{'index': 0, 'id': 'call_CHFilk5hwk1UtwEzj9aQAjaE', 'function': {'arguments': '{\"number1\": 6, \"number2\": 4}', 'name': 'add'}, 'type': 'function'}, {'index': 1, 'id': 'call_XGNPKT93uyt8sInLJQ0ezE4D', 'function': {'arguments': '{\"number1\": 1, \"number2\": 1}', 'name': 'multiply'}, 'type': 'function'}]}, response_metadata={'finish_reason': 'tool_calls'}, id='run-d0d87365-092d-42f4-ac73-5d5607076da4', tool_calls=[{'name': 'add', 'args': {'number1': 6, 'number2': 4}, 'id': 'call_CHFilk5hwk1UtwEzj9aQAjaE'}, {'name': 'multiply', 'args': {'number1': 1, 'number2': 1}, 'id': 'call_XGNPKT93uyt8sInLJQ0ezE4D'}], tool_call_chunks=[{'name': 'add', 'args': '{\"number1\": 6, \"number2\": 4}', 'id': 'call_CHFilk5hwk1UtwEzj9aQAjaE', 'index': 0}, {'name': 'multiply', 'args': '{\"number1\": 1, \"number2\": 1}', 'id': 'call_XGNPKT93uyt8sInLJQ0ezE4D', 'index': 1}])], tool_call_id='call_CHFilk5hwk1UtwEzj9aQAjaE'),\n",
       "   AgentStep(action=ToolAgentAction(tool='add', tool_input={'number1': 6, 'number2': 4}, log=\"\\nInvoking: `add` with `{'number1': 6, 'number2': 4}`\\n\\n\\n\", message_log=[AIMessageChunk(content='', additional_kwargs={'tool_calls': [{'index': 0, 'id': 'call_CHFilk5hwk1UtwEzj9aQAjaE', 'function': {'arguments': '{\"number1\": 6, \"number2\": 4}', 'name': 'add'}, 'type': 'function'}, {'index': 1, 'id': 'call_XGNPKT93uyt8sInLJQ0ezE4D', 'function': {'arguments': '{\"number1\": 1, \"number2\": 1}', 'name': 'multiply'}, 'type': 'function'}]}, response_metadata={'finish_reason': 'tool_calls'}, id='run-d0d87365-092d-42f4-ac73-5d5607076da4', tool_calls=[{'name': 'add', 'args': {'number1': 6, 'number2': 4}, 'id': 'call_CHFilk5hwk1UtwEzj9aQAjaE'}, {'name': 'multiply', 'args': {'number1': 1, 'number2': 1}, 'id': 'call_XGNPKT93uyt8sInLJQ0ezE4D'}], tool_call_chunks=[{'name': 'add', 'args': '{\"number1\": 6, \"number2\": 4}', 'id': 'call_CHFilk5hwk1UtwEzj9aQAjaE', 'index': 0}, {'name': 'multiply', 'args': '{\"number1\": 1, \"number2\": 1}', 'id': 'call_XGNPKT93uyt8sInLJQ0ezE4D', 'index': 1}])], tool_call_id='call_CHFilk5hwk1UtwEzj9aQAjaE'), observation=('result of current arithmetical operation on 6.0 and 4.0 is 10.0', 0, False, False, {'numbers': '1.0 1.0 10.0'}))),\n",
       "  (ToolAgentAction(tool='multiply', tool_input={'number1': 1, 'number2': 1}, log=\"\\nInvoking: `multiply` with `{'number1': 1, 'number2': 1}`\\n\\n\\n\", message_log=[AIMessageChunk(content='', additional_kwargs={'tool_calls': [{'index': 0, 'id': 'call_CHFilk5hwk1UtwEzj9aQAjaE', 'function': {'arguments': '{\"number1\": 6, \"number2\": 4}', 'name': 'add'}, 'type': 'function'}, {'index': 1, 'id': 'call_XGNPKT93uyt8sInLJQ0ezE4D', 'function': {'arguments': '{\"number1\": 1, \"number2\": 1}', 'name': 'multiply'}, 'type': 'function'}]}, response_metadata={'finish_reason': 'tool_calls'}, id='run-d0d87365-092d-42f4-ac73-5d5607076da4', tool_calls=[{'name': 'add', 'args': {'number1': 6, 'number2': 4}, 'id': 'call_CHFilk5hwk1UtwEzj9aQAjaE'}, {'name': 'multiply', 'args': {'number1': 1, 'number2': 1}, 'id': 'call_XGNPKT93uyt8sInLJQ0ezE4D'}], tool_call_chunks=[{'name': 'add', 'args': '{\"number1\": 6, \"number2\": 4}', 'id': 'call_CHFilk5hwk1UtwEzj9aQAjaE', 'index': 0}, {'name': 'multiply', 'args': '{\"number1\": 1, \"number2\": 1}', 'id': 'call_XGNPKT93uyt8sInLJQ0ezE4D', 'index': 1}])], tool_call_id='call_XGNPKT93uyt8sInLJQ0ezE4D'),\n",
       "   AgentStep(action=ToolAgentAction(tool='multiply', tool_input={'number1': 1, 'number2': 1}, log=\"\\nInvoking: `multiply` with `{'number1': 1, 'number2': 1}`\\n\\n\\n\", message_log=[AIMessageChunk(content='', additional_kwargs={'tool_calls': [{'index': 0, 'id': 'call_CHFilk5hwk1UtwEzj9aQAjaE', 'function': {'arguments': '{\"number1\": 6, \"number2\": 4}', 'name': 'add'}, 'type': 'function'}, {'index': 1, 'id': 'call_XGNPKT93uyt8sInLJQ0ezE4D', 'function': {'arguments': '{\"number1\": 1, \"number2\": 1}', 'name': 'multiply'}, 'type': 'function'}]}, response_metadata={'finish_reason': 'tool_calls'}, id='run-d0d87365-092d-42f4-ac73-5d5607076da4', tool_calls=[{'name': 'add', 'args': {'number1': 6, 'number2': 4}, 'id': 'call_CHFilk5hwk1UtwEzj9aQAjaE'}, {'name': 'multiply', 'args': {'number1': 1, 'number2': 1}, 'id': 'call_XGNPKT93uyt8sInLJQ0ezE4D'}], tool_call_chunks=[{'name': 'add', 'args': '{\"number1\": 6, \"number2\": 4}', 'id': 'call_CHFilk5hwk1UtwEzj9aQAjaE', 'index': 0}, {'name': 'multiply', 'args': '{\"number1\": 1, \"number2\": 1}', 'id': 'call_XGNPKT93uyt8sInLJQ0ezE4D', 'index': 1}])], tool_call_id='call_XGNPKT93uyt8sInLJQ0ezE4D'), observation=('result of current arithmetical operation on 1.0 and 1.0 is 1.0', 0, False, False, {'numbers': '10.0 1.0'}))),\n",
       "  (ToolAgentAction(tool='multiply', tool_input={'number1': 10, 'number2': 1}, log=\"\\nInvoking: `multiply` with `{'number1': 10, 'number2': 1}`\\n\\n\\n\", message_log=[AIMessageChunk(content='', additional_kwargs={'tool_calls': [{'index': 0, 'id': 'call_PvaM3XZ30JmKvyFTpDm5LOLd', 'function': {'arguments': '{\"number1\": 10, \"number2\": 1}', 'name': 'multiply'}, 'type': 'function'}, {'index': 1, 'id': 'call_SkAYxpuDoRP6BoNo0CyQC4xV', 'function': {'arguments': '{\"number1\": 1, \"number2\": 4}', 'name': 'multiply'}, 'type': 'function'}]}, response_metadata={'finish_reason': 'tool_calls'}, id='run-6a9f7daa-1aad-4fa7-ac11-42dfc1550b6b', tool_calls=[{'name': 'multiply', 'args': {'number1': 10, 'number2': 1}, 'id': 'call_PvaM3XZ30JmKvyFTpDm5LOLd'}, {'name': 'multiply', 'args': {'number1': 1, 'number2': 4}, 'id': 'call_SkAYxpuDoRP6BoNo0CyQC4xV'}], tool_call_chunks=[{'name': 'multiply', 'args': '{\"number1\": 10, \"number2\": 1}', 'id': 'call_PvaM3XZ30JmKvyFTpDm5LOLd', 'index': 0}, {'name': 'multiply', 'args': '{\"number1\": 1, \"number2\": 4}', 'id': 'call_SkAYxpuDoRP6BoNo0CyQC4xV', 'index': 1}])], tool_call_id='call_PvaM3XZ30JmKvyFTpDm5LOLd'),\n",
       "   AgentStep(action=ToolAgentAction(tool='multiply', tool_input={'number1': 10, 'number2': 1}, log=\"\\nInvoking: `multiply` with `{'number1': 10, 'number2': 1}`\\n\\n\\n\", message_log=[AIMessageChunk(content='', additional_kwargs={'tool_calls': [{'index': 0, 'id': 'call_PvaM3XZ30JmKvyFTpDm5LOLd', 'function': {'arguments': '{\"number1\": 10, \"number2\": 1}', 'name': 'multiply'}, 'type': 'function'}, {'index': 1, 'id': 'call_SkAYxpuDoRP6BoNo0CyQC4xV', 'function': {'arguments': '{\"number1\": 1, \"number2\": 4}', 'name': 'multiply'}, 'type': 'function'}]}, response_metadata={'finish_reason': 'tool_calls'}, id='run-6a9f7daa-1aad-4fa7-ac11-42dfc1550b6b', tool_calls=[{'name': 'multiply', 'args': {'number1': 10, 'number2': 1}, 'id': 'call_PvaM3XZ30JmKvyFTpDm5LOLd'}, {'name': 'multiply', 'args': {'number1': 1, 'number2': 4}, 'id': 'call_SkAYxpuDoRP6BoNo0CyQC4xV'}], tool_call_chunks=[{'name': 'multiply', 'args': '{\"number1\": 10, \"number2\": 1}', 'id': 'call_PvaM3XZ30JmKvyFTpDm5LOLd', 'index': 0}, {'name': 'multiply', 'args': '{\"number1\": 1, \"number2\": 4}', 'id': 'call_SkAYxpuDoRP6BoNo0CyQC4xV', 'index': 1}])], tool_call_id='call_PvaM3XZ30JmKvyFTpDm5LOLd'), observation=('result of current arithmetical operation on 10.0 and 1.0 is 10.0', 0, True, False, {'numbers': '10.0'}))),\n",
       "  (ToolAgentAction(tool='multiply', tool_input={'number1': 1, 'number2': 4}, log=\"\\nInvoking: `multiply` with `{'number1': 1, 'number2': 4}`\\n\\n\\n\", message_log=[AIMessageChunk(content='', additional_kwargs={'tool_calls': [{'index': 0, 'id': 'call_PvaM3XZ30JmKvyFTpDm5LOLd', 'function': {'arguments': '{\"number1\": 10, \"number2\": 1}', 'name': 'multiply'}, 'type': 'function'}, {'index': 1, 'id': 'call_SkAYxpuDoRP6BoNo0CyQC4xV', 'function': {'arguments': '{\"number1\": 1, \"number2\": 4}', 'name': 'multiply'}, 'type': 'function'}]}, response_metadata={'finish_reason': 'tool_calls'}, id='run-6a9f7daa-1aad-4fa7-ac11-42dfc1550b6b', tool_calls=[{'name': 'multiply', 'args': {'number1': 10, 'number2': 1}, 'id': 'call_PvaM3XZ30JmKvyFTpDm5LOLd'}, {'name': 'multiply', 'args': {'number1': 1, 'number2': 4}, 'id': 'call_SkAYxpuDoRP6BoNo0CyQC4xV'}], tool_call_chunks=[{'name': 'multiply', 'args': '{\"number1\": 10, \"number2\": 1}', 'id': 'call_PvaM3XZ30JmKvyFTpDm5LOLd', 'index': 0}, {'name': 'multiply', 'args': '{\"number1\": 1, \"number2\": 4}', 'id': 'call_SkAYxpuDoRP6BoNo0CyQC4xV', 'index': 1}])], tool_call_id='call_SkAYxpuDoRP6BoNo0CyQC4xV'),\n",
       "   AgentStep(action=ToolAgentAction(tool='multiply', tool_input={'number1': 1, 'number2': 4}, log=\"\\nInvoking: `multiply` with `{'number1': 1, 'number2': 4}`\\n\\n\\n\", message_log=[AIMessageChunk(content='', additional_kwargs={'tool_calls': [{'index': 0, 'id': 'call_PvaM3XZ30JmKvyFTpDm5LOLd', 'function': {'arguments': '{\"number1\": 10, \"number2\": 1}', 'name': 'multiply'}, 'type': 'function'}, {'index': 1, 'id': 'call_SkAYxpuDoRP6BoNo0CyQC4xV', 'function': {'arguments': '{\"number1\": 1, \"number2\": 4}', 'name': 'multiply'}, 'type': 'function'}]}, response_metadata={'finish_reason': 'tool_calls'}, id='run-6a9f7daa-1aad-4fa7-ac11-42dfc1550b6b', tool_calls=[{'name': 'multiply', 'args': {'number1': 10, 'number2': 1}, 'id': 'call_PvaM3XZ30JmKvyFTpDm5LOLd'}, {'name': 'multiply', 'args': {'number1': 1, 'number2': 4}, 'id': 'call_SkAYxpuDoRP6BoNo0CyQC4xV'}], tool_call_chunks=[{'name': 'multiply', 'args': '{\"number1\": 10, \"number2\": 1}', 'id': 'call_PvaM3XZ30JmKvyFTpDm5LOLd', 'index': 0}, {'name': 'multiply', 'args': '{\"number1\": 1, \"number2\": 4}', 'id': 'call_SkAYxpuDoRP6BoNo0CyQC4xV', 'index': 1}])], tool_call_id='call_SkAYxpuDoRP6BoNo0CyQC4xV'), observation=('The environment has already been terminated.', 0, True, False, {'numbers': '10.0'})))],\n",
       " 'iteration': 2}"
      ]
     },
     "execution_count": 10,
     "metadata": {},
     "output_type": "execute_result"
    }
   ],
   "execution_count": 10
  },
  {
   "metadata": {},
   "cell_type": "code",
   "outputs": [],
   "execution_count": null,
   "source": "",
   "id": "ddaff0562e39fe97"
  }
 ],
 "metadata": {
  "kernelspec": {
   "display_name": "Python 3",
   "language": "python",
   "name": "python3"
  },
  "language_info": {
   "codemirror_mode": {
    "name": "ipython",
    "version": 2
   },
   "file_extension": ".py",
   "mimetype": "text/x-python",
   "name": "python",
   "nbconvert_exporter": "python",
   "pygments_lexer": "ipython2",
   "version": "2.7.6"
  }
 },
 "nbformat": 4,
 "nbformat_minor": 5
}
