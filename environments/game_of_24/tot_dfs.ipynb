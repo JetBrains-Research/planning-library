{
 "cells": [
  {
   "cell_type": "markdown",
   "source": [
    "# Game of 24: ToT + DFS"
   ],
   "metadata": {
    "collapsed": false
   },
   "id": "3f870728b8f42286"
  },
  {
   "cell_type": "markdown",
   "source": [
    "## Utils"
   ],
   "metadata": {
    "collapsed": false
   },
   "id": "ac15008844246559"
  },
  {
   "cell_type": "markdown",
   "source": [
    "### Imports"
   ],
   "metadata": {
    "collapsed": false
   },
   "id": "d8bf9aec03e431bc"
  },
  {
   "cell_type": "code",
   "execution_count": 1,
   "outputs": [],
   "source": [
    "from langchain_openai import ChatOpenAI\n",
    "from environments.game_of_24.common.evaluate_parser import GameOf24EvaluateOutputParser\n",
    "from environments.game_of_24.tot_dfs.evaluate_prompts import evaluate_prompt\n",
    "from environments.game_of_24.tot_dfs.generate_prompts import generate_sample_openai_tools_prompt\n",
    "from planning_library.strategies import TreeOfThoughtsDFSStrategy\n",
    "from operator import itemgetter\n",
    "from langchain_core.agents import AgentAction, AgentFinish\n",
    "from langchain_core.runnables import RunnableLambda\n",
    "from typing import List, Union\n",
    "from environments.game_of_24.common.simple_tools import AddTool, DivideTool, SubtractTool, MultiplyTool\n",
    "import os\n",
    "\n",
    "%load_ext autoreload\n",
    "%autoreload 2"
   ],
   "metadata": {
    "collapsed": false,
    "ExecuteTime": {
     "end_time": "2024-03-12T17:28:17.568692Z",
     "start_time": "2024-03-12T17:28:16.362173Z"
    }
   },
   "id": "c94d0bfae6ac52b7"
  },
  {
   "cell_type": "markdown",
   "source": [
    "### Enabling logging"
   ],
   "metadata": {
    "collapsed": false
   },
   "id": "a8cba987fa8f60c4"
  },
  {
   "cell_type": "code",
   "execution_count": 2,
   "outputs": [],
   "source": [
    "# os.environ[\"LANGCHAIN_WANDB_TRACING\"] = \"true\"\n",
    "# os.environ[\"WANDB_PROJECT\"] = \"aeliseeva-tot-dfs-game24-test\""
   ],
   "metadata": {
    "collapsed": false,
    "ExecuteTime": {
     "end_time": "2024-03-12T17:28:17.578933Z",
     "start_time": "2024-03-12T17:28:17.569235Z"
    }
   },
   "id": "b839c1569a02b9e1"
  },
  {
   "cell_type": "code",
   "execution_count": 3,
   "outputs": [],
   "source": [
    "os.environ[\"LANGCHAIN_TRACING_V2\"] = \"true\"\n",
    "os.environ[\"LANGCHAIN_PROJECT\"] = \"ToT + Game of 24 test\"\n",
    "os.environ[\"LANGCHAIN_ENDPOINT\"] = \"https://api.smith.langchain.com\""
   ],
   "metadata": {
    "collapsed": false,
    "ExecuteTime": {
     "end_time": "2024-03-12T17:28:17.589107Z",
     "start_time": "2024-03-12T17:28:17.579412Z"
    }
   },
   "id": "7d8838345955d3c2"
  },
  {
   "cell_type": "markdown",
   "source": [
    "## Defining components"
   ],
   "metadata": {
    "collapsed": false
   },
   "id": "99565d7bf09a28b9"
  },
  {
   "cell_type": "markdown",
   "source": [
    "### Hyperparameters"
   ],
   "metadata": {
    "collapsed": false
   },
   "id": "783935cd06fec74d"
  },
  {
   "cell_type": "code",
   "execution_count": 4,
   "outputs": [],
   "source": [
    "# ToT hyperparameters\n",
    "max_num_thoughts = 3  # number of thoughts to generate at each iteration\n",
    "max_num_steps = 20  # total maximum number of iterations\n",
    "value_threshold = 0.49  # threshold for evaluation; only thoughts with value > value_threshold will be explored\n",
    "\n",
    "# other hyperparameters\n",
    "model_name = \"gpt-3.5-turbo\"\n",
    "temperature = 0.8"
   ],
   "metadata": {
    "collapsed": false,
    "ExecuteTime": {
     "end_time": "2024-03-12T17:28:17.599343Z",
     "start_time": "2024-03-12T17:28:17.589609Z"
    }
   },
   "id": "3b1ff5faf3a98a79"
  },
  {
   "cell_type": "markdown",
   "source": [
    "## Thought Evaluator"
   ],
   "metadata": {
    "collapsed": false
   },
   "id": "7d8fdcea67bf22ee"
  },
  {
   "cell_type": "markdown",
   "source": [
    "**Thought Evaluator** is responsible for evaluating the plausibility of individual thoughts.\n",
    "\n",
    "Default **Thought Evaluator** is powered by a [`Runnable`](https://python.langchain.com/docs/expression_language/interface) that takes in:\n",
    "\n",
    "* `inputs`: original inputs\n",
    "* `trajectory`: a sequence of agent actions up to current node\n",
    "* `next_thought`: a current suggestion for the next step (either finish or call tool(s))\n",
    "\n",
    "The runnable is allowed to return anything. In this case, it returns a float ranging from 0 to 1.\n",
    "\n"
   ],
   "metadata": {
    "collapsed": false
   },
   "id": "e7af9f540360a932"
  },
  {
   "cell_type": "markdown",
   "source": [
    "### Prompt"
   ],
   "metadata": {
    "collapsed": false
   },
   "id": "16db988515e83619"
  },
  {
   "cell_type": "markdown",
   "source": [
    "Here is a simple prompt for Thought Evaluator in Game of 24."
   ],
   "metadata": {
    "collapsed": false
   },
   "id": "d25c860d110aa95d"
  },
  {
   "cell_type": "code",
   "execution_count": 5,
   "outputs": [
    {
     "data": {
      "text/plain": "['inputs', 'next_thought', 'trajectory']"
     },
     "execution_count": 5,
     "metadata": {},
     "output_type": "execute_result"
    }
   ],
   "source": [
    "evaluate_prompt.input_variables"
   ],
   "metadata": {
    "collapsed": false,
    "ExecuteTime": {
     "end_time": "2024-03-12T17:28:17.705950Z",
     "start_time": "2024-03-12T17:28:17.692274Z"
    }
   },
   "id": "fd1913a8499f4b85"
  },
  {
   "cell_type": "code",
   "execution_count": 6,
   "outputs": [
    {
     "name": "stdout",
     "output_type": "stream",
     "text": [
      "System: You are a helpful assistant that judges whether answers to Game of 24 are correct or individual steps to reach 24 from given numbers seem plausible.\n",
      "Human: You are given inputs and intermediate steps for Game of 24: the goal is to reach 24 via arithmetical operations on given numbers. In your case, Game of 24 is played in step-by-step fashion: each suggestion is an arithmetical operation between two numbers. You might be given either a suggestion (a single arithmetical operation on two numbers) or a final answer (mathematical expression that should be equal to 24). In the former case, evaluate if a new suggestion is correct and how likely it is to help in reaching 24. In the latter case, evaluate if the final answer is correct, i.e., uses each input number exactly once. You are allowed to comment your decision, but make sure to always output one of the following words in the end: 'sure', 'likely', 'impossible'. Do not use synonyms, use these words.\n",
      "Human: Input: 2 3 6 4\n",
      "AI: Suggestion for the next step: 2 + 3\n",
      "Human: Judge:\n"
     ]
    }
   ],
   "source": [
    "print(evaluate_prompt.format(inputs=\"2 3 6 4\", trajectory=[], next_thought=\"2 + 3\", observation=\"5\"))"
   ],
   "metadata": {
    "collapsed": false,
    "ExecuteTime": {
     "end_time": "2024-03-12T17:28:17.842365Z",
     "start_time": "2024-03-12T17:28:17.823788Z"
    }
   },
   "id": "5df9493e9fd2d2ca"
  },
  {
   "cell_type": "markdown",
   "source": [
    "### Formatting Utils"
   ],
   "metadata": {
    "collapsed": false
   },
   "id": "3ff85eba1b3307e1"
  },
  {
   "cell_type": "code",
   "outputs": [],
   "source": [
    "from langchain.agents.format_scratchpad.openai_tools import format_to_openai_tool_messages\n",
    "\n",
    "\n",
    "op_map = {\"add\": \"+\", \"subtract\": \"-\", \"multiply\": \"*\", \"divide\": \"/\"}\n",
    "\n",
    "\n",
    "def format_next_thought(next_thought: Union[List[AgentAction], AgentAction, AgentFinish]) -> str:\n",
    "    if isinstance(next_thought, AgentAction):\n",
    "        number1 = next_thought.tool_input[\"number1\"]\n",
    "        number2 = next_thought.tool_input[\"number2\"]\n",
    "        return f\"{number1} {op_map[next_thought.tool]} {number2}\"\n",
    "    elif isinstance(next_thought, AgentFinish):\n",
    "        return next_thought.log\n",
    "    else:\n",
    "        # ugly hack, because it ignores an instruction to generate one action per step ><\n",
    "        return format_next_thought(next_thought[0])"
   ],
   "metadata": {
    "collapsed": false,
    "ExecuteTime": {
     "end_time": "2024-03-12T17:28:18.204595Z",
     "start_time": "2024-03-12T17:28:18.190298Z"
    }
   },
   "id": "6a1d03b446643eee",
   "execution_count": 7
  },
  {
   "cell_type": "markdown",
   "source": [
    "### Putting It All Together"
   ],
   "metadata": {
    "collapsed": false
   },
   "id": "acd822dcdd645d79"
  },
  {
   "cell_type": "code",
   "execution_count": 8,
   "outputs": [],
   "source": [
    "evaluator_runnable = (\n",
    "    {\n",
    "        \"inputs\": RunnableLambda(lambda x: x[\"inputs\"][\"inputs\"]),\n",
    "        \"trajectory\": itemgetter(\"trajectory\") | RunnableLambda(format_to_openai_tool_messages),\n",
    "        \"next_thought\": itemgetter(\"next_thought\") | RunnableLambda(format_next_thought),\n",
    "    }\n",
    "    | evaluate_prompt\n",
    "    | ChatOpenAI(model=model_name, temperature=temperature)\n",
    "    | GameOf24EvaluateOutputParser()\n",
    ").with_config(run_name=\"Evaluate Thought\")"
   ],
   "metadata": {
    "collapsed": false,
    "ExecuteTime": {
     "end_time": "2024-03-12T17:28:18.586926Z",
     "start_time": "2024-03-12T17:28:18.558632Z"
    }
   },
   "id": "d69a6c54ea18ee57"
  },
  {
   "cell_type": "markdown",
   "source": [
    "## Thought Generator\n",
    "\n",
    "**Thought Generator** is responsible for suggesting possible actions on each new step.\n",
    "\n",
    "Default **Thought Generator** is powered by [any agent available in LangChain](https://python.langchain.com/docs/modules/agents/agent_types/). Specifically, it expects either [`BaseSingleActionAgent`](https://api.python.langchain.com/en/latest/agents/langchain.agents.agent.BaseSingleActionAgent.html#langchain.agents.agent.BaseSingleActionAgent) or [`BaseMultiAgentAgent`](https://api.python.langchain.com/en/latest/agents/langchain.agents.agent.BaseMultiActionAgent.html#langchain.agents.agent.BaseMultiActionAgent)."
   ],
   "metadata": {
    "collapsed": false
   },
   "id": "48ea2803b76d0aba"
  },
  {
   "cell_type": "markdown",
   "source": [
    "In [Tree of Thoughts paper](https://arxiv.org/abs/2305.10601), there are two possible workflows for Tree of Thoughts:\n",
    "\n",
    "* *Sample*: $k$ i.i.d. calls to a Thought Generator to get $k$ suggestions\n",
    "* *Propose*: a single call to a Thought Generator to get $k$ suggestions\n",
    "\n",
    "Currently, only *Sample* is supported."
   ],
   "metadata": {
    "collapsed": false
   },
   "id": "cdbc265c18f131b4"
  },
  {
   "cell_type": "markdown",
   "source": [
    "### Prompt"
   ],
   "metadata": {
    "collapsed": false
   },
   "id": "efc29a3a8c67a5c3"
  },
  {
   "cell_type": "markdown",
   "source": [
    "Generation prompt is adapted from the [original implementation](https://github.com/princeton-nlp/tree-of-thought-llm/blob/master/src/tot/prompts/game24.py)."
   ],
   "metadata": {
    "collapsed": false
   },
   "id": "1fe6893c44450186"
  },
  {
   "cell_type": "code",
   "outputs": [
    {
     "data": {
      "text/plain": "['agent_scratchpad', 'inputs', 'previous_thoughts']"
     },
     "execution_count": 9,
     "metadata": {},
     "output_type": "execute_result"
    }
   ],
   "source": [
    "generate_sample_openai_tools_prompt.input_variables"
   ],
   "metadata": {
    "collapsed": false,
    "ExecuteTime": {
     "end_time": "2024-03-12T17:28:19.663549Z",
     "start_time": "2024-03-12T17:28:19.646313Z"
    }
   },
   "id": "dd1b86fc7247919a",
   "execution_count": 9
  },
  {
   "cell_type": "code",
   "outputs": [
    {
     "name": "stdout",
     "output_type": "stream",
     "text": [
      "System: You are a helpful assistant that plays Game of 24.\n",
      "Human: Your end goal is to obtain 24 from given numbers via basic arithmetic operations. Let's play Game of 24 in a step-by-step fashion: use only one of available tools to suggest a possible next step from the current state. Please, make sure to suggest exactly ONE (1) tool call, no more and no less. Refrain from calling tools only when you're ready to give a final answer. In this case, make sure to include a mathematical expression showing how to obtain 24 from given numbers, for instance: '(2 + 2) * (12 / 2) = 24'\n",
      "Inputs: 2 2 2 8\n",
      "Human: You might have already made some suggestions for the current state - if you did, you will find them below.\n",
      "Human: Please, remember to suggest exactly ONE (1) tool call, no more and no less, different from your previous suggestions. Remember to only use given numbers.\n"
     ]
    }
   ],
   "source": [
    "print(\n",
    "    generate_sample_openai_tools_prompt.format(\n",
    "        inputs=\"2 2 2 8\", agent_scratchpad=[], previous_thoughts=[], max_num_thoughts=5\n",
    "    )\n",
    ")"
   ],
   "metadata": {
    "collapsed": false,
    "ExecuteTime": {
     "end_time": "2024-03-12T17:28:19.955299Z",
     "start_time": "2024-03-12T17:28:19.937631Z"
    }
   },
   "id": "1c3c7ec796c9cd7",
   "execution_count": 10
  },
  {
   "cell_type": "markdown",
   "source": [
    "### Tools\n",
    "\n",
    "For Game of 24, we provide the agent with simple tools performing basic arithmetical operations."
   ],
   "metadata": {
    "collapsed": false
   },
   "id": "1fd28a657a9210ca"
  },
  {
   "cell_type": "code",
   "outputs": [],
   "source": [
    "tools = [AddTool(), SubtractTool(), MultiplyTool(), DivideTool()]"
   ],
   "metadata": {
    "collapsed": false,
    "ExecuteTime": {
     "end_time": "2024-03-12T17:28:20.944274Z",
     "start_time": "2024-03-12T17:28:20.932346Z"
    }
   },
   "id": "fb18a68ffe90be0e",
   "execution_count": 11
  },
  {
   "cell_type": "markdown",
   "source": [
    "### Putting It All Together\n",
    "\n",
    "Let's use [OpenAI Tools](https://python.langchain.com/docs/modules/agents/agent_types/openai_tools) agent."
   ],
   "metadata": {
    "collapsed": false
   },
   "id": "c8ec4a51f26e768"
  },
  {
   "cell_type": "code",
   "outputs": [],
   "source": [
    "from langchain_core.utils.function_calling import convert_to_openai_tool\n",
    "from langchain_core.messages import BaseMessage, AIMessage\n",
    "\n",
    "from langchain.agents.format_scratchpad.openai_tools import format_to_openai_tool_messages\n",
    "from langchain.agents.output_parsers.openai_tools import OpenAIToolsAgentOutputParser, OpenAIToolAgentAction\n",
    "\n",
    "\n",
    "def format_previous_thoughts(\n",
    "    previous_thoughts: List[Union[List[AgentAction], AgentFinish, AgentAction]]\n",
    ") -> List[BaseMessage]:\n",
    "    messages = []\n",
    "    for agent_action in previous_thoughts:\n",
    "        if isinstance(agent_action, OpenAIToolAgentAction):\n",
    "            messages.append(AIMessage(content=f\"Calling {agent_action.tool} with {agent_action.tool_input}\"))\n",
    "        elif isinstance(agent_action, list):\n",
    "            messages.extend(format_previous_thoughts(agent_action))\n",
    "        else:\n",
    "            messages.append(AIMessage(content=agent_action.log))\n",
    "    return messages"
   ],
   "metadata": {
    "collapsed": false,
    "ExecuteTime": {
     "end_time": "2024-03-12T17:28:21.658830Z",
     "start_time": "2024-03-12T17:28:21.640696Z"
    }
   },
   "id": "fb428f3fb5c566c7",
   "execution_count": 12
  },
  {
   "cell_type": "code",
   "outputs": [],
   "source": [
    "# copied from langchain.agents.create_openai_tools_agent to allow for custom formatting of `previous_thoughts in inputs\n",
    "\n",
    "\n",
    "llm = ChatOpenAI(model=model_name, temperature=temperature).bind(tools=[convert_to_openai_tool(tool) for tool in tools])\n",
    "\n",
    "agent = (\n",
    "    {\n",
    "        \"inputs\": itemgetter(\"inputs\"),\n",
    "        \"agent_scratchpad\": lambda x: format_to_openai_tool_messages(x[\"intermediate_steps\"]),\n",
    "        \"previous_thoughts\": lambda x: format_previous_thoughts(x[\"previous_thoughts\"]),\n",
    "    }\n",
    "    | generate_sample_openai_tools_prompt\n",
    "    | llm\n",
    "    | OpenAIToolsAgentOutputParser()\n",
    ").with_config(run_name=\"Generate Thought\")"
   ],
   "metadata": {
    "collapsed": false,
    "ExecuteTime": {
     "end_time": "2024-03-12T17:28:22.088718Z",
     "start_time": "2024-03-12T17:28:21.987847Z"
    }
   },
   "id": "d48ca4a0c5d0fe71",
   "execution_count": 13
  },
  {
   "cell_type": "markdown",
   "source": [
    "# Defining strategy"
   ],
   "metadata": {
    "collapsed": false
   },
   "id": "e8df81acf8ec5b97"
  },
  {
   "cell_type": "code",
   "execution_count": 14,
   "outputs": [],
   "source": [
    "strategy_executor = TreeOfThoughtsDFSStrategy.create(\n",
    "    agent=agent,\n",
    "    tools=tools,\n",
    "    evaluator_runnable=evaluator_runnable,\n",
    "    value_threshold=value_threshold,\n",
    "    max_num_thoughts=max_num_thoughts,\n",
    "    max_iterations=max_num_steps,\n",
    ")"
   ],
   "metadata": {
    "collapsed": false,
    "ExecuteTime": {
     "end_time": "2024-03-12T17:28:22.926578Z",
     "start_time": "2024-03-12T17:28:22.915401Z"
    }
   },
   "id": "3511e290e2ab0d52"
  },
  {
   "cell_type": "markdown",
   "source": [
    "## Running strategy"
   ],
   "metadata": {
    "collapsed": false
   },
   "id": "62a0d689c7a7e50"
  },
  {
   "cell_type": "code",
   "execution_count": 146,
   "outputs": [
    {
     "name": "stdout",
     "output_type": "stream",
     "text": [
      "\n",
      "\n",
      "\u001B[1m> Entering new TreeOfThoughtsDFSStrategy chain...\u001B[0m\n",
      "\u001B[32;1m\u001B[1;3m\n",
      "Invoking: `multiply` with `{'number1': 1, 'number2': 4}`\n",
      "\n",
      "\n",
      "\u001B[0m\u001B[38;5;200m\u001B[1;3m4.0\u001B[0m\u001B[32;1m\u001B[1;3m\n",
      "Invoking: `multiply` with `{'number1': 4, 'number2': 6}`\n",
      "\n",
      "\n",
      "\u001B[0m\u001B[38;5;200m\u001B[1;3m24.0\u001B[0m\u001B[32;1m\u001B[1;3m\n",
      "Invoking: `multiply` with `{'number1': 1, 'number2': 24}`\n",
      "\n",
      "\n",
      "\u001B[0m\u001B[38;5;200m\u001B[1;3m24.0\u001B[0m\u001B[32;1m\u001B[1;3m\n",
      "Invoking: `multiply` with `{'number1': 1, 'number2': 6}`\n",
      "\n",
      "\n",
      "\u001B[0m\u001B[38;5;200m\u001B[1;3m6.0\u001B[0m\u001B[32;1m\u001B[1;3m\n",
      "Invoking: `multiply` with `{'number1': 6, 'number2': 4}`\n",
      "\n",
      "\n",
      "\u001B[0m\u001B[38;5;200m\u001B[1;3m24.0\u001B[0m\u001B[32;1m\u001B[1;3m\n",
      "Invoking: `multiply` with `{'number1': 4, 'number2': 6}`\n",
      "\n",
      "\n",
      "\u001B[0m\u001B[38;5;200m\u001B[1;3m24.0\u001B[0m\u001B[32;1m\u001B[1;3m\n",
      "Invoking: `multiply` with `{'number1': 1, 'number2': 24}`\n",
      "\n",
      "\n",
      "\u001B[0m\u001B[38;5;200m\u001B[1;3m24.0\u001B[0m\u001B[32;1m\u001B[1;3m\n",
      "Invoking: `multiply` with `{'number1': 1, 'number2': 24}`\n",
      "\n",
      "\n",
      "\u001B[0m\u001B[38;5;200m\u001B[1;3m24.0\u001B[0m\u001B[32;1m\u001B[1;3m\n",
      "Invoking: `multiply` with `{'number1': 4, 'number2': 6}`\n",
      "\n",
      "\n",
      "\u001B[0m\u001B[38;5;200m\u001B[1;3m24.0\u001B[0m\u001B[32;1m\u001B[1;3m\n",
      "Invoking: `multiply` with `{'number1': 1, 'number2': 1}`\n",
      "\n",
      "\n",
      "\u001B[0m\u001B[38;5;200m\u001B[1;3m1.0\u001B[0m\u001B[32;1m\u001B[1;3m\n",
      "Invoking: `multiply` with `{'number1': 1, 'number2': 24}`\n",
      "\n",
      "\n",
      "\u001B[0m\u001B[38;5;200m\u001B[1;3m24.0\u001B[0m\u001B[32;1m\u001B[1;3m\n",
      "Invoking: `multiply` with `{'number1': 1, 'number2': 4}`\n",
      "\n",
      "\n",
      "\u001B[0m\u001B[38;5;200m\u001B[1;3m4.0\u001B[0m\u001B[32;1m\u001B[1;3m\n",
      "Invoking: `multiply` with `{'number1': 4, 'number2': 6}`\n",
      "\n",
      "\n",
      "\u001B[0m\u001B[38;5;200m\u001B[1;3m24.0\u001B[0m\u001B[32;1m\u001B[1;3m\n",
      "Invoking: `multiply` with `{'number1': 4, 'number2': 6}`\n",
      "\n",
      "\n",
      "\u001B[0m\u001B[38;5;200m\u001B[1;3m24.0\u001B[0m\u001B[32;1m\u001B[1;3m\n",
      "Invoking: `multiply` with `{'number1': 1, 'number2': 6}`\n",
      "\n",
      "\n",
      "\u001B[0m\u001B[38;5;200m\u001B[1;3m6.0\u001B[0m\u001B[32;1m\u001B[1;3m\n",
      "Invoking: `multiply` with `{'number1': 6, 'number2': 4}`\n",
      "\n",
      "\n",
      "\u001B[0m\u001B[38;5;200m\u001B[1;3m24.0\u001B[0m\u001B[32;1m\u001B[1;3m\n",
      "Invoking: `multiply` with `{'number1': 4, 'number2': 6}`\n",
      "\n",
      "\n",
      "\u001B[0m\u001B[38;5;200m\u001B[1;3m24.0\u001B[0m\u001B[32;1m\u001B[1;3m\n",
      "Invoking: `multiply` with `{'number1': 1, 'number2': 24}`\n",
      "\n",
      "\n",
      "\u001B[0m\u001B[38;5;200m\u001B[1;3m24.0\u001B[0m\u001B[32;1m\u001B[1;3m\n",
      "Invoking: `multiply` with `{'number1': 1, 'number2': 24}`\n",
      "\n",
      "\n",
      "\u001B[0m\u001B[38;5;200m\u001B[1;3m24.0\u001B[0m\u001B[32;1m\u001B[1;3m\n",
      "Invoking: `multiply` with `{'number1': 6, 'number2': 4}`\n",
      "\n",
      "\n",
      "\u001B[0m\u001B[38;5;200m\u001B[1;3m24.0\u001B[0m\u001B[32;1m\u001B[1;3m\n",
      "Invoking: `subtract` with `{'number1': 6, 'number2': 4}`\n",
      "\n",
      "\n",
      "\u001B[0m\u001B[33;1m\u001B[1;3m2.0\u001B[0m\u001B[32;1m\u001B[1;3m\n",
      "Invoking: `multiply` with `{'number1': 4, 'number2': 6}`\n",
      "\n",
      "\n",
      "\u001B[0m\u001B[38;5;200m\u001B[1;3m24.0\u001B[0m\u001B[32;1m\u001B[1;3m\n",
      "Invoking: `multiply` with `{'number1': 1, 'number2': 24}`\n",
      "\n",
      "\n",
      "\u001B[0m\u001B[38;5;200m\u001B[1;3m24.0\u001B[0m\u001B[32;1m\u001B[1;3m\n",
      "Invoking: `multiply` with `{'number1': 6, 'number2': 4}`\n",
      "\n",
      "\n",
      "\u001B[0m\u001B[38;5;200m\u001B[1;3m24.0\u001B[0m\u001B[32;1m\u001B[1;3m\n",
      "Invoking: `multiply` with `{'number1': 6, 'number2': 4}`\n",
      "\n",
      "\n",
      "\u001B[0m\u001B[38;5;200m\u001B[1;3m24.0\u001B[0m\u001B[32;1m\u001B[1;3m\n",
      "Invoking: `multiply` with `{'number1': 1, 'number2': 24}`\n",
      "\n",
      "\n",
      "\u001B[0m\u001B[38;5;200m\u001B[1;3m24.0\u001B[0m\u001B[32;1m\u001B[1;3m\n",
      "Invoking: `multiply` with `{'number1': 1, 'number2': 4}`\n",
      "\n",
      "\n",
      "\u001B[0m\u001B[38;5;200m\u001B[1;3m4.0\u001B[0m\u001B[32;1m\u001B[1;3m\n",
      "Invoking: `multiply` with `{'number1': 4, 'number2': 6}`\n",
      "\n",
      "\n",
      "\u001B[0m\u001B[38;5;200m\u001B[1;3m24.0\u001B[0m\u001B[32;1m\u001B[1;3m\n",
      "Invoking: `multiply` with `{'number1': 1, 'number2': 24}`\n",
      "\n",
      "\n",
      "\u001B[0m\u001B[38;5;200m\u001B[1;3m24.0\u001B[0m\u001B[32;1m\u001B[1;3m\n",
      "Invoking: `multiply` with `{'number1': 1, 'number2': 6}`\n",
      "\n",
      "\n",
      "\u001B[0m\u001B[38;5;200m\u001B[1;3m6.0\u001B[0m\u001B[32;1m\u001B[1;3m\n",
      "Invoking: `multiply` with `{'number1': 1, 'number2': 6}`\n",
      "\n",
      "\n",
      "\u001B[0m\u001B[38;5;200m\u001B[1;3m6.0\u001B[0m\u001B[32;1m\u001B[1;3m\n",
      "Invoking: `multiply` with `{'number1': 4, 'number2': 6}`\n",
      "\n",
      "\n",
      "\u001B[0m\u001B[38;5;200m\u001B[1;3m24.0\u001B[0m\u001B[32;1m\u001B[1;3m\n",
      "Invoking: `add` with `{'number1': 4, 'number2': 6}`\n",
      "\n",
      "\n",
      "\u001B[0m\u001B[36;1m\u001B[1;3m10.0\u001B[0m\u001B[32;1m\u001B[1;3m\n",
      "Invoking: `multiply` with `{'number1': 1, 'number2': 24}`\n",
      "\n",
      "\n",
      "\u001B[0m\u001B[38;5;200m\u001B[1;3m24.0\u001B[0m\u001B[32;1m\u001B[1;3m\n",
      "Invoking: `multiply` with `{'number1': 6, 'number2': 4}`\n",
      "\n",
      "\n",
      "\u001B[0m\u001B[38;5;200m\u001B[1;3m24.0\u001B[0m\u001B[32;1m\u001B[1;3m\n",
      "Invoking: `multiply` with `{'number1': 4, 'number2': 6}`\n",
      "\n",
      "\n",
      "\u001B[0m\u001B[38;5;200m\u001B[1;3m24.0\u001B[0m\u001B[32;1m\u001B[1;3m\n",
      "Invoking: `subtract` with `{'number1': 1, 'number2': 1}`\n",
      "\n",
      "\n",
      "\u001B[0m\u001B[33;1m\u001B[1;3m0.0\u001B[0m\u001B[32;1m\u001B[1;3m\n",
      "Invoking: `add` with `{'number1': 1, 'number2': 6}`\n",
      "\n",
      "\n",
      "\u001B[0m\u001B[36;1m\u001B[1;3m7.0\u001B[0m\u001B[32;1m\u001B[1;3m\n",
      "Invoking: `add` with `{'number1': 4, 'number2': 6}`\n",
      "\n",
      "\n",
      "\u001B[0m\u001B[36;1m\u001B[1;3m10.0\u001B[0m\u001B[32;1m\u001B[1;3m\n",
      "Invoking: `multiply` with `{'number1': 4, 'number2': 6}`\n",
      "\n",
      "\n",
      "\u001B[0m\u001B[38;5;200m\u001B[1;3m24.0\u001B[0m\u001B[32;1m\u001B[1;3m\n",
      "Invoking: `add` with `{'number1': 1, 'number2': 6}`\n",
      "\n",
      "\n",
      "\u001B[0m\u001B[36;1m\u001B[1;3m7.0\u001B[0m\u001B[32;1m\u001B[1;3m\n",
      "Invoking: `multiply` with `{'number1': 4, 'number2': 7}`\n",
      "\n",
      "\n",
      "\u001B[0m\u001B[38;5;200m\u001B[1;3m28.0\u001B[0m\u001B[32;1m\u001B[1;3m\n",
      "Invoking: `add` with `{'number1': 1, 'number2': 6}`\n",
      "\n",
      "\n",
      "\u001B[0m\u001B[36;1m\u001B[1;3m7.0\u001B[0m\u001B[32;1m\u001B[1;3m\n",
      "Invoking: `multiply` with `{'number1': 1, 'number2': 6}`\n",
      "\n",
      "\n",
      "\u001B[0m\u001B[38;5;200m\u001B[1;3m6.0\u001B[0m\u001B[32;1m\u001B[1;3m\n",
      "Invoking: `subtract` with `{'number1': 6, 'number2': 1}`\n",
      "\n",
      "\n",
      "\u001B[0m\u001B[33;1m\u001B[1;3m5.0\u001B[0m\u001B[32;1m\u001B[1;3m\n",
      "Invoking: `add` with `{'number1': 4, 'number2': 1}`\n",
      "\n",
      "\n",
      "\u001B[0m\u001B[36;1m\u001B[1;3m5.0\u001B[0m\u001B[32;1m\u001B[1;3m\n",
      "Invoking: `multiply` with `{'number1': 6, 'number2': 4}`\n",
      "\n",
      "\n",
      "\u001B[0m\u001B[38;5;200m\u001B[1;3m24.0\u001B[0m\u001B[32;1m\u001B[1;3m\n",
      "Invoking: `multiply` with `{'number1': 6, 'number2': 4}`\n",
      "\n",
      "\n",
      "\u001B[0m\u001B[38;5;200m\u001B[1;3m24.0\u001B[0m\u001B[32;1m\u001B[1;3m\n",
      "Invoking: `multiply` with `{'number1': 1, 'number2': 24}`\n",
      "\n",
      "\n",
      "\u001B[0m\u001B[38;5;200m\u001B[1;3m24.0\u001B[0m\u001B[32;1m\u001B[1;3m\n",
      "Invoking: `multiply` with `{'number1': 4, 'number2': 6}`\n",
      "\n",
      "\n",
      "\u001B[0m\u001B[38;5;200m\u001B[1;3m24.0\u001B[0m\n",
      "\u001B[1m> Finished chain.\u001B[0m\n"
     ]
    },
    {
     "data": {
      "text/plain": "{'inputs': '1 1 4 6', 'outputs': []}"
     },
     "execution_count": 146,
     "metadata": {},
     "output_type": "execute_result"
    }
   ],
   "source": [
    "strategy_executor.invoke({\"inputs\": \"1 1 4 6\"})"
   ],
   "metadata": {
    "collapsed": false,
    "ExecuteTime": {
     "end_time": "2024-03-12T17:07:24.775120Z",
     "start_time": "2024-03-12T17:05:42.925913Z"
    }
   },
   "id": "59924a439f964794"
  },
  {
   "cell_type": "markdown",
   "source": [
    "# Environment"
   ],
   "metadata": {
    "collapsed": false
   },
   "id": "d6b08922f2d1b6fb"
  },
  {
   "cell_type": "code",
   "outputs": [],
   "source": [
    "from common.environment import GameOf24\n",
    "from planning_library.action_executors import GymnasiumActionExecutor\n",
    "\n",
    "\n",
    "env = GameOf24()\n",
    "action_executor = GymnasiumActionExecutor(env)"
   ],
   "metadata": {
    "collapsed": false,
    "ExecuteTime": {
     "end_time": "2024-03-12T17:30:33.854290Z",
     "start_time": "2024-03-12T17:30:33.837567Z"
    }
   },
   "id": "136d6722e964571b",
   "execution_count": 18
  },
  {
   "cell_type": "code",
   "outputs": [],
   "source": [
    "strategy_executor = TreeOfThoughtsDFSStrategy.create(\n",
    "    agent=agent,\n",
    "    tools=tools,\n",
    "    action_executor=action_executor,\n",
    "    evaluator_runnable=evaluator_runnable,\n",
    "    value_threshold=value_threshold,\n",
    "    max_num_thoughts=max_num_thoughts,\n",
    "    max_iterations=max_num_steps,\n",
    ")"
   ],
   "metadata": {
    "collapsed": false,
    "ExecuteTime": {
     "end_time": "2024-03-12T17:30:34.243233Z",
     "start_time": "2024-03-12T17:30:34.231485Z"
    }
   },
   "id": "fc0c607886830162",
   "execution_count": 19
  },
  {
   "cell_type": "code",
   "outputs": [
    {
     "name": "stdout",
     "output_type": "stream",
     "text": [
      "\n",
      "\n",
      "\u001B[1m> Entering new TreeOfThoughtsDFSStrategy chain...\u001B[0m\n",
      "\u001B[31;1m\u001B[1;3mCalling multiply with 4.0 and 6.0 leads to 24.0.\u001B[0m\u001B[31;1m\u001B[1;3mCalling multiply with 1.0 and 1.0 leads to 1.0.\u001B[0m\u001B[31;1m\u001B[1;3mCalling multiply with 1.0 and 24.0 leads to 24.0.\u001B[0m\u001B[31;1m\u001B[1;3mWrong arguments: not all numbers given as arguments to a tool call are available.\u001B[0m\u001B[31;1m\u001B[1;3mWrong arguments: not all numbers given as arguments to a tool call are available.\u001B[0m\u001B[31;1m\u001B[1;3mWrong arguments: not all numbers given as arguments to a tool call are available.\u001B[0m\u001B[31;1m\u001B[1;3mWrong arguments: not all numbers given as arguments to a tool call are available.\u001B[0m\u001B[31;1m\u001B[1;3mWrong arguments: not all numbers given as arguments to a tool call are available.\u001B[0m\u001B[31;1m\u001B[1;3mWrong arguments: not all numbers given as arguments to a tool call are available.\u001B[0m\u001B[31;1m\u001B[1;3mWrong arguments: not all numbers given as arguments to a tool call are available.\u001B[0m\u001B[31;1m\u001B[1;3mWrong arguments: not all numbers given as arguments to a tool call are available.\u001B[0m\u001B[31;1m\u001B[1;3mWrong arguments: not all numbers given as arguments to a tool call are available.\u001B[0m\u001B[31;1m\u001B[1;3mWrong arguments: not all numbers given as arguments to a tool call are available.\u001B[0m\u001B[31;1m\u001B[1;3mWrong arguments: not all numbers given as arguments to a tool call are available.\u001B[0m\u001B[31;1m\u001B[1;3mWrong arguments: not all numbers given as arguments to a tool call are available.\u001B[0m\u001B[31;1m\u001B[1;3mWrong arguments: not all numbers given as arguments to a tool call are available.\u001B[0m\u001B[31;1m\u001B[1;3mWrong arguments: not all numbers given as arguments to a tool call are available.\u001B[0m\u001B[31;1m\u001B[1;3mWrong arguments: not all numbers given as arguments to a tool call are available.\u001B[0m\u001B[31;1m\u001B[1;3mWrong arguments: not all numbers given as arguments to a tool call are available.\u001B[0m\u001B[31;1m\u001B[1;3mWrong arguments: not all numbers given as arguments to a tool call are available.\u001B[0m\u001B[31;1m\u001B[1;3mWrong arguments: not all numbers given as arguments to a tool call are available.\u001B[0m\u001B[31;1m\u001B[1;3mWrong arguments: not all numbers given as arguments to a tool call are available.\u001B[0m\u001B[31;1m\u001B[1;3mWrong arguments: not all numbers given as arguments to a tool call are available.\u001B[0m\u001B[31;1m\u001B[1;3mWrong arguments: not all numbers given as arguments to a tool call are available.\u001B[0m\u001B[31;1m\u001B[1;3mWrong arguments: not all numbers given as arguments to a tool call are available.\u001B[0m\u001B[31;1m\u001B[1;3mWrong arguments: not all numbers given as arguments to a tool call are available.\u001B[0m\u001B[31;1m\u001B[1;3mWrong arguments: not all numbers given as arguments to a tool call are available.\u001B[0m\u001B[31;1m\u001B[1;3mWrong arguments: not all numbers given as arguments to a tool call are available.\u001B[0m\u001B[31;1m\u001B[1;3mWrong arguments: not all numbers given as arguments to a tool call are available.\u001B[0m\u001B[31;1m\u001B[1;3mWrong arguments: not all numbers given as arguments to a tool call are available.\u001B[0m\u001B[31;1m\u001B[1;3mWrong arguments: not all numbers given as arguments to a tool call are available.\u001B[0m\u001B[31;1m\u001B[1;3mWrong arguments: not all numbers given as arguments to a tool call are available.\u001B[0m\u001B[31;1m\u001B[1;3mWrong arguments: not all numbers given as arguments to a tool call are available.\u001B[0m\u001B[31;1m\u001B[1;3mWrong arguments: not all numbers given as arguments to a tool call are available.\u001B[0m\u001B[31;1m\u001B[1;3mWrong arguments: not all numbers given as arguments to a tool call are available.\u001B[0m\u001B[31;1m\u001B[1;3mWrong arguments: not all numbers given as arguments to a tool call are available.\u001B[0m\u001B[31;1m\u001B[1;3mWrong arguments: not all numbers given as arguments to a tool call are available.\u001B[0m\u001B[31;1m\u001B[1;3mWrong arguments: not all numbers given as arguments to a tool call are available.\u001B[0m\u001B[31;1m\u001B[1;3mWrong arguments: not all numbers given as arguments to a tool call are available.\u001B[0m\u001B[31;1m\u001B[1;3mWrong arguments: not all numbers given as arguments to a tool call are available.\u001B[0m\u001B[31;1m\u001B[1;3mWrong arguments: not all numbers given as arguments to a tool call are available.\u001B[0m\u001B[31;1m\u001B[1;3mWrong arguments: not all numbers given as arguments to a tool call are available.\u001B[0m\u001B[31;1m\u001B[1;3mWrong arguments: not all numbers given as arguments to a tool call are available.\u001B[0m\u001B[31;1m\u001B[1;3mWrong arguments: not all numbers given as arguments to a tool call are available.\u001B[0m\u001B[31;1m\u001B[1;3mWrong arguments: not all numbers given as arguments to a tool call are available.\u001B[0m\u001B[31;1m\u001B[1;3mWrong arguments: not all numbers given as arguments to a tool call are available.\u001B[0m\u001B[31;1m\u001B[1;3mWrong arguments: not all numbers given as arguments to a tool call are available.\u001B[0m\u001B[31;1m\u001B[1;3mWrong arguments: not all numbers given as arguments to a tool call are available.\u001B[0m\u001B[31;1m\u001B[1;3mWrong arguments: not all numbers given as arguments to a tool call are available.\u001B[0m\u001B[31;1m\u001B[1;3mWrong arguments: not all numbers given as arguments to a tool call are available.\u001B[0m\u001B[31;1m\u001B[1;3mWrong arguments: not all numbers given as arguments to a tool call are available.\u001B[0m\u001B[31;1m\u001B[1;3mWrong arguments: not all numbers given as arguments to a tool call are available.\u001B[0m\u001B[31;1m\u001B[1;3mWrong arguments: not all numbers given as arguments to a tool call are available.\u001B[0m\u001B[31;1m\u001B[1;3mWrong arguments: not all numbers given as arguments to a tool call are available.\u001B[0m\u001B[31;1m\u001B[1;3mWrong arguments: not all numbers given as arguments to a tool call are available.\u001B[0m\u001B[31;1m\u001B[1;3mWrong arguments: not all numbers given as arguments to a tool call are available.\u001B[0m\u001B[31;1m\u001B[1;3mWrong arguments: not all numbers given as arguments to a tool call are available.\u001B[0m\u001B[31;1m\u001B[1;3mWrong arguments: not all numbers given as arguments to a tool call are available.\u001B[0m\u001B[31;1m\u001B[1;3mWrong arguments: not all numbers given as arguments to a tool call are available.\u001B[0m\n",
      "\u001B[1m> Finished chain.\u001B[0m\n"
     ]
    },
    {
     "data": {
      "text/plain": "{'inputs': '1 1 4 6', 'outputs': []}"
     },
     "execution_count": 20,
     "metadata": {},
     "output_type": "execute_result"
    }
   ],
   "source": [
    "env.reset(options={\"numbers\": [1, 1, 4, 6]})\n",
    "strategy_executor.invoke({\"inputs\": \"1 1 4 6\"})"
   ],
   "metadata": {
    "collapsed": false,
    "ExecuteTime": {
     "end_time": "2024-03-12T17:32:21.143294Z",
     "start_time": "2024-03-12T17:30:34.781540Z"
    }
   },
   "id": "b639755556ff403f",
   "execution_count": 20
  }
 ],
 "metadata": {
  "kernelspec": {
   "display_name": "Python 3",
   "language": "python",
   "name": "python3"
  },
  "language_info": {
   "codemirror_mode": {
    "name": "ipython",
    "version": 2
   },
   "file_extension": ".py",
   "mimetype": "text/x-python",
   "name": "python",
   "nbconvert_exporter": "python",
   "pygments_lexer": "ipython2",
   "version": "2.7.6"
  }
 },
 "nbformat": 4,
 "nbformat_minor": 5
}
