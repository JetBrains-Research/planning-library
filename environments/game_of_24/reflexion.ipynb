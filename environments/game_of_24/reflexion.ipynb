{
 "cells": [
  {
   "cell_type": "markdown",
   "source": [
    "# Game of 24: Reflexion"
   ],
   "metadata": {
    "collapsed": false
   },
   "id": "ff7608527eb4e965"
  },
  {
   "cell_type": "markdown",
   "source": [
    "## Utils"
   ],
   "metadata": {
    "collapsed": false
   },
   "id": "a1d5e1faaf9ad1d3"
  },
  {
   "cell_type": "markdown",
   "source": [
    "### Imports"
   ],
   "metadata": {
    "collapsed": false
   },
   "id": "1902f249d0de1c2f"
  },
  {
   "cell_type": "code",
   "execution_count": 18,
   "id": "initial_id",
   "metadata": {
    "collapsed": true,
    "ExecuteTime": {
     "end_time": "2024-03-19T18:32:16.134833Z",
     "start_time": "2024-03-19T18:32:16.119257Z"
    }
   },
   "outputs": [
    {
     "name": "stdout",
     "output_type": "stream",
     "text": [
      "The autoreload extension is already loaded. To reload it, use:\n",
      "  %reload_ext autoreload\n"
     ]
    }
   ],
   "source": [
    "from langchain_openai import ChatOpenAI\n",
    "from langchain.agents.format_scratchpad.openai_tools import format_to_openai_tool_messages\n",
    "from environments.game_of_24.common.evaluate_parser import GameOf24EvaluateOutputParser\n",
    "from environments.game_of_24.reflexion.evaluate_prompts import evaluate_prompt\n",
    "from environments.game_of_24.reflexion.generate_prompts import openai_tools_generate_prompt\n",
    "\n",
    "from environments.game_of_24.reflexion.self_reflection_prompts import (\n",
    "    self_reflection_prompt,\n",
    "    GameOf24SelfReflexionOutputParser,\n",
    ")\n",
    "\n",
    "from planning_library.strategies.reflexion import ReflexionStrategy\n",
    "from operator import itemgetter\n",
    "from environments.game_of_24.common.environment import GameOf24Env\n",
    "\n",
    "import os\n",
    "\n",
    "%load_ext autoreload\n",
    "%autoreload 2"
   ]
  },
  {
   "cell_type": "markdown",
   "source": [
    "### Setting up logging"
   ],
   "metadata": {
    "collapsed": false
   },
   "id": "2c2b8c18817d13da"
  },
  {
   "cell_type": "code",
   "execution_count": 19,
   "outputs": [],
   "source": [
    "os.environ[\"LANGCHAIN_TRACING_V2\"] = \"true\"\n",
    "os.environ[\"LANGCHAIN_PROJECT\"] = \"Reflexion\"\n",
    "os.environ[\"LANGCHAIN_ENDPOINT\"] = \"https://api.smith.langchain.com\""
   ],
   "metadata": {
    "collapsed": false,
    "ExecuteTime": {
     "end_time": "2024-03-19T18:32:16.593364Z",
     "start_time": "2024-03-19T18:32:16.576424Z"
    }
   },
   "id": "8e44e878380dc908"
  },
  {
   "cell_type": "markdown",
   "source": [
    "## Environment"
   ],
   "metadata": {
    "collapsed": false
   },
   "id": "3e2685d6d9b6f290"
  },
  {
   "cell_type": "code",
   "outputs": [],
   "source": [
    "env = GameOf24Env()"
   ],
   "metadata": {
    "collapsed": false,
    "ExecuteTime": {
     "end_time": "2024-03-19T18:32:16.942670Z",
     "start_time": "2024-03-19T18:32:16.927442Z"
    }
   },
   "id": "1de3f972b503f388",
   "execution_count": 20
  },
  {
   "cell_type": "markdown",
   "source": [
    "## Hyperparameters"
   ],
   "metadata": {
    "collapsed": false
   },
   "id": "76f86ff1fff6b2f"
  },
  {
   "cell_type": "code",
   "execution_count": 21,
   "outputs": [],
   "source": [
    "# Reflexion hyperparameters\n",
    "value_threshold = 1.0  # threshold for evaluation; when reached, the loop will exit\n",
    "max_num_iterations = 20  # maximum number of iterations; when reached, the loop will exit\n",
    "\n",
    "# other hyperparameters\n",
    "model_name = \"gpt-3.5-turbo\"\n",
    "temperature = 0.8"
   ],
   "metadata": {
    "collapsed": false,
    "ExecuteTime": {
     "end_time": "2024-03-19T18:32:17.305940Z",
     "start_time": "2024-03-19T18:32:17.290007Z"
    }
   },
   "id": "711000b9d952a294"
  },
  {
   "cell_type": "markdown",
   "source": [
    "## Defining components"
   ],
   "metadata": {
    "collapsed": false
   },
   "id": "4daf328b84bc3660"
  },
  {
   "cell_type": "markdown",
   "source": [
    "### Actor"
   ],
   "metadata": {
    "collapsed": false
   },
   "id": "363a87633864b16f"
  },
  {
   "cell_type": "markdown",
   "source": [
    "Default Actor is powered by [any agent available in LangChain](https://python.langchain.com/docs/modules/agents/agent_types/). Specifically, it expects either [`BaseSingleActionAgent`](https://api.python.langchain.com/en/latest/agents/langchain.agents.agent.BaseSingleActionAgent.html#langchain.agents.agent.BaseSingleActionAgent) or [`BaseMultiAgentAgent`](https://api.python.langchain.com/en/latest/agents/langchain.agents.agent.BaseMultiActionAgent.html#langchain.agents.agent.BaseMultiActionAgent)."
   ],
   "metadata": {
    "collapsed": false
   },
   "id": "4fcf1283040e8e1c"
  },
  {
   "cell_type": "markdown",
   "source": [
    "### Prompt\n",
    "\n",
    "Here is an example of a simple prompt suitable for Game of 24 with Reflexion."
   ],
   "metadata": {
    "collapsed": false
   },
   "id": "6755f268a6bcea17"
  },
  {
   "cell_type": "code",
   "execution_count": 22,
   "outputs": [
    {
     "data": {
      "text/plain": "['agent_scratchpad', 'inputs', 'self_reflections']"
     },
     "execution_count": 22,
     "metadata": {},
     "output_type": "execute_result"
    }
   ],
   "source": [
    "openai_tools_generate_prompt.input_variables"
   ],
   "metadata": {
    "collapsed": false,
    "ExecuteTime": {
     "end_time": "2024-03-19T18:32:18.486596Z",
     "start_time": "2024-03-19T18:32:18.466530Z"
    }
   },
   "id": "3ae3702b1387d48"
  },
  {
   "cell_type": "code",
   "execution_count": 23,
   "outputs": [
    {
     "name": "stdout",
     "output_type": "stream",
     "text": [
      "System: You are an advanced reasoning agent that plays Game of 24. You can improve based on self-reflection.\n",
      "Human: You are given four numbers, and your goal is to obtain 24 from given numbers via basic arithmetic operations. This might be not the first attempt you took, so pay attention to self-reflections about your previous failures. When you're ready to answer, make sure to include a mathematical expression showing how to obtain 24 from given numbers, for instance: '(2 + 2) * (12 / 2) = 24'. \n",
      "Inputs:\n",
      "2 3 6 4\n",
      "Self-reflections:\n",
      "none\n"
     ]
    }
   ],
   "source": [
    "print(openai_tools_generate_prompt.format(inputs=\"2 3 6 4\", self_reflections=\"none\", agent_scratchpad=[]))"
   ],
   "metadata": {
    "collapsed": false,
    "ExecuteTime": {
     "end_time": "2024-03-19T18:32:18.702083Z",
     "start_time": "2024-03-19T18:32:18.685368Z"
    }
   },
   "id": "ff36c39e1add5585"
  },
  {
   "cell_type": "markdown",
   "source": [
    "### Tools\n",
    "\n",
    "For Game of 24, we provide the agent with simple tools performing basic arithmetical operations."
   ],
   "metadata": {
    "collapsed": false
   },
   "id": "67b093b0d04d13f3"
  },
  {
   "cell_type": "code",
   "outputs": [
    {
     "data": {
      "text/plain": "[AddTool(env=<environments.game_of_24.common.environment.GameOf24Env object at 0x1317a0310>),\n MultiplyTool(env=<environments.game_of_24.common.environment.GameOf24Env object at 0x1317a0310>),\n SubtractTool(env=<environments.game_of_24.common.environment.GameOf24Env object at 0x1317a0310>),\n DivideTool(env=<environments.game_of_24.common.environment.GameOf24Env object at 0x1317a0310>)]"
     },
     "execution_count": 24,
     "metadata": {},
     "output_type": "execute_result"
    }
   ],
   "source": [
    "tools = env.tools\n",
    "tools"
   ],
   "metadata": {
    "collapsed": false,
    "ExecuteTime": {
     "end_time": "2024-03-19T18:32:19.114240Z",
     "start_time": "2024-03-19T18:32:19.098677Z"
    }
   },
   "id": "df0d93627e4e5bb4",
   "execution_count": 24
  },
  {
   "cell_type": "markdown",
   "source": [
    "### Putting It All Together\n",
    "\n",
    "Let's use [OpenAI Tools](https://python.langchain.com/docs/modules/agents/agent_types/openai_tools) agent."
   ],
   "metadata": {
    "collapsed": false
   },
   "id": "b49b74a661a38e84"
  },
  {
   "cell_type": "code",
   "outputs": [],
   "source": [
    "from langchain.agents import create_openai_tools_agent\n",
    "\n",
    "\n",
    "agent = create_openai_tools_agent(\n",
    "    llm=ChatOpenAI(model=model_name, temperature=temperature),\n",
    "    tools=tools,\n",
    "    prompt=openai_tools_generate_prompt,\n",
    ")"
   ],
   "metadata": {
    "collapsed": false,
    "ExecuteTime": {
     "end_time": "2024-03-19T18:32:19.573415Z",
     "start_time": "2024-03-19T18:32:19.544983Z"
    }
   },
   "id": "8a44035a7b630a4d",
   "execution_count": 25
  },
  {
   "cell_type": "markdown",
   "source": [
    "### Evaluator\n",
    "\n",
    "Default Evaluator is powered by a [`Runnable`](https://python.langchain.com/docs/expression_language/interface) that takes in:\n",
    "\n",
    "* `inputs`: original inputs\n",
    "* `intermediate_steps`: a sequence of agent actions\n",
    "* `agent_outcome`: final answer\n",
    "\n",
    "It is allowed to return anything. In this case, it returns a float ranging from 0 to 1."
   ],
   "metadata": {
    "collapsed": false
   },
   "id": "3bab4bf13d795da4"
  },
  {
   "cell_type": "markdown",
   "source": [
    "### Prompt"
   ],
   "metadata": {
    "collapsed": false
   },
   "id": "af48b5b3450947fd"
  },
  {
   "cell_type": "code",
   "execution_count": 26,
   "outputs": [
    {
     "data": {
      "text/plain": "['agent_outcome', 'inputs', 'intermediate_steps']"
     },
     "execution_count": 26,
     "metadata": {},
     "output_type": "execute_result"
    }
   ],
   "source": [
    "evaluate_prompt.input_variables"
   ],
   "metadata": {
    "collapsed": false,
    "ExecuteTime": {
     "end_time": "2024-03-19T18:32:20.193309Z",
     "start_time": "2024-03-19T18:32:20.173392Z"
    }
   },
   "id": "eb7dcd3839b1953c"
  },
  {
   "cell_type": "code",
   "execution_count": 27,
   "outputs": [
    {
     "name": "stdout",
     "output_type": "stream",
     "text": [
      "System: You are a helpful assistant that judges whether answers to Game of 24 are correct.\n",
      "Human: Given an input and an answer, give a judgement (sure/impossible) if the answer is correct, i.e. 1) it uses each given number exactly once; 2) it doesn't use any other number; 3) given mathematical expression correctly reaches 24. Here are some examples:\n",
      "\n",
      "Human: Input: 4 4 6 8\n",
      "Answer: (4 + 8) * (6 - 4) = 24\n",
      "Judge:\n",
      "AI: sure\n",
      "Human: Input: 2 9 10 12\n",
      "Answer: 2 * 12 * (10 - 9) = 24\n",
      "Judge:\n",
      "AI: sure\n",
      "Human: Input: 4 9 10 13\n",
      "Answer: (13 - 9) * (10 - 4) = 24\n",
      "Judge:\n",
      "AI: sure\n",
      "Human: Input: 4 4 6 8\n",
      "Answer: (4 + 8) * (6 - 4) + 1 = 25\n",
      "Judge:\n",
      "AI: impossible\n",
      "Human: Input: 2 9 10 12\n",
      "Answer: 2 * 12 * (10 - 9) = 24\n",
      "Judge:\n",
      "AI: sure\n",
      "Human: Input: 2 9 10 12\n",
      "Answer: 2 * (12 - 10) = 24\n",
      "Judge:\n",
      "AI: impossible\n",
      "Human: Input: 4 9 10 13\n",
      "Answer: (13 - 4) * (10 - 9) = 24\n",
      "Judge:\n",
      "AI: impossible\n",
      "Human: Inputs: 2 3 6 4\n",
      "Human: Answer: 2 + 3 + 6 + 4 = 24\n",
      "Judge:\n"
     ]
    }
   ],
   "source": [
    "print(evaluate_prompt.format(inputs=\"2 3 6 4\", agent_outcome=\"2 + 3 + 6 + 4 = 24\", intermediate_steps=[]))"
   ],
   "metadata": {
    "collapsed": false,
    "ExecuteTime": {
     "end_time": "2024-03-19T18:32:20.425931Z",
     "start_time": "2024-03-19T18:32:20.409359Z"
    }
   },
   "id": "5067a1639ff3c9ad"
  },
  {
   "cell_type": "markdown",
   "source": [
    "### Putting It All Together"
   ],
   "metadata": {
    "collapsed": false
   },
   "id": "ee2c888af93760e1"
  },
  {
   "cell_type": "code",
   "execution_count": 28,
   "outputs": [],
   "source": [
    "evaluator_runnable = (\n",
    "    {\n",
    "        \"inputs\": itemgetter(\"inputs\"),\n",
    "        \"intermediate_steps\": lambda x: format_to_openai_tool_messages(x[\"intermediate_steps\"]),\n",
    "        \"agent_outcome\": lambda x: x[\"agent_outcome\"].return_values[\"output\"],\n",
    "    }\n",
    "    | evaluate_prompt\n",
    "    | ChatOpenAI(model=model_name, temperature=temperature)\n",
    "    | GameOf24EvaluateOutputParser()\n",
    ")"
   ],
   "metadata": {
    "collapsed": false,
    "ExecuteTime": {
     "end_time": "2024-03-19T18:32:20.904490Z",
     "start_time": "2024-03-19T18:32:20.876276Z"
    }
   },
   "id": "dc6a14af7a1cc8de"
  },
  {
   "cell_type": "markdown",
   "source": [
    "### Self-Reflection"
   ],
   "metadata": {
    "collapsed": false
   },
   "id": "eb2c9a901edf216e"
  },
  {
   "cell_type": "markdown",
   "source": [
    "Default Self-Reflection is powered by a [`Runnable`](https://python.langchain.com/docs/expression_language/interface) that takes in:\n",
    "\n",
    "* `inputs`: original inputs\n",
    "* `intermediate_steps`: a sequence of agent actions\n",
    "* `agent_outcome`: final answer\n",
    "\n",
    "And returns a single self-reflection: high-level plan of what went wrong in a current trial."
   ],
   "metadata": {
    "collapsed": false
   },
   "id": "d1703c9750ab7204"
  },
  {
   "cell_type": "markdown",
   "source": [
    "### Prompt"
   ],
   "metadata": {
    "collapsed": false
   },
   "id": "d60bda5616554eed"
  },
  {
   "cell_type": "code",
   "execution_count": 29,
   "outputs": [
    {
     "data": {
      "text/plain": "['agent_outcome', 'inputs', 'intermediate_steps']"
     },
     "execution_count": 29,
     "metadata": {},
     "output_type": "execute_result"
    }
   ],
   "source": [
    "self_reflection_prompt.input_variables"
   ],
   "metadata": {
    "collapsed": false,
    "ExecuteTime": {
     "end_time": "2024-03-19T18:32:22.038081Z",
     "start_time": "2024-03-19T18:32:22.020890Z"
    }
   },
   "id": "796866acdeadec86"
  },
  {
   "cell_type": "code",
   "execution_count": 30,
   "outputs": [
    {
     "name": "stdout",
     "output_type": "stream",
     "text": [
      "System: You are an advanced reasoning agent that can self-reflect on their shortcomings when solving reasoning tasks.\n",
      "Human: You will be given your previous trial in Game of 24, where you had to use basic arithmetic operations (+ - * /) with given numbers to obtain 24. You were unsuccessful. In a few sentences, diagnose a possible reason for failure and devise a new, concise, high level plan that aims to mitigate the same failure. Use complete sentences.\n",
      "Human: Input: 2 3 6 4\n",
      "Human: Answer: 2 + 3 + 4 + 6 = 24\n",
      "Self-reflection:\n"
     ]
    }
   ],
   "source": [
    "print(\n",
    "    self_reflection_prompt.format(\n",
    "        inputs=\"2 3 6 4\",\n",
    "        intermediate_steps=[],\n",
    "        agent_outcome=\"2 + 3 + 4 + 6 = 24\",\n",
    "    )\n",
    ")"
   ],
   "metadata": {
    "collapsed": false,
    "ExecuteTime": {
     "end_time": "2024-03-19T18:32:22.417113Z",
     "start_time": "2024-03-19T18:32:22.403243Z"
    }
   },
   "id": "c2fd9b4d747fb08a"
  },
  {
   "cell_type": "markdown",
   "source": [
    "### Putting It All Together"
   ],
   "metadata": {
    "collapsed": false
   },
   "id": "3b9671757930b783"
  },
  {
   "cell_type": "code",
   "execution_count": 31,
   "outputs": [],
   "source": [
    "self_reflection_runnable = (\n",
    "    {\n",
    "        \"inputs\": itemgetter(\"inputs\"),\n",
    "        \"intermediate_steps\": lambda x: format_to_openai_tool_messages(x[\"intermediate_steps\"]),\n",
    "        \"agent_outcome\": lambda x: x[\"agent_outcome\"].return_values[\"output\"],\n",
    "    }\n",
    "    | self_reflection_prompt\n",
    "    | ChatOpenAI(model=model_name, temperature=temperature)\n",
    "    | GameOf24SelfReflexionOutputParser()\n",
    ")"
   ],
   "metadata": {
    "collapsed": false,
    "ExecuteTime": {
     "end_time": "2024-03-19T18:32:23.289161Z",
     "start_time": "2024-03-19T18:32:23.269166Z"
    }
   },
   "id": "fd75de10e82a649a"
  },
  {
   "cell_type": "markdown",
   "source": [
    "## Defining strategy"
   ],
   "metadata": {
    "collapsed": false
   },
   "id": "c4deafdf01a26c7e"
  },
  {
   "cell_type": "code",
   "execution_count": 32,
   "outputs": [],
   "source": [
    "from planning_library.action_executors import GymnasiumActionExecutor\n",
    "from typing import Dict, Any\n",
    "\n",
    "\n",
    "def reset_environment(inputs: Dict[str, Any]) -> None:\n",
    "    env.reset(options={\"numbers\": [float(n) for n in inputs[\"inputs\"].split()]})\n",
    "\n",
    "\n",
    "action_executor = GymnasiumActionExecutor(env)\n",
    "\n",
    "reflexion = ReflexionStrategy.create(\n",
    "    agent=agent,\n",
    "    tools=tools,\n",
    "    action_executor=action_executor,\n",
    "    evaluator_runnable=evaluator_runnable,\n",
    "    self_reflection_runnable=self_reflection_runnable,\n",
    "    value_threshold=value_threshold,\n",
    "    reset_environment=reset_environment,\n",
    "    max_iterations=max_num_iterations,\n",
    ")"
   ],
   "metadata": {
    "collapsed": false,
    "ExecuteTime": {
     "end_time": "2024-03-19T18:32:24.191583Z",
     "start_time": "2024-03-19T18:32:24.176271Z"
    }
   },
   "id": "26931470b1253194"
  },
  {
   "cell_type": "markdown",
   "source": [
    "## Invoking strategy"
   ],
   "metadata": {
    "collapsed": false
   },
   "id": "f47dd12321ab7abb"
  },
  {
   "cell_type": "code",
   "outputs": [
    {
     "data": {
      "text/plain": "{'inputs': {'inputs': '1 1 4 6'},\n 'agent_outcome': AgentFinish(return_values={'output': 'I have successfully obtained 24 from the numbers 1, 1, 4, and 6. Here is the expression: \\n\\n\\\\(1 \\\\times 4 \\\\times 6 = 24\\\\)'}, log='I have successfully obtained 24 from the numbers 1, 1, 4, and 6. Here is the expression: \\n\\n\\\\(1 \\\\times 4 \\\\times 6 = 24\\\\)'),\n 'evaluator_score': 1.0,\n 'evaluator_should_continue': False,\n 'self_reflection_memory': ChatMessageHistory(messages=[]),\n 'self_reflections': [],\n 'intermediate_steps': [(OpenAIToolAgentAction(tool='multiply', tool_input={'number1': 1, 'number2': 4}, log=\"\\nInvoking: `multiply` with `{'number1': 1, 'number2': 4}`\\n\\n\\n\", message_log=[AIMessageChunk(content='', additional_kwargs={'tool_calls': [{'index': 0, 'id': 'call_jaU9RkvK550RdpFIUGm19eT4', 'function': {'arguments': '{\"number1\": 1, \"number2\": 4}', 'name': 'multiply'}, 'type': 'function'}, {'index': 1, 'id': 'call_EjEBZGyclLyzqerQ5qHs8a5i', 'function': {'arguments': '{\"number1\": 1, \"number2\": 6}', 'name': 'multiply'}, 'type': 'function'}]})], tool_call_id='call_jaU9RkvK550RdpFIUGm19eT4'),\n   {'observation': 'result of current arithmetical operation on 1.0 and 4.0 is 4.0',\n    'reward': 0,\n    'terminated': False,\n    'truncated': False,\n    'info': {'numbers': '1.0 6.0 4.0'}}),\n  (OpenAIToolAgentAction(tool='multiply', tool_input={'number1': 1, 'number2': 6}, log=\"\\nInvoking: `multiply` with `{'number1': 1, 'number2': 6}`\\n\\n\\n\", message_log=[AIMessageChunk(content='', additional_kwargs={'tool_calls': [{'index': 0, 'id': 'call_jaU9RkvK550RdpFIUGm19eT4', 'function': {'arguments': '{\"number1\": 1, \"number2\": 4}', 'name': 'multiply'}, 'type': 'function'}, {'index': 1, 'id': 'call_EjEBZGyclLyzqerQ5qHs8a5i', 'function': {'arguments': '{\"number1\": 1, \"number2\": 6}', 'name': 'multiply'}, 'type': 'function'}]})], tool_call_id='call_EjEBZGyclLyzqerQ5qHs8a5i'),\n   {'observation': 'result of current arithmetical operation on 1.0 and 6.0 is 6.0',\n    'reward': 0,\n    'terminated': False,\n    'truncated': False,\n    'info': {'numbers': '4.0 6.0'}}),\n  (OpenAIToolAgentAction(tool='multiply', tool_input={'number1': 4, 'number2': 6}, log=\"\\nInvoking: `multiply` with `{'number1': 4, 'number2': 6}`\\n\\n\\n\", message_log=[AIMessageChunk(content='', additional_kwargs={'tool_calls': [{'index': 0, 'id': 'call_smqNjji1n6tgySAKABLuaCeR', 'function': {'arguments': '{\"number1\":4,\"number2\":6}', 'name': 'multiply'}, 'type': 'function'}]})], tool_call_id='call_smqNjji1n6tgySAKABLuaCeR'),\n   {'observation': 'result of current arithmetical operation on 4.0 and 6.0 is 24.0',\n    'reward': 1,\n    'terminated': True,\n    'truncated': False,\n    'info': {'numbers': '24.0'}})],\n 'iteration': 1}"
     },
     "execution_count": 33,
     "metadata": {},
     "output_type": "execute_result"
    }
   ],
   "source": [
    "env.reset(options={\"numbers\": [1, 1, 4, 6]})\n",
    "reflexion.invoke(\n",
    "    {\"inputs\": {\"inputs\": \"1 1 4 6\"}},\n",
    "    {\"recursion_limit\": 1000},\n",
    ")"
   ],
   "metadata": {
    "collapsed": false,
    "ExecuteTime": {
     "end_time": "2024-03-19T18:32:30.863116Z",
     "start_time": "2024-03-19T18:32:24.973274Z"
    }
   },
   "id": "7d067d5dfd844162",
   "execution_count": 33
  }
 ],
 "metadata": {
  "kernelspec": {
   "display_name": "Python 3",
   "language": "python",
   "name": "python3"
  },
  "language_info": {
   "codemirror_mode": {
    "name": "ipython",
    "version": 2
   },
   "file_extension": ".py",
   "mimetype": "text/x-python",
   "name": "python",
   "nbconvert_exporter": "python",
   "pygments_lexer": "ipython2",
   "version": "2.7.6"
  }
 },
 "nbformat": 4,
 "nbformat_minor": 5
}
