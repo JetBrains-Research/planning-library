{
 "cells": [
  {
   "cell_type": "markdown",
   "source": [
    "# Utils"
   ],
   "metadata": {
    "collapsed": false
   },
   "id": "1fef8f224fc8d74e"
  },
  {
   "cell_type": "markdown",
   "source": [
    "## Imports"
   ],
   "metadata": {
    "collapsed": false
   },
   "id": "14f9579a2b3aa475"
  },
  {
   "cell_type": "code",
   "outputs": [
    {
     "name": "stdout",
     "output_type": "stream",
     "text": [
      "The autoreload extension is already loaded. To reload it, use:\n",
      "  %reload_ext autoreload\n"
     ]
    }
   ],
   "source": [
    "from langchain_openai import ChatOpenAI\n",
    "from textwrap import dedent\n",
    "from environments.game_of_24.reflexion.generate_prompts import openai_tools_generate_prompt\n",
    "\n",
    "from planning_library.strategies.reflexion import ReflexionStrategy\n",
    "from planning_library.strategies.reflexion.components import ReflexionActor, ReflexionEvaluator, ReflexionSelfReflection\n",
    "from environments.game_of_24.common.environment import GameOf24Env\n",
    "\n",
    "import os\n",
    "\n",
    "%load_ext autoreload\n",
    "%autoreload 2"
   ],
   "metadata": {
    "collapsed": false,
    "ExecuteTime": {
     "end_time": "2024-04-05T18:11:01.956562Z",
     "start_time": "2024-04-05T18:11:01.883461Z"
    }
   },
   "id": "b53511c71640dcea",
   "execution_count": 17
  },
  {
   "cell_type": "markdown",
   "source": [
    "## Logging"
   ],
   "metadata": {
    "collapsed": false
   },
   "id": "fa006dc2f0d04e39"
  },
  {
   "cell_type": "code",
   "outputs": [],
   "source": [
    "os.environ[\"LANGCHAIN_TRACING_V2\"] = \"true\"\n",
    "os.environ[\"LANGCHAIN_PROJECT\"] = \"Reflexion (new) + Game of 24\"\n",
    "os.environ[\"LANGCHAIN_ENDPOINT\"] = \"https://api.smith.langchain.com\""
   ],
   "metadata": {
    "collapsed": false,
    "ExecuteTime": {
     "end_time": "2024-04-05T18:11:02.293252Z",
     "start_time": "2024-04-05T18:11:02.277753Z"
    }
   },
   "id": "c6dea842a5c669ab",
   "execution_count": 18
  },
  {
   "cell_type": "markdown",
   "source": [
    "## Defining environment"
   ],
   "metadata": {
    "collapsed": false
   },
   "id": "89ceb41dcab95adc"
  },
  {
   "cell_type": "code",
   "outputs": [],
   "source": [
    "env = GameOf24Env()"
   ],
   "metadata": {
    "collapsed": false,
    "ExecuteTime": {
     "end_time": "2024-04-05T18:11:02.732979Z",
     "start_time": "2024-04-05T18:11:02.721034Z"
    }
   },
   "id": "6777295e88f644e7",
   "execution_count": 19
  },
  {
   "cell_type": "markdown",
   "source": [
    "## Defining hyperparameters"
   ],
   "metadata": {
    "collapsed": false
   },
   "id": "57c32637a187d62e"
  },
  {
   "cell_type": "code",
   "outputs": [],
   "source": [
    "# Reflexion hyperparameters\n",
    "value_threshold = 1.0  # threshold for evaluation; when reached, the loop will exit\n",
    "max_num_iterations = 2  # maximum number of iterations; when reached, the loop will exit\n",
    "\n",
    "# other hyperparameters\n",
    "model_name = \"gpt-3.5-turbo\"\n",
    "temperature = 0.8"
   ],
   "metadata": {
    "collapsed": false,
    "ExecuteTime": {
     "end_time": "2024-04-05T18:11:03.105269Z",
     "start_time": "2024-04-05T18:11:03.089772Z"
    }
   },
   "id": "b98d2eebc3a91cbe",
   "execution_count": 20
  },
  {
   "cell_type": "markdown",
   "source": [
    "# Defining strategy components"
   ],
   "metadata": {
    "collapsed": false
   },
   "id": "7f67d00c3360f761"
  },
  {
   "cell_type": "markdown",
   "source": [
    "## Agent"
   ],
   "metadata": {
    "collapsed": false
   },
   "id": "3007e162abab3317"
  },
  {
   "cell_type": "markdown",
   "source": [
    "### Working with function calling parsers\n",
    "\n",
    "There are two base function calling parsers classes (for single-action & for multi-action), defined in `planning_library.function_calling_parsers.base_parser`. \n",
    "\n",
    "I implemented output parsers for OpenAI Functions (in `planning_library.function_calling_parsers.openai_functions_parser`) and OpenAI Tools (in `planning_library.function_calling_parsers.openai_tools_parser`).\n",
    "\n",
    "There is also a registry for accessing available parsers conveniently:"
   ],
   "metadata": {
    "collapsed": false
   },
   "id": "23bd6a1dcccdf6d3"
  },
  {
   "cell_type": "code",
   "outputs": [
    {
     "data": {
      "text/plain": "['openai-functions', 'openai-tools']"
     },
     "execution_count": 21,
     "metadata": {},
     "output_type": "execute_result"
    }
   ],
   "source": [
    "from planning_library.function_calling_parsers import ParserRegistry\n",
    "\n",
    "\n",
    "ParserRegistry.get_available_parsers()"
   ],
   "metadata": {
    "collapsed": false,
    "ExecuteTime": {
     "end_time": "2024-04-05T18:11:03.779221Z",
     "start_time": "2024-04-05T18:11:03.764263Z"
    }
   },
   "id": "d436b68b58554bcc",
   "execution_count": 21
  },
  {
   "cell_type": "code",
   "outputs": [
    {
     "data": {
      "text/plain": "<planning_library.function_calling_parsers.openai_functions_parser.OpenAIFunctionsParser at 0x164755c50>"
     },
     "execution_count": 22,
     "metadata": {},
     "output_type": "execute_result"
    }
   ],
   "source": [
    "ParserRegistry.get_parser(\"openai-functions\")"
   ],
   "metadata": {
    "collapsed": false,
    "ExecuteTime": {
     "end_time": "2024-04-05T18:11:03.945035Z",
     "start_time": "2024-04-05T18:11:03.927761Z"
    }
   },
   "id": "dc62e0f88fd9e2f5",
   "execution_count": 22
  },
  {
   "cell_type": "code",
   "outputs": [
    {
     "ename": "ValueError",
     "evalue": "Unknown parser openai-123. Currently available are: ['openai-functions', 'openai-tools']",
     "output_type": "error",
     "traceback": [
      "\u001B[0;31m---------------------------------------------------------------------------\u001B[0m",
      "\u001B[0;31mKeyError\u001B[0m                                  Traceback (most recent call last)",
      "File \u001B[0;32m~/PycharmProjects/planning-library/planning_library/function_calling_parsers/parser_registry.py:20\u001B[0m, in \u001B[0;36mParserRegistry.get_parser\u001B[0;34m(cls, parser_name)\u001B[0m\n\u001B[1;32m     19\u001B[0m \u001B[38;5;28;01mtry\u001B[39;00m:\n\u001B[0;32m---> 20\u001B[0m     \u001B[38;5;28;01mreturn\u001B[39;00m \u001B[38;5;28;43mcls\u001B[39;49m\u001B[38;5;241;43m.\u001B[39;49m\u001B[43mregistry\u001B[49m\u001B[43m[\u001B[49m\u001B[43mparser_name\u001B[49m\u001B[43m]\u001B[49m\n\u001B[1;32m     21\u001B[0m \u001B[38;5;28;01mexcept\u001B[39;00m \u001B[38;5;167;01mKeyError\u001B[39;00m:\n",
      "\u001B[0;31mKeyError\u001B[0m: 'openai-123'",
      "\nDuring handling of the above exception, another exception occurred:\n",
      "\u001B[0;31mValueError\u001B[0m                                Traceback (most recent call last)",
      "Cell \u001B[0;32mIn[23], line 1\u001B[0m\n\u001B[0;32m----> 1\u001B[0m \u001B[43mParserRegistry\u001B[49m\u001B[38;5;241;43m.\u001B[39;49m\u001B[43mget_parser\u001B[49m\u001B[43m(\u001B[49m\u001B[38;5;124;43m\"\u001B[39;49m\u001B[38;5;124;43mopenai-123\u001B[39;49m\u001B[38;5;124;43m\"\u001B[39;49m\u001B[43m)\u001B[49m\n",
      "File \u001B[0;32m~/PycharmProjects/planning-library/planning_library/function_calling_parsers/parser_registry.py:22\u001B[0m, in \u001B[0;36mParserRegistry.get_parser\u001B[0;34m(cls, parser_name)\u001B[0m\n\u001B[1;32m     20\u001B[0m     \u001B[38;5;28;01mreturn\u001B[39;00m \u001B[38;5;28mcls\u001B[39m\u001B[38;5;241m.\u001B[39mregistry[parser_name]\n\u001B[1;32m     21\u001B[0m \u001B[38;5;28;01mexcept\u001B[39;00m \u001B[38;5;167;01mKeyError\u001B[39;00m:\n\u001B[0;32m---> 22\u001B[0m     \u001B[38;5;28;01mraise\u001B[39;00m \u001B[38;5;167;01mValueError\u001B[39;00m(\n\u001B[1;32m     23\u001B[0m         \u001B[38;5;124mf\u001B[39m\u001B[38;5;124m\"\u001B[39m\u001B[38;5;124mUnknown parser \u001B[39m\u001B[38;5;132;01m{\u001B[39;00mparser_name\u001B[38;5;132;01m}\u001B[39;00m\u001B[38;5;124m. Currently available are: \u001B[39m\u001B[38;5;132;01m{\u001B[39;00m\u001B[38;5;28mcls\u001B[39m\u001B[38;5;241m.\u001B[39mget_available_parsers()\u001B[38;5;132;01m}\u001B[39;00m\u001B[38;5;124m\"\u001B[39m\n\u001B[1;32m     24\u001B[0m     )\n",
      "\u001B[0;31mValueError\u001B[0m: Unknown parser openai-123. Currently available are: ['openai-functions', 'openai-tools']"
     ]
    }
   ],
   "source": [
    "ParserRegistry.get_parser(\"openai-123\")"
   ],
   "metadata": {
    "collapsed": false,
    "ExecuteTime": {
     "end_time": "2024-04-05T18:11:04.142100Z",
     "start_time": "2024-04-05T18:11:04.110779Z"
    }
   },
   "id": "8215e89168ce1a32",
   "execution_count": 23
  },
  {
   "cell_type": "markdown",
   "source": [
    "### Instantiating an agent\n"
   ],
   "metadata": {
    "collapsed": false
   },
   "id": "43d4286579b6ec2e"
  },
  {
   "cell_type": "markdown",
   "source": [
    "Agent components:\n",
    "\n",
    "* LLM (`BaseChatModel` from LangChain)\n",
    "* Prompt (`ChatPromptTemplate` from LangChain)\n",
    "* Tools (`Sequence[BaseTool]`, where `BaseTool` is a LangChain primitive)\n",
    "* Function Calling Parser (either passed explicitly or by its name)"
   ],
   "metadata": {
    "collapsed": false
   },
   "id": "d66fb225e916d5f9"
  },
  {
   "cell_type": "code",
   "outputs": [],
   "source": [
    "from planning_library.components.agent_component import AgentFactory\n",
    "\n",
    "# passing parser's name\n",
    "agent = AgentFactory.create_agent(llm=ChatOpenAI(model=model_name, temperature=temperature), prompt=openai_tools_generate_prompt, tools=env.tools, parser_name=\"openai-tools\")"
   ],
   "metadata": {
    "collapsed": false,
    "ExecuteTime": {
     "end_time": "2024-04-05T18:11:04.645143Z",
     "start_time": "2024-04-05T18:11:04.622532Z"
    }
   },
   "id": "8b4fb78057f1c638",
   "execution_count": 24
  },
  {
   "cell_type": "code",
   "outputs": [],
   "source": [
    "from planning_library.function_calling_parsers import OpenAIToolsParser\n",
    "\n",
    "# passing parser explicitly\n",
    "agent = AgentFactory.create_agent(llm=ChatOpenAI(model=model_name, temperature=temperature), prompt=openai_tools_generate_prompt, tools=env.tools, parser=OpenAIToolsParser())"
   ],
   "metadata": {
    "collapsed": false,
    "ExecuteTime": {
     "end_time": "2024-04-05T18:11:04.802764Z",
     "start_time": "2024-04-05T18:11:04.778565Z"
    }
   },
   "id": "ce217e236c1ac466",
   "execution_count": 25
  },
  {
   "cell_type": "code",
   "outputs": [],
   "source": [
    "# one way to define an actor component after agent has been created\n",
    "actor = ReflexionActor(agent=agent)"
   ],
   "metadata": {
    "collapsed": false,
    "ExecuteTime": {
     "end_time": "2024-04-05T18:11:04.945607Z",
     "start_time": "2024-04-05T18:11:04.932790Z"
    }
   },
   "id": "a3dc51120ddb467b",
   "execution_count": 26
  },
  {
   "cell_type": "code",
   "outputs": [],
   "source": [
    "# each component powered by agent also has a similar interface\n",
    "# also, there's an option to define only part of the prompt instead of passing full template; default prompt, specific for current component in current strategy, will be used\n",
    "actor = ReflexionActor.create(llm=ChatOpenAI(model=model_name, temperature=temperature), tools=env.tools, parser=OpenAIToolsParser(), user_message=dedent(\"\"\"\n",
    "            You are given four numbers, and your goal is to obtain 24 from given numbers via basic arithmetic operations. \n",
    "            This might be not the first attempt you took, so pay attention to self-reflections about your previous failures. \n",
    "            When you're ready to answer, make sure to include a mathematical expression showing how to obtain 24 from given numbers, \n",
    "            for instance: '(2 + 2) * (12 / 2) = 24'.\n",
    "            \n",
    "            Inputs:\n",
    "            {inputs})\"\"\"))"
   ],
   "metadata": {
    "collapsed": false,
    "ExecuteTime": {
     "end_time": "2024-04-05T18:11:05.198060Z",
     "start_time": "2024-04-05T18:11:05.168925Z"
    }
   },
   "id": "34acfc8b28bbaf2f",
   "execution_count": 27
  },
  {
   "cell_type": "markdown",
   "source": [],
   "metadata": {
    "collapsed": false
   },
   "id": "4125fc03d924f1c8"
  },
  {
   "cell_type": "markdown",
   "source": [
    "## Other components"
   ],
   "metadata": {
    "collapsed": false
   },
   "id": "4289010808288890"
  },
  {
   "cell_type": "markdown",
   "source": [
    "Other Reflexion components are even simpler by default, since they don't use tools.\n",
    "\n",
    "* Self-Reflection needs only prompt + LLM.\n",
    "* Evaluator needs prompt + LLM + threshold (it outputs a float, and the execution loop will continue only if float < threshold).\n",
    "\n",
    "However, in this case, both components also receive intermediate_steps as part of input, so they also need the same parser.\n"
   ],
   "metadata": {
    "collapsed": false
   },
   "id": "c7b14e5e5c101c77"
  },
  {
   "cell_type": "code",
   "outputs": [],
   "source": [
    "evaluator = ReflexionEvaluator.create(llm=ChatOpenAI(model=model_name, temperature=temperature), user_message=dedent(\"\"\"\"Given an input and an answer, give a judgement if the answer is correct, i.e. 1) it uses each given number exactly once; 2) it doesn't use any other number; 3) given mathematical expression correctly reaches 24.\"\"\"), threshold=value_threshold, parser_name=\"openai-tools\")"
   ],
   "metadata": {
    "collapsed": false,
    "ExecuteTime": {
     "end_time": "2024-04-05T18:11:06.042951Z",
     "start_time": "2024-04-05T18:11:06.018930Z"
    }
   },
   "id": "608d21e1c040ba1d",
   "execution_count": 28
  },
  {
   "cell_type": "code",
   "outputs": [],
   "source": [
    "self_reflection = ReflexionSelfReflection.create(llm=ChatOpenAI(model=model_name, temperature=temperature), user_message=dedent(\"\"\"You will be given your previous trial in Game of 24, where you had to use basic arithmetic operations (+ - * /) with given numbers to obtain 24. You were unsuccessful.\"\"\"), parser_name=\"openai-tools\")"
   ],
   "metadata": {
    "collapsed": false,
    "ExecuteTime": {
     "end_time": "2024-04-05T18:11:06.318049Z",
     "start_time": "2024-04-05T18:11:06.290052Z"
    }
   },
   "id": "b20c88b95bc90932",
   "execution_count": 29
  },
  {
   "cell_type": "code",
   "outputs": [],
   "source": [
    "from planning_library.action_executors import GymnasiumActionExecutor\n",
    "from typing import Dict, Any\n",
    "\n",
    "\n",
    "def reset_environment(inputs: Dict[str, Any]) -> None:\n",
    "    env.reset(options={\"numbers\": [float(n) for n in inputs[\"inputs\"].split()]})\n",
    "\n",
    "\n",
    "action_executor = GymnasiumActionExecutor(env)"
   ],
   "metadata": {
    "collapsed": false,
    "ExecuteTime": {
     "end_time": "2024-04-05T18:11:06.520333Z",
     "start_time": "2024-04-05T18:11:06.501155Z"
    }
   },
   "id": "f6e2fed4f770e360",
   "execution_count": 30
  },
  {
   "cell_type": "code",
   "outputs": [],
   "source": [
    "reflexion = ReflexionStrategy.create_from_components(\n",
    "    action_executor=action_executor,\n",
    "    actor=actor,\n",
    "    evaluator=evaluator,\n",
    "    self_reflection=self_reflection,\n",
    "    reset_environment=reset_environment,\n",
    "    max_iterations=max_num_iterations,\n",
    ")"
   ],
   "metadata": {
    "collapsed": false,
    "ExecuteTime": {
     "end_time": "2024-04-05T18:11:06.754305Z",
     "start_time": "2024-04-05T18:11:06.734934Z"
    }
   },
   "id": "d5217c49707cefc",
   "execution_count": 31
  },
  {
   "cell_type": "code",
   "outputs": [
    {
     "data": {
      "text/plain": "{'inputs': {'inputs': '1 1 4 6'},\n 'agent_outcome': AgentFinish(return_values={'output': \"I have performed the operations as follows:\\n- \\\\(1 + 1 = 2\\\\)\\n- \\\\(4 \\\\times 6 = 24\\\\)\\n\\nUnfortunately, the current result is not 24. Let's continue exploring other possible combinations. \\n\\nRemaining numbers: 2, 24.\"}, log=\"I have performed the operations as follows:\\n- \\\\(1 + 1 = 2\\\\)\\n- \\\\(4 \\\\times 6 = 24\\\\)\\n\\nUnfortunately, the current result is not 24. Let's continue exploring other possible combinations. \\n\\nRemaining numbers: 2, 24.\"),\n 'evaluator_should_continue': True,\n 'self_reflection_memory': ChatMessageHistory(messages=[('content', 'One possible reason for failure could be the lack of considering all possible combinations of operations and numbers. To improve, I will aim to systematically explore various arithmetic operations on different number combinations, ensuring all numbers are utilized efficiently in the process. This approach will help in optimizing the use of available numbers and operations to reach the target value of 24.'), ('additional_kwargs', {}), ('type', 'ai'), ('name', None), ('id', None), ('example', False), ('content', 'One possible reason for failure in this trial could be the lack of consideration for the order of operations. To improve, I should prioritize operations that lead to 24 as the final result. A high-level plan to mitigate this issue is to strategically combine the numbers and operations in a way that maximizes the chances of reaching 24, giving priority to multiplication and division over addition and subtraction.'), ('additional_kwargs', {}), ('type', 'ai'), ('name', None), ('id', None), ('example', False)]),\n 'self_reflections': [AIMessage(content='One possible reason for failure could be the lack of considering all possible combinations of operations and numbers. To improve, I will aim to systematically explore various arithmetic operations on different number combinations, ensuring all numbers are utilized efficiently in the process. This approach will help in optimizing the use of available numbers and operations to reach the target value of 24.')],\n 'intermediate_steps': [(OpenAIToolAgentAction(tool='add', tool_input={'number1': 1, 'number2': 1}, log=\"\\nInvoking: `add` with `{'number1': 1, 'number2': 1}`\\n\\n\\n\", message_log=[AIMessageChunk(content='', additional_kwargs={'tool_calls': [{'index': 0, 'id': 'call_l3yLeNgCf9ol2l2Gxr8oKkcO', 'function': {'arguments': '{\"number1\": 1, \"number2\": 1}', 'name': 'add'}, 'type': 'function'}, {'index': 1, 'id': 'call_GEXik7QCYi7Hf9Idx8jqI7py', 'function': {'arguments': '{\"number1\": 4, \"number2\": 6}', 'name': 'multiply'}, 'type': 'function'}]})], tool_call_id='call_l3yLeNgCf9ol2l2Gxr8oKkcO'),\n   {'observation': 'result of current arithmetical operation on 1.0 and 1.0 is 2.0',\n    'reward': 0,\n    'terminated': False,\n    'truncated': False,\n    'info': {'numbers': '4.0 6.0 2.0'}}),\n  (OpenAIToolAgentAction(tool='multiply', tool_input={'number1': 4, 'number2': 6}, log=\"\\nInvoking: `multiply` with `{'number1': 4, 'number2': 6}`\\n\\n\\n\", message_log=[AIMessageChunk(content='', additional_kwargs={'tool_calls': [{'index': 0, 'id': 'call_l3yLeNgCf9ol2l2Gxr8oKkcO', 'function': {'arguments': '{\"number1\": 1, \"number2\": 1}', 'name': 'add'}, 'type': 'function'}, {'index': 1, 'id': 'call_GEXik7QCYi7Hf9Idx8jqI7py', 'function': {'arguments': '{\"number1\": 4, \"number2\": 6}', 'name': 'multiply'}, 'type': 'function'}]})], tool_call_id='call_GEXik7QCYi7Hf9Idx8jqI7py'),\n   {'observation': 'result of current arithmetical operation on 4.0 and 6.0 is 24.0',\n    'reward': 0,\n    'terminated': False,\n    'truncated': False,\n    'info': {'numbers': '2.0 24.0'}})],\n 'iteration': 2}"
     },
     "execution_count": 32,
     "metadata": {},
     "output_type": "execute_result"
    }
   ],
   "source": [
    "env.reset(options={\"numbers\": [1, 1, 4, 6]})\n",
    "reflexion.invoke(\n",
    "    {\"inputs\": {\"inputs\": \"1 1 4 6\"}},\n",
    "    {\"recursion_limit\": 1000},\n",
    ")"
   ],
   "metadata": {
    "collapsed": false,
    "ExecuteTime": {
     "end_time": "2024-04-05T18:11:19.255019Z",
     "start_time": "2024-04-05T18:11:06.979343Z"
    }
   },
   "id": "415a8d21878f332d",
   "execution_count": 32
  }
 ],
 "metadata": {
  "kernelspec": {
   "display_name": "Python 3",
   "language": "python",
   "name": "python3"
  },
  "language_info": {
   "codemirror_mode": {
    "name": "ipython",
    "version": 2
   },
   "file_extension": ".py",
   "mimetype": "text/x-python",
   "name": "python",
   "nbconvert_exporter": "python",
   "pygments_lexer": "ipython2",
   "version": "2.7.6"
  }
 },
 "nbformat": 4,
 "nbformat_minor": 5
}
