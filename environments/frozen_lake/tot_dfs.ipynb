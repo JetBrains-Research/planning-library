{
 "cells": [
  {
   "cell_type": "markdown",
   "source": [
    "# Frozen Lake + ToT-DFS"
   ],
   "metadata": {
    "collapsed": false
   },
   "id": "8ab5229e11b9de8a"
  },
  {
   "cell_type": "markdown",
   "source": [
    "## Utils"
   ],
   "metadata": {
    "collapsed": false
   },
   "id": "3c73e3eb315551f3"
  },
  {
   "cell_type": "markdown",
   "source": [
    "### Imports"
   ],
   "metadata": {
    "collapsed": false
   },
   "id": "eec2163dd7345c7c"
  },
  {
   "cell_type": "code",
   "execution_count": 43,
   "id": "initial_id",
   "metadata": {
    "collapsed": true,
    "ExecuteTime": {
     "end_time": "2024-03-18T10:29:00.539179Z",
     "start_time": "2024-03-18T10:29:00.520536Z"
    }
   },
   "outputs": [
    {
     "name": "stdout",
     "output_type": "stream",
     "text": [
      "The autoreload extension is already loaded. To reload it, use:\n",
      "  %reload_ext autoreload\n"
     ]
    }
   ],
   "source": [
    "import gymnasium as gym\n",
    "from environments.frozen_lake.common.environment import FrozenLakeEnvWrapper\n",
    "from environments.frozen_lake.common.evaluate_output_parser import FrozenMapEvaluateOutputParser\n",
    "from langchain_openai import ChatOpenAI\n",
    "from gymnasium.envs.toy_text.frozen_lake import generate_random_map\n",
    "import os\n",
    "from environments.frozen_lake.tot_dfs.evaluate_prompts import evaluate_prompt\n",
    "from environments.frozen_lake.tot_dfs.generate_prompts import generate_openai_tools_prompt\n",
    "from planning_library.strategies import TreeOfThoughtsDFSStrategy\n",
    "from operator import itemgetter\n",
    "from langchain_core.agents import AgentAction, AgentFinish\n",
    "from langchain_core.runnables import RunnableLambda\n",
    "\n",
    "\n",
    "%load_ext autoreload\n",
    "%autoreload 2"
   ]
  },
  {
   "cell_type": "markdown",
   "source": [
    "### Logging"
   ],
   "metadata": {
    "collapsed": false
   },
   "id": "d0bcf35dedecec01"
  },
  {
   "cell_type": "code",
   "outputs": [],
   "source": [
    "os.environ[\"LANGCHAIN_TRACING_V2\"] = \"true\"\n",
    "os.environ[\"LANGCHAIN_PROJECT\"] = \"ToT + Frozen Lake test\"\n",
    "os.environ[\"LANGCHAIN_ENDPOINT\"] = \"https://api.smith.langchain.com\""
   ],
   "metadata": {
    "collapsed": false,
    "ExecuteTime": {
     "end_time": "2024-03-18T10:29:01.111163Z",
     "start_time": "2024-03-18T10:29:01.094348Z"
    }
   },
   "id": "aee33b8be999e0ff",
   "execution_count": 44
  },
  {
   "cell_type": "markdown",
   "source": [
    "## Environment"
   ],
   "metadata": {
    "collapsed": false
   },
   "id": "4dac36d55f295aa9"
  },
  {
   "cell_type": "markdown",
   "source": [
    "We use a custom wrapper on top of Frozen Lake from gym. It changes the following:\n",
    "* it accepts `AgentAction` from LangChain and internally calls the original environment with right actions;\n",
    "* it transforms the observations returned by the original environment: instead of a single number, it's now current position (x,y) on the board;\n",
    "* it supports performing a given sequence of actions when resetting an environment."
   ],
   "metadata": {
    "collapsed": false
   },
   "id": "92bf19c458046259"
  },
  {
   "cell_type": "code",
   "outputs": [
    {
     "name": "stderr",
     "output_type": "stream",
     "text": [
      "/Users/Alexandra.Eliseeva/Library/Caches/pypoetry/virtualenvs/planning-library-q8r1q5f_-py3.11/lib/python3.11/site-packages/gymnasium/wrappers/record_video.py:94: UserWarning: \u001B[33mWARN: Overwriting existing videos at /Users/Alexandra.Eliseeva/PycharmProjects/planning-library/environments/frozen_lake/video folder (try specifying a different `video_folder` for the `RecordVideo` wrapper if this is not desired)\u001B[0m\n",
      "  logger.warn(\n"
     ]
    },
    {
     "data": {
      "text/plain": "(0, {'prob': 1})"
     },
     "execution_count": 45,
     "metadata": {},
     "output_type": "execute_result"
    }
   ],
   "source": [
    "env = gym.make(\"FrozenLake-v1\", desc=generate_random_map(size=8), is_slippery=True, render_mode=\"rgb_array\")\n",
    "env = FrozenLakeEnvWrapper(env)\n",
    "env = gym.wrappers.RecordVideo(env, video_folder=\"video\", episode_trigger=lambda x: True)\n",
    "env.reset(seed=123)"
   ],
   "metadata": {
    "collapsed": false,
    "ExecuteTime": {
     "end_time": "2024-03-18T10:29:01.357700Z",
     "start_time": "2024-03-18T10:29:01.340425Z"
    }
   },
   "id": "5122049321be2caf",
   "execution_count": 45
  },
  {
   "cell_type": "markdown",
   "source": [
    "## Strategy"
   ],
   "metadata": {
    "collapsed": false
   },
   "id": "9130c20958cf37fe"
  },
  {
   "cell_type": "markdown",
   "source": [
    "### Hyperparameters"
   ],
   "metadata": {
    "collapsed": false
   },
   "id": "86ea926f4d1d0974"
  },
  {
   "cell_type": "code",
   "outputs": [],
   "source": [
    "# ToT hyperparameters\n",
    "max_num_thoughts = 3  # number of thoughts to generate at each iteration\n",
    "max_num_steps = 50  # total maximum number of iterations\n",
    "value_threshold = 0.1  # threshold for evaluation; only thoughts with value > value_threshold will be explored\n",
    "\n",
    "# other hyperparameters\n",
    "model_name = \"gpt-3.5-turbo\"\n",
    "temperature = 0.8"
   ],
   "metadata": {
    "collapsed": false,
    "ExecuteTime": {
     "end_time": "2024-03-18T10:29:01.608360Z",
     "start_time": "2024-03-18T10:29:01.594002Z"
    }
   },
   "id": "ae7d67618da5e8fe",
   "execution_count": 46
  },
  {
   "cell_type": "markdown",
   "source": [
    "### Evaluator"
   ],
   "metadata": {
    "collapsed": false
   },
   "id": "414c866ff82acaf0"
  },
  {
   "cell_type": "markdown",
   "source": [
    "#### Prompt"
   ],
   "metadata": {
    "collapsed": false
   },
   "id": "518711ff67a45558"
  },
  {
   "cell_type": "code",
   "outputs": [
    {
     "data": {
      "text/plain": "['inputs', 'next_thought', 'trajectory']"
     },
     "execution_count": 47,
     "metadata": {},
     "output_type": "execute_result"
    }
   ],
   "source": [
    "evaluate_prompt.input_variables"
   ],
   "metadata": {
    "collapsed": false,
    "ExecuteTime": {
     "end_time": "2024-03-18T10:29:01.859090Z",
     "start_time": "2024-03-18T10:29:01.843449Z"
    }
   },
   "id": "93ab4504f5480f3c",
   "execution_count": 47
  },
  {
   "cell_type": "code",
   "outputs": [
    {
     "name": "stdout",
     "output_type": "stream",
     "text": [
      "System: You are a helpful assistant that judges whether suggestions for individual steps in Frozen Lake game seem plausible.\n",
      "Human: \n",
      "In Frozen Lake game, you move on a 2D grid. The end goal is to cross this grid from start \n",
      "to finish without falling into any holes.\n",
      "\n",
      "You start at location (0,0) (upper left corner) of the frozen lake grid world, and the finish is located \n",
      "at far extent of the world, i.e., (n - 1, n - 1) for n x n grid (lower right corner). \n",
      "\n",
      "The first coordinate is Y axis.\n",
      "When you move up, you decrease your first coordinate by 1 (can't be bigger than n - 1).\n",
      "When you move down, you increase your first coordinate by 1 (can't be lower than 0).\n",
      "\n",
      "The second coordinate is X axis. \n",
      "When you move right, you increase your second coordinate by 1 (can't be bigger than n - 1).\n",
      "When you move left, you decrease your second coordinate by 1 (can't be lower than 0).\n",
      "\n",
      "You will be given a map, optionally, a sequence of intermediate steps and a suggestion for the next step. Your goal is\n",
      "to evaluate whether this new suggestion brings one closer to achieving the goal or not.   \n",
      "\n",
      "Take your time and comment your decision, but make sure to always output a number between 0 and 1 in the end, where 0 would mean 'current suggestion is incorrect or makes reaching the goal impossible' and 1 would mean 'current suggestion will surely help in achieving the goal'. \n",
      "Use the following format: [[number]].\n",
      "\n",
      "Human: \n",
      "The map is an n x n grid where different types of cells are denoted by different letters:\n",
      "* S - start cell\n",
      "* G - goal cell\n",
      "* F - frozen cell\n",
      "* H - hole cell\n",
      "\n",
      "Example for 2 x 2 case:\n",
      "SH\n",
      "FG\n",
      "\n",
      "If you step on the hole, the game ends. You are allowed to step on the frozen cells, but note that they are slippery, so there is a probability that you will move perpendicular to the intended direction.\n",
      "\n",
      "Current map:\n",
      "SFFHFFFF\n",
      "FFFFFFHF\n",
      "HFFFFFFF\n",
      "FFHFFFFF\n",
      "FFHFFFHF\n",
      "FFFFFFFH\n",
      "HFFFHFHH\n",
      "FFHFFFFG\n",
      "Human: Suggestion for the next step: move right\n",
      "Human: Pay attention to the 'terminated' in tools' output, if it is set to True, it means the game has ended, output [[0]] for all suggestions in this case.\n",
      "            Do not be overly strict, only reject the moves that are likely to lead to a hole.\n",
      "            Your verdict about the suggestion for the next step (ALWAYS output a number between 0 and 1 in the end in a format [[number]]):\n"
     ]
    }
   ],
   "source": [
    "print(\n",
    "    evaluate_prompt.format(\n",
    "        inputs=\"\\n\".join(\"\".join(x.decode() for x in y) for y in env.get_wrapper_attr(\"desc\")),\n",
    "        trajectory=[],\n",
    "        next_thought=\"move right\",\n",
    "    )\n",
    ")"
   ],
   "metadata": {
    "collapsed": false,
    "ExecuteTime": {
     "end_time": "2024-03-18T10:29:01.951459Z",
     "start_time": "2024-03-18T10:29:01.934916Z"
    }
   },
   "id": "3670d1d4c0f26f49",
   "execution_count": 48
  },
  {
   "cell_type": "markdown",
   "source": [
    "#### Formatting utils"
   ],
   "metadata": {
    "collapsed": false
   },
   "id": "9098932a61d1bbd1"
  },
  {
   "cell_type": "code",
   "outputs": [],
   "source": [
    "from langchain.agents.format_scratchpad.openai_tools import format_to_openai_tool_messages\n",
    "from typing import Union, List\n",
    "\n",
    "\n",
    "def format_next_thought(next_thought: Union[List[AgentAction], AgentAction, AgentFinish]) -> str:\n",
    "    if isinstance(next_thought, AgentAction):\n",
    "        return f\"Call {next_thought.tool} with input {next_thought.tool_input}\"\n",
    "    elif isinstance(next_thought, AgentFinish):\n",
    "        return f\"Finish with the following comment: {next_thought.log}\"\n",
    "    else:\n",
    "        return \"; \".join([format_next_thought(action) for action in next_thought])"
   ],
   "metadata": {
    "collapsed": false,
    "ExecuteTime": {
     "end_time": "2024-03-18T10:29:02.107575Z",
     "start_time": "2024-03-18T10:29:02.095489Z"
    }
   },
   "id": "306be62320daa610",
   "execution_count": 49
  },
  {
   "cell_type": "markdown",
   "source": [
    "#### Putting it all together"
   ],
   "metadata": {
    "collapsed": false
   },
   "id": "83e08d4239d84148"
  },
  {
   "cell_type": "code",
   "outputs": [],
   "source": [
    "evaluator_runnable = (\n",
    "    {\n",
    "        \"inputs\": itemgetter(\"inputs\") | RunnableLambda(itemgetter(\"inputs\")),\n",
    "        \"trajectory\": itemgetter(\"trajectory\") | RunnableLambda(format_to_openai_tool_messages),\n",
    "        \"next_thought\": itemgetter(\"next_thought\") | RunnableLambda(format_next_thought),\n",
    "    }\n",
    "    | evaluate_prompt\n",
    "    | ChatOpenAI(model=model_name, temperature=temperature)\n",
    "    | FrozenMapEvaluateOutputParser()\n",
    ").with_config(run_name=\"Evaluate Thought\")"
   ],
   "metadata": {
    "collapsed": false,
    "ExecuteTime": {
     "end_time": "2024-03-18T10:29:02.286735Z",
     "start_time": "2024-03-18T10:29:02.262236Z"
    }
   },
   "id": "db1c0017fa6fa64c",
   "execution_count": 50
  },
  {
   "cell_type": "markdown",
   "source": [],
   "metadata": {
    "collapsed": false
   },
   "id": "769611b3ad46dcad"
  },
  {
   "cell_type": "markdown",
   "source": [
    "### Thought Generator"
   ],
   "metadata": {
    "collapsed": false
   },
   "id": "2f13a07c6594bdcc"
  },
  {
   "cell_type": "markdown",
   "source": [
    "#### Prompt"
   ],
   "metadata": {
    "collapsed": false
   },
   "id": "99e0e443395a4d8"
  },
  {
   "cell_type": "code",
   "outputs": [
    {
     "data": {
      "text/plain": "['agent_scratchpad', 'inputs', 'previous_thoughts']"
     },
     "execution_count": 51,
     "metadata": {},
     "output_type": "execute_result"
    }
   ],
   "source": [
    "generate_openai_tools_prompt.input_variables"
   ],
   "metadata": {
    "collapsed": false,
    "ExecuteTime": {
     "end_time": "2024-03-18T10:29:02.609328Z",
     "start_time": "2024-03-18T10:29:02.594226Z"
    }
   },
   "id": "67d2520342c83b0f",
   "execution_count": 51
  },
  {
   "cell_type": "code",
   "outputs": [
    {
     "name": "stdout",
     "output_type": "stream",
     "text": [
      "System: You are an intelligent agent playing a Frozen Lake game.\n",
      "Human: \n",
      "In Frozen Lake game, you move on a 2D grid. Your goal is to cross this grid from start \n",
      "to finish without falling into any holes.\n",
      "\n",
      "You start at location (0,0) (upper left corner) of the frozen lake grid world, and the finish is located at far extent of the world, i.e., (n - 1, n - 1) for n x n grid (lower right corner).\n",
      "\n",
      "The first coordinate is Y axis.\n",
      "When you move up, you decrease your first coordinate by 1 (can't be bigger than n - 1).\n",
      "When you move down, you increase your first coordinate by 1 (can't be lower than 0).\n",
      "\n",
      "The second coordinate is X axis. \n",
      "When you move right, you increase your second coordinate by 1 (can't be bigger than n - 1).\n",
      "When you move left, you decrease your second coordinate by 1 (can't be lower than 0).\n",
      "\n",
      "The map is an n x n grid where different types of cells are denoted by different letters:\n",
      "* S - start cell\n",
      "* G - goal cell\n",
      "* F - frozen cell\n",
      "* H - hole cell\n",
      "\n",
      "Example for 2 x 2 case:\n",
      "SH\n",
      "FG\n",
      "\n",
      "If you step on the hole, the game ends. You are allowed to step on the frozen cells, but note that they are slippery, so there is a probability that you will move perpendicular to the intended direction. \n",
      "Pay attention to the 'terminated' in tools' output, if it is set to True, it means the game has ended, you are not allowed to move anymore.\n",
      "\n",
      "Current map:\n",
      "SFFHFFFF\n",
      "FFFFFFHF\n",
      "HFFFFFFF\n",
      "FFHFFFFF\n",
      "FFHFFFHF\n",
      "FFFFFFFH\n",
      "HFFFHFHH\n",
      "FFHFFFFG \n",
      "\n",
      "Human: You might have already made some suggestions for the current state - if you did, you will find them below.\n",
      "Human: \n",
      "Use tools to move; refrain from calling tools only when the game has ended. \n",
      "Please, suggest no more than ONE (1) tool call, DIFFERENT from your previous suggestions.\n"
     ]
    }
   ],
   "source": [
    "print(\n",
    "    generate_openai_tools_prompt.format(\n",
    "        inputs=\"\\n\".join(\"\".join(x.decode() for x in y) for y in env.get_wrapper_attr(\"desc\")),\n",
    "        agent_scratchpad=[],\n",
    "        previous_thoughts=[],\n",
    "    )\n",
    ")"
   ],
   "metadata": {
    "collapsed": false,
    "ExecuteTime": {
     "end_time": "2024-03-18T10:29:02.699128Z",
     "start_time": "2024-03-18T10:29:02.684578Z"
    }
   },
   "id": "132106992346243e",
   "execution_count": 52
  },
  {
   "cell_type": "markdown",
   "source": [
    "#### Tools"
   ],
   "metadata": {
    "collapsed": false
   },
   "id": "57d64c121ae8283"
  },
  {
   "cell_type": "code",
   "outputs": [
    {
     "data": {
      "text/plain": "[MoveTool(env=<FrozenLakeEnvWrapper<TimeLimit<OrderEnforcing<PassiveEnvChecker<FrozenLakeEnv<FrozenLake-v1>>>>>>)]"
     },
     "execution_count": 53,
     "metadata": {},
     "output_type": "execute_result"
    }
   ],
   "source": [
    "tools = [env.get_wrapper_attr(\"name_to_tool_map\")[name] for name in env.get_wrapper_attr(\"name_to_tool_map\")]\n",
    "tools"
   ],
   "metadata": {
    "collapsed": false,
    "ExecuteTime": {
     "end_time": "2024-03-18T10:29:02.859118Z",
     "start_time": "2024-03-18T10:29:02.846470Z"
    }
   },
   "id": "bbd69bc9a518f0a",
   "execution_count": 53
  },
  {
   "cell_type": "markdown",
   "source": [
    "#### Formatting utils"
   ],
   "metadata": {
    "collapsed": false
   },
   "id": "47f4d6bb65c5a69d"
  },
  {
   "cell_type": "code",
   "outputs": [],
   "source": [
    "from langchain_core.utils.function_calling import convert_to_openai_tool\n",
    "from langchain_core.messages import BaseMessage, AIMessage\n",
    "\n",
    "from langchain.agents.format_scratchpad.openai_tools import format_to_openai_tool_messages\n",
    "from langchain.agents.output_parsers.openai_tools import OpenAIToolsAgentOutputParser, OpenAIToolAgentAction\n",
    "\n",
    "\n",
    "def format_previous_thoughts(\n",
    "    previous_thoughts: List[Union[List[AgentAction], AgentFinish, AgentAction]]\n",
    ") -> List[BaseMessage]:\n",
    "    messages = []\n",
    "    for agent_action in previous_thoughts:\n",
    "        if isinstance(agent_action, OpenAIToolAgentAction):\n",
    "            messages.append(AIMessage(content=f\"Calling {agent_action.tool} with {agent_action.tool_input}\"))\n",
    "        elif isinstance(agent_action, list):\n",
    "            messages.extend(format_previous_thoughts(agent_action))\n",
    "        else:\n",
    "            messages.append(AIMessage(content=agent_action.log))\n",
    "    return messages"
   ],
   "metadata": {
    "collapsed": false,
    "ExecuteTime": {
     "end_time": "2024-03-18T10:29:03.025391Z",
     "start_time": "2024-03-18T10:29:03.012702Z"
    }
   },
   "id": "6edd0006d2ab5e63",
   "execution_count": 54
  },
  {
   "cell_type": "markdown",
   "source": [
    "#### Putting it all together"
   ],
   "metadata": {
    "collapsed": false
   },
   "id": "c3da96aecd9a0ffb"
  },
  {
   "cell_type": "code",
   "outputs": [],
   "source": [
    "# copied from langchain.agents.create_openai_tools_agent to allow for custom formatting of `previous_thoughts in inputs\n",
    "\n",
    "llm = ChatOpenAI(model=model_name, temperature=temperature).bind(tools=[convert_to_openai_tool(tool) for tool in tools])\n",
    "\n",
    "agent = (\n",
    "    {\n",
    "        \"inputs\": itemgetter(\"inputs\"),\n",
    "        \"agent_scratchpad\": lambda x: format_to_openai_tool_messages(x[\"intermediate_steps\"]),\n",
    "        \"previous_thoughts\": lambda x: format_previous_thoughts(x[\"previous_thoughts\"]),\n",
    "    }\n",
    "    | generate_openai_tools_prompt\n",
    "    | llm\n",
    "    | OpenAIToolsAgentOutputParser()\n",
    ").with_config(run_name=\"Generate Thought\")"
   ],
   "metadata": {
    "collapsed": false,
    "ExecuteTime": {
     "end_time": "2024-03-18T10:29:03.203327Z",
     "start_time": "2024-03-18T10:29:03.179499Z"
    }
   },
   "id": "fdb0490b7c3ad463",
   "execution_count": 55
  },
  {
   "cell_type": "markdown",
   "source": [
    "### Defining strategy"
   ],
   "metadata": {
    "collapsed": false
   },
   "id": "7c0bc09fd442d91e"
  },
  {
   "cell_type": "code",
   "outputs": [],
   "source": [
    "from planning_library.action_executors import GymnasiumActionExecutor\n",
    "\n",
    "\n",
    "action_executor = GymnasiumActionExecutor(env, seed=123)"
   ],
   "metadata": {
    "collapsed": false,
    "ExecuteTime": {
     "end_time": "2024-03-18T10:29:03.354782Z",
     "start_time": "2024-03-18T10:29:03.342650Z"
    }
   },
   "id": "99fa5cb9d01eecd3",
   "execution_count": 56
  },
  {
   "cell_type": "code",
   "outputs": [],
   "source": [
    "strategy_executor = TreeOfThoughtsDFSStrategy.create(\n",
    "    agent=agent,\n",
    "    tools=tools,\n",
    "    action_executor=action_executor,\n",
    "    evaluator_runnable=evaluator_runnable,\n",
    "    value_threshold=value_threshold,\n",
    "    max_thoughts=max_num_thoughts,\n",
    "    max_iterations=max_num_steps,\n",
    ")"
   ],
   "metadata": {
    "collapsed": false,
    "ExecuteTime": {
     "end_time": "2024-03-18T10:29:03.444029Z",
     "start_time": "2024-03-18T10:29:03.431176Z"
    }
   },
   "id": "19f8ef30963e897",
   "execution_count": 57
  },
  {
   "cell_type": "code",
   "outputs": [
    {
     "name": "stdout",
     "output_type": "stream",
     "text": [
      "\n",
      "\n",
      "\u001B[1m> Entering new TreeOfThoughtsDFSStrategy chain...\u001B[0m\n",
      "\u001B[32;1m\u001B[1;3m\n",
      "Invoking: `move` with `{'direction': 'right'}`\n",
      "\n",
      "\n",
      "\u001B[0m\u001B[36;1m\u001B[1;3m((1, 0), 0.0, False, False, {'prob': 0.3333333333333333})\u001B[0m\u001B[32;1m\u001B[1;3m\n",
      "Invoking: `move` with `{'direction': 'down'}`\n",
      "\n",
      "\n",
      "\u001B[0m\u001B[36;1m\u001B[1;3m((1, 0), 0.0, False, False, {'prob': 0.3333333333333333})\u001B[0m\u001B[32;1m\u001B[1;3m\n",
      "Invoking: `move` with `{'direction': 'right'}`\n",
      "\n",
      "\n",
      "\u001B[0m\u001B[36;1m\u001B[1;3m((2, 0), 0.0, True, False, {'prob': 0.3333333333333333})\u001B[0mMoviepy - Building video /Users/Alexandra.Eliseeva/PycharmProjects/planning-library/environments/frozen_lake/video/rl-video-episode-0.mp4.\n",
      "Moviepy - Writing video /Users/Alexandra.Eliseeva/PycharmProjects/planning-library/environments/frozen_lake/video/rl-video-episode-0.mp4\n"
     ]
    },
    {
     "name": "stderr",
     "output_type": "stream",
     "text": [
      "                                                  "
     ]
    },
    {
     "name": "stdout",
     "output_type": "stream",
     "text": [
      "Moviepy - Done !\n",
      "Moviepy - video ready /Users/Alexandra.Eliseeva/PycharmProjects/planning-library/environments/frozen_lake/video/rl-video-episode-0.mp4\n"
     ]
    },
    {
     "name": "stderr",
     "output_type": "stream",
     "text": [
      "\r"
     ]
    },
    {
     "name": "stdout",
     "output_type": "stream",
     "text": [
      "\u001B[32;1m\u001B[1;3m\n",
      "Invoking: `move` with `{'direction': 'down'}`\n",
      "\n",
      "\n",
      "\u001B[0m\u001B[36;1m\u001B[1;3m((2, 0), 0, True, False, {'prob': 1.0})\u001B[0m\u001B[32;1m\u001B[1;3m\n",
      "Invoking: `move` with `{'direction': 'down'}`\n",
      "\n",
      "\n",
      "\u001B[0m\u001B[36;1m\u001B[1;3m((2, 0), 0, True, False, {'prob': 1.0})\u001B[0m\u001B[32;1m\u001B[1;3m\n",
      "Invoking: `move` with `{'direction': 'down'}`\n",
      "\n",
      "\n",
      "\u001B[0m\u001B[36;1m\u001B[1;3m((2, 0), 0, True, False, {'prob': 1.0})\u001B[0m\u001B[32;1m\u001B[1;3m\n",
      "Invoking: `move` with `{'direction': 'down'}`\n",
      "\n",
      "\n",
      "\u001B[0m\u001B[36;1m\u001B[1;3m((2, 0), 0, True, False, {'prob': 1.0})\u001B[0m\u001B[32;1m\u001B[1;3m\n",
      "Invoking: `move` with `{'direction': 'right'}`\n",
      "\n",
      "\n",
      "\u001B[0m\u001B[36;1m\u001B[1;3m((2, 0), 0, True, False, {'prob': 1.0})\u001B[0m\u001B[32;1m\u001B[1;3m\n",
      "Invoking: `move` with `{'direction': 'right'}`\n",
      "\n",
      "\n",
      "\u001B[0m\u001B[36;1m\u001B[1;3m((2, 0), 0, True, False, {'prob': 1.0})\u001B[0m\u001B[32;1m\u001B[1;3m\n",
      "Invoking: `move` with `{'direction': 'down'}`\n",
      "\n",
      "\n",
      "\u001B[0m\u001B[36;1m\u001B[1;3m((2, 0), 0, True, False, {'prob': 1.0})\u001B[0m\n",
      "\u001B[1m> Finished chain.\u001B[0m\n"
     ]
    }
   ],
   "source": [
    "env.reset(seed=123)\n",
    "strategy_executor.invoke({\"inputs\": \"\\n\".join(\"\".join(x.decode() for x in y) for y in env.get_wrapper_attr(\"desc\"))})\n",
    "env.close()"
   ],
   "metadata": {
    "collapsed": false,
    "ExecuteTime": {
     "end_time": "2024-03-18T10:30:53.443170Z",
     "start_time": "2024-03-18T10:29:03.512780Z"
    }
   },
   "id": "b96348d4272ea0ad",
   "execution_count": 58
  },
  {
   "cell_type": "code",
   "outputs": [],
   "source": [],
   "metadata": {
    "collapsed": false,
    "ExecuteTime": {
     "end_time": "2024-03-18T10:30:53.445128Z",
     "start_time": "2024-03-18T10:30:53.443940Z"
    }
   },
   "id": "c9426b6cb930559e",
   "execution_count": 58
  },
  {
   "cell_type": "code",
   "outputs": [],
   "source": [],
   "metadata": {
    "collapsed": false
   },
   "id": "c82623bf5d35dafd"
  }
 ],
 "metadata": {
  "kernelspec": {
   "display_name": "Python 3",
   "language": "python",
   "name": "python3"
  },
  "language_info": {
   "codemirror_mode": {
    "name": "ipython",
    "version": 2
   },
   "file_extension": ".py",
   "mimetype": "text/x-python",
   "name": "python",
   "nbconvert_exporter": "python",
   "pygments_lexer": "ipython2",
   "version": "2.7.6"
  }
 },
 "nbformat": 4,
 "nbformat_minor": 5
}
