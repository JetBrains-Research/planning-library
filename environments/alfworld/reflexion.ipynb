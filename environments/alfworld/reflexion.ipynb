{
 "cells": [
  {
   "cell_type": "markdown",
   "source": [
    "# ALFWorld + Reflexion"
   ],
   "metadata": {
    "collapsed": false
   },
   "id": "b6f5b18d0735510e"
  },
  {
   "cell_type": "markdown",
   "source": [
    "## Utils"
   ],
   "metadata": {
    "collapsed": false
   },
   "id": "45586a1919fab50c"
  },
  {
   "cell_type": "markdown",
   "source": [
    "### Imports"
   ],
   "metadata": {
    "collapsed": false
   },
   "id": "300e3423584a17b"
  },
  {
   "cell_type": "code",
   "execution_count": 1,
   "id": "initial_id",
   "metadata": {
    "collapsed": true,
    "ExecuteTime": {
     "end_time": "2024-03-26T18:07:31.132812Z",
     "start_time": "2024-03-26T18:07:28.928412Z"
    }
   },
   "outputs": [],
   "source": [
    "import requests\n",
    "from environments.alfworld.common.environment import ALFWorldEnv\n",
    "from environments.alfworld.common.evaluate_output_parser import ALFWorldEvaluateOutputParser\n",
    "from environments.alfworld.reflexion.generate_prompts import generate_openai_tools_prompt\n",
    "from environments.alfworld.reflexion.evaluate_prompts import evaluate_prompt\n",
    "from environments.alfworld.reflexion.self_reflection_prompts import self_reflection_prompt\n",
    "import os\n",
    "from langchain_openai import ChatOpenAI\n",
    "from operator import itemgetter\n",
    "from langchain_core.runnables import RunnableLambda\n",
    "from planning_library.strategies import ReflexionStrategy\n",
    "\n",
    "\n",
    "%load_ext autoreload\n",
    "%autoreload 2"
   ]
  },
  {
   "cell_type": "markdown",
   "source": [
    "### Logging"
   ],
   "metadata": {
    "collapsed": false
   },
   "id": "35f47faec8c0649d"
  },
  {
   "cell_type": "code",
   "outputs": [],
   "source": [
    "os.environ[\"LANGCHAIN_TRACING_V2\"] = \"true\"\n",
    "os.environ[\"LANGCHAIN_PROJECT\"] = \"ALFWorld + Reflexion\"\n",
    "os.environ[\"LANGCHAIN_ENDPOINT\"] = \"https://api.smith.langchain.com\""
   ],
   "metadata": {
    "collapsed": false,
    "ExecuteTime": {
     "end_time": "2024-03-26T18:07:31.154440Z",
     "start_time": "2024-03-26T18:07:31.133336Z"
    }
   },
   "id": "d2752b1cdff9c261",
   "execution_count": 2
  },
  {
   "cell_type": "markdown",
   "source": [
    "## Environment"
   ],
   "metadata": {
    "collapsed": false
   },
   "id": "85432e431b3b489"
  },
  {
   "cell_type": "code",
   "outputs": [
    {
     "name": "stdout",
     "output_type": "stream",
     "text": [
      "Initializing AlfredTWEnv...\n"
     ]
    },
    {
     "name": "stderr",
     "output_type": "stream",
     "text": [
      "100%|██████████| 8810/8810 [00:03<00:00, 2851.12it/s]"
     ]
    },
    {
     "name": "stdout",
     "output_type": "stream",
     "text": [
      "Overall we have 3553 games in split=train\n",
      "Training with 3553 games\n"
     ]
    },
    {
     "name": "stderr",
     "output_type": "stream",
     "text": [
      "\n"
     ]
    }
   ],
   "source": [
    "os.environ[\"ALFWORLD_DATA\"] = \"data\"\n",
    "\n",
    "if not \"base_config.yaml\" in os.listdir():\n",
    "    response = requests.get(\"https://raw.githubusercontent.com/alfworld/alfworld/master/configs/base_config.yaml\")\n",
    "    \n",
    "    with open(\"base_config.yaml\", \"wb\") as f:\n",
    "        f.write(response.content)\n",
    "\n",
    "env = ALFWorldEnv(config_path=\"base_config.yaml\")\n",
    "env.seed(123)"
   ],
   "metadata": {
    "collapsed": false,
    "ExecuteTime": {
     "end_time": "2024-03-26T18:07:34.545034Z",
     "start_time": "2024-03-26T18:07:31.151322Z"
    }
   },
   "id": "bca7fedf34cb3f41",
   "execution_count": 3
  },
  {
   "cell_type": "code",
   "outputs": [
    {
     "name": "stdout",
     "output_type": "stream",
     "text": [
      "-= Welcome to TextWorld, ALFRED! =-\n",
      "\n",
      "You are in the middle of a room. Looking quickly around you, you see a bathtubbasin 1, a countertop 1, a drawer 4, a drawer 3, a drawer 2, a drawer 1, a dresser 1, a garbagecan 1, a handtowelholder 2, a handtowelholder 1, a shelf 2, a shelf 1, a sinkbasin 1, a toilet 1, a toiletpaperhanger 1, and a towelholder 1.\n",
      "\n",
      "Your task is to: put a spraybottle in garbagecan.\n"
     ]
    }
   ],
   "source": [
    "obs, info = env.reset()\n",
    "print(obs)"
   ],
   "metadata": {
    "collapsed": false,
    "ExecuteTime": {
     "end_time": "2024-03-26T18:07:35.345415Z",
     "start_time": "2024-03-26T18:07:34.543643Z"
    }
   },
   "id": "1e1b1f792bc469ca",
   "execution_count": 4
  },
  {
   "cell_type": "markdown",
   "source": [
    "## Strategy"
   ],
   "metadata": {
    "collapsed": false
   },
   "id": "84f4a5bc24927329"
  },
  {
   "cell_type": "markdown",
   "source": [
    "### Hyperparameters"
   ],
   "metadata": {
    "collapsed": false
   },
   "id": "3ace323ee596738b"
  },
  {
   "cell_type": "code",
   "outputs": [],
   "source": [
    "# Reflexion hyperparameters\n",
    "value_threshold = 1.0  # threshold for evaluation; when reached, the loop will exit\n",
    "max_num_iterations = 10  # maximum number of iterations; when reached, the loop will exit\n",
    "\n",
    "# other hyperparameters\n",
    "model_name = \"gpt-3.5-turbo\"\n",
    "temperature = 0.8"
   ],
   "metadata": {
    "collapsed": false,
    "ExecuteTime": {
     "end_time": "2024-03-26T18:07:35.373024Z",
     "start_time": "2024-03-26T18:07:35.345686Z"
    }
   },
   "id": "4607424b3681d08d",
   "execution_count": 5
  },
  {
   "cell_type": "markdown",
   "source": [
    "### Actor"
   ],
   "metadata": {
    "collapsed": false
   },
   "id": "b2b1b714d0c64bf7"
  },
  {
   "cell_type": "markdown",
   "source": [
    "Default Actor is powered by [any agent available in LangChain](https://python.langchain.com/docs/modules/agents/agent_types/). Specifically, it expects either [`BaseSingleActionAgent`](https://api.python.langchain.com/en/latest/agents/langchain.agents.agent.BaseSingleActionAgent.html#langchain.agents.agent.BaseSingleActionAgent) or [`BaseMultiAgentAgent`](https://api.python.langchain.com/en/latest/agents/langchain.agents.agent.BaseMultiActionAgent.html#langchain.agents.agent.BaseMultiActionAgent)."
   ],
   "metadata": {
    "collapsed": false
   },
   "id": "1c1ca52d92d3746b"
  },
  {
   "cell_type": "markdown",
   "source": [
    "### Prompt\n",
    "\n",
    "Here is an example of a simple prompt suitable for ALFWorld with Reflexion."
   ],
   "metadata": {
    "collapsed": false
   },
   "id": "50a2481f524a6dc4"
  },
  {
   "cell_type": "code",
   "outputs": [
    {
     "data": {
      "text/plain": "['agent_scratchpad', 'inputs', 'self_reflections']"
     },
     "execution_count": 6,
     "metadata": {},
     "output_type": "execute_result"
    }
   ],
   "source": [
    "generate_openai_tools_prompt.input_variables"
   ],
   "metadata": {
    "collapsed": false,
    "ExecuteTime": {
     "end_time": "2024-03-26T18:07:35.385772Z",
     "start_time": "2024-03-26T18:07:35.365327Z"
    }
   },
   "id": "a7b416fc655677d1",
   "execution_count": 6
  },
  {
   "cell_type": "code",
   "outputs": [
    {
     "name": "stdout",
     "output_type": "stream",
     "text": [
      "System: You are ALFRED, an intelligent agent navigating in a household.\n",
      "Human: -= Welcome to TextWorld, ALFRED! =-\n",
      "\n",
      "You are in the middle of a room. Looking quickly around you, you see a bathtubbasin 1, a countertop 1, a drawer 4, a drawer 3, a drawer 2, a drawer 1, a dresser 1, a garbagecan 1, a handtowelholder 2, a handtowelholder 1, a shelf 2, a shelf 1, a sinkbasin 1, a toilet 1, a toiletpaperhanger 1, and a towelholder 1.\n",
      "\n",
      "Your task is to: put a spraybottle in garbagecan.\n",
      "Human: This might be not your first attempt to fulfill the task. \n",
      "            In this case, you will find self-reflective thoughts below. Make sure to pay extra attention to them,\n",
      "             as they aim to identify and mitigate the exact shortcomings that led to failure in previous trials. \n",
      "\n",
      "Human: Good luck!\n"
     ]
    }
   ],
   "source": [
    "print(generate_openai_tools_prompt.format(inputs=obs, self_reflections=[], agent_scratchpad=[]))"
   ],
   "metadata": {
    "collapsed": false,
    "ExecuteTime": {
     "end_time": "2024-03-26T18:07:35.405044Z",
     "start_time": "2024-03-26T18:07:35.385208Z"
    }
   },
   "id": "76284568ba7e4e41",
   "execution_count": 7
  },
  {
   "cell_type": "code",
   "outputs": [
    {
     "data": {
      "text/plain": "[GoToTool(env=<textworld.gym.envs.textworld_batch.TextworldBatchGymEnv object at 0x2a3503d50>),\n OpenTool(env=<textworld.gym.envs.textworld_batch.TextworldBatchGymEnv object at 0x2a3503d50>),\n CloseTool(env=<textworld.gym.envs.textworld_batch.TextworldBatchGymEnv object at 0x2a3503d50>),\n TakeTool(env=<textworld.gym.envs.textworld_batch.TextworldBatchGymEnv object at 0x2a3503d50>),\n PutTool(env=<textworld.gym.envs.textworld_batch.TextworldBatchGymEnv object at 0x2a3503d50>),\n ToggleTool(env=<textworld.gym.envs.textworld_batch.TextworldBatchGymEnv object at 0x2a3503d50>),\n HeatTool(env=<textworld.gym.envs.textworld_batch.TextworldBatchGymEnv object at 0x2a3503d50>),\n CoolTool(env=<textworld.gym.envs.textworld_batch.TextworldBatchGymEnv object at 0x2a3503d50>),\n CleanTool(env=<textworld.gym.envs.textworld_batch.TextworldBatchGymEnv object at 0x2a3503d50>),\n ExamineTool(env=<textworld.gym.envs.textworld_batch.TextworldBatchGymEnv object at 0x2a3503d50>),\n InventoryTool(env=<textworld.gym.envs.textworld_batch.TextworldBatchGymEnv object at 0x2a3503d50>),\n LookTool(env=<textworld.gym.envs.textworld_batch.TextworldBatchGymEnv object at 0x2a3503d50>)]"
     },
     "execution_count": 8,
     "metadata": {},
     "output_type": "execute_result"
    }
   ],
   "source": [
    "tools = env.tools\n",
    "tools"
   ],
   "metadata": {
    "collapsed": false,
    "ExecuteTime": {
     "end_time": "2024-03-26T18:07:35.423487Z",
     "start_time": "2024-03-26T18:07:35.404457Z"
    }
   },
   "id": "28487b31483cee47",
   "execution_count": 8
  },
  {
   "cell_type": "markdown",
   "source": [
    "### Putting It All Together\n",
    "\n",
    "Let's use [OpenAI Tools](https://python.langchain.com/docs/modules/agents/agent_types/openai_tools) agent."
   ],
   "metadata": {
    "collapsed": false
   },
   "id": "1e17e8b7c4efbab1"
  },
  {
   "cell_type": "code",
   "outputs": [],
   "source": [
    "from langchain_core.utils.function_calling import convert_to_openai_tool\n",
    "from typing import Tuple, Any\n",
    "from langchain.agents.format_scratchpad.openai_tools import format_to_openai_tool_messages\n",
    "from typing import List\n",
    "from langchain_core.messages import BaseMessage, AIMessage\n",
    "from langchain.agents.output_parsers.openai_tools import OpenAIToolsAgentOutputParser\n",
    "\n",
    "\n",
    "def format_self_reflections(self_reflections: List[Tuple[str, Any]]) -> List[BaseMessage]:\n",
    "    result = []\n",
    "    for t in self_reflections:\n",
    "        if t[0] == \"content\":\n",
    "            content = t[1]\n",
    "            message = AIMessage(content=content)\n",
    "            result.append(message)\n",
    "            \n",
    "    return result\n",
    "\n",
    "\n",
    "# copied from langchain.agents.create_openai_tools_agent to allow for custom formatting of `self_reflections in inputs\n",
    "\n",
    "llm = ChatOpenAI(model=model_name, temperature=temperature).bind(tools=[convert_to_openai_tool(tool) for tool in tools])\n",
    "\n",
    "agent = (\n",
    "    {\n",
    "        \"inputs\": itemgetter(\"inputs\"),\n",
    "        \"agent_scratchpad\": itemgetter(\"intermediate_steps\") | RunnableLambda(format_to_openai_tool_messages),\n",
    "        \"self_reflections\": itemgetter(\"self_reflections\") | RunnableLambda(format_self_reflections),\n",
    "    }\n",
    "    | generate_openai_tools_prompt\n",
    "    | llm\n",
    "    | OpenAIToolsAgentOutputParser()\n",
    ")"
   ],
   "metadata": {
    "collapsed": false,
    "ExecuteTime": {
     "end_time": "2024-03-26T18:07:35.526880Z",
     "start_time": "2024-03-26T18:07:35.423762Z"
    }
   },
   "id": "18e43435236184d0",
   "execution_count": 9
  },
  {
   "cell_type": "markdown",
   "source": [
    "### Evaluator\n",
    "\n",
    "Default Evaluator is powered by a [`Runnable`](https://python.langchain.com/docs/expression_language/interface) that takes in:\n",
    "\n",
    "* `inputs`: original inputs\n",
    "* `intermediate_steps`: a sequence of agent actions\n",
    "* `agent_outcome`: final answer\n",
    "\n",
    "It is allowed to return anything. In this case, it returns a float ranging from 0 to 1."
   ],
   "metadata": {
    "collapsed": false
   },
   "id": "3e8fb55382f24bbd"
  },
  {
   "cell_type": "markdown",
   "source": [
    "### Prompt"
   ],
   "metadata": {
    "collapsed": false
   },
   "id": "dc5480e40a44c31a"
  },
  {
   "cell_type": "code",
   "outputs": [
    {
     "data": {
      "text/plain": "['inputs', 'intermediate_steps']"
     },
     "execution_count": 10,
     "metadata": {},
     "output_type": "execute_result"
    }
   ],
   "source": [
    "evaluate_prompt.input_variables"
   ],
   "metadata": {
    "collapsed": false,
    "ExecuteTime": {
     "end_time": "2024-03-26T18:07:35.547069Z",
     "start_time": "2024-03-26T18:07:35.527124Z"
    }
   },
   "id": "864e32dc7a3d4658",
   "execution_count": 10
  },
  {
   "cell_type": "code",
   "outputs": [
    {
     "name": "stdout",
     "output_type": "stream",
     "text": [
      "System: You are a helpful assistant that judges whether the episodes of household navigation ended in failure or success.\n",
      "Human: \n",
      "You will be given an input and a sequence of intermediate steps from one episode of household navigation. Your goal is to evaluate whether the episode ended in success or in failure.   \n",
      "\n",
      "Take your time and comment your decision, but make sure to always output either 0 or 1 in the end, where 0 would mean 'the episode ended in failure' and 1 would mean 'the episode ended in success'. \n",
      "Use the following format: [[number]].\n",
      "Human: Here is the input for the current episode:\n",
      "-= Welcome to TextWorld, ALFRED! =-\n",
      "\n",
      "You are in the middle of a room. Looking quickly around you, you see a bathtubbasin 1, a countertop 1, a drawer 4, a drawer 3, a drawer 2, a drawer 1, a dresser 1, a garbagecan 1, a handtowelholder 2, a handtowelholder 1, a shelf 2, a shelf 1, a sinkbasin 1, a toilet 1, a toiletpaperhanger 1, and a towelholder 1.\n",
      "\n",
      "Your task is to: put a spraybottle in garbagecan.\n",
      "Here are the intermediate steps:\n",
      "Human: Your verdict (ALWAYS output either 0 or 1 in double brackets like [[number]]):\n"
     ]
    }
   ],
   "source": [
    "print(evaluate_prompt.format(inputs=obs, intermediate_steps=[]))"
   ],
   "metadata": {
    "collapsed": false,
    "ExecuteTime": {
     "end_time": "2024-03-26T18:07:35.567211Z",
     "start_time": "2024-03-26T18:07:35.546377Z"
    }
   },
   "id": "12424e7eb946831e",
   "execution_count": 11
  },
  {
   "cell_type": "markdown",
   "source": [
    "### Putting It All Together"
   ],
   "metadata": {
    "collapsed": false
   },
   "id": "51e5c0c190737b7c"
  },
  {
   "cell_type": "code",
   "outputs": [],
   "source": [
    "evaluator_runnable = (\n",
    "    {\n",
    "        \"inputs\": itemgetter(\"inputs\") | RunnableLambda(itemgetter(\"inputs\")),\n",
    "        \"intermediate_steps\": itemgetter(\"intermediate_steps\") | RunnableLambda(format_to_openai_tool_messages),\n",
    "    }\n",
    "    | evaluate_prompt\n",
    "    | ChatOpenAI(model=model_name, temperature=temperature)\n",
    "    | ALFWorldEvaluateOutputParser()\n",
    ")"
   ],
   "metadata": {
    "collapsed": false,
    "ExecuteTime": {
     "end_time": "2024-03-26T18:07:35.596680Z",
     "start_time": "2024-03-26T18:07:35.565165Z"
    }
   },
   "id": "99c2f0702eebdb3f",
   "execution_count": 12
  },
  {
   "cell_type": "markdown",
   "source": [
    "### Self-Reflection"
   ],
   "metadata": {
    "collapsed": false
   },
   "id": "1c2e16b514580fb6"
  },
  {
   "cell_type": "markdown",
   "source": [
    "Default Self-Reflection is powered by a [`Runnable`](https://python.langchain.com/docs/expression_language/interface) that takes in:\n",
    "\n",
    "* `inputs`: original inputs\n",
    "* `intermediate_steps`: a sequence of agent actions\n",
    "\n",
    "And returns a single self-reflection: high-level plan of what went wrong in a current trial."
   ],
   "metadata": {
    "collapsed": false
   },
   "id": "d25adbac98c6a8c"
  },
  {
   "cell_type": "markdown",
   "source": [
    "### Prompt"
   ],
   "metadata": {
    "collapsed": false
   },
   "id": "9f3c95c48bc2c939"
  },
  {
   "cell_type": "code",
   "outputs": [
    {
     "data": {
      "text/plain": "['inputs', 'intermediate_steps']"
     },
     "execution_count": 13,
     "metadata": {},
     "output_type": "execute_result"
    }
   ],
   "source": [
    "self_reflection_prompt.input_variables"
   ],
   "metadata": {
    "collapsed": false,
    "ExecuteTime": {
     "end_time": "2024-03-26T18:07:35.611497Z",
     "start_time": "2024-03-26T18:07:35.591969Z"
    }
   },
   "id": "9a396d8f63498723",
   "execution_count": 13
  },
  {
   "cell_type": "code",
   "outputs": [
    {
     "name": "stdout",
     "output_type": "stream",
     "text": [
      "System: You are an advanced reasoning agent that can self-reflect on their shortcomings when solving reasoning tasks.\n",
      "Human: \n",
      "You will be given your previous trial in the household navigation.\n",
      "\n",
      "Input:\n",
      "-= Welcome to TextWorld, ALFRED! =-\n",
      "\n",
      "You are in the middle of a room. Looking quickly around you, you see a bathtubbasin 1, a countertop 1, a drawer 4, a drawer 3, a drawer 2, a drawer 1, a dresser 1, a garbagecan 1, a handtowelholder 2, a handtowelholder 1, a shelf 2, a shelf 1, a sinkbasin 1, a toilet 1, a toiletpaperhanger 1, and a towelholder 1.\n",
      "\n",
      "Your task is to: put a spraybottle in garbagecan.\n",
      "Human: Your intermediate steps:\n",
      "Human: \n",
      "In this trial, you were unsuccessful. \n",
      "In a few sentences, diagnose a possible reason for failure and devise a new, concise, high level plan that aims to mitigate the same shortcomings. \n",
      "Use complete sentences.\n"
     ]
    }
   ],
   "source": [
    "print(\n",
    "    self_reflection_prompt.format(\n",
    "        inputs=obs,\n",
    "        intermediate_steps=[],\n",
    "    )\n",
    ")"
   ],
   "metadata": {
    "collapsed": false,
    "ExecuteTime": {
     "end_time": "2024-03-26T18:07:35.632511Z",
     "start_time": "2024-03-26T18:07:35.612629Z"
    }
   },
   "id": "df6e44a65130accf",
   "execution_count": 14
  },
  {
   "cell_type": "markdown",
   "source": [
    "### Putting It All Together"
   ],
   "metadata": {
    "collapsed": false
   },
   "id": "972d8d4b634c05e3"
  },
  {
   "cell_type": "code",
   "outputs": [],
   "source": [
    "self_reflection_runnable = (\n",
    "    {\n",
    "        \"inputs\": itemgetter(\"inputs\") | RunnableLambda(itemgetter(\"inputs\")),\n",
    "        \"intermediate_steps\": lambda x: format_to_openai_tool_messages(x[\"intermediate_steps\"]),\n",
    "        \"agent_outcome\": lambda x: x[\"agent_outcome\"].return_values[\"output\"],\n",
    "    }\n",
    "    | self_reflection_prompt\n",
    "    | ChatOpenAI(model=model_name, temperature=temperature)\n",
    ")"
   ],
   "metadata": {
    "collapsed": false,
    "ExecuteTime": {
     "end_time": "2024-03-26T18:07:35.661250Z",
     "start_time": "2024-03-26T18:07:35.632107Z"
    }
   },
   "id": "80ad8ba50680b6ba",
   "execution_count": 15
  },
  {
   "cell_type": "markdown",
   "source": [
    "## Defining strategy"
   ],
   "metadata": {
    "collapsed": false
   },
   "id": "668ce81c233a394a"
  },
  {
   "cell_type": "code",
   "outputs": [],
   "source": [
    "from planning_library.action_executors import GymnasiumActionExecutor\n",
    "from typing import Dict, Any\n",
    "\n",
    "\n",
    "def reset_environment(_: Dict[str, Any]) -> None:\n",
    "    env.reset()\n",
    "\n",
    "\n",
    "action_executor = GymnasiumActionExecutor(env)\n",
    "reflexion = ReflexionStrategy.create(\n",
    "    agent=agent,\n",
    "    tools=tools,\n",
    "    action_executor=action_executor,\n",
    "    evaluator_runnable=evaluator_runnable,\n",
    "    self_reflection_runnable=self_reflection_runnable,\n",
    "    value_threshold=value_threshold,\n",
    "    reset_environment=reset_environment,\n",
    "    max_iterations=max_num_iterations,\n",
    ")"
   ],
   "metadata": {
    "collapsed": false,
    "ExecuteTime": {
     "end_time": "2024-03-26T18:07:35.683846Z",
     "start_time": "2024-03-26T18:07:35.660419Z"
    }
   },
   "id": "63696c4bcb7ce761",
   "execution_count": 16
  },
  {
   "cell_type": "code",
   "outputs": [],
   "source": [
    "reflexion.invoke(\n",
    "    {\"inputs\": {\"inputs\": obs}},\n",
    "    {\"recursion_limit\": 10000},\n",
    ")\n",
    "env.close()"
   ],
   "metadata": {
    "collapsed": false,
    "ExecuteTime": {
     "end_time": "2024-03-26T18:08:36.771200Z",
     "start_time": "2024-03-26T18:07:35.681208Z"
    }
   },
   "id": "82b8f7b39a2fcc76",
   "execution_count": 17
  },
  {
   "cell_type": "code",
   "outputs": [],
   "source": [],
   "metadata": {
    "collapsed": false
   },
   "id": "bce2272d0bbfcee6"
  }
 ],
 "metadata": {
  "kernelspec": {
   "display_name": "Python 3",
   "language": "python",
   "name": "python3"
  },
  "language_info": {
   "codemirror_mode": {
    "name": "ipython",
    "version": 2
   },
   "file_extension": ".py",
   "mimetype": "text/x-python",
   "name": "python",
   "nbconvert_exporter": "python",
   "pygments_lexer": "ipython2",
   "version": "2.7.6"
  }
 },
 "nbformat": 4,
 "nbformat_minor": 5
}
