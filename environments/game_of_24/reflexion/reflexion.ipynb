{
 "cells": [
  {
   "cell_type": "markdown",
   "source": [
    "# Game of 24: Reflexion"
   ],
   "metadata": {
    "collapsed": false
   },
   "id": "ff7608527eb4e965"
  },
  {
   "cell_type": "markdown",
   "source": [
    "## Utils"
   ],
   "metadata": {
    "collapsed": false
   },
   "id": "a1d5e1faaf9ad1d3"
  },
  {
   "cell_type": "markdown",
   "source": [
    "### Imports"
   ],
   "metadata": {
    "collapsed": false
   },
   "id": "1902f249d0de1c2f"
  },
  {
   "cell_type": "code",
   "execution_count": 1,
   "id": "initial_id",
   "metadata": {
    "collapsed": true,
    "ExecuteTime": {
     "end_time": "2024-02-21T15:30:56.678063Z",
     "start_time": "2024-02-21T15:30:55.244508Z"
    }
   },
   "outputs": [],
   "source": [
    "from langchain_openai import ChatOpenAI\n",
    "from environments.game_of_24.common.evaluate_utils import (\n",
    "    GameOf24EvaluateOutputParser,\n",
    "    game_of_24_last_step_evaluate_prompt,\n",
    ")\n",
    "from environments.game_of_24.reflexion.generate_utils import (\n",
    "    game_of_24_generate_reflexion_prompt,\n",
    "    GameOf24GenerateReflexionOutputParser,\n",
    ")\n",
    "from environments.game_of_24.reflexion.self_reflection_utils import (\n",
    "    game_of_24_self_reflection_prompt,\n",
    "    GameOf24SelfReflexionOutputParser,\n",
    ")\n",
    "\n",
    "from planning_library.langgraph_version.strategies.reflexion.actors import AgentActor\n",
    "from planning_library.langgraph_version.strategies.reflexion.evaluators import ThresholdRunnableEvaluator\n",
    "from planning_library.langgraph_version.strategies.reflexion.self_reflections import RunnableSelfReflection\n",
    "from planning_library.langgraph_version.strategies.reflexion import create_reflexion_strategy\n",
    "\n",
    "import os\n",
    "\n",
    "%load_ext autoreload\n",
    "%autoreload 2"
   ]
  },
  {
   "cell_type": "markdown",
   "source": [
    "### Setting up logging"
   ],
   "metadata": {
    "collapsed": false
   },
   "id": "2c2b8c18817d13da"
  },
  {
   "cell_type": "code",
   "execution_count": 2,
   "outputs": [],
   "source": [
    "# os.environ[\"LANGCHAIN_WANDB_TRACING\"] = \"true\"\n",
    "# os.environ[\"WANDB_PROJECT\"] = \"aeliseeva-reflexion-game24-test\""
   ],
   "metadata": {
    "collapsed": false,
    "ExecuteTime": {
     "end_time": "2024-02-21T15:30:56.688423Z",
     "start_time": "2024-02-21T15:30:56.676037Z"
    }
   },
   "id": "deb446016899f2b"
  },
  {
   "cell_type": "code",
   "execution_count": 3,
   "outputs": [],
   "source": [
    "os.environ[\"LANGCHAIN_TRACING_V2\"] = \"true\"\n",
    "os.environ[\"LANGCHAIN_PROJECT\"] = \"Reflexion\"\n",
    "os.environ[\"LANGCHAIN_ENDPOINT\"] = \"https://api.smith.langchain.com\""
   ],
   "metadata": {
    "collapsed": false,
    "ExecuteTime": {
     "end_time": "2024-02-21T15:30:56.704398Z",
     "start_time": "2024-02-21T15:30:56.688673Z"
    }
   },
   "id": "8e44e878380dc908"
  },
  {
   "cell_type": "markdown",
   "source": [
    "## Hyperparameters"
   ],
   "metadata": {
    "collapsed": false
   },
   "id": "76f86ff1fff6b2f"
  },
  {
   "cell_type": "code",
   "execution_count": 4,
   "outputs": [],
   "source": [
    "# Reflexion hyperparameters\n",
    "value_threshold = 1.0  # threshold for evaluation; when reached, the loop will exit\n",
    "max_num_iterations = 20  # maximum number of iterations; when reached, the loop will exit\n",
    "\n",
    "# other hyperparameters\n",
    "model_name = \"gpt-3.5-turbo\"\n",
    "temperature = 0.8"
   ],
   "metadata": {
    "collapsed": false,
    "ExecuteTime": {
     "end_time": "2024-02-21T15:30:56.714365Z",
     "start_time": "2024-02-21T15:30:56.701439Z"
    }
   },
   "id": "711000b9d952a294"
  },
  {
   "cell_type": "markdown",
   "source": [
    "## Defining components"
   ],
   "metadata": {
    "collapsed": false
   },
   "id": "4daf328b84bc3660"
  },
  {
   "cell_type": "markdown",
   "source": [
    "### Actor"
   ],
   "metadata": {
    "collapsed": false
   },
   "id": "363a87633864b16f"
  },
  {
   "cell_type": "code",
   "execution_count": 5,
   "outputs": [
    {
     "data": {
      "text/plain": "['inputs', 'intermediate_steps', 'self_reflections']"
     },
     "execution_count": 5,
     "metadata": {},
     "output_type": "execute_result"
    }
   ],
   "source": [
    "game_of_24_generate_reflexion_prompt.input_variables"
   ],
   "metadata": {
    "collapsed": false,
    "ExecuteTime": {
     "end_time": "2024-02-21T15:30:56.822880Z",
     "start_time": "2024-02-21T15:30:56.804391Z"
    }
   },
   "id": "3ae3702b1387d48"
  },
  {
   "cell_type": "code",
   "execution_count": 6,
   "outputs": [
    {
     "name": "stdout",
     "output_type": "stream",
     "text": [
      "System: You are an advanced reasoning agent that can improve based on self reflection.\n",
      "Human: Use numbers and basic arithmetic operations (+ - * /) to obtain 24. Each step, you are only allowed to choose two of the remaining numbers to obtain a new number. If you managed to obtain 24, output a final answer.\n",
      "Human: Input: 2 8 8 14\n",
      "Previous steps: none\n",
      "Your previous self-reflexions: none\n",
      "\n",
      "AI: 2 + 8 = 10 (left: 8 10 14)\n",
      "Human: Input: 4 6 8 8\n",
      "Previous steps: 4 * 6 = 24 (left: 24 8 8)\n",
      "24 + 8 = 36 (left: 36 8)\n",
      "Your previous self-reflexions: I made an error in my response, as I computed 16 + 6 = 24 incorrectly (in fact, 16 + 6 = 22) and did not use number 4 that was present in input. Next time, I should be more cautious and double-check that I am using all input numbers before providing an answer.\n",
      "\n",
      "AI: 36 - 8 = 24\n",
      "answer: 4 * 6 + 8 - 8 = 24\n",
      "Human: Input: 2 3 6 4\n",
      "Previous steps: 2 + 3 = 5 (left: 6 5 4)\n",
      "Your previous self-reflexions: none\n"
     ]
    }
   ],
   "source": [
    "print(\n",
    "    game_of_24_generate_reflexion_prompt.format(\n",
    "        inputs=\"2 3 6 4\", intermediate_steps=\"\\n\".join([\"2 + 3 = 5 (left: 6 5 4)\"]), self_reflections=\"none\"\n",
    "    )\n",
    ")"
   ],
   "metadata": {
    "collapsed": false,
    "ExecuteTime": {
     "end_time": "2024-02-21T15:30:57.292259Z",
     "start_time": "2024-02-21T15:30:57.276201Z"
    }
   },
   "id": "ff36c39e1add5585"
  },
  {
   "cell_type": "code",
   "execution_count": 7,
   "outputs": [],
   "source": [
    "from langchain.tools import tool\n",
    "\n",
    "\n",
    "@tool\n",
    "def simple_tool(text: str) -> str:\n",
    "    \"\"\"Returns its input.\"\"\"\n",
    "    return text"
   ],
   "metadata": {
    "collapsed": false,
    "ExecuteTime": {
     "end_time": "2024-02-21T15:30:57.700002Z",
     "start_time": "2024-02-21T15:30:57.674407Z"
    }
   },
   "id": "63656cb218a84072"
  },
  {
   "cell_type": "code",
   "execution_count": 8,
   "outputs": [],
   "source": [
    "agent = (\n",
    "    {\n",
    "        \"inputs\": lambda x: x[\"inputs\"],\n",
    "        \"intermediate_steps\": lambda x: \"\\n\".join([_[1] for _ in x[\"intermediate_steps\"]])\n",
    "        if x[\"intermediate_steps\"]\n",
    "        else \"none\",\n",
    "        \"self_reflections\": lambda x: \"\\n\".join(x[\"self_reflections\"]) if x[\"self_reflections\"] else \"none\",\n",
    "    }\n",
    "    | game_of_24_generate_reflexion_prompt\n",
    "    | ChatOpenAI(model=model_name, temperature=temperature)\n",
    "    | GameOf24GenerateReflexionOutputParser()\n",
    ")\n",
    "tools = [simple_tool]\n",
    "actor = AgentActor(agent=agent, tools=tools)"
   ],
   "metadata": {
    "collapsed": false,
    "ExecuteTime": {
     "end_time": "2024-02-21T15:30:58.261848Z",
     "start_time": "2024-02-21T15:30:58.228945Z"
    }
   },
   "id": "4bd85dfc8adbb9a9"
  },
  {
   "cell_type": "markdown",
   "source": [
    "### Evaluator"
   ],
   "metadata": {
    "collapsed": false
   },
   "id": "3bab4bf13d795da4"
  },
  {
   "cell_type": "code",
   "execution_count": 9,
   "outputs": [
    {
     "data": {
      "text/plain": "['inputs', 'thought']"
     },
     "execution_count": 9,
     "metadata": {},
     "output_type": "execute_result"
    }
   ],
   "source": [
    "game_of_24_last_step_evaluate_prompt.input_variables"
   ],
   "metadata": {
    "collapsed": false,
    "ExecuteTime": {
     "end_time": "2024-02-21T15:30:59.120521Z",
     "start_time": "2024-02-21T15:30:59.103152Z"
    }
   },
   "id": "eb7dcd3839b1953c"
  },
  {
   "cell_type": "code",
   "execution_count": 10,
   "outputs": [
    {
     "name": "stdout",
     "output_type": "stream",
     "text": [
      "System: You are a helpful assistant that judges whether answers to Game of 24 are correct.\n",
      "Human: Use numbers and basic arithmetic operations (+ - * /) to obtain 24. Given an input and an answer, give a judgement (sure/impossible) if the answer is correct, i.e. it uses each input exactly once and no other numbers, and reach 24.\n",
      "Human: Input: 4 4 6 8\n",
      "Answer: (4 + 8) * (6 - 4) = 24\n",
      "Judge:\n",
      "AI: sure\n",
      "Human: Input: 2 9 10 12\n",
      "Answer: 2 * 12 * (10 - 9) = 24\n",
      "Judge:\n",
      "AI: sure\n",
      "Human: Input: 4 9 10 13\n",
      "Answer: (13 - 9) * (10 - 4) = 24\n",
      "Judge:\n",
      "AI: sure\n",
      "Human: Input: 4 4 6 8\n",
      "Answer: (4 + 8) * (6 - 4) + 1 = 25\n",
      "Judge:\n",
      "AI: impossible\n",
      "Human: Input: 2 9 10 12\n",
      "Answer: 2 * 12 * (10 - 9) = 24\n",
      "Judge:\n",
      "AI: sure\n",
      "Human: Input: 2 9 10 12\n",
      "Answer: 2 * (12 - 10) = 24\n",
      "Judge:\n",
      "AI: impossible\n",
      "Human: Input: 4 9 10 13\n",
      "Answer: (13 - 4) * (10 - 9) = 24\n",
      "Judge:\n",
      "AI: impossible\n",
      "Human: Input: 2 3 6 4\n",
      "Answer: 2 + 3 + 6 + 4 = 24\n",
      "Judge:\n"
     ]
    }
   ],
   "source": [
    "print(game_of_24_last_step_evaluate_prompt.format(inputs=\"2 3 6 4\", thought=\"2 + 3 + 6 + 4 = 24\"))"
   ],
   "metadata": {
    "collapsed": false,
    "ExecuteTime": {
     "end_time": "2024-02-21T15:30:59.608947Z",
     "start_time": "2024-02-21T15:30:59.578341Z"
    }
   },
   "id": "5067a1639ff3c9ad"
  },
  {
   "cell_type": "code",
   "execution_count": 11,
   "outputs": [],
   "source": [
    "evaluator_chain = (\n",
    "    {\n",
    "        \"inputs\": lambda x: x[\"inputs\"],\n",
    "        \"thought\": lambda x: x[\"agent_outcome\"].return_values[\"output\"],\n",
    "    }\n",
    "    | game_of_24_last_step_evaluate_prompt\n",
    "    | ChatOpenAI(model=\"gpt-4-0125-preview\", temperature=temperature)\n",
    "    | GameOf24EvaluateOutputParser()\n",
    ")\n",
    "evaluator = ThresholdRunnableEvaluator(llm_chain=evaluator_chain, threshold=value_threshold)"
   ],
   "metadata": {
    "collapsed": false,
    "ExecuteTime": {
     "end_time": "2024-02-21T15:31:00.020801Z",
     "start_time": "2024-02-21T15:30:59.991534Z"
    }
   },
   "id": "dc6a14af7a1cc8de"
  },
  {
   "cell_type": "markdown",
   "source": [
    "### Self-Reflection"
   ],
   "metadata": {
    "collapsed": false
   },
   "id": "eb2c9a901edf216e"
  },
  {
   "cell_type": "code",
   "execution_count": 12,
   "outputs": [
    {
     "data": {
      "text/plain": "['answer', 'inputs', 'intermediate_steps']"
     },
     "execution_count": 12,
     "metadata": {},
     "output_type": "execute_result"
    }
   ],
   "source": [
    "game_of_24_self_reflection_prompt.input_variables"
   ],
   "metadata": {
    "collapsed": false,
    "ExecuteTime": {
     "end_time": "2024-02-21T15:31:00.794292Z",
     "start_time": "2024-02-21T15:31:00.773103Z"
    }
   },
   "id": "796866acdeadec86"
  },
  {
   "cell_type": "code",
   "execution_count": 13,
   "outputs": [
    {
     "name": "stdout",
     "output_type": "stream",
     "text": [
      "System: You are an advanced reasoning agent that can improve based on self reflection.\n",
      "Human: You will be given a previous trial in Game of 24, where you had to use basic arithmetic operations (+ - * /) with given numbers to obtain 24. You were unsuccessful. In a few sentences, diagnose a possible reason for failure and devise a new, concise, high level plan that aims to mitigate the same failure. Use complete sentences.\n",
      "Here are some examples:\n",
      "Human: Input: 4 6 8 10\n",
      "Previous trial:\n",
      "2 + 8 = 10 (left: 10 10 4)\n",
      "10 + 10 = 20 (left: 20 4)\n",
      "20 + 4 = 24\n",
      "Answer: 2 + 8 + 10 + 4 = 24\n",
      "Reflection:\n",
      "AI: I made an error in my response, as I used number 2 that was not present in input. Next time, I should be more cautious and double-check that I am only using input numbers before providing an answer.\n",
      "Human: Input: 4 6 8 10\n",
      "Previous trial:\n",
      "10 + 8 = 18 (left: 18 4 6)\n",
      "18 + 6 = 24 (left: 24 4)\n",
      "Answer: 10 + 8 + 6 = 24\n",
      "Reflection:\n",
      "AI: I made an error in my response, as I did not use number 4 that was present in input. Next time, I should be more cautious and double-check that I am using all input numbers before providing an answer.\n",
      "Human: Input: 4 6 8 10\n",
      "Previous trial:\n",
      "10 + 8 = 14 (left: 14 4 6)\n",
      "14 + 6 = 20 (left: 20 4)\n",
      "20 + 4 = 24\n",
      "Answer: 10 + 8 + 6 + 4 = 24\n",
      "Reflection:\n",
      "AI: I made an error in my response, as I incorrectly computed that 10 + 8 = 14, while, in fact, 10 + 8 = 18. Next time, I should be more cautious and double-check the results of arithmetical operations before providing an answer.\n",
      "Human: Input: 2 3 6 4\n",
      "Previous trial: 2 + 3 = 5 (left: 5 4 6)\n",
      "5 + 4 = 9 (left: 9 6)\n",
      "9 + 6 = 24\n",
      "Answer: 2 + 3 + 4 + 6 = 24\n",
      "Reflection:\n"
     ]
    }
   ],
   "source": [
    "print(\n",
    "    game_of_24_self_reflection_prompt.format(\n",
    "        inputs=\"2 3 6 4\",\n",
    "        intermediate_steps=\"\\n\".join([\"2 + 3 = 5 (left: 5 4 6)\", \"5 + 4 = 9 (left: 9 6)\", \"9 + 6 = 24\"]),\n",
    "        answer=\"2 + 3 + 4 + 6 = 24\",\n",
    "    )\n",
    ")"
   ],
   "metadata": {
    "collapsed": false,
    "ExecuteTime": {
     "end_time": "2024-02-21T15:31:01.204907Z",
     "start_time": "2024-02-21T15:31:01.181434Z"
    }
   },
   "id": "c2fd9b4d747fb08a"
  },
  {
   "cell_type": "code",
   "execution_count": 14,
   "outputs": [],
   "source": [
    "self_reflection_chain = (\n",
    "    {\n",
    "        \"inputs\": lambda x: x[\"inputs\"],\n",
    "        \"intermediate_steps\": lambda x: \"\\n\".join([_[1] for _ in x[\"intermediate_steps\"]])\n",
    "        if x[\"intermediate_steps\"]\n",
    "        else \"none\",\n",
    "        \"answer\": lambda x: x[\"agent_outcome\"].return_values[\"output\"],\n",
    "    }\n",
    "    | game_of_24_self_reflection_prompt\n",
    "    | ChatOpenAI(model=model_name, temperature=temperature)\n",
    "    | GameOf24SelfReflexionOutputParser()\n",
    ")\n",
    "self_reflection = RunnableSelfReflection(llm_chain=self_reflection_chain)"
   ],
   "metadata": {
    "collapsed": false,
    "ExecuteTime": {
     "end_time": "2024-02-21T15:31:01.604621Z",
     "start_time": "2024-02-21T15:31:01.577622Z"
    }
   },
   "id": "fd75de10e82a649a"
  },
  {
   "cell_type": "markdown",
   "source": [
    "## Defining strategy"
   ],
   "metadata": {
    "collapsed": false
   },
   "id": "c4deafdf01a26c7e"
  },
  {
   "cell_type": "code",
   "execution_count": 15,
   "outputs": [],
   "source": [
    "reflexion = create_reflexion_strategy(\n",
    "    actor=actor, evaluator=evaluator, self_reflection=self_reflection, max_num_iterations=max_num_iterations\n",
    ")"
   ],
   "metadata": {
    "collapsed": false,
    "ExecuteTime": {
     "end_time": "2024-02-21T15:31:02.482272Z",
     "start_time": "2024-02-21T15:31:02.464016Z"
    }
   },
   "id": "26931470b1253194"
  },
  {
   "cell_type": "code",
   "execution_count": 16,
   "outputs": [
    {
     "data": {
      "text/plain": "{'inputs': '1 1 4 6',\n 'agent_outcome': AgentFinish(return_values={'output': '1 * 1 * 4 * 6 = 24'}, log='Successfully reached 24.'),\n 'evaluator_score': 1.0,\n 'self_reflections': ['Great job on solving the trial correctly! Your approach of multiplying the numbers together was efficient and effective in reaching the target number of 24. Keep up the good work!',\n  'Great job on finding the correct solution! In this case, you successfully utilized multiplication to combine the numbers and reach the target of 24. Your approach was efficient and effective. Keep up the good work!'],\n 'intermediate_steps': [],\n 'iteration': 4}"
     },
     "execution_count": 16,
     "metadata": {},
     "output_type": "execute_result"
    }
   ],
   "source": [
    "reflexion.invoke({\"inputs\": \"1 1 4 6\"})"
   ],
   "metadata": {
    "collapsed": false,
    "ExecuteTime": {
     "end_time": "2024-02-21T15:31:12.436066Z",
     "start_time": "2024-02-21T15:31:02.887413Z"
    }
   },
   "id": "a04edc6edcc81f6e"
  },
  {
   "cell_type": "code",
   "execution_count": 17,
   "outputs": [
    {
     "data": {
      "text/plain": "{'inputs': '2 3 5 12',\n 'agent_outcome': AgentFinish(return_values={'output': '2 * 3 * 5 - 12 = 24'}, log='Successfully reached 24.'),\n 'evaluator_score': 1.0,\n 'self_reflections': [],\n 'intermediate_steps': [(AgentAction(tool='simple_tool', tool_input='3 * 5 = 15 (left: 2 15 12)', log='3 * 5 = 15 (left: 2 15 12)'),\n   '3 * 5 = 15 (left: 2 15 12)')],\n 'iteration': 2}"
     },
     "execution_count": 17,
     "metadata": {},
     "output_type": "execute_result"
    }
   ],
   "source": [
    "reflexion.invoke({\"inputs\": \"2 3 5 12\"})"
   ],
   "metadata": {
    "collapsed": false,
    "ExecuteTime": {
     "end_time": "2024-02-21T15:31:23.581755Z",
     "start_time": "2024-02-21T15:31:19.388698Z"
    }
   },
   "id": "14f8ce2d6b0a73c6"
  },
  {
   "cell_type": "code",
   "execution_count": 18,
   "outputs": [
    {
     "data": {
      "text/plain": "{'inputs': '5 6 6 12',\n 'agent_outcome': AgentFinish(return_values={'output': '5 * ((6 * 6) / 12) = 24'}, log='Successfully reached 24.'),\n 'evaluator_score': 1.0,\n 'self_reflections': [],\n 'intermediate_steps': [(AgentAction(tool='simple_tool', tool_input='6 * 6 = 36 (left: 5 36 12)', log='6 * 6 = 36 (left: 5 36 12)'),\n   '6 * 6 = 36 (left: 5 36 12)')],\n 'iteration': 2}"
     },
     "execution_count": 18,
     "metadata": {},
     "output_type": "execute_result"
    }
   ],
   "source": [
    "reflexion.invoke({\"inputs\": \"5 6 6 12\"})"
   ],
   "metadata": {
    "collapsed": false,
    "ExecuteTime": {
     "end_time": "2024-02-21T15:31:29.000097Z",
     "start_time": "2024-02-21T15:31:24.695510Z"
    }
   },
   "id": "9f94baaacc6958fb"
  },
  {
   "cell_type": "code",
   "execution_count": 19,
   "outputs": [
    {
     "data": {
      "text/plain": "{'inputs': '5 6 6 12',\n 'agent_outcome': AgentFinish(return_values={'output': '(5 * 6) - 6 + 12 = 24'}, log='Successfully reached 24.'),\n 'evaluator_score': 1.0,\n 'self_reflections': ['In my previous response, I made an error by not using all the numbers provided in the input. Next time, I should ensure that I use all the given numbers in the calculations to find a solution.'],\n 'intermediate_steps': [(AgentAction(tool='simple_tool', tool_input='5 * 6 = 30 (left: 6 12 30)', log='5 * 6 = 30 (left: 6 12 30)'),\n   '5 * 6 = 30 (left: 6 12 30)')],\n 'iteration': 3}"
     },
     "execution_count": 19,
     "metadata": {},
     "output_type": "execute_result"
    }
   ],
   "source": [
    "reflexion.invoke({\"inputs\": \"5 6 6 12\"})"
   ],
   "metadata": {
    "collapsed": false,
    "ExecuteTime": {
     "end_time": "2024-02-21T15:31:45.193531Z",
     "start_time": "2024-02-21T15:31:37.514906Z"
    }
   },
   "id": "d2e6f244def8613e"
  },
  {
   "cell_type": "code",
   "execution_count": null,
   "outputs": [],
   "source": [],
   "metadata": {
    "collapsed": false
   },
   "id": "96088658e0e235d5"
  }
 ],
 "metadata": {
  "kernelspec": {
   "display_name": "Python 3",
   "language": "python",
   "name": "python3"
  },
  "language_info": {
   "codemirror_mode": {
    "name": "ipython",
    "version": 2
   },
   "file_extension": ".py",
   "mimetype": "text/x-python",
   "name": "python",
   "nbconvert_exporter": "python",
   "pygments_lexer": "ipython2",
   "version": "2.7.6"
  }
 },
 "nbformat": 4,
 "nbformat_minor": 5
}
