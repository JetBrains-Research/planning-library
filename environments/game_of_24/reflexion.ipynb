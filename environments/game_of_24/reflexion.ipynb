{
 "cells": [
  {
   "cell_type": "markdown",
   "source": [
    "# Utils"
   ],
   "metadata": {
    "collapsed": false
   },
   "id": "1fef8f224fc8d74e"
  },
  {
   "cell_type": "markdown",
   "source": [
    "## Imports"
   ],
   "metadata": {
    "collapsed": false
   },
   "id": "14f9579a2b3aa475"
  },
  {
   "cell_type": "code",
   "outputs": [
    {
     "name": "stdout",
     "output_type": "stream",
     "text": [
      "The autoreload extension is already loaded. To reload it, use:\n",
      "  %reload_ext autoreload\n"
     ]
    }
   ],
   "source": [
    "from langchain_openai import ChatOpenAI\n",
    "from textwrap import dedent\n",
    "from environments.game_of_24.reflexion.generate_prompts import openai_tools_generate_prompt\n",
    "\n",
    "from planning_library.strategies.reflexion import ReflexionStrategy\n",
    "from planning_library.strategies.reflexion.components import ReflexionActor, ReflexionEvaluator, ReflexionSelfReflection\n",
    "from environments.game_of_24.common.environment import GameOf24Env\n",
    "\n",
    "import os\n",
    "\n",
    "%load_ext autoreload\n",
    "%autoreload 2"
   ],
   "metadata": {
    "collapsed": false,
    "ExecuteTime": {
     "end_time": "2024-04-16T10:51:03.458549Z",
     "start_time": "2024-04-16T10:51:03.442485Z"
    }
   },
   "id": "b53511c71640dcea",
   "execution_count": 20
  },
  {
   "cell_type": "markdown",
   "source": [
    "## Logging"
   ],
   "metadata": {
    "collapsed": false
   },
   "id": "fa006dc2f0d04e39"
  },
  {
   "cell_type": "code",
   "outputs": [],
   "source": [
    "os.environ[\"LANGCHAIN_TRACING_V2\"] = \"true\"\n",
    "os.environ[\"LANGCHAIN_PROJECT\"] = \"Reflexion (new) + Game of 24\"\n",
    "os.environ[\"LANGCHAIN_ENDPOINT\"] = \"https://api.smith.langchain.com\""
   ],
   "metadata": {
    "collapsed": false,
    "ExecuteTime": {
     "end_time": "2024-04-16T10:51:03.857486Z",
     "start_time": "2024-04-16T10:51:03.839869Z"
    }
   },
   "id": "c6dea842a5c669ab",
   "execution_count": 21
  },
  {
   "cell_type": "markdown",
   "source": [
    "## Defining environment"
   ],
   "metadata": {
    "collapsed": false
   },
   "id": "89ceb41dcab95adc"
  },
  {
   "cell_type": "code",
   "outputs": [],
   "source": [
    "env = GameOf24Env()"
   ],
   "metadata": {
    "collapsed": false,
    "ExecuteTime": {
     "end_time": "2024-04-16T10:51:04.243385Z",
     "start_time": "2024-04-16T10:51:04.225496Z"
    }
   },
   "id": "6777295e88f644e7",
   "execution_count": 22
  },
  {
   "cell_type": "markdown",
   "source": [
    "## Defining hyperparameters"
   ],
   "metadata": {
    "collapsed": false
   },
   "id": "57c32637a187d62e"
  },
  {
   "cell_type": "code",
   "outputs": [],
   "source": [
    "# Reflexion hyperparameters\n",
    "value_threshold = 1.0  # threshold for evaluation; when reached, the loop will exit\n",
    "max_num_iterations = 2  # maximum number of iterations; when reached, the loop will exit\n",
    "\n",
    "# other hyperparameters\n",
    "model_name = \"gpt-3.5-turbo\"\n",
    "temperature = 0.8"
   ],
   "metadata": {
    "collapsed": false,
    "ExecuteTime": {
     "end_time": "2024-04-16T10:51:04.607952Z",
     "start_time": "2024-04-16T10:51:04.592747Z"
    }
   },
   "id": "b98d2eebc3a91cbe",
   "execution_count": 23
  },
  {
   "cell_type": "markdown",
   "source": [
    "# Defining strategy components"
   ],
   "metadata": {
    "collapsed": false
   },
   "id": "7f67d00c3360f761"
  },
  {
   "cell_type": "markdown",
   "source": [
    "## Agent"
   ],
   "metadata": {
    "collapsed": false
   },
   "id": "3007e162abab3317"
  },
  {
   "cell_type": "markdown",
   "source": [
    "### Working with function calling parsers\n",
    "\n",
    "There are two base function calling parsers classes (for single-action & for multi-action), defined in `planning_library.function_calling_parsers.base_parser`. \n",
    "\n",
    "I implemented output parsers for OpenAI Functions (in `planning_library.function_calling_parsers.openai_functions_parser`) and OpenAI Tools (in `planning_library.function_calling_parsers.openai_tools_parser`).\n",
    "\n",
    "There is also a registry for accessing available parsers conveniently:"
   ],
   "metadata": {
    "collapsed": false
   },
   "id": "23bd6a1dcccdf6d3"
  },
  {
   "cell_type": "code",
   "outputs": [
    {
     "data": {
      "text/plain": "['openai-functions', 'openai-tools']"
     },
     "execution_count": 24,
     "metadata": {},
     "output_type": "execute_result"
    }
   ],
   "source": [
    "from planning_library.function_calling_parsers import ParserRegistry\n",
    "\n",
    "\n",
    "ParserRegistry.get_available_parsers()"
   ],
   "metadata": {
    "collapsed": false,
    "ExecuteTime": {
     "end_time": "2024-04-16T10:51:05.396321Z",
     "start_time": "2024-04-16T10:51:05.371723Z"
    }
   },
   "id": "d436b68b58554bcc",
   "execution_count": 24
  },
  {
   "cell_type": "code",
   "outputs": [
    {
     "data": {
      "text/plain": "<planning_library.function_calling_parsers.openai_functions_parser.OpenAIFunctionsParser at 0x176c8e7d0>"
     },
     "execution_count": 25,
     "metadata": {},
     "output_type": "execute_result"
    }
   ],
   "source": [
    "ParserRegistry.get_parser(\"openai-functions\")"
   ],
   "metadata": {
    "collapsed": false,
    "ExecuteTime": {
     "end_time": "2024-04-16T10:51:05.593073Z",
     "start_time": "2024-04-16T10:51:05.576423Z"
    }
   },
   "id": "dc62e0f88fd9e2f5",
   "execution_count": 25
  },
  {
   "cell_type": "code",
   "outputs": [
    {
     "ename": "ValueError",
     "evalue": "Unknown parser openai-123. Currently available are: ['openai-functions', 'openai-tools']",
     "output_type": "error",
     "traceback": [
      "\u001B[0;31m---------------------------------------------------------------------------\u001B[0m",
      "\u001B[0;31mKeyError\u001B[0m                                  Traceback (most recent call last)",
      "File \u001B[0;32m~/PycharmProjects/planning-library/planning_library/function_calling_parsers/parser_registry.py:23\u001B[0m, in \u001B[0;36mParserRegistry.get_parser\u001B[0;34m(cls, parser_name)\u001B[0m\n\u001B[1;32m     22\u001B[0m \u001B[38;5;28;01mtry\u001B[39;00m:\n\u001B[0;32m---> 23\u001B[0m     \u001B[38;5;28;01mreturn\u001B[39;00m \u001B[38;5;28;43mcls\u001B[39;49m\u001B[38;5;241;43m.\u001B[39;49m\u001B[43mregistry\u001B[49m\u001B[43m[\u001B[49m\u001B[43mparser_name\u001B[49m\u001B[43m]\u001B[49m\n\u001B[1;32m     24\u001B[0m \u001B[38;5;28;01mexcept\u001B[39;00m \u001B[38;5;167;01mKeyError\u001B[39;00m:\n",
      "\u001B[0;31mKeyError\u001B[0m: 'openai-123'",
      "\nDuring handling of the above exception, another exception occurred:\n",
      "\u001B[0;31mValueError\u001B[0m                                Traceback (most recent call last)",
      "Cell \u001B[0;32mIn[26], line 1\u001B[0m\n\u001B[0;32m----> 1\u001B[0m \u001B[43mParserRegistry\u001B[49m\u001B[38;5;241;43m.\u001B[39;49m\u001B[43mget_parser\u001B[49m\u001B[43m(\u001B[49m\u001B[38;5;124;43m\"\u001B[39;49m\u001B[38;5;124;43mopenai-123\u001B[39;49m\u001B[38;5;124;43m\"\u001B[39;49m\u001B[43m)\u001B[49m\n",
      "File \u001B[0;32m~/PycharmProjects/planning-library/planning_library/function_calling_parsers/parser_registry.py:25\u001B[0m, in \u001B[0;36mParserRegistry.get_parser\u001B[0;34m(cls, parser_name)\u001B[0m\n\u001B[1;32m     23\u001B[0m     \u001B[38;5;28;01mreturn\u001B[39;00m \u001B[38;5;28mcls\u001B[39m\u001B[38;5;241m.\u001B[39mregistry[parser_name]\n\u001B[1;32m     24\u001B[0m \u001B[38;5;28;01mexcept\u001B[39;00m \u001B[38;5;167;01mKeyError\u001B[39;00m:\n\u001B[0;32m---> 25\u001B[0m     \u001B[38;5;28;01mraise\u001B[39;00m \u001B[38;5;167;01mValueError\u001B[39;00m(\n\u001B[1;32m     26\u001B[0m         \u001B[38;5;124mf\u001B[39m\u001B[38;5;124m\"\u001B[39m\u001B[38;5;124mUnknown parser \u001B[39m\u001B[38;5;132;01m{\u001B[39;00mparser_name\u001B[38;5;132;01m}\u001B[39;00m\u001B[38;5;124m. Currently available are: \u001B[39m\u001B[38;5;132;01m{\u001B[39;00m\u001B[38;5;28mcls\u001B[39m\u001B[38;5;241m.\u001B[39mget_available_parsers()\u001B[38;5;132;01m}\u001B[39;00m\u001B[38;5;124m\"\u001B[39m\n\u001B[1;32m     27\u001B[0m     )\n",
      "\u001B[0;31mValueError\u001B[0m: Unknown parser openai-123. Currently available are: ['openai-functions', 'openai-tools']"
     ]
    }
   ],
   "source": [
    "ParserRegistry.get_parser(\"openai-123\")"
   ],
   "metadata": {
    "collapsed": false,
    "ExecuteTime": {
     "end_time": "2024-04-16T10:51:05.865706Z",
     "start_time": "2024-04-16T10:51:05.835017Z"
    }
   },
   "id": "8215e89168ce1a32",
   "execution_count": 26
  },
  {
   "cell_type": "markdown",
   "source": [
    "### Instantiating an agent\n"
   ],
   "metadata": {
    "collapsed": false
   },
   "id": "43d4286579b6ec2e"
  },
  {
   "cell_type": "markdown",
   "source": [
    "Agent components:\n",
    "\n",
    "* LLM (`BaseChatModel` from LangChain)\n",
    "* Prompt (`ChatPromptTemplate` from LangChain)\n",
    "* Tools (`Sequence[BaseTool]`, where `BaseTool` is a LangChain primitive)\n",
    "* Function Calling Parser (either passed explicitly or by its name)"
   ],
   "metadata": {
    "collapsed": false
   },
   "id": "d66fb225e916d5f9"
  },
  {
   "cell_type": "code",
   "outputs": [],
   "source": [
    "from planning_library.components.agent_component import AgentFactory\n",
    "\n",
    "# passing parser's name\n",
    "agent = AgentFactory.create_agent(llm=ChatOpenAI(model=model_name, temperature=temperature), prompt=openai_tools_generate_prompt, tools=env.tools, parser_name=\"openai-tools\")"
   ],
   "metadata": {
    "collapsed": false,
    "ExecuteTime": {
     "end_time": "2024-04-16T10:51:06.508930Z",
     "start_time": "2024-04-16T10:51:06.481486Z"
    }
   },
   "id": "8b4fb78057f1c638",
   "execution_count": 27
  },
  {
   "cell_type": "code",
   "outputs": [],
   "source": [
    "from planning_library.function_calling_parsers import OpenAIToolsParser\n",
    "\n",
    "# passing parser explicitly\n",
    "agent = AgentFactory.create_agent(llm=ChatOpenAI(model=model_name, temperature=temperature), prompt=openai_tools_generate_prompt, tools=env.tools, parser=OpenAIToolsParser())"
   ],
   "metadata": {
    "collapsed": false,
    "ExecuteTime": {
     "end_time": "2024-04-16T10:51:06.751563Z",
     "start_time": "2024-04-16T10:51:06.725555Z"
    }
   },
   "id": "ce217e236c1ac466",
   "execution_count": 28
  },
  {
   "cell_type": "code",
   "outputs": [],
   "source": [
    "# one way to define an actor component after agent has been created\n",
    "actor = ReflexionActor(agent=agent)"
   ],
   "metadata": {
    "collapsed": false,
    "ExecuteTime": {
     "end_time": "2024-04-16T10:51:06.984998Z",
     "start_time": "2024-04-16T10:51:06.969917Z"
    }
   },
   "id": "a3dc51120ddb467b",
   "execution_count": 29
  },
  {
   "cell_type": "code",
   "outputs": [],
   "source": [
    "# each component powered by agent also has a similar interface\n",
    "# also, there's an option to define only part of the prompt instead of passing full template; default prompt, specific for current component in current strategy, will be used\n",
    "actor = ReflexionActor.create(llm=ChatOpenAI(model=model_name, temperature=temperature), tools=env.tools, parser=OpenAIToolsParser(), user_message=dedent(\"\"\"\n",
    "            You are given four numbers, and your goal is to obtain 24 from given numbers via basic arithmetic operations. \n",
    "            This might be not the first attempt you took, so pay attention to self-reflections about your previous failures. \n",
    "            When you're ready to answer, make sure to include a mathematical expression showing how to obtain 24 from given numbers, \n",
    "            for instance: '(2 + 2) * (12 / 2) = 24'.\n",
    "            \n",
    "            Inputs:\n",
    "            {numbers}\"\"\"))"
   ],
   "metadata": {
    "collapsed": false,
    "ExecuteTime": {
     "end_time": "2024-04-16T10:51:07.220919Z",
     "start_time": "2024-04-16T10:51:07.195773Z"
    }
   },
   "id": "34acfc8b28bbaf2f",
   "execution_count": 30
  },
  {
   "cell_type": "markdown",
   "source": [],
   "metadata": {
    "collapsed": false
   },
   "id": "4125fc03d924f1c8"
  },
  {
   "cell_type": "markdown",
   "source": [
    "## Other components"
   ],
   "metadata": {
    "collapsed": false
   },
   "id": "4289010808288890"
  },
  {
   "cell_type": "markdown",
   "source": [
    "Other Reflexion components are even simpler by default, since they don't use tools.\n",
    "\n",
    "* Self-Reflection needs only prompt + LLM.\n",
    "* Evaluator needs prompt + LLM + threshold (it outputs a float, and the execution loop will continue only if float < threshold).\n",
    "\n",
    "However, in this case, both components also receive intermediate_steps as part of input, so they also need the same parser.\n"
   ],
   "metadata": {
    "collapsed": false
   },
   "id": "c7b14e5e5c101c77"
  },
  {
   "cell_type": "code",
   "outputs": [],
   "source": [
    "evaluator = ReflexionEvaluator.create(llm=ChatOpenAI(model=model_name, temperature=temperature), \n",
    "                                      user_message=dedent(\"\"\"\"\n",
    "                                      Given an input and an answer, give a judgement if the answer is correct, i.e. \n",
    "                                      1) it uses each given number exactly once; \n",
    "                                      2) it doesn't use any other number; \n",
    "                                      3) given mathematical expression correctly reaches 24.\n",
    "                                      \n",
    "                                      Inputs:\n",
    "                                      {numbers}\n",
    "                                      \"\"\"), \n",
    "                                      threshold=value_threshold,\n",
    "                                      parser_name=\"openai-tools\")"
   ],
   "metadata": {
    "collapsed": false,
    "ExecuteTime": {
     "end_time": "2024-04-16T10:51:08.286803Z",
     "start_time": "2024-04-16T10:51:08.257212Z"
    }
   },
   "id": "608d21e1c040ba1d",
   "execution_count": 31
  },
  {
   "cell_type": "code",
   "outputs": [],
   "source": [
    "self_reflection = ReflexionSelfReflection.create(llm=ChatOpenAI(model=model_name, temperature=temperature),\n",
    "                                                 user_message=dedent(\"\"\"\n",
    "                                                 You will be given inputs for Game of 24 and your previous trial, \n",
    "                                                 where you had to use basic arithmetic operations (+ - * /) with given numbers to obtain 24. \n",
    "                                                 You were unsuccessful.\n",
    "                                                 \n",
    "                                                 Inputs:\n",
    "                                                 {numbers}\n",
    "                                                 \"\"\"), parser_name=\"openai-tools\")"
   ],
   "metadata": {
    "collapsed": false,
    "ExecuteTime": {
     "end_time": "2024-04-16T10:51:08.539930Z",
     "start_time": "2024-04-16T10:51:08.512890Z"
    }
   },
   "id": "b20c88b95bc90932",
   "execution_count": 32
  },
  {
   "cell_type": "code",
   "outputs": [],
   "source": [
    "from planning_library.action_executors import GymnasiumActionExecutor\n",
    "from typing import Dict, Any\n",
    "\n",
    "\n",
    "def reset_environment(inputs: Dict[str, Any]) -> None:\n",
    "    env.reset(options={\"numbers\": [float(n) for n in inputs[\"numbers\"].split()]})\n",
    "\n",
    "\n",
    "action_executor = GymnasiumActionExecutor(env)"
   ],
   "metadata": {
    "collapsed": false,
    "ExecuteTime": {
     "end_time": "2024-04-16T10:51:08.929586Z",
     "start_time": "2024-04-16T10:51:08.910605Z"
    }
   },
   "id": "f6e2fed4f770e360",
   "execution_count": 33
  },
  {
   "cell_type": "code",
   "outputs": [],
   "source": [
    "reflexion = ReflexionStrategy.create_from_components(\n",
    "    action_executor=action_executor,\n",
    "    actor=actor,\n",
    "    evaluator=evaluator,\n",
    "    self_reflection=self_reflection,\n",
    "    reset_environment=reset_environment,\n",
    "    max_iterations=max_num_iterations,\n",
    ")"
   ],
   "metadata": {
    "collapsed": false,
    "ExecuteTime": {
     "end_time": "2024-04-16T10:51:09.301497Z",
     "start_time": "2024-04-16T10:51:09.288092Z"
    }
   },
   "id": "d5217c49707cefc",
   "execution_count": 34
  },
  {
   "cell_type": "code",
   "outputs": [
    {
     "data": {
      "text/plain": "{'inputs': {'numbers': '1 1 4 6'},\n 'agent_outcome': AgentFinish(return_values={'output': \"I have explored various combinations of arithmetic operations with the given numbers, but I still couldn't reach the target of 24. It seems challenging to achieve the desired result with these particular numbers. Let's reassess and try a different approach.\"}, log=\"I have explored various combinations of arithmetic operations with the given numbers, but I still couldn't reach the target of 24. It seems challenging to achieve the desired result with these particular numbers. Let's reassess and try a different approach.\"),\n 'evaluator_should_continue': True,\n 'self_reflection_memory': ChatMessageHistory(messages=[('content', 'One possible reason for failure could be focusing too much on individual arithmetic operations without considering alternative combinations. To mitigate this, I should explore different sequences of operations earlier in the process rather than getting fixated on a single path. Additionally, quickly identifying potential opportunities for combining results to reach the target number more efficiently can enhance the overall problem-solving strategy.'), ('additional_kwargs', {}), ('type', 'ai'), ('name', None), ('id', None), ('example', False), ('content', 'One possible reason for the failure in this trial could be the lack of flexibility in exploring alternative arithmetic operations and combinations. To mitigate this, a new plan could involve systematically rotating through different operations and prioritizing interactions that provide intermediary results closer to the target number of 24. This approach aims to enhance adaptability and increase the chances of finding a successful solution.'), ('additional_kwargs', {}), ('type', 'ai'), ('name', None), ('id', None), ('example', False)]),\n 'self_reflections': [AIMessage(content='One possible reason for failure could be focusing too much on individual arithmetic operations without considering alternative combinations. To mitigate this, I should explore different sequences of operations earlier in the process rather than getting fixated on a single path. Additionally, quickly identifying potential opportunities for combining results to reach the target number more efficiently can enhance the overall problem-solving strategy.')],\n 'intermediate_steps': [(OpenAIToolAgentAction(tool='add', tool_input={'number1': 1, 'number2': 6}, log=\"\\nInvoking: `add` with `{'number1': 1, 'number2': 6}`\\n\\n\\n\", message_log=[AIMessageChunk(content='', additional_kwargs={'tool_calls': [{'index': 0, 'id': 'call_CYqNTOxHN3hKb5uOJClDiSEY', 'function': {'arguments': '{\"number1\": 1, \"number2\": 6}', 'name': 'add'}, 'type': 'function'}, {'index': 1, 'id': 'call_RUgcqowVvZsFCyoDhkA4F59w', 'function': {'arguments': '{\"number1\": 1, \"number2\": 4}', 'name': 'multiply'}, 'type': 'function'}]})], tool_call_id='call_CYqNTOxHN3hKb5uOJClDiSEY'),\n   {'observation': 'result of current arithmetical operation on 1.0 and 6.0 is 7.0',\n    'reward': 0,\n    'terminated': False,\n    'truncated': False,\n    'info': {'numbers': '1.0 4.0 7.0'}}),\n  (OpenAIToolAgentAction(tool='multiply', tool_input={'number1': 1, 'number2': 4}, log=\"\\nInvoking: `multiply` with `{'number1': 1, 'number2': 4}`\\n\\n\\n\", message_log=[AIMessageChunk(content='', additional_kwargs={'tool_calls': [{'index': 0, 'id': 'call_CYqNTOxHN3hKb5uOJClDiSEY', 'function': {'arguments': '{\"number1\": 1, \"number2\": 6}', 'name': 'add'}, 'type': 'function'}, {'index': 1, 'id': 'call_RUgcqowVvZsFCyoDhkA4F59w', 'function': {'arguments': '{\"number1\": 1, \"number2\": 4}', 'name': 'multiply'}, 'type': 'function'}]})], tool_call_id='call_RUgcqowVvZsFCyoDhkA4F59w'),\n   {'observation': 'result of current arithmetical operation on 1.0 and 4.0 is 4.0',\n    'reward': 0,\n    'terminated': False,\n    'truncated': False,\n    'info': {'numbers': '7.0 4.0'}}),\n  (OpenAIToolAgentAction(tool='multiply', tool_input={'number1': 7, 'number2': 4}, log=\"\\nInvoking: `multiply` with `{'number1': 7, 'number2': 4}`\\n\\n\\n\", message_log=[AIMessageChunk(content='', additional_kwargs={'tool_calls': [{'index': 0, 'id': 'call_qKIKNbPvMqGgkWX0svwYhvID', 'function': {'arguments': '{\"number1\": 7, \"number2\": 4}', 'name': 'multiply'}, 'type': 'function'}, {'index': 1, 'id': 'call_SDBK3GiIF4mslQBPNoCNR64X', 'function': {'arguments': '{\"number1\": 1, \"number2\": 6}', 'name': 'multiply'}, 'type': 'function'}]})], tool_call_id='call_qKIKNbPvMqGgkWX0svwYhvID'),\n   {'observation': 'result of current arithmetical operation on 7.0 and 4.0 is 28.0',\n    'reward': 0,\n    'terminated': True,\n    'truncated': False,\n    'info': {'numbers': '28.0'}}),\n  (OpenAIToolAgentAction(tool='multiply', tool_input={'number1': 1, 'number2': 6}, log=\"\\nInvoking: `multiply` with `{'number1': 1, 'number2': 6}`\\n\\n\\n\", message_log=[AIMessageChunk(content='', additional_kwargs={'tool_calls': [{'index': 0, 'id': 'call_qKIKNbPvMqGgkWX0svwYhvID', 'function': {'arguments': '{\"number1\": 7, \"number2\": 4}', 'name': 'multiply'}, 'type': 'function'}, {'index': 1, 'id': 'call_SDBK3GiIF4mslQBPNoCNR64X', 'function': {'arguments': '{\"number1\": 1, \"number2\": 6}', 'name': 'multiply'}, 'type': 'function'}]})], tool_call_id='call_SDBK3GiIF4mslQBPNoCNR64X'),\n   {'observation': 'The environment has already been terminated.',\n    'reward': 0,\n    'terminated': True,\n    'truncated': False,\n    'info': {'numbers': '28.0'}}),\n  (OpenAIToolAgentAction(tool='subtract', tool_input={'number1': 6, 'number2': 4}, log=\"\\nInvoking: `subtract` with `{'number1': 6, 'number2': 4}`\\nresponded: I attempted various arithmetic operations with the given numbers, but I couldn't reach the target of 24. Here are the last steps I took:\\n1. \\\\(1 + 6 = 7\\\\)\\n2. \\\\(7 * 4 = 28\\\\)\\nI failed to reach 24. Let's reassess the numbers and try a different approach.\\n\\n\", message_log=[AIMessageChunk(content=\"I attempted various arithmetic operations with the given numbers, but I couldn't reach the target of 24. Here are the last steps I took:\\n1. \\\\(1 + 6 = 7\\\\)\\n2. \\\\(7 * 4 = 28\\\\)\\nI failed to reach 24. Let's reassess the numbers and try a different approach.\", additional_kwargs={'tool_calls': [{'index': 0, 'id': 'call_5U3tdD068VDtn4ySRRTpPE7a', 'function': {'arguments': '{\"number1\": 6, \"number2\": 4}', 'name': 'subtract'}, 'type': 'function'}, {'index': 1, 'id': 'call_Cw3bs0ZOaiDCxIpUMMwsAXS8', 'function': {'arguments': '{\"number1\": 1, \"number2\": 4}', 'name': 'multiply'}, 'type': 'function'}]})], tool_call_id='call_5U3tdD068VDtn4ySRRTpPE7a'),\n   {'observation': 'The environment has already been terminated.',\n    'reward': 0,\n    'terminated': True,\n    'truncated': False,\n    'info': {'numbers': '28.0'}}),\n  (OpenAIToolAgentAction(tool='multiply', tool_input={'number1': 1, 'number2': 4}, log=\"\\nInvoking: `multiply` with `{'number1': 1, 'number2': 4}`\\nresponded: I attempted various arithmetic operations with the given numbers, but I couldn't reach the target of 24. Here are the last steps I took:\\n1. \\\\(1 + 6 = 7\\\\)\\n2. \\\\(7 * 4 = 28\\\\)\\nI failed to reach 24. Let's reassess the numbers and try a different approach.\\n\\n\", message_log=[AIMessageChunk(content=\"I attempted various arithmetic operations with the given numbers, but I couldn't reach the target of 24. Here are the last steps I took:\\n1. \\\\(1 + 6 = 7\\\\)\\n2. \\\\(7 * 4 = 28\\\\)\\nI failed to reach 24. Let's reassess the numbers and try a different approach.\", additional_kwargs={'tool_calls': [{'index': 0, 'id': 'call_5U3tdD068VDtn4ySRRTpPE7a', 'function': {'arguments': '{\"number1\": 6, \"number2\": 4}', 'name': 'subtract'}, 'type': 'function'}, {'index': 1, 'id': 'call_Cw3bs0ZOaiDCxIpUMMwsAXS8', 'function': {'arguments': '{\"number1\": 1, \"number2\": 4}', 'name': 'multiply'}, 'type': 'function'}]})], tool_call_id='call_Cw3bs0ZOaiDCxIpUMMwsAXS8'),\n   {'observation': 'The environment has already been terminated.',\n    'reward': 0,\n    'terminated': True,\n    'truncated': False,\n    'info': {'numbers': '28.0'}}),\n  (OpenAIToolAgentAction(tool='multiply', tool_input={'number1': 6, 'number2': 4}, log=\"\\nInvoking: `multiply` with `{'number1': 6, 'number2': 4}`\\n\\n\\n\", message_log=[AIMessageChunk(content='', additional_kwargs={'tool_calls': [{'index': 0, 'id': 'call_ngt9FZObEls88F1PiHrIRmhl', 'function': {'arguments': '{\"number1\":6,\"number2\":4}', 'name': 'multiply'}, 'type': 'function'}]})], tool_call_id='call_ngt9FZObEls88F1PiHrIRmhl'),\n   {'observation': 'The environment has already been terminated.',\n    'reward': 0,\n    'terminated': True,\n    'truncated': False,\n    'info': {'numbers': '28.0'}}),\n  (OpenAIToolAgentAction(tool='add', tool_input={'number1': 1, 'number2': 6}, log=\"\\nInvoking: `add` with `{'number1': 1, 'number2': 6}`\\n\\n\\n\", message_log=[AIMessageChunk(content='', additional_kwargs={'tool_calls': [{'index': 0, 'id': 'call_Lkc5ZJ2Ix2Wqu6Dqpv5s9LvV', 'function': {'arguments': '{\"number1\": 1, \"number2\": 6}', 'name': 'add'}, 'type': 'function'}, {'index': 1, 'id': 'call_iMnzX2tfVLeM5CGwPUrnOiWr', 'function': {'arguments': '{\"number1\": 4, \"number2\": 6}', 'name': 'multiply'}, 'type': 'function'}]})], tool_call_id='call_Lkc5ZJ2Ix2Wqu6Dqpv5s9LvV'),\n   {'observation': 'The environment has already been terminated.',\n    'reward': 0,\n    'terminated': True,\n    'truncated': False,\n    'info': {'numbers': '28.0'}}),\n  (OpenAIToolAgentAction(tool='multiply', tool_input={'number1': 4, 'number2': 6}, log=\"\\nInvoking: `multiply` with `{'number1': 4, 'number2': 6}`\\n\\n\\n\", message_log=[AIMessageChunk(content='', additional_kwargs={'tool_calls': [{'index': 0, 'id': 'call_Lkc5ZJ2Ix2Wqu6Dqpv5s9LvV', 'function': {'arguments': '{\"number1\": 1, \"number2\": 6}', 'name': 'add'}, 'type': 'function'}, {'index': 1, 'id': 'call_iMnzX2tfVLeM5CGwPUrnOiWr', 'function': {'arguments': '{\"number1\": 4, \"number2\": 6}', 'name': 'multiply'}, 'type': 'function'}]})], tool_call_id='call_iMnzX2tfVLeM5CGwPUrnOiWr'),\n   {'observation': 'The environment has already been terminated.',\n    'reward': 0,\n    'terminated': True,\n    'truncated': False,\n    'info': {'numbers': '28.0'}}),\n  (OpenAIToolAgentAction(tool='multiply', tool_input={'number1': 1, 'number2': 6}, log=\"\\nInvoking: `multiply` with `{'number1': 1, 'number2': 6}`\\nresponded: I have exhausted all possible arithmetic operations with the given numbers, and unfortunately, I couldn't reach the target of 24. Here are the last steps I took:\\n1. \\\\(6 - 4 = 2\\\\)\\n2. \\\\(2 * 4 = 8\\\\)\\nThe numbers could not be combined to make 24. Let's review the numbers and try a different approach.\\n\\n\", message_log=[AIMessageChunk(content=\"I have exhausted all possible arithmetic operations with the given numbers, and unfortunately, I couldn't reach the target of 24. Here are the last steps I took:\\n1. \\\\(6 - 4 = 2\\\\)\\n2. \\\\(2 * 4 = 8\\\\)\\nThe numbers could not be combined to make 24. Let's review the numbers and try a different approach.\", additional_kwargs={'tool_calls': [{'index': 0, 'id': 'call_MOD7Bb2UycNzDQvB5txrLOEd', 'function': {'arguments': '{\"number1\": 1, \"number2\": 6}', 'name': 'multiply'}, 'type': 'function'}, {'index': 1, 'id': 'call_POQolTZd7bjhHJjNVbKR0LTj', 'function': {'arguments': '{\"number1\": 4, \"number2\": 1}', 'name': 'subtract'}, 'type': 'function'}]})], tool_call_id='call_MOD7Bb2UycNzDQvB5txrLOEd'),\n   {'observation': 'The environment has already been terminated.',\n    'reward': 0,\n    'terminated': True,\n    'truncated': False,\n    'info': {'numbers': '28.0'}}),\n  (OpenAIToolAgentAction(tool='subtract', tool_input={'number1': 4, 'number2': 1}, log=\"\\nInvoking: `subtract` with `{'number1': 4, 'number2': 1}`\\nresponded: I have exhausted all possible arithmetic operations with the given numbers, and unfortunately, I couldn't reach the target of 24. Here are the last steps I took:\\n1. \\\\(6 - 4 = 2\\\\)\\n2. \\\\(2 * 4 = 8\\\\)\\nThe numbers could not be combined to make 24. Let's review the numbers and try a different approach.\\n\\n\", message_log=[AIMessageChunk(content=\"I have exhausted all possible arithmetic operations with the given numbers, and unfortunately, I couldn't reach the target of 24. Here are the last steps I took:\\n1. \\\\(6 - 4 = 2\\\\)\\n2. \\\\(2 * 4 = 8\\\\)\\nThe numbers could not be combined to make 24. Let's review the numbers and try a different approach.\", additional_kwargs={'tool_calls': [{'index': 0, 'id': 'call_MOD7Bb2UycNzDQvB5txrLOEd', 'function': {'arguments': '{\"number1\": 1, \"number2\": 6}', 'name': 'multiply'}, 'type': 'function'}, {'index': 1, 'id': 'call_POQolTZd7bjhHJjNVbKR0LTj', 'function': {'arguments': '{\"number1\": 4, \"number2\": 1}', 'name': 'subtract'}, 'type': 'function'}]})], tool_call_id='call_POQolTZd7bjhHJjNVbKR0LTj'),\n   {'observation': 'The environment has already been terminated.',\n    'reward': 0,\n    'terminated': True,\n    'truncated': False,\n    'info': {'numbers': '28.0'}}),\n  (OpenAIToolAgentAction(tool='multiply', tool_input={'number1': 6, 'number2': 4}, log=\"\\nInvoking: `multiply` with `{'number1': 6, 'number2': 4}`\\n\\n\\n\", message_log=[AIMessageChunk(content='', additional_kwargs={'tool_calls': [{'index': 0, 'id': 'call_yYTJC8CnIjQM59hCd0FRq7EX', 'function': {'arguments': '{\"number1\": 6, \"number2\": 4}', 'name': 'multiply'}, 'type': 'function'}, {'index': 1, 'id': 'call_44tRTXufkvN7SAngMOKpoHcY', 'function': {'arguments': '{\"number1\": 1, \"number2\": 4}', 'name': 'subtract'}, 'type': 'function'}]})], tool_call_id='call_yYTJC8CnIjQM59hCd0FRq7EX'),\n   {'observation': 'The environment has already been terminated.',\n    'reward': 0,\n    'terminated': True,\n    'truncated': False,\n    'info': {'numbers': '28.0'}}),\n  (OpenAIToolAgentAction(tool='subtract', tool_input={'number1': 1, 'number2': 4}, log=\"\\nInvoking: `subtract` with `{'number1': 1, 'number2': 4}`\\n\\n\\n\", message_log=[AIMessageChunk(content='', additional_kwargs={'tool_calls': [{'index': 0, 'id': 'call_yYTJC8CnIjQM59hCd0FRq7EX', 'function': {'arguments': '{\"number1\": 6, \"number2\": 4}', 'name': 'multiply'}, 'type': 'function'}, {'index': 1, 'id': 'call_44tRTXufkvN7SAngMOKpoHcY', 'function': {'arguments': '{\"number1\": 1, \"number2\": 4}', 'name': 'subtract'}, 'type': 'function'}]})], tool_call_id='call_44tRTXufkvN7SAngMOKpoHcY'),\n   {'observation': 'The environment has already been terminated.',\n    'reward': 0,\n    'terminated': True,\n    'truncated': False,\n    'info': {'numbers': '28.0'}}),\n  (OpenAIToolAgentAction(tool='add', tool_input={'number1': 1, 'number2': 4}, log=\"\\nInvoking: `add` with `{'number1': 1, 'number2': 4}`\\n\\n\\n\", message_log=[AIMessageChunk(content='', additional_kwargs={'tool_calls': [{'index': 0, 'id': 'call_oGMxfgiGRu9uR1agM84i6ct9', 'function': {'arguments': '{\"number1\": 1, \"number2\": 4}', 'name': 'add'}, 'type': 'function'}, {'index': 1, 'id': 'call_kj7hgo0p8zqyQwWrKHTEABBk', 'function': {'arguments': '{\"number1\": 6, \"number2\": 4}', 'name': 'multiply'}, 'type': 'function'}]})], tool_call_id='call_oGMxfgiGRu9uR1agM84i6ct9'),\n   {'observation': 'The environment has already been terminated.',\n    'reward': 0,\n    'terminated': True,\n    'truncated': False,\n    'info': {'numbers': '28.0'}}),\n  (OpenAIToolAgentAction(tool='multiply', tool_input={'number1': 6, 'number2': 4}, log=\"\\nInvoking: `multiply` with `{'number1': 6, 'number2': 4}`\\n\\n\\n\", message_log=[AIMessageChunk(content='', additional_kwargs={'tool_calls': [{'index': 0, 'id': 'call_oGMxfgiGRu9uR1agM84i6ct9', 'function': {'arguments': '{\"number1\": 1, \"number2\": 4}', 'name': 'add'}, 'type': 'function'}, {'index': 1, 'id': 'call_kj7hgo0p8zqyQwWrKHTEABBk', 'function': {'arguments': '{\"number1\": 6, \"number2\": 4}', 'name': 'multiply'}, 'type': 'function'}]})], tool_call_id='call_kj7hgo0p8zqyQwWrKHTEABBk'),\n   {'observation': 'The environment has already been terminated.',\n    'reward': 0,\n    'terminated': True,\n    'truncated': False,\n    'info': {'numbers': '28.0'}})],\n 'iteration': 2}"
     },
     "execution_count": 35,
     "metadata": {},
     "output_type": "execute_result"
    }
   ],
   "source": [
    "env.reset(options={\"numbers\": [1, 1, 4, 6]})\n",
    "reflexion.invoke(\n",
    "    {\"inputs\": {\"numbers\": \"1 1 4 6\"}},\n",
    "    {\"recursion_limit\": 1000},\n",
    ")"
   ],
   "metadata": {
    "collapsed": false,
    "ExecuteTime": {
     "end_time": "2024-04-16T10:51:31.724747Z",
     "start_time": "2024-04-16T10:51:09.533537Z"
    }
   },
   "id": "415a8d21878f332d",
   "execution_count": 35
  }
 ],
 "metadata": {
  "kernelspec": {
   "display_name": "Python 3",
   "language": "python",
   "name": "python3"
  },
  "language_info": {
   "codemirror_mode": {
    "name": "ipython",
    "version": 2
   },
   "file_extension": ".py",
   "mimetype": "text/x-python",
   "name": "python",
   "nbconvert_exporter": "python",
   "pygments_lexer": "ipython2",
   "version": "2.7.6"
  }
 },
 "nbformat": 4,
 "nbformat_minor": 5
}
