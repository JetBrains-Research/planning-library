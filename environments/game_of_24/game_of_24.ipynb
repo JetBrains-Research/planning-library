{
 "cells": [
  {
   "cell_type": "markdown",
   "source": [
    "# Game of 24: ToT + DFS"
   ],
   "metadata": {
    "collapsed": false
   },
   "id": "3f870728b8f42286"
  },
  {
   "cell_type": "markdown",
   "source": [
    "## Utils"
   ],
   "metadata": {
    "collapsed": false
   },
   "id": "ac15008844246559"
  },
  {
   "cell_type": "markdown",
   "source": [
    "### Imports"
   ],
   "metadata": {
    "collapsed": false
   },
   "id": "d8bf9aec03e431bc"
  },
  {
   "cell_type": "code",
   "execution_count": 3,
   "outputs": [
    {
     "name": "stdout",
     "output_type": "stream",
     "text": [
      "The autoreload extension is already loaded. To reload it, use:\n",
      "  %reload_ext autoreload\n"
     ]
    }
   ],
   "source": [
    "from langchain_openai import ChatOpenAI\n",
    "from environments.game_of_24.evaluate_utils import GameOf24EvaluateOutputParser, game_of_24_evaluate_prompt\n",
    "from environments.game_of_24.generate_utils import GameOf24GenerateOutputParser, game_of_24_generate_prompt\n",
    "from planning_library.custom_agent_executor.strategies import TreeOfThoughtsDFSStrategy\n",
    "from planning_library.custom_agent_executor.strategies.toolllm.thought_generators import AgentThoughtGenerator\n",
    "from planning_library.custom_agent_executor.strategies.toolllm.thought_evaluators import LLMThoughtEvaluator\n",
    "from langchain_core.agents import AgentAction\n",
    "from typing import Dict, Any\n",
    "import os\n",
    "import re\n",
    "\n",
    "%load_ext autoreload\n",
    "%autoreload 2"
   ],
   "metadata": {
    "collapsed": false,
    "ExecuteTime": {
     "end_time": "2024-02-14T13:19:34.965782Z",
     "start_time": "2024-02-14T13:19:34.942210Z"
    }
   },
   "id": "c94d0bfae6ac52b7"
  },
  {
   "cell_type": "markdown",
   "source": [
    "### Enabling W&B "
   ],
   "metadata": {
    "collapsed": false
   },
   "id": "a8cba987fa8f60c4"
  },
  {
   "cell_type": "code",
   "execution_count": 4,
   "outputs": [],
   "source": [
    "os.environ[\"LANGCHAIN_WANDB_TRACING\"] = \"true\""
   ],
   "metadata": {
    "collapsed": false,
    "ExecuteTime": {
     "end_time": "2024-02-14T13:19:35.438594Z",
     "start_time": "2024-02-14T13:19:35.420703Z"
    }
   },
   "id": "7d8838345955d3c2"
  },
  {
   "cell_type": "markdown",
   "source": [
    "### Defining components"
   ],
   "metadata": {
    "collapsed": false
   },
   "id": "99565d7bf09a28b9"
  },
  {
   "cell_type": "markdown",
   "source": [
    "#### Hyperparameters"
   ],
   "metadata": {
    "collapsed": false
   },
   "id": "783935cd06fec74d"
  },
  {
   "cell_type": "code",
   "execution_count": 5,
   "outputs": [],
   "source": [
    "# ToT hyperparameters\n",
    "max_num_thoughts = 3  # number of thoughts to generate at each iteration\n",
    "max_num_steps = 20  # total maximum number of iterations\n",
    "value_threshold = 0.49  # threshold for evaluation; only thoughts with value > value_threshold will be explored\n",
    "num_retries_evaluator = 5  # how many times to query for evaluation\n",
    "\n",
    "# other hyperparameters\n",
    "model_name = \"gpt-3.5-turbo\"\n",
    "temperature = 0.8"
   ],
   "metadata": {
    "collapsed": false,
    "ExecuteTime": {
     "end_time": "2024-02-14T13:19:36.009671Z",
     "start_time": "2024-02-14T13:19:35.994010Z"
    }
   },
   "id": "3b1ff5faf3a98a79"
  },
  {
   "cell_type": "markdown",
   "source": [
    "#### Thought Evaluator"
   ],
   "metadata": {
    "collapsed": false
   },
   "id": "7d8fdcea67bf22ee"
  },
  {
   "cell_type": "markdown",
   "source": [
    "Evaluation prompt is adapted from the [original implementation](https://github.com/princeton-nlp/tree-of-thought-llm/blob/master/src/tot/prompts/game24.py)."
   ],
   "metadata": {
    "collapsed": false
   },
   "id": "d25c860d110aa95d"
  },
  {
   "cell_type": "code",
   "execution_count": 6,
   "outputs": [
    {
     "data": {
      "text/plain": "['inputs', 'thought']"
     },
     "execution_count": 6,
     "metadata": {},
     "output_type": "execute_result"
    }
   ],
   "source": [
    "game_of_24_evaluate_prompt.input_variables"
   ],
   "metadata": {
    "collapsed": false,
    "ExecuteTime": {
     "end_time": "2024-02-14T13:19:36.457815Z",
     "start_time": "2024-02-14T13:19:36.435962Z"
    }
   },
   "id": "fd1913a8499f4b85"
  },
  {
   "cell_type": "code",
   "execution_count": 7,
   "outputs": [
    {
     "name": "stdout",
     "output_type": "stream",
     "text": [
      "System: You are a helpful assistant that judges whether given numbers can reach 24.\n",
      "Human: Evaluate if given numbers can reach 24 (sure/likely/impossible)\n",
      "Human: Input: 2 8 14\n",
      "Thought: 2 + 8 = 10 (left: 10 14)\n",
      "Judge:\n",
      "AI: 10 + 14 = 24\n",
      "sure\n",
      "Human: Input: 6 8 14\n",
      "Thought: 2 + 8 = 10 (left: 10 14)\n",
      "Judge:\n",
      "AI: 10 + 14 = 24\n",
      "but there was no 2 in input\n",
      "impossible\n",
      "Human: Input: 2 6 11\n",
      "Thought: 2 * 6 = 12 (left: 11 12)\n",
      "Judge:\n",
      "AI: 11 + 12 = 23\n",
      "12 - 11 = 1\n",
      "11 * 12 = 132\n",
      "11 / 12 = 0.91\n",
      "impossible\n",
      "Human: Input: 2 2 4 10\n",
      "Thought: 2 + 2 = 4 (left: 4 4 10)\n",
      "Judge:\n",
      "AI: 4 + 4 + 10 = 8 + 10 = 18\n",
      "4 * 10 - 4 = 40 - 4 = 36\n",
      "(10 - 4) * 4 = 6 * 4 = 24\n",
      "sure\n",
      "Human: Input: 4 1 9 10\n",
      "Thought: 10 + 1 = 11 (left: 4 9 11)\n",
      "Judge:\n",
      "AI: 9 + 11 + 4 = 20 + 4 = 24\n",
      "sure\n",
      "Human: Input: 5 2 7 4\n",
      "Thought: 2 * 4 = 8 (left: 5 7 8)\n",
      "Judge:\n",
      "AI: 5 + 7 + 8 = 12 + 8 = 20\n",
      "(8 - 5) * 7 = 3 * 7 = 21\n",
      "I cannot obtain 24 now, but numbers are within a reasonable range\n",
      "likely\n",
      "Human: Input: 5 6 2 3\n",
      "Thought: 2 * 3 = 6 (left: 5 6 6)\n",
      "Judge:\n",
      "AI: 5 + 6 + 6 = 17\n",
      "(6 - 5) * 6 = 1 * 6 = 6\n",
      "I cannot obtain 24 now, but numbers are within a reasonable range\n",
      "likely\n",
      "Human: Input: 11 2 10 5\n",
      "Thought: 2 * 5 = 10 (left: 10 10 11)\n",
      "Judge:\n",
      "AI: 10 + 10 + 11 = 31\n",
      "(11 - 10) * 10 = 10\n",
      "10 10 10 are all too big\n",
      "impossible\n",
      "Human: Input: 5 1 2 3\n",
      "Thought: 5 - 2 = 3 (left: 1 3 3)\n",
      "Judge:\n",
      "AI: 1 * 3 * 3 = 9\n",
      "(1 + 3) * 3 = 12\n",
      "1 3 3 are all too small\n",
      "impossible\n",
      "Human: Input: 2 8\n",
      "Thought: 2 + 8 = 10 (left: 10)\n",
      "Judge:\n",
      "AI: 10 != 24\n",
      "impossible\n",
      "Human: Input: 12\n",
      "Thought: 12 + 12 = 24 (left: 24)\n",
      "Judge:\n",
      "AI: there was only one number 12\n",
      "impossible\n",
      "Human: Input: 36 5\n",
      "Thought: 36 / 5 = 7.2 (left: 7.2)\n",
      "Judge:\n",
      "AI: only integers are allowed\n",
      "impossible\n",
      "Human: Input: 2 3 6 4\n",
      "Thought: 2 + 3 = 5 (left: 6 5 4)\n",
      "Judge:\n"
     ]
    }
   ],
   "source": [
    "print(game_of_24_evaluate_prompt.format(inputs=\"2 3 6 4\", thought=\"2 + 3 = 5 (left: 6 5 4)\"))"
   ],
   "metadata": {
    "collapsed": false,
    "ExecuteTime": {
     "end_time": "2024-02-14T13:19:36.585032Z",
     "start_time": "2024-02-14T13:19:36.567070Z"
    }
   },
   "id": "5df9493e9fd2d2ca"
  },
  {
   "cell_type": "code",
   "execution_count": 8,
   "outputs": [],
   "source": [
    "def process_inputs_evaluator(x: Dict[str, Any]) -> str:\n",
    "    if not x[\"current_state\"]:\n",
    "        return x[\"inputs\"]\n",
    "\n",
    "    next_numbers = re.search(\"^.*?\\(left: (.*?)\\)$\", x[\"current_state\"][-1][1])\n",
    "\n",
    "    if next_numbers:\n",
    "        return next_numbers.groups()[0]\n",
    "\n",
    "    return x[\"current_state\"][-1][1]\n",
    "\n",
    "\n",
    "evaluator_chain = (\n",
    "    {\n",
    "        \"inputs\": lambda x: process_inputs_evaluator(x),\n",
    "        \"thought\": lambda x: x[\"thought\"].tool_input\n",
    "        if isinstance(x[\"thought\"], AgentAction)\n",
    "        else x[\"thought\"].return_values[\"output\"],\n",
    "    }\n",
    "    | game_of_24_evaluate_prompt\n",
    "    | ChatOpenAI(model=model_name, temperature=temperature)\n",
    "    | GameOf24EvaluateOutputParser()\n",
    ")\n",
    "thought_evaluator = LLMThoughtEvaluator(llm_chain=evaluator_chain)"
   ],
   "metadata": {
    "collapsed": false,
    "ExecuteTime": {
     "end_time": "2024-02-14T13:19:36.770574Z",
     "start_time": "2024-02-14T13:19:36.728933Z"
    }
   },
   "id": "d69a6c54ea18ee57"
  },
  {
   "cell_type": "markdown",
   "source": [
    "#### Thought Generator"
   ],
   "metadata": {
    "collapsed": false
   },
   "id": "48ea2803b76d0aba"
  },
  {
   "cell_type": "markdown",
   "source": [
    "Generation prompt is adapted from the [original implementation](https://github.com/princeton-nlp/tree-of-thought-llm/blob/master/src/tot/prompts/game24.py)."
   ],
   "metadata": {
    "collapsed": false
   },
   "id": "1fe6893c44450186"
  },
  {
   "cell_type": "code",
   "execution_count": 9,
   "outputs": [
    {
     "data": {
      "text/plain": "['inputs', 'max_num_thoughts']"
     },
     "execution_count": 9,
     "metadata": {},
     "output_type": "execute_result"
    }
   ],
   "source": [
    "game_of_24_generate_prompt.input_variables"
   ],
   "metadata": {
    "collapsed": false,
    "ExecuteTime": {
     "end_time": "2024-02-14T13:19:37.916514Z",
     "start_time": "2024-02-14T13:19:37.895684Z"
    }
   },
   "id": "f1a06f8b4e811dde"
  },
  {
   "cell_type": "code",
   "execution_count": 10,
   "outputs": [
    {
     "name": "stdout",
     "output_type": "stream",
     "text": [
      "System: You are a helpful assistant that proposes next steps in Game of 24.\n",
      "Human: Use numbers and basic arithmetic operations (+ - * /) to obtain 24. Each step, you are only allowed to choose two of the remaining numbers to obtain a new number.\n",
      "Human: Input: 2 8 8 14\n",
      "8 variants for a possible next step:\n",
      "AI: 2 + 8 = 10 (left: 8 10 14)\n",
      "8 / 2 = 4 (left: 4 8 14)\n",
      "14 + 2 = 16 (left: 8 8 16)\n",
      "2 * 8 = 16 (left: 8 14 16)\n",
      "8 - 2 = 6 (left: 6 8 14)\n",
      "14 - 8 = 6 (left: 2 6 8)\n",
      "14 /  2 = 7 (left: 7 8 8)\n",
      "14 - 2 = 12 (left: 8 8 12)\n",
      "Human: Input: 10 14\n",
      "1 variants for a possible next step:\n",
      "AI: 10 + 14 = 24\n",
      "Human: Input: 2 2 3 4\n",
      "3 variants for a possible next step:\n"
     ]
    }
   ],
   "source": [
    "print(game_of_24_generate_prompt.format(inputs=\"2 2 3 4\", max_num_thoughts=\"3\"))"
   ],
   "metadata": {
    "collapsed": false,
    "ExecuteTime": {
     "end_time": "2024-02-14T13:19:38.132387Z",
     "start_time": "2024-02-14T13:19:38.112012Z"
    }
   },
   "id": "68a616c63be1ffa3"
  },
  {
   "cell_type": "code",
   "execution_count": 11,
   "outputs": [],
   "source": [
    "def process_inputs_generator(x: Dict[str, Any]) -> str:\n",
    "    if not x[\"intermediate_steps\"]:\n",
    "        return x[\"inputs\"]\n",
    "\n",
    "    next_numbers = re.search(\"^.*?\\(left: (.*?)\\)$\", x[\"intermediate_steps\"][-1][1])\n",
    "\n",
    "    if next_numbers:\n",
    "        return next_numbers.groups()[0]\n",
    "\n",
    "    return x[\"intermediate_steps\"][-1][1]\n",
    "\n",
    "\n",
    "agent = (\n",
    "    {\n",
    "        \"inputs\": lambda x: process_inputs_generator(x),\n",
    "        \"max_num_thoughts\": lambda x: x[\"max_num_thoughts\"],\n",
    "        \"agent_scratchpad\": lambda x: x[\"intermediate_steps\"],\n",
    "    }\n",
    "    | game_of_24_generate_prompt\n",
    "    | ChatOpenAI(model=model_name, temperature=temperature)\n",
    "    | GameOf24GenerateOutputParser()\n",
    ")\n",
    "thought_generator = AgentThoughtGenerator(thought_generation_mode=\"propose\")"
   ],
   "metadata": {
    "collapsed": false,
    "ExecuteTime": {
     "end_time": "2024-02-14T13:19:38.396499Z",
     "start_time": "2024-02-14T13:19:38.364884Z"
    }
   },
   "id": "a98390c37420848e"
  },
  {
   "cell_type": "markdown",
   "source": [
    "#### Defining a trivial tool"
   ],
   "metadata": {
    "collapsed": false
   },
   "id": "a88ba5756700d745"
  },
  {
   "cell_type": "code",
   "execution_count": 12,
   "outputs": [],
   "source": [
    "from langchain.tools import tool\n",
    "\n",
    "\n",
    "@tool\n",
    "def simple_tool(text: str) -> str:\n",
    "    \"\"\"Returns its input.\"\"\"\n",
    "    return text"
   ],
   "metadata": {
    "collapsed": false,
    "ExecuteTime": {
     "end_time": "2024-02-14T13:19:39.017830Z",
     "start_time": "2024-02-14T13:19:38.999042Z"
    }
   },
   "id": "5dbe97d2948a62ca"
  },
  {
   "cell_type": "markdown",
   "source": [
    "### Defining strategy"
   ],
   "metadata": {
    "collapsed": false
   },
   "id": "e8df81acf8ec5b97"
  },
  {
   "cell_type": "code",
   "execution_count": 13,
   "outputs": [],
   "source": [
    "strategy_executor = TreeOfThoughtsDFSStrategy(\n",
    "    thought_generator=thought_generator,\n",
    "    thought_evaluator=thought_evaluator,\n",
    "    agent=agent,\n",
    "    max_num_thoughts=max_num_thoughts,\n",
    "    max_num_steps=max_num_steps,\n",
    "    value_threshold=value_threshold,\n",
    "    max_num_retries_evaluator=num_retries_evaluator,\n",
    "    tools=[simple_tool],\n",
    "    verbose=True,\n",
    "    return_intermediate_steps=True,\n",
    ")"
   ],
   "metadata": {
    "collapsed": false,
    "ExecuteTime": {
     "end_time": "2024-02-14T13:19:39.551331Z",
     "start_time": "2024-02-14T13:19:39.531644Z"
    }
   },
   "id": "3511e290e2ab0d52"
  },
  {
   "cell_type": "markdown",
   "source": [
    "# Running strategy"
   ],
   "metadata": {
    "collapsed": false
   },
   "id": "62a0d689c7a7e50"
  },
  {
   "cell_type": "code",
   "execution_count": 15,
   "outputs": [
    {
     "name": "stdout",
     "output_type": "stream",
     "text": [
      "\n",
      "\n",
      "\u001B[1m> Entering new TreeOfThoughtsDFSStrategy chain...\u001B[0m\n",
      "\u001B[32;1m\u001B[1;3m\u001B[0m\u001B[36;1m\u001B[1;3m6 * 6 = 36 (left: 1 4 36)\u001B[0m\u001B[32;1m\u001B[1;3m\u001B[0m\u001B[36;1m\u001B[1;3m1 + 4 = 5 (left: 5 36)\u001B[0m\u001B[32;1m\u001B[1;3m\u001B[0m\u001B[36;1m\u001B[1;3m5 * 36 = 180 (left: 180)\u001B[0m\u001B[32;1m\u001B[1;3m\u001B[0m\u001B[36;1m\u001B[1;3m4 * 36 = 144 (left: 1 144)\u001B[0m\u001B[32;1m\u001B[1;3m\u001B[0m\u001B[36;1m\u001B[1;3m1 * 144 = 144 (left: 144 1)\u001B[0m\u001B[32;1m\u001B[1;3m\u001B[0m\u001B[36;1m\u001B[1;3m144 / 1 = 144 (left: 144)\u001B[0m\u001B[32;1m\u001B[1;3m\u001B[0m\u001B[36;1m\u001B[1;3m144 / 144 = 1 (left: 1)\u001B[0m\u001B[32;1m\u001B[1;3m\u001B[0m\u001B[36;1m\u001B[1;3m1 + 1 + 1 + 1 = 4 (left: 3 4)\u001B[0m\u001B[32;1m\u001B[1;3m\u001B[0m\u001B[36;1m\u001B[1;3m1 - 1 + 1 + 1 = 2 (left: 3 2)\u001B[0m\u001B[32;1m\u001B[1;3m\u001B[0m\u001B[36;1m\u001B[1;3m144 / 1 = 144 (left: 1 144)\u001B[0m\u001B[32;1m\u001B[1;3m\u001B[0m\u001B[36;1m\u001B[1;3m144 - 1 = 143\u001B[0m\u001B[32;1m\u001B[1;3m\u001B[0m\u001B[36;1m\u001B[1;3m143 + 1 = 144\u001B[0m\u001B[32;1m\u001B[1;3m\u001B[0m\u001B[36;1m\u001B[1;3m144 * 1 = 144 (left: 144)\u001B[0m\u001B[32;1m\u001B[1;3m\u001B[0m\u001B[36;1m\u001B[1;3m144 / 144 = 1 (left: 1)\u001B[0m\u001B[32;1m\u001B[1;3m\u001B[0m\u001B[36;1m\u001B[1;3m1 + 1 + 1 + 1 = 4 (left: 4)\u001B[0m\u001B[32;1m\u001B[1;3m\u001B[0m\u001B[36;1m\u001B[1;3m4 * 4 + 4 = 20 (left: 4)\u001B[0m\u001B[32;1m\u001B[1;3m\u001B[0m\u001B[36;1m\u001B[1;3m4 * 4 + 4 = 20\u001B[0m\u001B[32;1m\u001B[1;3m\u001B[0m\u001B[36;1m\u001B[1;3m4 * 4 - 4 = 12\u001B[0m\u001B[32;1m\u001B[1;3m\u001B[0m\u001B[36;1m\u001B[1;3m4 * 4 - 4 = 12 (left: 4)\u001B[0m\u001B[32;1m\u001B[1;3m\u001B[0m\u001B[36;1m\u001B[1;3m4 * 4 - 4 = 12\u001B[0m\u001B[32;1m\u001B[1;3m\u001B[0m\u001B[36;1m\u001B[1;3m12 + 4 = 16 (left: 4 16)\u001B[0m\u001B[32;1m\u001B[1;3m\u001B[0m\u001B[36;1m\u001B[1;3m16 / 4 = 4 (left: 4 16)\u001B[0m\u001B[32;1m\u001B[1;3m\u001B[0m\u001B[36;1m\u001B[1;3m16 / 4 = 4 (left: 4)\u001B[0m\u001B[32;1m\u001B[1;3m\u001B[0m\u001B[36;1m\u001B[1;3m16 - 4 = 12 (left: 12 16)\u001B[0m\u001B[32;1m\u001B[1;3m\u001B[0m\u001B[36;1m\u001B[1;3m12 - 16 = -4 (left: -4)\u001B[0m\u001B[32;1m\u001B[1;3m\u001B[0m\u001B[36;1m\u001B[1;3m-4 * -1 = 4\u001B[0m\u001B[32;1m\u001B[1;3m\u001B[0m\u001B[36;1m\u001B[1;3m\u001B[0m\u001B[32;1m\u001B[1;3m\u001B[0m\u001B[36;1m\u001B[1;3m12 - 4 = 8 (left: 4 8)\u001B[0m\u001B[32;1m\u001B[1;3m\u001B[0m\u001B[36;1m\u001B[1;3m1 * 1 * 1 * 1 = 1 (left: 1)\u001B[0m\u001B[32;1m\u001B[1;3m\u001B[0m\u001B[36;1m\u001B[1;3m144 - 144 = 0 (left: 0)\u001B[0m\u001B[32;1m\u001B[1;3m\u001B[0m\u001B[36;1m\u001B[1;3m144 / 1 = 144\u001B[0m\u001B[32;1m\u001B[1;3m\u001B[0m\u001B[36;1m\u001B[1;3m144 - 1 = 143 (left: 143)\u001B[0m\u001B[32;1m\u001B[1;3m\u001B[0m\u001B[36;1m\u001B[1;3m144 * 1 = 144 (left: 144)\u001B[0m\u001B[32;1m\u001B[1;3m\u001B[0m\u001B[36;1m\u001B[1;3m144 + 0 = 144 (left: 0)\u001B[0m\u001B[32;1m\u001B[1;3m\u001B[0m\u001B[36;1m\u001B[1;3m0 * 0 = 0 (left: 0)\u001B[0m\u001B[32;1m\u001B[1;3m\u001B[0m\u001B[36;1m\u001B[1;3m144 - 0 = 144 (left: 0)\u001B[0m\u001B[32;1m\u001B[1;3m\u001B[0m\u001B[36;1m\u001B[1;3m144 / 1 = 144 (left: 144)\u001B[0m\u001B[32;1m\u001B[1;3m\u001B[0m\u001B[36;1m\u001B[1;3m144 / 6 = 24 (left: 24)\u001B[0m\u001B[32;1m\u001B[1;3m\u001B[0m\n",
      "\n",
      "\u001B[1m> Finished chain.\u001B[0m\n"
     ]
    },
    {
     "data": {
      "text/plain": "{'inputs': '6 6 1 4',\n 'output': '24 + 0 = 24',\n 'intermediate_steps': [(AgentAction(tool='simple_tool', tool_input='6 * 6 = 36 (left: 1 4 36)', log=''),\n   '6 * 6 = 36 (left: 1 4 36)'),\n  (AgentAction(tool='simple_tool', tool_input='4 * 36 = 144 (left: 1 144)', log=''),\n   '4 * 36 = 144 (left: 1 144)'),\n  (AgentAction(tool='simple_tool', tool_input='144 / 1 = 144 (left: 1 144)', log=''),\n   '144 / 1 = 144 (left: 1 144)'),\n  (AgentAction(tool='simple_tool', tool_input='144 - 1 = 143', log=''),\n   '144 - 1 = 143'),\n  (AgentAction(tool='simple_tool', tool_input='144 / 1 = 144', log=''),\n   '144 / 1 = 144'),\n  (AgentAction(tool='simple_tool', tool_input='144 / 1 = 144 (left: 144)', log=''),\n   '144 / 1 = 144 (left: 144)'),\n  (AgentAction(tool='simple_tool', tool_input='144 / 6 = 24 (left: 24)', log=''),\n   '144 / 6 = 24 (left: 24)')]}"
     },
     "execution_count": 15,
     "metadata": {},
     "output_type": "execute_result"
    }
   ],
   "source": [
    "strategy_executor.invoke({\"inputs\": \"6 6 1 4\"})"
   ],
   "metadata": {
    "collapsed": false,
    "ExecuteTime": {
     "end_time": "2024-02-14T13:22:03.132425Z",
     "start_time": "2024-02-14T13:20:14.044465Z"
    }
   },
   "id": "59924a439f964794"
  },
  {
   "cell_type": "code",
   "execution_count": 16,
   "outputs": [
    {
     "name": "stdout",
     "output_type": "stream",
     "text": [
      "\n",
      "\n",
      "\u001B[1m> Entering new TreeOfThoughtsDFSStrategy chain...\u001B[0m\n",
      "\u001B[32;1m\u001B[1;3m\u001B[0m\u001B[36;1m\u001B[1;3m6 * 6 = 36 (left: 1 4 36)\u001B[0m\u001B[32;1m\u001B[1;3m\u001B[0m\u001B[36;1m\u001B[1;3m1 + 4 = 5 (left: 5 36)\u001B[0m\u001B[32;1m\u001B[1;3m\u001B[0m\u001B[36;1m\u001B[1;3m4 * 36 = 144 (left: 1 144)\u001B[0m\u001B[32;1m\u001B[1;3m\u001B[0m\u001B[36;1m\u001B[1;3m1 * 144 = 144 (left: 144)\u001B[0m\u001B[32;1m\u001B[1;3m\u001B[0m\u001B[36;1m\u001B[1;3m144 / 144 = 1\u001B[0m\u001B[32;1m\u001B[1;3m\u001B[0m\u001B[36;1m\u001B[1;3m144 * 1 = 144\u001B[0m\u001B[32;1m\u001B[1;3m\u001B[0m\u001B[36;1m\u001B[1;3m144 / 1 = 144\u001B[0m\u001B[32;1m\u001B[1;3m\u001B[0m\u001B[36;1m\u001B[1;3m144 - 1 = 143 (left: 143)\u001B[0m\u001B[32;1m\u001B[1;3m\u001B[0m\u001B[36;1m\u001B[1;3m1. 143 + 0 = 143 (left: 0 143)\u001B[0m\u001B[32;1m\u001B[1;3m\u001B[0m\u001B[36;1m\u001B[1;3m2. 143 - 0 = 143 (left: 0 143)\u001B[0m\u001B[32;1m\u001B[1;3m\u001B[0m\u001B[36;1m\u001B[1;3m3. 143 / 1 = 143 (left: 1 143)\u001B[0m\u001B[32;1m\u001B[1;3m\u001B[0m\u001B[36;1m\u001B[1;3m143 - 1 = 142 (left: 142)\u001B[0m\u001B[32;1m\u001B[1;3m\u001B[0m\u001B[36;1m\u001B[1;3m1. 1 + 4 = 5 (left: 5 2)\u001B[0m\u001B[32;1m\u001B[1;3m\u001B[0m\u001B[36;1m\u001B[1;3m144 * 1 = 144 (left: 144)\u001B[0m\u001B[32;1m\u001B[1;3m\u001B[0m\u001B[36;1m\u001B[1;3m144 / 1 = 144\u001B[0m\u001B[32;1m\u001B[1;3m\u001B[0m\u001B[36;1m\u001B[1;3m144 - 1 = 143 (left: 143)\u001B[0m\u001B[32;1m\u001B[1;3m\u001B[0m\u001B[36;1m\u001B[1;3m1. 143 + 0 = 143 (left: 0 143)\u001B[0m\u001B[32;1m\u001B[1;3m\u001B[0m\u001B[36;1m\u001B[1;3m2. 143 * 1 = 143 (left: 1 143)\u001B[0m\u001B[32;1m\u001B[1;3m\u001B[0m\u001B[36;1m\u001B[1;3m1 + 143 = 144 (left: 144)\u001B[0m\u001B[32;1m\u001B[1;3m\u001B[0m\u001B[36;1m\u001B[1;3m3. 143 / 1 = 143 (left: 1 143)\u001B[0m\u001B[32;1m\u001B[1;3m\u001B[0m\u001B[36;1m\u001B[1;3m144 * 1 = 144 (left: 144)\u001B[0m\u001B[32;1m\u001B[1;3m\u001B[0m\u001B[36;1m\u001B[1;3m144 / 4 = 36\u001B[0m\u001B[32;1m\u001B[1;3m\u001B[0m\u001B[36;1m\u001B[1;3m36 + 4 = 40 (left: 4 40)\u001B[0m\u001B[32;1m\u001B[1;3m\u001B[0m\u001B[36;1m\u001B[1;3m4 * 40 = 160 (left: 160)\u001B[0m\u001B[32;1m\u001B[1;3m\u001B[0m\u001B[36;1m\u001B[1;3m160 / 8 = 20 (left: 8 20)\u001B[0m\u001B[32;1m\u001B[1;3m\u001B[0m\u001B[36;1m\u001B[1;3m36 * 4 = 144 (left: 144)\u001B[0m\u001B[32;1m\u001B[1;3m\u001B[0m\u001B[36;1m\u001B[1;3m144 - 2 = 142\u001B[0m\u001B[32;1m\u001B[1;3m\u001B[0m\u001B[36;1m\u001B[1;3m142 + 2 = 144\u001B[0m\u001B[32;1m\u001B[1;3m\u001B[0m\u001B[36;1m\u001B[1;3m144 - 2 = 142 (left: 142)\u001B[0m\u001B[32;1m\u001B[1;3m\u001B[0m\u001B[36;1m\u001B[1;3m3. 142 * 1 = 142 (left: 142)\u001B[0m\u001B[32;1m\u001B[1;3m\u001B[0m\u001B[36;1m\u001B[1;3m1. 1 + 4 = 5 (left: 5 2)\u001B[0m\u001B[32;1m\u001B[1;3m\u001B[0m\u001B[36;1m\u001B[1;3m2. 4 - 1 = 3 (left: 3 2)\u001B[0m\u001B[32;1m\u001B[1;3m\u001B[0m\u001B[36;1m\u001B[1;3m3 - 2 = 1 (left: 1)\u001B[0m\u001B[32;1m\u001B[1;3m\u001B[0m\u001B[36;1m\u001B[1;3m\u001B[0m\u001B[32;1m\u001B[1;3m\u001B[0m\n",
      "\n",
      "\u001B[1m> Finished chain.\u001B[0m\n"
     ]
    },
    {
     "data": {
      "text/plain": "{'inputs': '6 6 1 4',\n 'output': '144 / 6 = 24',\n 'intermediate_steps': [(AgentAction(tool='simple_tool', tool_input='6 * 6 = 36 (left: 1 4 36)', log=''),\n   '6 * 6 = 36 (left: 1 4 36)'),\n  (AgentAction(tool='simple_tool', tool_input='4 * 36 = 144 (left: 1 144)', log=''),\n   '4 * 36 = 144 (left: 1 144)'),\n  (AgentAction(tool='simple_tool', tool_input='1 * 144 = 144 (left: 144)', log=''),\n   '1 * 144 = 144 (left: 144)'),\n  (AgentAction(tool='simple_tool', tool_input='144 * 1 = 144', log=''),\n   '144 * 1 = 144'),\n  (AgentAction(tool='simple_tool', tool_input='144 / 1 = 144', log=''),\n   '144 / 1 = 144'),\n  (AgentAction(tool='simple_tool', tool_input='144 * 1 = 144 (left: 144)', log=''),\n   '144 * 1 = 144 (left: 144)'),\n  (AgentAction(tool='simple_tool', tool_input='144 / 1 = 144', log=''),\n   '144 / 1 = 144'),\n  (AgentAction(tool='simple_tool', tool_input='144 * 1 = 144 (left: 144)', log=''),\n   '144 * 1 = 144 (left: 144)')]}"
     },
     "execution_count": 16,
     "metadata": {},
     "output_type": "execute_result"
    }
   ],
   "source": [
    "strategy_executor.invoke({\"inputs\": \"6 6 1 4\"})"
   ],
   "metadata": {
    "collapsed": false,
    "ExecuteTime": {
     "end_time": "2024-02-14T13:24:49.187699Z",
     "start_time": "2024-02-14T13:22:34.800958Z"
    }
   },
   "id": "a2c9d54d54f43bc1"
  },
  {
   "cell_type": "code",
   "execution_count": null,
   "outputs": [],
   "source": [],
   "metadata": {
    "collapsed": false
   },
   "id": "1901e1c956634526"
  }
 ],
 "metadata": {
  "kernelspec": {
   "display_name": "Python 3",
   "language": "python",
   "name": "python3"
  },
  "language_info": {
   "codemirror_mode": {
    "name": "ipython",
    "version": 2
   },
   "file_extension": ".py",
   "mimetype": "text/x-python",
   "name": "python",
   "nbconvert_exporter": "python",
   "pygments_lexer": "ipython2",
   "version": "2.7.6"
  }
 },
 "nbformat": 4,
 "nbformat_minor": 5
}
