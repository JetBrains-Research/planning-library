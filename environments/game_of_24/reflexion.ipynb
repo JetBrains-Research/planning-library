{
 "cells": [
  {
   "cell_type": "markdown",
   "source": [
    "# Utils"
   ],
   "metadata": {
    "collapsed": false
   },
   "id": "1fef8f224fc8d74e"
  },
  {
   "cell_type": "markdown",
   "source": [
    "## Imports"
   ],
   "metadata": {
    "collapsed": false
   },
   "id": "14f9579a2b3aa475"
  },
  {
   "cell_type": "code",
   "outputs": [],
   "source": [
    "from langchain_openai import ChatOpenAI\n",
    "from textwrap import dedent\n",
    "from planning_library.strategies.reflexion import ReflexionStrategy\n",
    "from planning_library.strategies.reflexion.components import ReflexionActor, ReflexionEvaluator, ReflexionSelfReflection\n",
    "from environments.game_of_24.environment import GameOf24Env\n",
    "\n",
    "import os\n",
    "\n",
    "%load_ext autoreload\n",
    "%autoreload 2"
   ],
   "metadata": {
    "collapsed": false,
    "ExecuteTime": {
     "end_time": "2024-04-17T17:04:56.043909Z",
     "start_time": "2024-04-17T17:04:54.987345Z"
    }
   },
   "id": "b53511c71640dcea",
   "execution_count": 1
  },
  {
   "cell_type": "markdown",
   "source": [
    "## Logging"
   ],
   "metadata": {
    "collapsed": false
   },
   "id": "fa006dc2f0d04e39"
  },
  {
   "cell_type": "code",
   "outputs": [],
   "source": [
    "os.environ[\"LANGCHAIN_TRACING_V2\"] = \"true\"\n",
    "os.environ[\"LANGCHAIN_PROJECT\"] = \"Reflexion (new) + Game of 24\"\n",
    "os.environ[\"LANGCHAIN_ENDPOINT\"] = \"https://api.smith.langchain.com\""
   ],
   "metadata": {
    "collapsed": false,
    "ExecuteTime": {
     "end_time": "2024-04-17T17:04:56.054020Z",
     "start_time": "2024-04-17T17:04:56.044163Z"
    }
   },
   "id": "c6dea842a5c669ab",
   "execution_count": 2
  },
  {
   "cell_type": "markdown",
   "source": [
    "## Defining environment"
   ],
   "metadata": {
    "collapsed": false
   },
   "id": "89ceb41dcab95adc"
  },
  {
   "cell_type": "code",
   "outputs": [],
   "source": [
    "env = GameOf24Env()"
   ],
   "metadata": {
    "collapsed": false,
    "ExecuteTime": {
     "end_time": "2024-04-17T17:04:56.064405Z",
     "start_time": "2024-04-17T17:04:56.053612Z"
    }
   },
   "id": "6777295e88f644e7",
   "execution_count": 3
  },
  {
   "cell_type": "markdown",
   "source": [
    "## Defining hyperparameters"
   ],
   "metadata": {
    "collapsed": false
   },
   "id": "57c32637a187d62e"
  },
  {
   "cell_type": "code",
   "outputs": [],
   "source": [
    "# Reflexion hyperparameters\n",
    "value_threshold = 1.0  # threshold for evaluation; when reached, the loop will exit\n",
    "max_num_iterations = 2  # maximum number of iterations; when reached, the loop will exit\n",
    "\n",
    "# other hyperparameters\n",
    "model_name = \"gpt-3.5-turbo\"\n",
    "temperature = 0.8"
   ],
   "metadata": {
    "collapsed": false,
    "ExecuteTime": {
     "end_time": "2024-04-17T17:04:56.075442Z",
     "start_time": "2024-04-17T17:04:56.064872Z"
    }
   },
   "id": "b98d2eebc3a91cbe",
   "execution_count": 4
  },
  {
   "cell_type": "markdown",
   "source": [
    "# Defining strategy components"
   ],
   "metadata": {
    "collapsed": false
   },
   "id": "7f67d00c3360f761"
  },
  {
   "cell_type": "markdown",
   "source": [
    "## Agent"
   ],
   "metadata": {
    "collapsed": false
   },
   "id": "3007e162abab3317"
  },
  {
   "cell_type": "markdown",
   "source": [
    "Agent components:\n",
    "\n",
    "* LLM (`BaseChatModel` from LangChain)\n",
    "* Prompt (`ChatPromptTemplate` from LangChain)\n",
    "* Tools (`Sequence[BaseTool]`, where `BaseTool` is a LangChain primitive)\n",
    "* Function Calling Parser (either passed explicitly or by its name)"
   ],
   "metadata": {
    "collapsed": false
   },
   "id": "d66fb225e916d5f9"
  },
  {
   "cell_type": "code",
   "outputs": [],
   "source": [
    "actor = ReflexionActor.create(llm=ChatOpenAI(model=model_name, temperature=temperature), tools=env.tools, parser_name=\"openai-tools\", user_message=dedent(\"\"\"\n",
    "            You are given four numbers, and your goal is to obtain 24 from given numbers via basic arithmetic operations. \n",
    "            This might be not the first attempt you took, so pay attention to self-reflections about your previous failures. \n",
    "            When you're ready to answer, make sure to include a mathematical expression showing how to obtain 24 from given numbers, \n",
    "            for instance: '(2 + 2) * (12 / 2) = 24'.\n",
    "            \n",
    "            Inputs:\n",
    "            {numbers}\"\"\"))"
   ],
   "metadata": {
    "collapsed": false,
    "ExecuteTime": {
     "end_time": "2024-04-17T17:05:00.520833Z",
     "start_time": "2024-04-17T17:05:00.488562Z"
    }
   },
   "id": "34acfc8b28bbaf2f",
   "execution_count": 11
  },
  {
   "cell_type": "markdown",
   "source": [],
   "metadata": {
    "collapsed": false
   },
   "id": "4125fc03d924f1c8"
  },
  {
   "cell_type": "markdown",
   "source": [
    "## Other components"
   ],
   "metadata": {
    "collapsed": false
   },
   "id": "4289010808288890"
  },
  {
   "cell_type": "markdown",
   "source": [
    "Other Reflexion components are even simpler by default, since they don't use tools.\n",
    "\n",
    "* Self-Reflection needs only prompt + LLM.\n",
    "* Evaluator needs prompt + LLM + threshold (it outputs a float, and the execution loop will continue only if float < threshold).\n",
    "\n",
    "However, in this case, both components also receive intermediate_steps as part of input, so they also need the same parser.\n"
   ],
   "metadata": {
    "collapsed": false
   },
   "id": "c7b14e5e5c101c77"
  },
  {
   "cell_type": "code",
   "outputs": [],
   "source": [
    "evaluator = ReflexionEvaluator.create(llm=ChatOpenAI(model=model_name, temperature=temperature), \n",
    "                                      user_message=dedent(\"\"\"\"\n",
    "                                      Given an input and an answer, give a judgement if the answer is correct, i.e. \n",
    "                                      1) it uses each given number exactly once; \n",
    "                                      2) it doesn't use any other number; \n",
    "                                      3) given mathematical expression correctly reaches 24.\n",
    "                                      \n",
    "                                      Inputs:\n",
    "                                      {numbers}\n",
    "                                      \"\"\"), \n",
    "                                      threshold=value_threshold,\n",
    "                                      parser_name=\"openai-tools\")"
   ],
   "metadata": {
    "collapsed": false,
    "ExecuteTime": {
     "end_time": "2024-04-17T17:05:01.991170Z",
     "start_time": "2024-04-17T17:05:01.962160Z"
    }
   },
   "id": "608d21e1c040ba1d",
   "execution_count": 12
  },
  {
   "cell_type": "code",
   "outputs": [],
   "source": [
    "self_reflection = ReflexionSelfReflection.create(llm=ChatOpenAI(model=model_name, temperature=temperature),\n",
    "                                                 user_message=dedent(\"\"\"\n",
    "                                                 You will be given inputs for Game of 24 and your previous trial, \n",
    "                                                 where you had to use basic arithmetic operations (+ - * /) with given numbers to obtain 24. \n",
    "                                                 You were unsuccessful.\n",
    "                                                 \n",
    "                                                 Inputs:\n",
    "                                                 {numbers}\n",
    "                                                 \"\"\"), parser_name=\"openai-tools\")"
   ],
   "metadata": {
    "collapsed": false,
    "ExecuteTime": {
     "end_time": "2024-04-17T17:05:02.468383Z",
     "start_time": "2024-04-17T17:05:02.434490Z"
    }
   },
   "id": "b20c88b95bc90932",
   "execution_count": 13
  },
  {
   "cell_type": "code",
   "outputs": [],
   "source": [
    "from planning_library.action_executors import GymnasiumActionExecutor\n",
    "from typing import Dict, Any\n",
    "\n",
    "\n",
    "def reset_environment(inputs: Dict[str, Any]) -> None:\n",
    "    env.reset(options={\"numbers\": [float(n) for n in inputs[\"numbers\"].split()]})\n",
    "\n",
    "\n",
    "action_executor = GymnasiumActionExecutor(env)"
   ],
   "metadata": {
    "collapsed": false,
    "ExecuteTime": {
     "end_time": "2024-04-17T17:05:02.759661Z",
     "start_time": "2024-04-17T17:05:02.741319Z"
    }
   },
   "id": "f6e2fed4f770e360",
   "execution_count": 14
  },
  {
   "cell_type": "code",
   "outputs": [],
   "source": [
    "reflexion = ReflexionStrategy.create_from_components(\n",
    "    action_executor=action_executor,\n",
    "    actor=actor,\n",
    "    evaluator=evaluator,\n",
    "    self_reflection=self_reflection,\n",
    "    reset_environment=reset_environment,\n",
    "    max_iterations=max_num_iterations,\n",
    ")"
   ],
   "metadata": {
    "collapsed": false,
    "ExecuteTime": {
     "end_time": "2024-04-17T17:05:03.152792Z",
     "start_time": "2024-04-17T17:05:03.133479Z"
    }
   },
   "id": "d5217c49707cefc",
   "execution_count": 15
  },
  {
   "cell_type": "code",
   "outputs": [
    {
     "data": {
      "text/plain": "{'inputs': {'numbers': '1 1 4 6'},\n 'agent_outcome': AgentFinish(return_values={'output': \"I have completed the calculations, but unfortunately, I couldn't reach the target number 24.\\n\\nFinal Result:\\n- Addition: 7 + 4 = 11\\n\\nRemaining number: 11\\n\\nI will reflect on this attempt and strategize for the next one to improve the chances of reaching the goal.\\nDiagnosis:\\n- In this attempt, I failed to reach the target number 24 by focusing on addition and multiplication only, without considering other operations like subtraction or division.\\n- I also didn't explore all possible combinations of the numbers, limiting the potential solutions.\\n\\nNew Plan:\\n- For the next attempt, I will incorporate subtraction and division operations to broaden the scope of possible solutions.\\n- I will systematically explore various permutations and combinations of the numbers to increase the chances of success.\\n- By maintaining a balanced approach to arithmetic operations, I aim to find the correct expression to reach the target number.\"}, log=\"I have completed the calculations, but unfortunately, I couldn't reach the target number 24.\\n\\nFinal Result:\\n- Addition: 7 + 4 = 11\\n\\nRemaining number: 11\\n\\nI will reflect on this attempt and strategize for the next one to improve the chances of reaching the goal.\\nDiagnosis:\\n- In this attempt, I failed to reach the target number 24 by focusing on addition and multiplication only, without considering other operations like subtraction or division.\\n- I also didn't explore all possible combinations of the numbers, limiting the potential solutions.\\n\\nNew Plan:\\n- For the next attempt, I will incorporate subtraction and division operations to broaden the scope of possible solutions.\\n- I will systematically explore various permutations and combinations of the numbers to increase the chances of success.\\n- By maintaining a balanced approach to arithmetic operations, I aim to find the correct expression to reach the target number.\"),\n 'evaluator_should_continue': True,\n 'self_reflection_memory': ChatMessageHistory(messages=[('content', 'Diagnosis: In this trial, I struggled to find a solution for obtaining 24 using the numbers 1, 1, 4, and 6, mainly because I may have been fixated on specific arithmetic operations and order of operations, limiting my exploration of alternative combinations.\\n\\nNew Plan: To mitigate this, I will adopt a more flexible approach by considering various permutations of the numbers and exploring different combinations of arithmetic operations without getting stuck on a single pattern. I will also prioritize breaking down the problem into simpler steps and maintaining a systematic method of trial and error to increase the likelihood of finding the correct solution.'), ('additional_kwargs', {}), ('type', 'ai'), ('name', None), ('id', None), ('example', False), ('content', 'Diagnosis: The failure in this trial may be attributed to a narrow focus on specific arithmetic operations, neglecting the potential of alternative approaches for reaching the target number. \\n\\nNew Plan: To mitigate this shortcoming, I will diversify the exploration of arithmetic operations and prioritize flexible thinking by considering all possible combinations of numbers and operations, ensuring a comprehensive approach towards achieving the target number.'), ('additional_kwargs', {}), ('type', 'ai'), ('name', None), ('id', None), ('example', False)]),\n 'self_reflections': [AIMessage(content='Diagnosis: In this trial, I struggled to find a solution for obtaining 24 using the numbers 1, 1, 4, and 6, mainly because I may have been fixated on specific arithmetic operations and order of operations, limiting my exploration of alternative combinations.\\n\\nNew Plan: To mitigate this, I will adopt a more flexible approach by considering various permutations of the numbers and exploring different combinations of arithmetic operations without getting stuck on a single pattern. I will also prioritize breaking down the problem into simpler steps and maintaining a systematic method of trial and error to increase the likelihood of finding the correct solution.')],\n 'intermediate_steps': [(OpenAIToolAgentAction(tool='add', tool_input={'number1': 1, 'number2': 6}, log=\"\\nInvoking: `add` with `{'number1': 1, 'number2': 6}`\\n\\n\\n\", message_log=[AIMessageChunk(content='', additional_kwargs={'tool_calls': [{'index': 0, 'id': 'call_X0KNNWAvf3vWOl3mH8JRUu3C', 'function': {'arguments': '{\"number1\": 1, \"number2\": 6}', 'name': 'add'}, 'type': 'function'}, {'index': 1, 'id': 'call_nThdtz95kZJMRqgJTpXN6mBX', 'function': {'arguments': '{\"number1\": 1, \"number2\": 4}', 'name': 'multiply'}, 'type': 'function'}]})], tool_call_id='call_X0KNNWAvf3vWOl3mH8JRUu3C'),\n   {'observation': 'result of current arithmetical operation on 1.0 and 6.0 is 7.0',\n    'reward': 0,\n    'terminated': False,\n    'truncated': False,\n    'info': {'numbers': '1.0 4.0 7.0'}}),\n  (OpenAIToolAgentAction(tool='multiply', tool_input={'number1': 1, 'number2': 4}, log=\"\\nInvoking: `multiply` with `{'number1': 1, 'number2': 4}`\\n\\n\\n\", message_log=[AIMessageChunk(content='', additional_kwargs={'tool_calls': [{'index': 0, 'id': 'call_X0KNNWAvf3vWOl3mH8JRUu3C', 'function': {'arguments': '{\"number1\": 1, \"number2\": 6}', 'name': 'add'}, 'type': 'function'}, {'index': 1, 'id': 'call_nThdtz95kZJMRqgJTpXN6mBX', 'function': {'arguments': '{\"number1\": 1, \"number2\": 4}', 'name': 'multiply'}, 'type': 'function'}]})], tool_call_id='call_nThdtz95kZJMRqgJTpXN6mBX'),\n   {'observation': 'result of current arithmetical operation on 1.0 and 4.0 is 4.0',\n    'reward': 0,\n    'terminated': False,\n    'truncated': False,\n    'info': {'numbers': '7.0 4.0'}}),\n  (OpenAIToolAgentAction(tool='add', tool_input={'number1': 7, 'number2': 4}, log=\"\\nInvoking: `add` with `{'number1': 7, 'number2': 4}`\\nresponded: I have made progress with the calculations:\\n\\n1. Addition: 1 + 6 = 7\\n2. Multiplication: 1 * 4 = 4\\n\\nRemaining numbers: 7, 4\\n\\nI will continue with the next steps.\\n\\n\", message_log=[AIMessageChunk(content='I have made progress with the calculations:\\n\\n1. Addition: 1 + 6 = 7\\n2. Multiplication: 1 * 4 = 4\\n\\nRemaining numbers: 7, 4\\n\\nI will continue with the next steps.', additional_kwargs={'tool_calls': [{'index': 0, 'id': 'call_EWvqc0F5dyMVYei7mQUaaokp', 'function': {'arguments': '{\"number1\": 7, \"number2\": 4}', 'name': 'add'}, 'type': 'function'}, {'index': 1, 'id': 'call_TX4s8ZbvXPSFWNvdoGh4yNvb', 'function': {'arguments': '{\"number1\": 7, \"number2\": 4}', 'name': 'multiply'}, 'type': 'function'}]})], tool_call_id='call_EWvqc0F5dyMVYei7mQUaaokp'),\n   {'observation': 'result of current arithmetical operation on 7.0 and 4.0 is 11.0',\n    'reward': 0,\n    'terminated': True,\n    'truncated': False,\n    'info': {'numbers': '11.0'}}),\n  (OpenAIToolAgentAction(tool='multiply', tool_input={'number1': 7, 'number2': 4}, log=\"\\nInvoking: `multiply` with `{'number1': 7, 'number2': 4}`\\nresponded: I have made progress with the calculations:\\n\\n1. Addition: 1 + 6 = 7\\n2. Multiplication: 1 * 4 = 4\\n\\nRemaining numbers: 7, 4\\n\\nI will continue with the next steps.\\n\\n\", message_log=[AIMessageChunk(content='I have made progress with the calculations:\\n\\n1. Addition: 1 + 6 = 7\\n2. Multiplication: 1 * 4 = 4\\n\\nRemaining numbers: 7, 4\\n\\nI will continue with the next steps.', additional_kwargs={'tool_calls': [{'index': 0, 'id': 'call_EWvqc0F5dyMVYei7mQUaaokp', 'function': {'arguments': '{\"number1\": 7, \"number2\": 4}', 'name': 'add'}, 'type': 'function'}, {'index': 1, 'id': 'call_TX4s8ZbvXPSFWNvdoGh4yNvb', 'function': {'arguments': '{\"number1\": 7, \"number2\": 4}', 'name': 'multiply'}, 'type': 'function'}]})], tool_call_id='call_TX4s8ZbvXPSFWNvdoGh4yNvb'),\n   {'observation': 'The environment has already been terminated.',\n    'reward': 0,\n    'terminated': True,\n    'truncated': False,\n    'info': {'numbers': '11.0'}})],\n 'iteration': 2}"
     },
     "execution_count": 16,
     "metadata": {},
     "output_type": "execute_result"
    }
   ],
   "source": [
    "env.reset(options={\"numbers\": [1, 1, 4, 6]})\n",
    "reflexion.invoke(\n",
    "    {\"inputs\": {\"numbers\": \"1 1 4 6\"}},\n",
    "    {\"recursion_limit\": 1000},\n",
    ")"
   ],
   "metadata": {
    "collapsed": false,
    "ExecuteTime": {
     "end_time": "2024-04-17T17:05:54.683068Z",
     "start_time": "2024-04-17T17:05:03.956702Z"
    }
   },
   "id": "415a8d21878f332d",
   "execution_count": 16
  }
 ],
 "metadata": {
  "kernelspec": {
   "display_name": "Python 3",
   "language": "python",
   "name": "python3"
  },
  "language_info": {
   "codemirror_mode": {
    "name": "ipython",
    "version": 2
   },
   "file_extension": ".py",
   "mimetype": "text/x-python",
   "name": "python",
   "nbconvert_exporter": "python",
   "pygments_lexer": "ipython2",
   "version": "2.7.6"
  }
 },
 "nbformat": 4,
 "nbformat_minor": 5
}
