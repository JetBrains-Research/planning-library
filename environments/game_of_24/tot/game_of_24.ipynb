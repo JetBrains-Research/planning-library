{
 "cells": [
  {
   "cell_type": "markdown",
   "source": [
    "# Game of 24: ToT + DFS"
   ],
   "metadata": {
    "collapsed": false
   },
   "id": "3f870728b8f42286"
  },
  {
   "cell_type": "markdown",
   "source": [
    "## Utils"
   ],
   "metadata": {
    "collapsed": false
   },
   "id": "ac15008844246559"
  },
  {
   "cell_type": "markdown",
   "source": [
    "### Imports"
   ],
   "metadata": {
    "collapsed": false
   },
   "id": "d8bf9aec03e431bc"
  },
  {
   "cell_type": "code",
   "execution_count": 16,
   "outputs": [
    {
     "name": "stdout",
     "output_type": "stream",
     "text": [
      "The autoreload extension is already loaded. To reload it, use:\n",
      "  %reload_ext autoreload\n"
     ]
    }
   ],
   "source": [
    "from langchain_openai import ChatOpenAI\n",
    "from environments.game_of_24.common.evaluate_utils import GameOf24EvaluateOutputParser, game_of_24_evaluate_prompt\n",
    "from environments.game_of_24.common.generate_utils import GameOf24GenerateOutputParser, game_of_24_generate_prompt\n",
    "from planning_library.custom_agent_executor.strategies import TreeOfThoughtsDFSStrategy\n",
    "from planning_library.custom_agent_executor.strategies.toolllm.thought_generators import AgentThoughtGenerator\n",
    "from planning_library.custom_agent_executor.strategies.toolllm.thought_evaluators import LLMThoughtEvaluator\n",
    "from langchain_core.agents import AgentAction\n",
    "from typing import Dict, Any\n",
    "import os\n",
    "import re\n",
    "\n",
    "%load_ext autoreload\n",
    "%autoreload 2"
   ],
   "metadata": {
    "collapsed": false,
    "ExecuteTime": {
     "end_time": "2024-02-15T13:43:24.675421Z",
     "start_time": "2024-02-15T13:43:24.651102Z"
    }
   },
   "id": "c94d0bfae6ac52b7"
  },
  {
   "cell_type": "markdown",
   "source": [
    "### Enabling W&B "
   ],
   "metadata": {
    "collapsed": false
   },
   "id": "a8cba987fa8f60c4"
  },
  {
   "cell_type": "code",
   "execution_count": 17,
   "outputs": [],
   "source": [
    "os.environ[\"LANGCHAIN_WANDB_TRACING\"] = \"true\"\n",
    "os.environ[\"WANDB_PROJECT\"] = \"aeliseeva-tot-dfs-game24-test\"\n",
    "os.environ[\"WANDB_BASE_URL\"] = \"https://jetbrains.wandb.io/\""
   ],
   "metadata": {
    "collapsed": false,
    "ExecuteTime": {
     "end_time": "2024-02-15T13:43:25.449086Z",
     "start_time": "2024-02-15T13:43:25.435247Z"
    }
   },
   "id": "b839c1569a02b9e1"
  },
  {
   "cell_type": "markdown",
   "source": [
    "### Enabling LangSmith"
   ],
   "metadata": {
    "collapsed": false
   },
   "id": "592fa8069fcf09af"
  },
  {
   "cell_type": "code",
   "execution_count": 18,
   "outputs": [],
   "source": [
    "from uuid import uuid4\n",
    "\n",
    "unique_id = uuid4().hex[0:8]\n",
    "os.environ[\"LANGCHAIN_TRACING_V2\"] = \"true\"\n",
    "os.environ[\"LANGCHAIN_PROJECT\"] = f\"Tracing Walkthrough - {unique_id}\"\n",
    "os.environ[\"LANGCHAIN_ENDPOINT\"] = \"https://api.smith.langchain.com\""
   ],
   "metadata": {
    "collapsed": false,
    "ExecuteTime": {
     "end_time": "2024-02-15T13:43:26.154321Z",
     "start_time": "2024-02-15T13:43:26.140630Z"
    }
   },
   "id": "7d8838345955d3c2"
  },
  {
   "cell_type": "code",
   "execution_count": 19,
   "outputs": [],
   "source": [
    "from langsmith import Client\n",
    "\n",
    "client = Client()"
   ],
   "metadata": {
    "collapsed": false,
    "ExecuteTime": {
     "end_time": "2024-02-15T13:43:26.715248Z",
     "start_time": "2024-02-15T13:43:26.693204Z"
    }
   },
   "id": "5efef785dbba075e"
  },
  {
   "cell_type": "markdown",
   "source": [
    "### Defining components"
   ],
   "metadata": {
    "collapsed": false
   },
   "id": "99565d7bf09a28b9"
  },
  {
   "cell_type": "markdown",
   "source": [
    "#### Hyperparameters"
   ],
   "metadata": {
    "collapsed": false
   },
   "id": "783935cd06fec74d"
  },
  {
   "cell_type": "code",
   "execution_count": 20,
   "outputs": [],
   "source": [
    "# ToT hyperparameters\n",
    "max_num_thoughts = 3  # number of thoughts to generate at each iteration\n",
    "max_num_steps = 20  # total maximum number of iterations\n",
    "value_threshold = 0.49  # threshold for evaluation; only thoughts with value > value_threshold will be explored\n",
    "num_retries_evaluator = 5  # how many times to query for evaluation\n",
    "\n",
    "# other hyperparameters\n",
    "model_name = \"gpt-3.5-turbo\"\n",
    "temperature = 0.8"
   ],
   "metadata": {
    "collapsed": false,
    "ExecuteTime": {
     "end_time": "2024-02-15T13:43:28.281009Z",
     "start_time": "2024-02-15T13:43:28.265673Z"
    }
   },
   "id": "3b1ff5faf3a98a79"
  },
  {
   "cell_type": "markdown",
   "source": [
    "#### Thought Evaluator"
   ],
   "metadata": {
    "collapsed": false
   },
   "id": "7d8fdcea67bf22ee"
  },
  {
   "cell_type": "markdown",
   "source": [
    "Evaluation prompt is adapted from the [original implementation](https://github.com/princeton-nlp/tree-of-thought-llm/blob/master/src/tot/prompts/game24.py)."
   ],
   "metadata": {
    "collapsed": false
   },
   "id": "d25c860d110aa95d"
  },
  {
   "cell_type": "code",
   "execution_count": 21,
   "outputs": [
    {
     "data": {
      "text/plain": "['inputs', 'thought']"
     },
     "execution_count": 21,
     "metadata": {},
     "output_type": "execute_result"
    }
   ],
   "source": [
    "game_of_24_evaluate_prompt.input_variables"
   ],
   "metadata": {
    "collapsed": false,
    "ExecuteTime": {
     "end_time": "2024-02-15T13:43:29.299327Z",
     "start_time": "2024-02-15T13:43:29.279742Z"
    }
   },
   "id": "fd1913a8499f4b85"
  },
  {
   "cell_type": "code",
   "execution_count": 22,
   "outputs": [
    {
     "name": "stdout",
     "output_type": "stream",
     "text": [
      "System: You are a helpful assistant that judges whether given numbers can reach 24.\n",
      "Human: Evaluate if given numbers can reach 24 (sure/likely/impossible)\n",
      "Human: Input: 2 8 14\n",
      "Thought: 2 + 8 = 10 (left: 10 14)\n",
      "Judge:\n",
      "AI: 10 + 14 = 24\n",
      "sure\n",
      "Human: Input: 6 8 14\n",
      "Thought: 2 + 8 = 10 (left: 10 14)\n",
      "Judge:\n",
      "AI: 10 + 14 = 24\n",
      "but there was no 2 in input\n",
      "impossible\n",
      "Human: Input: 2 6 11\n",
      "Thought: 2 * 6 = 12 (left: 11 12)\n",
      "Judge:\n",
      "AI: 11 + 12 = 23\n",
      "12 - 11 = 1\n",
      "11 * 12 = 132\n",
      "11 / 12 = 0.91\n",
      "impossible\n",
      "Human: Input: 2 2 4 10\n",
      "Thought: 2 + 2 = 4 (left: 4 4 10)\n",
      "Judge:\n",
      "AI: 4 + 4 + 10 = 8 + 10 = 18\n",
      "4 * 10 - 4 = 40 - 4 = 36\n",
      "(10 - 4) * 4 = 6 * 4 = 24\n",
      "sure\n",
      "Human: Input: 4 1 9 10\n",
      "Thought: 10 + 1 = 11 (left: 4 9 11)\n",
      "Judge:\n",
      "AI: 9 + 11 + 4 = 20 + 4 = 24\n",
      "sure\n",
      "Human: Input: 5 2 7 4\n",
      "Thought: 2 * 4 = 8 (left: 5 7 8)\n",
      "Judge:\n",
      "AI: 5 + 7 + 8 = 12 + 8 = 20\n",
      "(8 - 5) * 7 = 3 * 7 = 21\n",
      "I cannot obtain 24 now, but numbers are within a reasonable range\n",
      "likely\n",
      "Human: Input: 5 6 2 3\n",
      "Thought: 2 * 3 = 6 (left: 5 6 6)\n",
      "Judge:\n",
      "AI: 5 + 6 + 6 = 17\n",
      "(6 - 5) * 6 = 1 * 6 = 6\n",
      "I cannot obtain 24 now, but numbers are within a reasonable range\n",
      "likely\n",
      "Human: Input: 11 2 10 5\n",
      "Thought: 2 * 5 = 10 (left: 10 10 11)\n",
      "Judge:\n",
      "AI: 10 + 10 + 11 = 31\n",
      "(11 - 10) * 10 = 10\n",
      "10 10 10 are all too big\n",
      "impossible\n",
      "Human: Input: 5 1 2 3\n",
      "Thought: 5 - 2 = 3 (left: 1 3 3)\n",
      "Judge:\n",
      "AI: 1 * 3 * 3 = 9\n",
      "(1 + 3) * 3 = 12\n",
      "1 3 3 are all too small\n",
      "impossible\n",
      "Human: Input: 2 8\n",
      "Thought: 2 + 8 = 10 (left: 10)\n",
      "Judge:\n",
      "AI: 10 != 24\n",
      "impossible\n",
      "Human: Input: 12\n",
      "Thought: 12 + 12 = 24 (left: 24)\n",
      "Judge:\n",
      "AI: there was only one number 12\n",
      "impossible\n",
      "Human: Input: 36 5\n",
      "Thought: 36 / 5 = 7.2 (left: 7.2)\n",
      "Judge:\n",
      "AI: only integers are allowed\n",
      "impossible\n",
      "Human: Input: 2 3 6 4\n",
      "Thought: 2 + 3 = 5 (left: 6 5 4)\n",
      "Judge:\n"
     ]
    }
   ],
   "source": [
    "print(game_of_24_evaluate_prompt.format(inputs=\"2 3 6 4\", thought=\"2 + 3 = 5 (left: 6 5 4)\"))"
   ],
   "metadata": {
    "collapsed": false,
    "ExecuteTime": {
     "end_time": "2024-02-15T13:43:29.447851Z",
     "start_time": "2024-02-15T13:43:29.428904Z"
    }
   },
   "id": "5df9493e9fd2d2ca"
  },
  {
   "cell_type": "code",
   "execution_count": 23,
   "outputs": [],
   "source": [
    "def process_inputs_evaluator(x: Dict[str, Any]) -> str:\n",
    "    if not x[\"current_state\"]:\n",
    "        return x[\"inputs\"]\n",
    "\n",
    "    next_numbers = re.search(\"^.*?\\(left: (.*?)\\)$\", x[\"current_state\"][-1][1])\n",
    "\n",
    "    if next_numbers:\n",
    "        return next_numbers.groups()[0]\n",
    "\n",
    "    return x[\"current_state\"][-1][1]\n",
    "\n",
    "\n",
    "evaluator_chain = (\n",
    "    {\n",
    "        \"inputs\": lambda x: process_inputs_evaluator(x),\n",
    "        \"thought\": lambda x: x[\"thought\"].tool_input\n",
    "        if isinstance(x[\"thought\"], AgentAction)\n",
    "        else x[\"thought\"].return_values[\"output\"],\n",
    "    }\n",
    "    | game_of_24_evaluate_prompt\n",
    "    | ChatOpenAI(model=model_name, temperature=temperature)\n",
    "    | GameOf24EvaluateOutputParser()\n",
    ")\n",
    "thought_evaluator = LLMThoughtEvaluator(llm_chain=evaluator_chain)"
   ],
   "metadata": {
    "collapsed": false,
    "ExecuteTime": {
     "end_time": "2024-02-15T13:43:29.622680Z",
     "start_time": "2024-02-15T13:43:29.592732Z"
    }
   },
   "id": "d69a6c54ea18ee57"
  },
  {
   "cell_type": "markdown",
   "source": [
    "#### Thought Generator"
   ],
   "metadata": {
    "collapsed": false
   },
   "id": "48ea2803b76d0aba"
  },
  {
   "cell_type": "markdown",
   "source": [
    "Generation prompt is adapted from the [original implementation](https://github.com/princeton-nlp/tree-of-thought-llm/blob/master/src/tot/prompts/game24.py)."
   ],
   "metadata": {
    "collapsed": false
   },
   "id": "1fe6893c44450186"
  },
  {
   "cell_type": "code",
   "execution_count": 24,
   "outputs": [
    {
     "data": {
      "text/plain": "['inputs', 'max_num_thoughts']"
     },
     "execution_count": 24,
     "metadata": {},
     "output_type": "execute_result"
    }
   ],
   "source": [
    "game_of_24_generate_prompt.input_variables"
   ],
   "metadata": {
    "collapsed": false,
    "ExecuteTime": {
     "end_time": "2024-02-15T13:43:30.094160Z",
     "start_time": "2024-02-15T13:43:30.080080Z"
    }
   },
   "id": "f1a06f8b4e811dde"
  },
  {
   "cell_type": "code",
   "execution_count": 25,
   "outputs": [
    {
     "name": "stdout",
     "output_type": "stream",
     "text": [
      "System: You are a helpful assistant that proposes next steps in Game of 24.\n",
      "Human: Use numbers and basic arithmetic operations (+ - * /) to obtain 24. Each step, you are only allowed to choose two of the remaining numbers to obtain a new number.\n",
      "Human: Input: 2 8 8 14\n",
      "8 variants for a possible next step:\n",
      "AI: 2 + 8 = 10 (left: 8 10 14)\n",
      "8 / 2 = 4 (left: 4 8 14)\n",
      "14 + 2 = 16 (left: 8 8 16)\n",
      "2 * 8 = 16 (left: 8 14 16)\n",
      "8 - 2 = 6 (left: 6 8 14)\n",
      "14 - 8 = 6 (left: 2 6 8)\n",
      "14 /  2 = 7 (left: 7 8 8)\n",
      "14 - 2 = 12 (left: 8 8 12)\n",
      "Human: Input: 10 14\n",
      "1 variants for a possible next step:\n",
      "AI: 10 + 14 = 24\n",
      "Human: Input: 2 2 3 4\n",
      "3 variants for a possible next step:\n"
     ]
    }
   ],
   "source": [
    "print(game_of_24_generate_prompt.format(inputs=\"2 2 3 4\", max_num_thoughts=\"3\"))"
   ],
   "metadata": {
    "collapsed": false,
    "ExecuteTime": {
     "end_time": "2024-02-15T13:43:30.286627Z",
     "start_time": "2024-02-15T13:43:30.267767Z"
    }
   },
   "id": "68a616c63be1ffa3"
  },
  {
   "cell_type": "code",
   "execution_count": 26,
   "outputs": [],
   "source": [
    "def process_inputs_generator(x: Dict[str, Any]) -> str:\n",
    "    if not x[\"intermediate_steps\"]:\n",
    "        return x[\"inputs\"]\n",
    "\n",
    "    next_numbers = re.search(\"^.*?\\(left: (.*?)\\)$\", x[\"intermediate_steps\"][-1][1])\n",
    "\n",
    "    if next_numbers:\n",
    "        return next_numbers.groups()[0]\n",
    "\n",
    "    return x[\"intermediate_steps\"][-1][1]\n",
    "\n",
    "\n",
    "agent = (\n",
    "    {\n",
    "        \"inputs\": lambda x: process_inputs_generator(x),\n",
    "        \"max_num_thoughts\": lambda x: x[\"max_num_thoughts\"],\n",
    "        \"agent_scratchpad\": lambda x: x[\"intermediate_steps\"],\n",
    "    }\n",
    "    | game_of_24_generate_prompt\n",
    "    | ChatOpenAI(model=model_name, temperature=temperature)\n",
    "    | GameOf24GenerateOutputParser()\n",
    ")\n",
    "thought_generator = AgentThoughtGenerator(thought_generation_mode=\"propose\")"
   ],
   "metadata": {
    "collapsed": false,
    "ExecuteTime": {
     "end_time": "2024-02-15T13:43:30.555845Z",
     "start_time": "2024-02-15T13:43:30.523119Z"
    }
   },
   "id": "a98390c37420848e"
  },
  {
   "cell_type": "markdown",
   "source": [
    "#### Defining a trivial tool"
   ],
   "metadata": {
    "collapsed": false
   },
   "id": "a88ba5756700d745"
  },
  {
   "cell_type": "code",
   "execution_count": 27,
   "outputs": [],
   "source": [
    "from langchain.tools import tool\n",
    "\n",
    "\n",
    "@tool\n",
    "def simple_tool(text: str) -> str:\n",
    "    \"\"\"Returns its input.\"\"\"\n",
    "    return text"
   ],
   "metadata": {
    "collapsed": false,
    "ExecuteTime": {
     "end_time": "2024-02-15T13:43:31.352768Z",
     "start_time": "2024-02-15T13:43:31.336267Z"
    }
   },
   "id": "5dbe97d2948a62ca"
  },
  {
   "cell_type": "markdown",
   "source": [
    "### Defining strategy"
   ],
   "metadata": {
    "collapsed": false
   },
   "id": "e8df81acf8ec5b97"
  },
  {
   "cell_type": "code",
   "execution_count": 28,
   "outputs": [],
   "source": [
    "strategy_executor = TreeOfThoughtsDFSStrategy(\n",
    "    thought_generator=thought_generator,\n",
    "    thought_evaluator=thought_evaluator,\n",
    "    agent=agent,\n",
    "    max_num_thoughts=max_num_thoughts,\n",
    "    max_num_steps=max_num_steps,\n",
    "    value_threshold=value_threshold,\n",
    "    max_num_retries_evaluator=num_retries_evaluator,\n",
    "    tools=[simple_tool],\n",
    "    verbose=True,\n",
    "    return_intermediate_steps=True,\n",
    ")"
   ],
   "metadata": {
    "collapsed": false,
    "ExecuteTime": {
     "end_time": "2024-02-15T13:43:32.058038Z",
     "start_time": "2024-02-15T13:43:32.040948Z"
    }
   },
   "id": "3511e290e2ab0d52"
  },
  {
   "cell_type": "markdown",
   "source": [
    "# Running strategy"
   ],
   "metadata": {
    "collapsed": false
   },
   "id": "62a0d689c7a7e50"
  },
  {
   "cell_type": "code",
   "execution_count": 29,
   "outputs": [
    {
     "name": "stderr",
     "output_type": "stream",
     "text": [
      "\u001B[34m\u001B[1mwandb\u001B[0m: Streaming LangChain activity to W&B at https://jetbrains.wandb.io/machine-learning-methods-in-software-engineering/aeliseeva-tot-dfs-game24-test/runs/ndph4e9w\n",
      "\u001B[34m\u001B[1mwandb\u001B[0m: `WandbTracer` is currently in beta.\n",
      "\u001B[34m\u001B[1mwandb\u001B[0m: Please report any issues to https://github.com/wandb/wandb/issues with the tag `langchain`.\n"
     ]
    },
    {
     "name": "stdout",
     "output_type": "stream",
     "text": [
      "\n",
      "\n",
      "\u001B[1m> Entering new TreeOfThoughtsDFSStrategy chain...\u001B[0m\n",
      "\u001B[32;1m\u001B[1;3m\u001B[0m\u001B[36;1m\u001B[1;3m6 + 4 = 10 (left: 6 1 10)\u001B[0m\u001B[32;1m\u001B[1;3m\u001B[0m\u001B[36;1m\u001B[1;3m6 + 1 = 7 (left: 7 10)\u001B[0m\u001B[32;1m\u001B[1;3m\u001B[0m\u001B[36;1m\u001B[1;3m7 - 10 = -3 (left: -3)\u001B[0m\u001B[32;1m\u001B[1;3m\u001B[0m\u001B[36;1m\u001B[1;3m-3 * (-3) = 9\u001B[0m\u001B[32;1m\u001B[1;3m\u001B[0m\u001B[36;1m\u001B[1;3m-3 + 9 = 6\u001B[0m\u001B[32;1m\u001B[1;3m\u001B[0m\u001B[36;1m\u001B[1;3m6 - 9 = -3 (left: -3 -3)\u001B[0m\u001B[32;1m\u001B[1;3m\u001B[0m\u001B[36;1m\u001B[1;3m6 * 1 = 6 (left: 6 10)\u001B[0m\u001B[32;1m\u001B[1;3m\u001B[0m\u001B[36;1m\u001B[1;3m10 - 6 = 4 (left: 4)\u001B[0m\u001B[32;1m\u001B[1;3m\u001B[0m\u001B[36;1m\u001B[1;3m4 * 4 + 4 = 20\u001B[0m\u001B[32;1m\u001B[1;3m\u001B[0m\u001B[36;1m\u001B[1;3m4 * 4 + 4 = 20 is already equal to 24, so no further steps are needed.\u001B[0m\u001B[32;1m\u001B[1;3m\u001B[0m\u001B[36;1m\u001B[1;3mThere are no further steps needed since the input already equals 24.\u001B[0m\u001B[32;1m\u001B[1;3m\u001B[0m\u001B[36;1m\u001B[1;3mNo further steps are needed since the input already equals 24.\u001B[0m\u001B[32;1m\u001B[1;3m\u001B[0m\u001B[36;1m\u001B[1;3mNo further steps are needed since the input already equals 24.\u001B[0m\u001B[32;1m\u001B[1;3m\u001B[0m\u001B[36;1m\u001B[1;3mNo further steps are needed since the input already equals 24.\u001B[0m\u001B[32;1m\u001B[1;3m\u001B[0m\u001B[36;1m\u001B[1;3mNo further steps are needed since the input already equals 24.\u001B[0m\u001B[32;1m\u001B[1;3m\u001B[0m\u001B[36;1m\u001B[1;3mNo further steps are needed since the input already equals 24.\u001B[0m\u001B[32;1m\u001B[1;3m\u001B[0m\u001B[36;1m\u001B[1;3mNo further steps are needed since the input already equals 24.\u001B[0m\u001B[32;1m\u001B[1;3m\u001B[0m\u001B[36;1m\u001B[1;3mNo further steps are needed since the input already equals 24.\u001B[0m\u001B[32;1m\u001B[1;3m\u001B[0m\u001B[36;1m\u001B[1;3mNo further steps are needed since the input already equals 24.\u001B[0m\u001B[32;1m\u001B[1;3m\u001B[0m\u001B[36;1m\u001B[1;3mNo further steps are needed since the input already equals 24.\u001B[0m\u001B[32;1m\u001B[1;3m\u001B[0m\u001B[36;1m\u001B[1;3mNo further steps are needed since the input already equals 24.\u001B[0m\u001B[32;1m\u001B[1;3m\u001B[0m\u001B[36;1m\u001B[1;3mNo further steps are needed since the input already equals 24.\u001B[0m\u001B[32;1m\u001B[1;3m\u001B[0m\u001B[36;1m\u001B[1;3mNo further steps are needed since the input already equals 24.\u001B[0m\u001B[32;1m\u001B[1;3m\u001B[0m\u001B[36;1m\u001B[1;3mNo further steps are needed since the input already equals 24.\u001B[0m\u001B[32;1m\u001B[1;3m\u001B[0m\u001B[36;1m\u001B[1;3mNo further steps are needed since the input already equals 24.\u001B[0m\u001B[32;1m\u001B[1;3m\u001B[0m\u001B[36;1m\u001B[1;3mNo further steps are needed since the input already equals 24.\u001B[0m\u001B[32;1m\u001B[1;3m\u001B[0m\u001B[36;1m\u001B[1;3m10 - 6 = 4 (left: 4 6)\u001B[0m\u001B[32;1m\u001B[1;3m\u001B[0m\u001B[36;1m\u001B[1;3m4 * 6 = 24 (left: 24)\u001B[0m\u001B[32;1m\u001B[1;3m\u001B[0m\n",
      "\n",
      "\u001B[1m> Finished chain.\u001B[0m\n"
     ]
    },
    {
     "data": {
      "text/plain": "{'inputs': '6 6 1 4',\n 'output': '24 + 0 = 24',\n 'intermediate_steps': [(AgentAction(tool='simple_tool', tool_input='6 + 4 = 10 (left: 6 1 10)', log=''),\n   '6 + 4 = 10 (left: 6 1 10)'),\n  (AgentAction(tool='simple_tool', tool_input='10 - 6 = 4 (left: 4 6)', log=''),\n   '10 - 6 = 4 (left: 4 6)'),\n  (AgentAction(tool='simple_tool', tool_input='4 * 6 = 24 (left: 24)', log=''),\n   '4 * 6 = 24 (left: 24)')]}"
     },
     "execution_count": 29,
     "metadata": {},
     "output_type": "execute_result"
    }
   ],
   "source": [
    "strategy_executor.invoke({\"inputs\": \"6 6 1 4\"})"
   ],
   "metadata": {
    "collapsed": false,
    "ExecuteTime": {
     "end_time": "2024-02-15T13:44:25.251800Z",
     "start_time": "2024-02-15T13:43:33.426313Z"
    }
   },
   "id": "59924a439f964794"
  },
  {
   "cell_type": "code",
   "execution_count": 30,
   "outputs": [
    {
     "name": "stdout",
     "output_type": "stream",
     "text": [
      "\n",
      "\n",
      "\u001B[1m> Entering new TreeOfThoughtsDFSStrategy chain...\u001B[0m\n",
      "\u001B[32;1m\u001B[1;3m\u001B[0m\u001B[36;1m\u001B[1;3m6 + 6 = 12 (left: 12 1 4)\u001B[0m\u001B[32;1m\u001B[1;3m\u001B[0m\u001B[36;1m\u001B[1;3m12 + 1 = 13 (left: 4 13)\u001B[0m\u001B[32;1m\u001B[1;3m\u001B[0m\u001B[36;1m\u001B[1;3m4 * 13 = 52 (left: 52)\u001B[0m\u001B[32;1m\u001B[1;3m\u001B[0m\u001B[36;1m\u001B[1;3m12 * 1 = 12 (left: 12 4)\u001B[0m\u001B[32;1m\u001B[1;3m\u001B[0m\u001B[36;1m\u001B[1;3m12 * 4 = 48 (left: 48)\u001B[0m\u001B[32;1m\u001B[1;3m\u001B[0m\n",
      "\n",
      "\u001B[1m> Finished chain.\u001B[0m\n"
     ]
    },
    {
     "data": {
      "text/plain": "{'inputs': '6 6 1 4',\n 'output': '48 / 2 = 24',\n 'intermediate_steps': [(AgentAction(tool='simple_tool', tool_input='6 + 6 = 12 (left: 12 1 4)', log=''),\n   '6 + 6 = 12 (left: 12 1 4)'),\n  (AgentAction(tool='simple_tool', tool_input='12 * 1 = 12 (left: 12 4)', log=''),\n   '12 * 1 = 12 (left: 12 4)'),\n  (AgentAction(tool='simple_tool', tool_input='12 * 4 = 48 (left: 48)', log=''),\n   '12 * 4 = 48 (left: 48)')]}"
     },
     "execution_count": 30,
     "metadata": {},
     "output_type": "execute_result"
    }
   ],
   "source": [
    "strategy_executor.invoke({\"inputs\": \"6 6 1 4\"})"
   ],
   "metadata": {
    "collapsed": false,
    "ExecuteTime": {
     "end_time": "2024-02-15T13:44:38.035239Z",
     "start_time": "2024-02-15T13:44:25.242729Z"
    }
   },
   "id": "a2c9d54d54f43bc1"
  }
 ],
 "metadata": {
  "kernelspec": {
   "display_name": "Python 3",
   "language": "python",
   "name": "python3"
  },
  "language_info": {
   "codemirror_mode": {
    "name": "ipython",
    "version": 2
   },
   "file_extension": ".py",
   "mimetype": "text/x-python",
   "name": "python",
   "nbconvert_exporter": "python",
   "pygments_lexer": "ipython2",
   "version": "2.7.6"
  }
 },
 "nbformat": 4,
 "nbformat_minor": 5
}
