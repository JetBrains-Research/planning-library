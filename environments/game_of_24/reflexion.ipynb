{
 "cells": [
  {
   "cell_type": "markdown",
   "source": [
    "# Game of 24: Reflexion"
   ],
   "metadata": {
    "collapsed": false
   },
   "id": "ff7608527eb4e965"
  },
  {
   "cell_type": "markdown",
   "source": [
    "## Utils"
   ],
   "metadata": {
    "collapsed": false
   },
   "id": "a1d5e1faaf9ad1d3"
  },
  {
   "cell_type": "markdown",
   "source": [
    "### Imports"
   ],
   "metadata": {
    "collapsed": false
   },
   "id": "1902f249d0de1c2f"
  },
  {
   "cell_type": "code",
   "execution_count": 1,
   "id": "initial_id",
   "metadata": {
    "collapsed": true,
    "ExecuteTime": {
     "end_time": "2024-03-06T15:46:17.553688Z",
     "start_time": "2024-03-06T15:46:16.522524Z"
    }
   },
   "outputs": [],
   "source": [
    "from langchain_openai import ChatOpenAI\n",
    "from langchain.agents.format_scratchpad.openai_tools import format_to_openai_tool_messages\n",
    "from environments.game_of_24.common.simple_tools import add, subtract, multiply, divide\n",
    "from environments.game_of_24.common.evaluate_parser import GameOf24EvaluateOutputParser\n",
    "from environments.game_of_24.reflexion.evaluate_prompts import evaluate_prompt\n",
    "from environments.game_of_24.reflexion.generate_prompts import openai_tools_generate_prompt\n",
    "\n",
    "from environments.game_of_24.reflexion.self_reflection_prompts import (\n",
    "    self_reflection_prompt,\n",
    "    GameOf24SelfReflexionOutputParser,\n",
    ")\n",
    "\n",
    "from planning_library.strategies.reflexion import ReflexionStrategy\n",
    "from operator import itemgetter\n",
    "\n",
    "\n",
    "import os\n",
    "\n",
    "%load_ext autoreload\n",
    "%autoreload 2"
   ]
  },
  {
   "cell_type": "markdown",
   "source": [
    "### Setting up logging"
   ],
   "metadata": {
    "collapsed": false
   },
   "id": "2c2b8c18817d13da"
  },
  {
   "cell_type": "code",
   "execution_count": 2,
   "outputs": [],
   "source": [
    "# os.environ[\"LANGCHAIN_WANDB_TRACING\"] = \"true\"\n",
    "# os.environ[\"WANDB_PROJECT\"] = \"aeliseeva-reflexion-game24-test\""
   ],
   "metadata": {
    "collapsed": false,
    "ExecuteTime": {
     "end_time": "2024-03-06T15:46:17.564556Z",
     "start_time": "2024-03-06T15:46:17.554268Z"
    }
   },
   "id": "deb446016899f2b"
  },
  {
   "cell_type": "code",
   "execution_count": 3,
   "outputs": [],
   "source": [
    "os.environ[\"LANGCHAIN_TRACING_V2\"] = \"true\"\n",
    "os.environ[\"LANGCHAIN_PROJECT\"] = \"Reflexion\"\n",
    "os.environ[\"LANGCHAIN_ENDPOINT\"] = \"https://api.smith.langchain.com\""
   ],
   "metadata": {
    "collapsed": false,
    "ExecuteTime": {
     "end_time": "2024-03-06T15:46:17.575433Z",
     "start_time": "2024-03-06T15:46:17.564703Z"
    }
   },
   "id": "8e44e878380dc908"
  },
  {
   "cell_type": "markdown",
   "source": [
    "## Hyperparameters"
   ],
   "metadata": {
    "collapsed": false
   },
   "id": "76f86ff1fff6b2f"
  },
  {
   "cell_type": "code",
   "execution_count": 4,
   "outputs": [],
   "source": [
    "# Reflexion hyperparameters\n",
    "value_threshold = 1.0  # threshold for evaluation; when reached, the loop will exit\n",
    "max_num_iterations = 20  # maximum number of iterations; when reached, the loop will exit\n",
    "\n",
    "# other hyperparameters\n",
    "model_name = \"gpt-3.5-turbo\"\n",
    "temperature = 0.8"
   ],
   "metadata": {
    "collapsed": false,
    "ExecuteTime": {
     "end_time": "2024-03-06T15:46:17.585875Z",
     "start_time": "2024-03-06T15:46:17.575929Z"
    }
   },
   "id": "711000b9d952a294"
  },
  {
   "cell_type": "markdown",
   "source": [
    "## Defining components"
   ],
   "metadata": {
    "collapsed": false
   },
   "id": "4daf328b84bc3660"
  },
  {
   "cell_type": "markdown",
   "source": [
    "### Actor"
   ],
   "metadata": {
    "collapsed": false
   },
   "id": "363a87633864b16f"
  },
  {
   "cell_type": "markdown",
   "source": [
    "Default Actor is powered by [any agent available in LangChain](https://python.langchain.com/docs/modules/agents/agent_types/). Specifically, it expects either [`BaseSingleActionAgent`](https://api.python.langchain.com/en/latest/agents/langchain.agents.agent.BaseSingleActionAgent.html#langchain.agents.agent.BaseSingleActionAgent) or [`BaseMultiAgentAgent`](https://api.python.langchain.com/en/latest/agents/langchain.agents.agent.BaseMultiActionAgent.html#langchain.agents.agent.BaseMultiActionAgent)."
   ],
   "metadata": {
    "collapsed": false
   },
   "id": "4fcf1283040e8e1c"
  },
  {
   "cell_type": "markdown",
   "source": [
    "### Prompt\n",
    "\n",
    "Here is an example of a simple prompt suitable for Game of 24 with Reflexion."
   ],
   "metadata": {
    "collapsed": false
   },
   "id": "6755f268a6bcea17"
  },
  {
   "cell_type": "code",
   "execution_count": 5,
   "outputs": [
    {
     "data": {
      "text/plain": "['agent_scratchpad', 'inputs', 'self_reflections']"
     },
     "execution_count": 5,
     "metadata": {},
     "output_type": "execute_result"
    }
   ],
   "source": [
    "openai_tools_generate_prompt.input_variables"
   ],
   "metadata": {
    "collapsed": false,
    "ExecuteTime": {
     "end_time": "2024-03-06T15:46:18.067376Z",
     "start_time": "2024-03-06T15:46:18.047306Z"
    }
   },
   "id": "3ae3702b1387d48"
  },
  {
   "cell_type": "code",
   "execution_count": 6,
   "outputs": [
    {
     "name": "stdout",
     "output_type": "stream",
     "text": [
      "System: You are an advanced reasoning agent that plays Game of 24. You can improve based on self-reflection.\n",
      "Human: You are given four numbers, and your goal is to obtain 24 from given numbers via basic arithmetic operations. This might be not the first attempt you took, so pay attention to self-reflections about your previous failures. When you're ready to answer, make sure to include a mathematical expression showing how to obtain 24 from given numbers, for instance: '(2 + 2) * (12 / 2) = 24'. \n",
      "Inputs:\n",
      "2 3 6 4\n",
      "Self-reflections:\n",
      "none\n"
     ]
    }
   ],
   "source": [
    "print(openai_tools_generate_prompt.format(inputs=\"2 3 6 4\", self_reflections=\"none\", agent_scratchpad=[]))"
   ],
   "metadata": {
    "collapsed": false,
    "ExecuteTime": {
     "end_time": "2024-03-06T15:46:18.367541Z",
     "start_time": "2024-03-06T15:46:18.349647Z"
    }
   },
   "id": "ff36c39e1add5585"
  },
  {
   "cell_type": "markdown",
   "source": [
    "### Tools\n",
    "\n",
    "For Game of 24, we provide the agent with simple tools performing basic arithmetical operations."
   ],
   "metadata": {
    "collapsed": false
   },
   "id": "67b093b0d04d13f3"
  },
  {
   "cell_type": "code",
   "outputs": [],
   "source": [
    "tools = [add, subtract, multiply, divide]"
   ],
   "metadata": {
    "collapsed": false,
    "ExecuteTime": {
     "end_time": "2024-03-06T15:46:19.081577Z",
     "start_time": "2024-03-06T15:46:19.068936Z"
    }
   },
   "id": "df0d93627e4e5bb4",
   "execution_count": 7
  },
  {
   "cell_type": "markdown",
   "source": [
    "### Putting It All Together\n",
    "\n",
    "Let's use [OpenAI Tools](https://python.langchain.com/docs/modules/agents/agent_types/openai_tools) agent."
   ],
   "metadata": {
    "collapsed": false
   },
   "id": "b49b74a661a38e84"
  },
  {
   "cell_type": "code",
   "outputs": [],
   "source": [
    "from langchain.agents import create_openai_tools_agent\n",
    "\n",
    "\n",
    "agent = create_openai_tools_agent(\n",
    "    llm=ChatOpenAI(model=model_name, temperature=temperature),\n",
    "    tools=tools,\n",
    "    prompt=openai_tools_generate_prompt,\n",
    ")"
   ],
   "metadata": {
    "collapsed": false,
    "ExecuteTime": {
     "end_time": "2024-03-06T15:46:19.818336Z",
     "start_time": "2024-03-06T15:46:19.711761Z"
    }
   },
   "id": "8a44035a7b630a4d",
   "execution_count": 8
  },
  {
   "cell_type": "markdown",
   "source": [
    "### Evaluator\n",
    "\n",
    "Default Evaluator is powered by a [`Runnable`](https://python.langchain.com/docs/expression_language/interface) that takes in:\n",
    "\n",
    "* `inputs`: original inputs\n",
    "* `intermediate_steps`: a sequence of agent actions\n",
    "* `agent_outcome`: final answer\n",
    "\n",
    "It is allowed to return anything. In this case, it returns a float ranging from 0 to 1."
   ],
   "metadata": {
    "collapsed": false
   },
   "id": "3bab4bf13d795da4"
  },
  {
   "cell_type": "markdown",
   "source": [
    "### Prompt"
   ],
   "metadata": {
    "collapsed": false
   },
   "id": "af48b5b3450947fd"
  },
  {
   "cell_type": "code",
   "execution_count": 9,
   "outputs": [
    {
     "data": {
      "text/plain": "['agent_outcome', 'inputs', 'intermediate_steps']"
     },
     "execution_count": 9,
     "metadata": {},
     "output_type": "execute_result"
    }
   ],
   "source": [
    "evaluate_prompt.input_variables"
   ],
   "metadata": {
    "collapsed": false,
    "ExecuteTime": {
     "end_time": "2024-03-06T15:46:21.250024Z",
     "start_time": "2024-03-06T15:46:21.224630Z"
    }
   },
   "id": "eb7dcd3839b1953c"
  },
  {
   "cell_type": "code",
   "execution_count": 10,
   "outputs": [
    {
     "name": "stdout",
     "output_type": "stream",
     "text": [
      "System: You are a helpful assistant that judges whether answers to Game of 24 are correct.\n",
      "Human: Given an input and an answer, give a judgement (sure/impossible) if the answer is correct, i.e. 1) it uses each given number exactly once; 2) it doesn't use any other number; 3) given mathematical expression correctly reaches 24. Here are some examples:\n",
      "\n",
      "Human: Input: 4 4 6 8\n",
      "Answer: (4 + 8) * (6 - 4) = 24\n",
      "Judge:\n",
      "AI: sure\n",
      "Human: Input: 2 9 10 12\n",
      "Answer: 2 * 12 * (10 - 9) = 24\n",
      "Judge:\n",
      "AI: sure\n",
      "Human: Input: 4 9 10 13\n",
      "Answer: (13 - 9) * (10 - 4) = 24\n",
      "Judge:\n",
      "AI: sure\n",
      "Human: Input: 4 4 6 8\n",
      "Answer: (4 + 8) * (6 - 4) + 1 = 25\n",
      "Judge:\n",
      "AI: impossible\n",
      "Human: Input: 2 9 10 12\n",
      "Answer: 2 * 12 * (10 - 9) = 24\n",
      "Judge:\n",
      "AI: sure\n",
      "Human: Input: 2 9 10 12\n",
      "Answer: 2 * (12 - 10) = 24\n",
      "Judge:\n",
      "AI: impossible\n",
      "Human: Input: 4 9 10 13\n",
      "Answer: (13 - 4) * (10 - 9) = 24\n",
      "Judge:\n",
      "AI: impossible\n",
      "Human: Inputs: 2 3 6 4\n",
      "Human: Answer: 2 + 3 + 6 + 4 = 24\n",
      "Judge:\n"
     ]
    }
   ],
   "source": [
    "print(evaluate_prompt.format(inputs=\"2 3 6 4\", agent_outcome=\"2 + 3 + 6 + 4 = 24\", intermediate_steps=[]))"
   ],
   "metadata": {
    "collapsed": false,
    "ExecuteTime": {
     "end_time": "2024-03-06T15:46:21.694538Z",
     "start_time": "2024-03-06T15:46:21.671550Z"
    }
   },
   "id": "5067a1639ff3c9ad"
  },
  {
   "cell_type": "markdown",
   "source": [
    "### Putting It All Together"
   ],
   "metadata": {
    "collapsed": false
   },
   "id": "ee2c888af93760e1"
  },
  {
   "cell_type": "code",
   "execution_count": 11,
   "outputs": [],
   "source": [
    "evaluator_runnable = (\n",
    "    {\n",
    "        \"inputs\": itemgetter(\"inputs\"),\n",
    "        \"intermediate_steps\": lambda x: format_to_openai_tool_messages(x[\"intermediate_steps\"]),\n",
    "        \"agent_outcome\": lambda x: x[\"agent_outcome\"].return_values[\"output\"],\n",
    "    }\n",
    "    | evaluate_prompt\n",
    "    | ChatOpenAI(model=\"gpt-4-0125-preview\", temperature=temperature)\n",
    "    | GameOf24EvaluateOutputParser()\n",
    ")"
   ],
   "metadata": {
    "collapsed": false,
    "ExecuteTime": {
     "end_time": "2024-03-06T15:46:22.753616Z",
     "start_time": "2024-03-06T15:46:22.728268Z"
    }
   },
   "id": "dc6a14af7a1cc8de"
  },
  {
   "cell_type": "markdown",
   "source": [
    "### Self-Reflection"
   ],
   "metadata": {
    "collapsed": false
   },
   "id": "eb2c9a901edf216e"
  },
  {
   "cell_type": "markdown",
   "source": [
    "Default Self-Reflection is powered by a [`Runnable`](https://python.langchain.com/docs/expression_language/interface) that takes in:\n",
    "\n",
    "* `inputs`: original inputs\n",
    "* `intermediate_steps`: a sequence of agent actions\n",
    "* `agent_outcome`: final answer\n",
    "\n",
    "And returns a single self-reflection: high-level plan of what went wrong in a current trial."
   ],
   "metadata": {
    "collapsed": false
   },
   "id": "d1703c9750ab7204"
  },
  {
   "cell_type": "markdown",
   "source": [
    "### Prompt"
   ],
   "metadata": {
    "collapsed": false
   },
   "id": "d60bda5616554eed"
  },
  {
   "cell_type": "code",
   "execution_count": 12,
   "outputs": [
    {
     "data": {
      "text/plain": "['agent_outcome', 'inputs', 'intermediate_steps']"
     },
     "execution_count": 12,
     "metadata": {},
     "output_type": "execute_result"
    }
   ],
   "source": [
    "self_reflection_prompt.input_variables"
   ],
   "metadata": {
    "collapsed": false,
    "ExecuteTime": {
     "end_time": "2024-03-06T15:46:28.668938Z",
     "start_time": "2024-03-06T15:46:28.650274Z"
    }
   },
   "id": "796866acdeadec86"
  },
  {
   "cell_type": "code",
   "execution_count": 13,
   "outputs": [
    {
     "name": "stdout",
     "output_type": "stream",
     "text": [
      "System: You are an advanced reasoning agent that can self-reflect on their shortcomings when solving reasoning tasks.\n",
      "Human: You will be given your previous trial in Game of 24, where you had to use basic arithmetic operations (+ - * /) with given numbers to obtain 24. You were unsuccessful. In a few sentences, diagnose a possible reason for failure and devise a new, concise, high level plan that aims to mitigate the same failure. Use complete sentences.\n",
      "Human: Input: 2 3 6 4\n",
      "Human: Answer: 2 + 3 + 4 + 6 = 24\n",
      "Self-reflection:\n"
     ]
    }
   ],
   "source": [
    "print(\n",
    "    self_reflection_prompt.format(\n",
    "        inputs=\"2 3 6 4\",\n",
    "        intermediate_steps=[],\n",
    "        agent_outcome=\"2 + 3 + 4 + 6 = 24\",\n",
    "    )\n",
    ")"
   ],
   "metadata": {
    "collapsed": false,
    "ExecuteTime": {
     "end_time": "2024-03-06T15:46:28.913175Z",
     "start_time": "2024-03-06T15:46:28.897701Z"
    }
   },
   "id": "c2fd9b4d747fb08a"
  },
  {
   "cell_type": "markdown",
   "source": [
    "### Putting It All Together"
   ],
   "metadata": {
    "collapsed": false
   },
   "id": "3b9671757930b783"
  },
  {
   "cell_type": "code",
   "execution_count": 14,
   "outputs": [],
   "source": [
    "self_reflection_runnable = (\n",
    "    {\n",
    "        \"inputs\": itemgetter(\"inputs\"),\n",
    "        \"intermediate_steps\": lambda x: format_to_openai_tool_messages(x[\"intermediate_steps\"]),\n",
    "        \"agent_outcome\": lambda x: x[\"agent_outcome\"].return_values[\"output\"],\n",
    "    }\n",
    "    | self_reflection_prompt\n",
    "    | ChatOpenAI(model=model_name, temperature=temperature)\n",
    "    | GameOf24SelfReflexionOutputParser()\n",
    ")"
   ],
   "metadata": {
    "collapsed": false,
    "ExecuteTime": {
     "end_time": "2024-03-06T15:46:32.309337Z",
     "start_time": "2024-03-06T15:46:32.290245Z"
    }
   },
   "id": "fd75de10e82a649a"
  },
  {
   "cell_type": "markdown",
   "source": [
    "## Defining strategy"
   ],
   "metadata": {
    "collapsed": false
   },
   "id": "c4deafdf01a26c7e"
  },
  {
   "cell_type": "code",
   "execution_count": 15,
   "outputs": [],
   "source": [
    "reflexion = ReflexionStrategy.create(\n",
    "    agent=agent, tools=tools, evaluator_runnable=evaluator_runnable, self_reflection_runnable=self_reflection_runnable\n",
    ")"
   ],
   "metadata": {
    "collapsed": false,
    "ExecuteTime": {
     "end_time": "2024-03-06T15:46:32.954535Z",
     "start_time": "2024-03-06T15:46:32.938689Z"
    }
   },
   "id": "26931470b1253194"
  },
  {
   "cell_type": "markdown",
   "source": [
    "## Invoking strategy"
   ],
   "metadata": {
    "collapsed": false
   },
   "id": "f47dd12321ab7abb"
  },
  {
   "cell_type": "code",
   "execution_count": 18,
   "outputs": [
    {
     "data": {
      "text/plain": "{'inputs': {'inputs': '1 1 4 6'},\n 'agent_outcome': AgentFinish(return_values={'output': 'To obtain 24 from the numbers 1, 1, 4, and 6, you can use the following expression: \\n\\n(6 * 4) * (1 + 1) = 24'}, log='To obtain 24 from the numbers 1, 1, 4, and 6, you can use the following expression: \\n\\n(6 * 4) * (1 + 1) = 24'),\n 'evaluator_score': 1.0,\n 'evaluator_should_continue': False,\n 'self_reflections': ['I failed to find a solution in my previous attempt due to a lack of considering the straightforward multiplication operation to reach the target number. To improve my approach, I should always start by trying basic operations like multiplication when faced with multiple numbers, as they can often lead to the desired outcome efficiently.',\n  'Great job on finding a solution to the Game of 24 task this time! Your new approach efficiently utilized multiplication and division operations to reach the target number. In your self-reflection, you can consider exploring different combinations of operations or breaking down the problem differently to enhance your problem-solving skills further. Keep up the good work!',\n  'Thank you for the feedback and guidance. I will continue to explore different strategies and combinations of operations to enhance my problem-solving skills further. I will also focus on breaking down the problem differently to improve my efficiency in finding solutions.'],\n 'intermediate_steps': [(OpenAIToolAgentAction(tool='multiply', tool_input={'number1': 6, 'number2': 4}, log=\"\\nInvoking: `multiply` with `{'number1': 6, 'number2': 4}`\\n\\n\\n\", message_log=[AIMessageChunk(content='', additional_kwargs={'tool_calls': [{'index': 0, 'id': 'call_Mo70b7yic34ja32lAczoEegx', 'function': {'arguments': '{\"number1\": 6, \"number2\": 4}', 'name': 'multiply'}, 'type': 'function'}, {'index': 1, 'id': 'call_niA25P0cmVKM9ZG6032W23WL', 'function': {'arguments': '{\"number1\": 1, \"number2\": 1}', 'name': 'add'}, 'type': 'function'}, {'index': 2, 'id': 'call_JToxkMFtQxfpULV3NZ9Qgiia', 'function': {'arguments': '{\"number1\": 24, \"number2\": 1}', 'name': 'multiply'}, 'type': 'function'}]})], tool_call_id='call_Mo70b7yic34ja32lAczoEegx'),\n   '24.0'),\n  (OpenAIToolAgentAction(tool='add', tool_input={'number1': 1, 'number2': 1}, log=\"\\nInvoking: `add` with `{'number1': 1, 'number2': 1}`\\n\\n\\n\", message_log=[AIMessageChunk(content='', additional_kwargs={'tool_calls': [{'index': 0, 'id': 'call_Mo70b7yic34ja32lAczoEegx', 'function': {'arguments': '{\"number1\": 6, \"number2\": 4}', 'name': 'multiply'}, 'type': 'function'}, {'index': 1, 'id': 'call_niA25P0cmVKM9ZG6032W23WL', 'function': {'arguments': '{\"number1\": 1, \"number2\": 1}', 'name': 'add'}, 'type': 'function'}, {'index': 2, 'id': 'call_JToxkMFtQxfpULV3NZ9Qgiia', 'function': {'arguments': '{\"number1\": 24, \"number2\": 1}', 'name': 'multiply'}, 'type': 'function'}]})], tool_call_id='call_niA25P0cmVKM9ZG6032W23WL'),\n   '2.0'),\n  (OpenAIToolAgentAction(tool='multiply', tool_input={'number1': 24, 'number2': 1}, log=\"\\nInvoking: `multiply` with `{'number1': 24, 'number2': 1}`\\n\\n\\n\", message_log=[AIMessageChunk(content='', additional_kwargs={'tool_calls': [{'index': 0, 'id': 'call_Mo70b7yic34ja32lAczoEegx', 'function': {'arguments': '{\"number1\": 6, \"number2\": 4}', 'name': 'multiply'}, 'type': 'function'}, {'index': 1, 'id': 'call_niA25P0cmVKM9ZG6032W23WL', 'function': {'arguments': '{\"number1\": 1, \"number2\": 1}', 'name': 'add'}, 'type': 'function'}, {'index': 2, 'id': 'call_JToxkMFtQxfpULV3NZ9Qgiia', 'function': {'arguments': '{\"number1\": 24, \"number2\": 1}', 'name': 'multiply'}, 'type': 'function'}]})], tool_call_id='call_JToxkMFtQxfpULV3NZ9Qgiia'),\n   '24.0')],\n 'iteration': 4}"
     },
     "execution_count": 18,
     "metadata": {},
     "output_type": "execute_result"
    }
   ],
   "source": [
    "reflexion.invoke(\n",
    "    {\"inputs\": {\"inputs\": \"1 1 4 6\"}},\n",
    "    {\"recursion_limit\": 1000},\n",
    ")"
   ],
   "metadata": {
    "collapsed": false,
    "ExecuteTime": {
     "end_time": "2024-03-06T15:15:51.029843Z",
     "start_time": "2024-03-06T15:15:07.335326Z"
    }
   },
   "id": "a04edc6edcc81f6e"
  }
 ],
 "metadata": {
  "kernelspec": {
   "display_name": "Python 3",
   "language": "python",
   "name": "python3"
  },
  "language_info": {
   "codemirror_mode": {
    "name": "ipython",
    "version": 2
   },
   "file_extension": ".py",
   "mimetype": "text/x-python",
   "name": "python",
   "nbconvert_exporter": "python",
   "pygments_lexer": "ipython2",
   "version": "2.7.6"
  }
 },
 "nbformat": 4,
 "nbformat_minor": 5
}
