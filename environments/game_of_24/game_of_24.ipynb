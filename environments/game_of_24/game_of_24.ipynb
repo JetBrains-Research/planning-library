{
 "cells": [
  {
   "cell_type": "markdown",
   "source": [
    "# Game of 24: ToT + DFS"
   ],
   "metadata": {
    "collapsed": false
   },
   "id": "3f870728b8f42286"
  },
  {
   "cell_type": "markdown",
   "source": [
    "## Utils"
   ],
   "metadata": {
    "collapsed": false
   },
   "id": "ac15008844246559"
  },
  {
   "cell_type": "markdown",
   "source": [
    "### Imports"
   ],
   "metadata": {
    "collapsed": false
   },
   "id": "d8bf9aec03e431bc"
  },
  {
   "cell_type": "code",
   "execution_count": 28,
   "outputs": [],
   "source": [
    "from langchain.agents.format_scratchpad.openai_tools import format_to_openai_tool_messages\n",
    "from langchain.agents.output_parsers.openai_tools import OpenAIToolsAgentOutputParser\n",
    "from langchain_openai import ChatOpenAI\n",
    "from environments.game_of_24.evaluate_utils import GameOf24EvaluateOutputParser, game_of_24_evaluate_prompt\n",
    "from environments.game_of_24.game_24_utils import game_of_24_prompt\n",
    "from environments.game_of_24.generate_utils import GameOf24GenerateOutputParser, game_of_24_generate_prompt\n",
    "from planning_library.custom_agent_executor.strategies import TreeOfThoughtsDFSStrategy\n",
    "from planning_library.custom_agent_executor.strategies.toolllm.thought_generators import LLMThoughtGenerator\n",
    "from planning_library.custom_agent_executor.strategies.toolllm.thought_evaluators import LLMThoughtEvaluator\n",
    "import os\n",
    "import re"
   ],
   "metadata": {
    "collapsed": false,
    "ExecuteTime": {
     "end_time": "2024-02-13T15:23:33.470288Z",
     "start_time": "2024-02-13T15:23:33.453545Z"
    }
   },
   "id": "474dd398c710fcd4"
  },
  {
   "cell_type": "markdown",
   "source": [
    "### Enabling W&B "
   ],
   "metadata": {
    "collapsed": false
   },
   "id": "9d9280367771d5ac"
  },
  {
   "cell_type": "code",
   "execution_count": 29,
   "outputs": [],
   "source": [
    "os.environ[\"LANGCHAIN_WANDB_TRACING\"] = \"true\""
   ],
   "metadata": {
    "collapsed": false,
    "ExecuteTime": {
     "end_time": "2024-02-13T15:23:34.429480Z",
     "start_time": "2024-02-13T15:23:34.417064Z"
    }
   },
   "id": "1fbb7e4825ad81c"
  },
  {
   "cell_type": "markdown",
   "source": [
    "### Defining components"
   ],
   "metadata": {
    "collapsed": false
   },
   "id": "859759de399b1fff"
  },
  {
   "cell_type": "markdown",
   "source": [
    "#### Hyperparameters"
   ],
   "metadata": {
    "collapsed": false
   },
   "id": "fc07acf4b3498bc7"
  },
  {
   "cell_type": "code",
   "execution_count": 30,
   "outputs": [],
   "source": [
    "# ToT hyperparameters\n",
    "max_num_thoughts = 3  # number of thoughts to generate at each iteration\n",
    "max_num_steps = 20  # total maximum number of iterations\n",
    "value_threshold = 0.49  # threshold for evaluation; only thoughts with value > value_threshold will be explored\n",
    "\n",
    "# other hyperparameters\n",
    "model_name = \"gpt-3.5-turbo\"\n",
    "temperature = 0.8"
   ],
   "metadata": {
    "collapsed": false,
    "ExecuteTime": {
     "end_time": "2024-02-13T15:23:36.324669Z",
     "start_time": "2024-02-13T15:23:36.313175Z"
    }
   },
   "id": "598775feff9edfa7"
  },
  {
   "cell_type": "markdown",
   "source": [
    "#### Thought Evaluator"
   ],
   "metadata": {
    "collapsed": false
   },
   "id": "53f28aee01f3bc6c"
  },
  {
   "cell_type": "markdown",
   "source": [
    "Evaluation prompt is adapted from the [original implementation](https://github.com/princeton-nlp/tree-of-thought-llm/blob/master/src/tot/prompts/game24.py)."
   ],
   "metadata": {
    "collapsed": false
   },
   "id": "c5960a66469d3406"
  },
  {
   "cell_type": "code",
   "execution_count": 24,
   "outputs": [
    {
     "data": {
      "text/plain": "['thought']"
     },
     "execution_count": 24,
     "metadata": {},
     "output_type": "execute_result"
    }
   ],
   "source": [
    "game_of_24_evaluate_prompt.input_variables"
   ],
   "metadata": {
    "collapsed": false,
    "ExecuteTime": {
     "end_time": "2024-02-13T15:22:06.920783Z",
     "start_time": "2024-02-13T15:22:06.909275Z"
    }
   },
   "id": "2808c23f9bca477"
  },
  {
   "cell_type": "code",
   "execution_count": 27,
   "outputs": [
    {
     "name": "stdout",
     "output_type": "stream",
     "text": [
      "System: You are a helpful assistant that judges whether given numbers can reach 24.\n",
      "Human: Evaluate if given numbers can reach 24 (sure/likely/impossible)\n",
      "Human: Input: 2 + 8 = 10 (left: 10 14)\n",
      "Judge:\n",
      "AI: 10 + 14 = 24\n",
      "sure\n",
      "Human: Input: 2 * 6 = 12 (left: 11 12)\n",
      "Judge:\n",
      "AI: 11 + 12 = 23\n",
      "12 - 11 = 1\n",
      "11 * 12 = 132\n",
      "11 / 12 = 0.91\n",
      "impossible\n",
      "Human: Input: 2 + 2 = 4 (left: 4 4 10)\n",
      "Judge:\n",
      "AI: 4 + 4 + 10 = 8 + 10 = 18\n",
      "4 * 10 - 4 = 40 - 4 = 36\n",
      "(10 - 4) * 4 = 6 * 4 = 24\n",
      "sure\n",
      "Human: Input: 10 + 1 = 11 (left: 4 9 11)\n",
      "Judge:\n",
      "AI: 9 + 11 + 4 = 20 + 4 = 24\n",
      "sure\n",
      "Human: Input: 2 * 4 = 8 (left: 5 7 8)\n",
      "Judge:\n",
      "AI: 5 + 7 + 8 = 12 + 8 = 20\n",
      "(8 - 5) * 7 = 3 * 7 = 21\n",
      "I cannot obtain 24 now, but numbers are within a reasonable range\n",
      "likely\n",
      "Human: Input: 2 * 3 = 6 (left: 5 6 6)\n",
      "Judge:\n",
      "AI: 5 + 6 + 6 = 17\n",
      "(6 - 5) * 6 = 1 * 6 = 6\n",
      "I cannot obtain 24 now, but numbers are within a reasonable range\n",
      "likely\n",
      "Human: Input: 2 * 5 = 10 (left: 10 10 11)\n",
      "Judge:\n",
      "AI: 10 + 10 + 11 = 31\n",
      "(11 - 10) * 10 = 10\n",
      "10 10 10 are all too big\n",
      "impossible\n",
      "Human: Input: 5 - 2 = 3 (left: 1 3 3)\n",
      "Judge:\n",
      "AI: 1 * 3 * 3 = 9\n",
      "(1 + 3) * 3 = 12\n",
      "1 3 3 are all too small\n",
      "impossible\n",
      "Human: Input: 2 + 3 = 5 (left: 6 5 4)\n",
      "Judge:\n"
     ]
    }
   ],
   "source": [
    "print(game_of_24_evaluate_prompt.format(thought=\"2 + 3 = 5 (left: 6 5 4)\"))"
   ],
   "metadata": {
    "collapsed": false,
    "ExecuteTime": {
     "end_time": "2024-02-13T15:22:51.878457Z",
     "start_time": "2024-02-13T15:22:51.858808Z"
    }
   },
   "id": "222424f58d1a6c79"
  },
  {
   "cell_type": "code",
   "execution_count": 5,
   "outputs": [],
   "source": [
    "evaluator_chain = (\n",
    "    {\n",
    "        \"inputs\": lambda x: x[\"inputs\"] if not x[\"current_state\"] else x[\"current_state\"][-1],\n",
    "        \"thought\": lambda x: x[\"thought\"],\n",
    "    }\n",
    "    | game_of_24_evaluate_prompt\n",
    "    | ChatOpenAI(model=model_name, temperature=temperature)\n",
    "    | GameOf24EvaluateOutputParser()\n",
    ")\n",
    "thought_evaluator = LLMThoughtEvaluator(llm_chain=evaluator_chain)"
   ],
   "metadata": {
    "collapsed": false,
    "ExecuteTime": {
     "end_time": "2024-02-13T15:18:00.820036Z",
     "start_time": "2024-02-13T15:18:00.793488Z"
    }
   },
   "id": "564d2f45cbc7a85e"
  },
  {
   "cell_type": "markdown",
   "source": [],
   "metadata": {
    "collapsed": false
   },
   "id": "fba9e841206a51c2"
  },
  {
   "cell_type": "markdown",
   "source": [
    "#### Thought Generator"
   ],
   "metadata": {
    "collapsed": false
   },
   "id": "89745d9b52f2d8c1"
  },
  {
   "cell_type": "markdown",
   "source": [
    "Generation prompt is adapted from the [original implementation](https://github.com/princeton-nlp/tree-of-thought-llm/blob/master/src/tot/prompts/game24.py)."
   ],
   "metadata": {
    "collapsed": false
   },
   "id": "32ea39d412cdb68f"
  },
  {
   "cell_type": "code",
   "execution_count": 19,
   "outputs": [
    {
     "data": {
      "text/plain": "['inputs', 'max_num_thoughts']"
     },
     "execution_count": 19,
     "metadata": {},
     "output_type": "execute_result"
    }
   ],
   "source": [
    "game_of_24_generate_prompt.input_variables"
   ],
   "metadata": {
    "collapsed": false,
    "ExecuteTime": {
     "end_time": "2024-02-13T15:21:11.746165Z",
     "start_time": "2024-02-13T15:21:11.736353Z"
    }
   },
   "id": "a63ad4e5e3fb2873"
  },
  {
   "cell_type": "code",
   "execution_count": 23,
   "outputs": [
    {
     "name": "stdout",
     "output_type": "stream",
     "text": [
      "System: You are a helpful assistant that proposes next steps in Game of 24.\n",
      "Human: Use numbers and basic arithmetic operations (+ - * /) to obtain 24. Each step, you are only allowed to choose two of the remaining numbers to obtain a new number.\n",
      "Human: Input: 2 8 8 14\n",
      "8 variants for a possible next step:\n",
      "AI: 2 + 8 = 10 (left: 8 10 14)\n",
      "8 / 2 = 4 (left: 4 8 14)\n",
      "14 + 2 = 16 (left: 8 8 16)\n",
      "2 * 8 = 16 (left: 8 14 16)\n",
      "8 - 2 = 6 (left: 6 8 14)\n",
      "14 - 8 = 6 (left: 2 6 8)\n",
      "14 /  2 = 7 (left: 7 8 8)\n",
      "14 - 2 = 12 (left: 8 8 12)\n",
      "Human: Input: 2 2 3 4\n",
      "3 variants for a possible next step:\n"
     ]
    }
   ],
   "source": [
    "print(game_of_24_generate_prompt.format(inputs=\"2 2 3 4\", max_num_thoughts=\"3\"))"
   ],
   "metadata": {
    "collapsed": false,
    "ExecuteTime": {
     "end_time": "2024-02-13T15:21:57.177495Z",
     "start_time": "2024-02-13T15:21:57.166161Z"
    }
   },
   "id": "82758a22a9043e1f"
  },
  {
   "cell_type": "code",
   "execution_count": 7,
   "id": "initial_id",
   "metadata": {
    "collapsed": true,
    "ExecuteTime": {
     "end_time": "2024-02-13T15:18:08.102907Z",
     "start_time": "2024-02-13T15:18:08.090443Z"
    }
   },
   "outputs": [],
   "source": [
    "generator_chain = (\n",
    "    {\n",
    "        \"inputs\": lambda x: x[\"inputs\"]\n",
    "        if not x[\"current_state\"]\n",
    "        else re.search(r\"^.*?\\(left: (.*?)\\)$\", x[\"current_state\"][-1]).groups()[0],\n",
    "        \"max_num_thoughts\": lambda x: x[\"max_num_thoughts\"],\n",
    "    }\n",
    "    | game_of_24_generate_prompt\n",
    "    | ChatOpenAI(model=model_name, temperature=temperature)\n",
    "    | GameOf24GenerateOutputParser(k=max_num_thoughts)\n",
    ")\n",
    "thought_generator = LLMThoughtGenerator(llm_chain=generator_chain, thought_generation_mode=\"propose\")"
   ]
  },
  {
   "cell_type": "markdown",
   "source": [
    "#### Agent"
   ],
   "metadata": {
    "collapsed": false
   },
   "id": "1e66b2d0ff6d78d1"
  },
  {
   "cell_type": "markdown",
   "source": [
    "Agent prompt is adapted from the [original implementation](https://github.com/princeton-nlp/tree-of-thought-llm/blob/master/src/tot/prompts/game24.py)."
   ],
   "metadata": {
    "collapsed": false
   },
   "id": "f80ba570cc930f9e"
  },
  {
   "cell_type": "code",
   "execution_count": 18,
   "outputs": [
    {
     "data": {
      "text/plain": "['inputs']"
     },
     "execution_count": 18,
     "metadata": {},
     "output_type": "execute_result"
    }
   ],
   "source": [
    "game_of_24_prompt.input_variables"
   ],
   "metadata": {
    "collapsed": false,
    "ExecuteTime": {
     "end_time": "2024-02-13T15:21:04.594517Z",
     "start_time": "2024-02-13T15:21:04.587182Z"
    }
   },
   "id": "7e99e6f67ec061ce"
  },
  {
   "cell_type": "code",
   "execution_count": 15,
   "outputs": [
    {
     "name": "stdout",
     "output_type": "stream",
     "text": [
      "System: You are a helpful assistant that plays Game of 24.\n",
      "Human: Use numbers and basic arithmetic operations (+ - * /) to obtain 24. Each step, you are only allowed to choose two of the remaining numbers to obtain a new number.\n",
      "Human: Input: 4 4 6 8\n",
      "AI: 4 + 8 = 12 (left: 4 6 12)\n",
      "6 - 4 = 2 (left: 2 12)\n",
      "2 * 12 = 24 (left: 24)\n",
      "Answer: (6 - 4) * (4 + 8) = 24\n",
      "Human: Input: 2 9 10 12\n",
      "AI: 12 * 2 = 24 (left: 9 10 24)\n",
      "10 - 9 = 1 (left: 1 24)\n",
      "24 * 1 = 24 (left: 24)\n",
      "Answer: (12 * 2) * (10 - 9) = 24\n",
      "Human: Input: 4 9 10 13\n",
      "AI: 13 - 10 = 3 (left: 3 4 9)\n",
      "9 - 3 = 6 (left: 4 6)\n",
      "4 * 6 = 24 (left: 24)\n",
      "Answer: 4 * (9 - (13 - 10)) = 24\n",
      "Human: Input: 1 4 8 8\n",
      "AI: 8 / 4 = 2 (left: 1 2 8)\n",
      "1 + 2 = 3 (left: 3 8)\n",
      "3 * 8 = 24 (left: 24)\n",
      "Answer: (1 + 8 / 4) * 8 = 24\n",
      "Human: Input: 5 5 5 9\n",
      "AI: 5 + 5 = 10 (left: 5 9 10)\n",
      "10 + 5 = 15 (left: 9 15)\n",
      "15 + 9 = 24 (left: 24)\n",
      "Answer: ((5 + 5) + 5) + 9 = 24\n",
      "Human: Input: 2 2 3 4\n"
     ]
    }
   ],
   "source": [
    "print(game_of_24_prompt.format(inputs=\"2 2 3 4\"))"
   ],
   "metadata": {
    "collapsed": false,
    "ExecuteTime": {
     "end_time": "2024-02-13T15:20:38.579676Z",
     "start_time": "2024-02-13T15:20:38.575868Z"
    }
   },
   "id": "382e8616265327e3"
  },
  {
   "cell_type": "code",
   "execution_count": 9,
   "outputs": [],
   "source": [
    "agent = (\n",
    "    {\n",
    "        \"inputs\": lambda x: x[\"inputs\"],\n",
    "        \"agent_scratchpad\": lambda x: format_to_openai_tool_messages(x[\"intermediate_steps\"]),\n",
    "    }\n",
    "    | game_of_24_prompt\n",
    "    | ChatOpenAI(model=model_name, temperature=temperature)\n",
    "    | OpenAIToolsAgentOutputParser()\n",
    ")"
   ],
   "metadata": {
    "collapsed": false,
    "ExecuteTime": {
     "end_time": "2024-02-13T15:18:15.261847Z",
     "start_time": "2024-02-13T15:18:15.241279Z"
    }
   },
   "id": "8ff282e113461e53"
  },
  {
   "cell_type": "markdown",
   "source": [
    "### Defining strategy"
   ],
   "metadata": {
    "collapsed": false
   },
   "id": "e8df81acf8ec5b97"
  },
  {
   "cell_type": "code",
   "execution_count": 10,
   "outputs": [],
   "source": [
    "strategy_executor = TreeOfThoughtsDFSStrategy(\n",
    "    thought_generator=thought_generator,\n",
    "    thought_evaluator=thought_evaluator,\n",
    "    agent=agent,\n",
    "    max_num_thoughts=max_num_thoughts,\n",
    "    max_num_steps=max_num_steps,\n",
    "    value_threshold=value_threshold,\n",
    "    tools=[],\n",
    "    verbose=True,\n",
    ")"
   ],
   "metadata": {
    "collapsed": false,
    "ExecuteTime": {
     "end_time": "2024-02-13T15:18:17.805427Z",
     "start_time": "2024-02-13T15:18:17.794856Z"
    }
   },
   "id": "3511e290e2ab0d52"
  },
  {
   "cell_type": "markdown",
   "source": [
    "# Running strategy"
   ],
   "metadata": {
    "collapsed": false
   },
   "id": "62a0d689c7a7e50"
  },
  {
   "cell_type": "code",
   "execution_count": null,
   "outputs": [],
   "source": [
    "strategy_executor.invoke({\"inputs\": \"5 3 4 5\"})"
   ],
   "metadata": {
    "collapsed": false
   },
   "id": "a17d8ba16ff53988"
  }
 ],
 "metadata": {
  "kernelspec": {
   "display_name": "Python 3",
   "language": "python",
   "name": "python3"
  },
  "language_info": {
   "codemirror_mode": {
    "name": "ipython",
    "version": 2
   },
   "file_extension": ".py",
   "mimetype": "text/x-python",
   "name": "python",
   "nbconvert_exporter": "python",
   "pygments_lexer": "ipython2",
   "version": "2.7.6"
  }
 },
 "nbformat": 4,
 "nbformat_minor": 5
}
