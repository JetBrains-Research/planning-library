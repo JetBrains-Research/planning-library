{
 "cells": [
  {
   "cell_type": "markdown",
   "source": [
    "# Game of 24: ToT + DFS"
   ],
   "metadata": {
    "collapsed": false
   },
   "id": "3f870728b8f42286"
  },
  {
   "cell_type": "markdown",
   "source": [
    "## Utils"
   ],
   "metadata": {
    "collapsed": false
   },
   "id": "ac15008844246559"
  },
  {
   "cell_type": "markdown",
   "source": [
    "### Imports"
   ],
   "metadata": {
    "collapsed": false
   },
   "id": "d8bf9aec03e431bc"
  },
  {
   "cell_type": "code",
   "execution_count": 1,
   "outputs": [],
   "source": [
    "from langchain_openai import ChatOpenAI\n",
    "from planning_library.strategies import TreeOfThoughtsDFSStrategy\n",
    "from environments.game_of_24.common.environment import GameOf24Env\n",
    "import os\n",
    "from planning_library.strategies.tot_dfs.components import ThoughtEvaluator, ThoughtGenerator\n",
    "from textwrap import dedent\n",
    "\n",
    "%load_ext autoreload\n",
    "%autoreload 2"
   ],
   "metadata": {
    "collapsed": false,
    "ExecuteTime": {
     "end_time": "2024-04-17T17:01:49.125155Z",
     "start_time": "2024-04-17T17:01:48.094919Z"
    }
   },
   "id": "c94d0bfae6ac52b7"
  },
  {
   "cell_type": "markdown",
   "source": [
    "### Enabling logging"
   ],
   "metadata": {
    "collapsed": false
   },
   "id": "a8cba987fa8f60c4"
  },
  {
   "cell_type": "code",
   "execution_count": 2,
   "outputs": [],
   "source": [
    "os.environ[\"LANGCHAIN_TRACING_V2\"] = \"true\"\n",
    "os.environ[\"LANGCHAIN_PROJECT\"] = \"ToT (new) + Game of 24 test\"\n",
    "os.environ[\"LANGCHAIN_ENDPOINT\"] = \"https://api.smith.langchain.com\""
   ],
   "metadata": {
    "collapsed": false,
    "ExecuteTime": {
     "end_time": "2024-04-17T17:01:49.135527Z",
     "start_time": "2024-04-17T17:01:49.125568Z"
    }
   },
   "id": "7d8838345955d3c2"
  },
  {
   "cell_type": "markdown",
   "source": [
    "## Environment"
   ],
   "metadata": {
    "collapsed": false
   },
   "id": "a533af979c94f569"
  },
  {
   "cell_type": "code",
   "outputs": [],
   "source": [
    "env = GameOf24Env()"
   ],
   "metadata": {
    "collapsed": false,
    "ExecuteTime": {
     "end_time": "2024-04-17T17:01:49.146214Z",
     "start_time": "2024-04-17T17:01:49.135746Z"
    }
   },
   "id": "d3c7e376d173b5b6",
   "execution_count": 3
  },
  {
   "cell_type": "markdown",
   "source": [
    "## Defining components"
   ],
   "metadata": {
    "collapsed": false
   },
   "id": "99565d7bf09a28b9"
  },
  {
   "cell_type": "markdown",
   "source": [
    "### Hyperparameters"
   ],
   "metadata": {
    "collapsed": false
   },
   "id": "783935cd06fec74d"
  },
  {
   "cell_type": "code",
   "execution_count": 4,
   "outputs": [],
   "source": [
    "# ToT hyperparameters\n",
    "max_num_thoughts = 3  # number of thoughts to generate at each iteration\n",
    "max_num_steps = 20  # total maximum number of iterations\n",
    "value_threshold = 0.49  # threshold for evaluation; only thoughts with value > value_threshold will be explored\n",
    "\n",
    "# other hyperparameters\n",
    "model_name = \"gpt-3.5-turbo\"\n",
    "temperature = 0.8"
   ],
   "metadata": {
    "collapsed": false,
    "ExecuteTime": {
     "end_time": "2024-04-17T17:01:49.162016Z",
     "start_time": "2024-04-17T17:01:49.146423Z"
    }
   },
   "id": "3b1ff5faf3a98a79"
  },
  {
   "cell_type": "markdown",
   "source": [
    "## Thought Evaluator"
   ],
   "metadata": {
    "collapsed": false
   },
   "id": "7d8fdcea67bf22ee"
  },
  {
   "cell_type": "markdown",
   "source": [
    "**Thought Evaluator** is responsible for evaluating the plausibility of individual thoughts.\n",
    "\n",
    "Default **Thought Evaluator** is powered by a [`Runnable`](https://python.langchain.com/docs/expression_language/interface) that takes in:\n",
    "\n",
    "* `inputs`: original inputs\n",
    "* `intermediate_steps`: a sequence of agent actions up to current node\n",
    "* `next_thought`: a current suggestion for the next step (either finish or call tool(s))\n",
    "\n",
    "The runnable is allowed to return anything. In this case, it returns a float ranging from 0 to 1.\n",
    "\n"
   ],
   "metadata": {
    "collapsed": false
   },
   "id": "e7af9f540360a932"
  },
  {
   "cell_type": "code",
   "outputs": [],
   "source": [
    "thought_evaluator = ThoughtEvaluator.create(llm=ChatOpenAI(model=model_name, temperature=temperature), \n",
    "                                      user_message=dedent(\"\"\"\n",
    "                                      Given an input and an answer, give a judgement if the answer is correct, i.e. \n",
    "                                      1) it uses each given number exactly once; \n",
    "                                      2) it doesn't use any other number; \n",
    "                                      3) given mathematical expression correctly reaches 24.\n",
    "                                      \n",
    "                                      Inputs:\n",
    "                                      {numbers}\n",
    "                                      \"\"\"), \n",
    "                                      threshold=value_threshold,\n",
    "                                      parser_name=\"openai-tools\",\n",
    "                                            )"
   ],
   "metadata": {
    "collapsed": false,
    "ExecuteTime": {
     "end_time": "2024-04-17T17:01:49.348388Z",
     "start_time": "2024-04-17T17:01:49.323182Z"
    }
   },
   "id": "388cbde0cb39f2b0",
   "execution_count": 5
  },
  {
   "cell_type": "markdown",
   "source": [
    "## Thought Generator\n",
    "\n",
    "**Thought Generator** is responsible for suggesting possible actions on each new step.\n",
    "\n",
    "Default **Thought Generator** is powered by [any agent available in LangChain](https://python.langchain.com/docs/modules/agents/agent_types/). Specifically, it expects either [`BaseSingleActionAgent`](https://api.python.langchain.com/en/latest/agents/langchain.agents.agent.BaseSingleActionAgent.html#langchain.agents.agent.BaseSingleActionAgent) or [`BaseMultiAgentAgent`](https://api.python.langchain.com/en/latest/agents/langchain.agents.agent.BaseMultiActionAgent.html#langchain.agents.agent.BaseMultiActionAgent)."
   ],
   "metadata": {
    "collapsed": false
   },
   "id": "48ea2803b76d0aba"
  },
  {
   "cell_type": "markdown",
   "source": [
    "In [Tree of Thoughts paper](https://arxiv.org/abs/2305.10601), there are two possible workflows for Tree of Thoughts:\n",
    "\n",
    "* *Sample*: $k$ i.i.d. calls to a Thought Generator to get $k$ suggestions\n",
    "* *Propose*: a single call to a Thought Generator to get $k$ suggestions\n",
    "\n",
    "Currently, only *Sample* is supported."
   ],
   "metadata": {
    "collapsed": false
   },
   "id": "cdbc265c18f131b4"
  },
  {
   "cell_type": "code",
   "outputs": [],
   "source": [
    "thought_generator = ThoughtGenerator.create(llm=ChatOpenAI(model=model_name, temperature=temperature),\n",
    "                                            tools=env.tools, \n",
    "                                            parser_name=\"openai-tools\", \n",
    "            user_message=dedent(\"\"\"\n",
    "            You are given four numbers, and your end goal is to obtain 24 from given numbers via basic arithmetic operations. \n",
    "\n",
    "            Let's play Game of 24 in a step-by-step fashion: use only one of available tools to suggest a possible next step from the current state. Please, make sure to suggest exactly ONE (1) tool call, no more and no less. \n",
    "            \n",
    "            Refrain from calling tools only when you're ready to give a final answer. In this case, make sure to include a mathematical expression showing how to obtain 24 from given numbers, for instance: '(2 + 2) * (12 / 2) = 24'\n",
    "            \n",
    "            Inputs:\n",
    "            {numbers}\"\"\"),\n",
    "                                max_num_thoughts=max_num_thoughts)"
   ],
   "metadata": {
    "collapsed": false,
    "ExecuteTime": {
     "end_time": "2024-04-17T17:01:50.123426Z",
     "start_time": "2024-04-17T17:01:50.021810Z"
    }
   },
   "id": "d48ca4a0c5d0fe71",
   "execution_count": 6
  },
  {
   "cell_type": "markdown",
   "source": [
    "# Defining strategy"
   ],
   "metadata": {
    "collapsed": false
   },
   "id": "e8df81acf8ec5b97"
  },
  {
   "cell_type": "code",
   "outputs": [
    {
     "data": {
      "text/plain": "<planning_library.strategies.tot_dfs.components.thought_generator.ThoughtGenerator at 0x1357d05d0>"
     },
     "execution_count": 7,
     "metadata": {},
     "output_type": "execute_result"
    }
   ],
   "source": [
    "thought_generator"
   ],
   "metadata": {
    "collapsed": false,
    "ExecuteTime": {
     "end_time": "2024-04-17T17:01:50.726701Z",
     "start_time": "2024-04-17T17:01:50.713306Z"
    }
   },
   "id": "22eed8130208d0ad",
   "execution_count": 7
  },
  {
   "cell_type": "code",
   "execution_count": 8,
   "outputs": [
    {
     "name": "stdout",
     "output_type": "stream",
     "text": [
      "\n",
      "\n",
      "\u001B[1m> Entering new TreeOfThoughtsDFSStrategy chain...\u001B[0m\n"
     ]
    },
    {
     "ename": "IndexError",
     "evalue": "list index out of range",
     "output_type": "error",
     "traceback": [
      "\u001B[0;31m---------------------------------------------------------------------------\u001B[0m",
      "\u001B[0;31mIndexError\u001B[0m                                Traceback (most recent call last)",
      "Cell \u001B[0;32mIn[8], line 17\u001B[0m\n\u001B[1;32m      7\u001B[0m strategy_executor \u001B[38;5;241m=\u001B[39m TreeOfThoughtsDFSStrategy(\n\u001B[1;32m      8\u001B[0m     tools\u001B[38;5;241m=\u001B[39menv\u001B[38;5;241m.\u001B[39mtools,\n\u001B[1;32m      9\u001B[0m     action_executor\u001B[38;5;241m=\u001B[39maction_executor,\n\u001B[0;32m   (...)\u001B[0m\n\u001B[1;32m     14\u001B[0m     do_sorting\u001B[38;5;241m=\u001B[39m\u001B[38;5;28;01mFalse\u001B[39;00m,\n\u001B[1;32m     15\u001B[0m )\n\u001B[1;32m     16\u001B[0m env\u001B[38;5;241m.\u001B[39mreset(options\u001B[38;5;241m=\u001B[39m{\u001B[38;5;124m\"\u001B[39m\u001B[38;5;124mnumbers\u001B[39m\u001B[38;5;124m\"\u001B[39m: [\u001B[38;5;241m1\u001B[39m, \u001B[38;5;241m1\u001B[39m, \u001B[38;5;241m4\u001B[39m, \u001B[38;5;241m6\u001B[39m]})\n\u001B[0;32m---> 17\u001B[0m \u001B[43mstrategy_executor\u001B[49m\u001B[38;5;241;43m.\u001B[39;49m\u001B[43minvoke\u001B[49m\u001B[43m(\u001B[49m\u001B[43m{\u001B[49m\u001B[38;5;124;43m\"\u001B[39;49m\u001B[38;5;124;43mnumbers\u001B[39;49m\u001B[38;5;124;43m\"\u001B[39;49m\u001B[43m:\u001B[49m\u001B[43m \u001B[49m\u001B[38;5;124;43m\"\u001B[39;49m\u001B[38;5;124;43m1 1 4 6\u001B[39;49m\u001B[38;5;124;43m\"\u001B[39;49m\u001B[43m}\u001B[49m\u001B[43m)\u001B[49m\n",
      "File \u001B[0;32m~/Library/Caches/pypoetry/virtualenvs/planning-library-q8r1q5f_-py3.11/lib/python3.11/site-packages/langchain/chains/base.py:163\u001B[0m, in \u001B[0;36mChain.invoke\u001B[0;34m(self, input, config, **kwargs)\u001B[0m\n\u001B[1;32m    161\u001B[0m \u001B[38;5;28;01mexcept\u001B[39;00m \u001B[38;5;167;01mBaseException\u001B[39;00m \u001B[38;5;28;01mas\u001B[39;00m e:\n\u001B[1;32m    162\u001B[0m     run_manager\u001B[38;5;241m.\u001B[39mon_chain_error(e)\n\u001B[0;32m--> 163\u001B[0m     \u001B[38;5;28;01mraise\u001B[39;00m e\n\u001B[1;32m    164\u001B[0m run_manager\u001B[38;5;241m.\u001B[39mon_chain_end(outputs)\n\u001B[1;32m    166\u001B[0m \u001B[38;5;28;01mif\u001B[39;00m include_run_info:\n",
      "File \u001B[0;32m~/Library/Caches/pypoetry/virtualenvs/planning-library-q8r1q5f_-py3.11/lib/python3.11/site-packages/langchain/chains/base.py:153\u001B[0m, in \u001B[0;36mChain.invoke\u001B[0;34m(self, input, config, **kwargs)\u001B[0m\n\u001B[1;32m    150\u001B[0m \u001B[38;5;28;01mtry\u001B[39;00m:\n\u001B[1;32m    151\u001B[0m     \u001B[38;5;28mself\u001B[39m\u001B[38;5;241m.\u001B[39m_validate_inputs(inputs)\n\u001B[1;32m    152\u001B[0m     outputs \u001B[38;5;241m=\u001B[39m (\n\u001B[0;32m--> 153\u001B[0m         \u001B[38;5;28;43mself\u001B[39;49m\u001B[38;5;241;43m.\u001B[39;49m\u001B[43m_call\u001B[49m\u001B[43m(\u001B[49m\u001B[43minputs\u001B[49m\u001B[43m,\u001B[49m\u001B[43m \u001B[49m\u001B[43mrun_manager\u001B[49m\u001B[38;5;241;43m=\u001B[39;49m\u001B[43mrun_manager\u001B[49m\u001B[43m)\u001B[49m\n\u001B[1;32m    154\u001B[0m         \u001B[38;5;28;01mif\u001B[39;00m new_arg_supported\n\u001B[1;32m    155\u001B[0m         \u001B[38;5;28;01melse\u001B[39;00m \u001B[38;5;28mself\u001B[39m\u001B[38;5;241m.\u001B[39m_call(inputs)\n\u001B[1;32m    156\u001B[0m     )\n\u001B[1;32m    158\u001B[0m     final_outputs: Dict[\u001B[38;5;28mstr\u001B[39m, Any] \u001B[38;5;241m=\u001B[39m \u001B[38;5;28mself\u001B[39m\u001B[38;5;241m.\u001B[39mprep_outputs(\n\u001B[1;32m    159\u001B[0m         inputs, outputs, return_only_outputs\n\u001B[1;32m    160\u001B[0m     )\n\u001B[1;32m    161\u001B[0m \u001B[38;5;28;01mexcept\u001B[39;00m \u001B[38;5;167;01mBaseException\u001B[39;00m \u001B[38;5;28;01mas\u001B[39;00m e:\n",
      "File \u001B[0;32m~/PycharmProjects/planning-library/planning_library/strategies/base_strategy.py:136\u001B[0m, in \u001B[0;36mBaseCustomStrategy._call\u001B[0;34m(self, inputs, run_manager)\u001B[0m\n\u001B[1;32m    124\u001B[0m name_to_tool_map, color_mapping \u001B[38;5;241m=\u001B[39m get_tools_maps(\u001B[38;5;28mself\u001B[39m\u001B[38;5;241m.\u001B[39mtools)\n\u001B[1;32m    126\u001B[0m outputs \u001B[38;5;241m=\u001B[39m [\n\u001B[1;32m    127\u001B[0m     \u001B[38;5;28mself\u001B[39m\u001B[38;5;241m.\u001B[39m_return(output, intermediate_steps, run_manager\u001B[38;5;241m=\u001B[39mrun_manager)\n\u001B[1;32m    128\u001B[0m     \u001B[38;5;28;01mfor\u001B[39;00m output, intermediate_steps \u001B[38;5;129;01min\u001B[39;00m \u001B[38;5;28mself\u001B[39m\u001B[38;5;241m.\u001B[39m_run_strategy(\n\u001B[0;32m   (...)\u001B[0m\n\u001B[1;32m    133\u001B[0m     )\n\u001B[1;32m    134\u001B[0m ]\n\u001B[0;32m--> 136\u001B[0m \u001B[38;5;28;01mreturn\u001B[39;00m {key: [output[key] \u001B[38;5;28;01mfor\u001B[39;00m output \u001B[38;5;129;01min\u001B[39;00m outputs] \u001B[38;5;28;01mfor\u001B[39;00m key \u001B[38;5;129;01min\u001B[39;00m \u001B[43moutputs\u001B[49m\u001B[43m[\u001B[49m\u001B[38;5;241;43m0\u001B[39;49m\u001B[43m]\u001B[49m}\n",
      "\u001B[0;31mIndexError\u001B[0m: list index out of range"
     ]
    }
   ],
   "source": [
    "from planning_library.action_executors import GymnasiumActionExecutor\n",
    "\n",
    "\n",
    "action_executor = GymnasiumActionExecutor(env)\n",
    "\n",
    "\n",
    "strategy_executor = TreeOfThoughtsDFSStrategy(\n",
    "    tools=env.tools,\n",
    "    action_executor=action_executor,\n",
    "    max_iterations=max_num_steps,\n",
    "    return_intermediate_steps=True,\n",
    "    thought_generator=thought_generator,\n",
    "    thought_evaluator=thought_evaluator,\n",
    "    do_sorting=False,\n",
    ")\n",
    "env.reset(options={\"numbers\": [1, 1, 4, 6]})\n",
    "strategy_executor.invoke({\"numbers\": \"1 1 4 6\"})"
   ],
   "metadata": {
    "collapsed": false,
    "ExecuteTime": {
     "start_time": "2024-04-17T17:01:51.064275Z"
    }
   },
   "id": "3511e290e2ab0d52"
  }
 ],
 "metadata": {
  "kernelspec": {
   "display_name": "Python 3",
   "language": "python",
   "name": "python3"
  },
  "language_info": {
   "codemirror_mode": {
    "name": "ipython",
    "version": 2
   },
   "file_extension": ".py",
   "mimetype": "text/x-python",
   "name": "python",
   "nbconvert_exporter": "python",
   "pygments_lexer": "ipython2",
   "version": "2.7.6"
  }
 },
 "nbformat": 4,
 "nbformat_minor": 5
}
