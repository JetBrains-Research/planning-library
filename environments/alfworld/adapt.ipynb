{
 "cells": [
  {
   "cell_type": "markdown",
   "source": [
    "## Utils"
   ],
   "metadata": {
    "collapsed": false
   },
   "id": "72abf790fb4a74db"
  },
  {
   "cell_type": "markdown",
   "source": [
    "### Imports"
   ],
   "metadata": {
    "collapsed": false
   },
   "id": "63013586d3dd592f"
  },
  {
   "cell_type": "code",
   "outputs": [
    {
     "name": "stdout",
     "output_type": "stream",
     "text": [
      "The autoreload extension is already loaded. To reload it, use:\n",
      "  %reload_ext autoreload\n"
     ]
    }
   ],
   "source": [
    "import requests\n",
    "from environments.alfworld.common.environment import ALFWorldEnv\n",
    "\n",
    "import os\n",
    "from langchain_openai import ChatOpenAI\n",
    "from planning_library.strategies import ADaPTStrategy\n",
    "from planning_library.strategies.adapt.components import ADaPTPlanner, ADaPTExecutor\n",
    "from planning_library.action_executors import LangchainActionExecutor, MetaTools\n",
    "from planning_library.utils.gym_env_reset_tool import GymEnvResetTool\n",
    "from textwrap import dedent\n",
    "\n",
    "%load_ext autoreload\n",
    "%autoreload 2"
   ],
   "metadata": {
    "collapsed": false,
    "ExecuteTime": {
     "end_time": "2024-04-26T09:55:03.331747Z",
     "start_time": "2024-04-26T09:55:03.306341Z"
    }
   },
   "id": "917b334526ae1418",
   "execution_count": 5
  },
  {
   "cell_type": "markdown",
   "source": [
    "### Logging"
   ],
   "metadata": {
    "collapsed": false
   },
   "id": "d03be61eb1d2d978"
  },
  {
   "cell_type": "code",
   "outputs": [],
   "source": [
    "os.environ[\"LANGCHAIN_TRACING_V2\"] = \"true\"\n",
    "os.environ[\"LANGCHAIN_PROJECT\"] = \"ALFWorld + ADaPT (new)\"\n",
    "os.environ[\"LANGCHAIN_ENDPOINT\"] = \"https://api.smith.langchain.com\""
   ],
   "metadata": {
    "collapsed": false,
    "ExecuteTime": {
     "end_time": "2024-04-26T09:55:03.990181Z",
     "start_time": "2024-04-26T09:55:03.970463Z"
    }
   },
   "id": "add6277843d9e0d5",
   "execution_count": 6
  },
  {
   "cell_type": "markdown",
   "source": [
    "## Environment"
   ],
   "metadata": {
    "collapsed": false
   },
   "id": "49b12b291a70bf6a"
  },
  {
   "cell_type": "code",
   "outputs": [
    {
     "name": "stdout",
     "output_type": "stream",
     "text": [
      "Initializing AlfredTWEnv...\n"
     ]
    },
    {
     "name": "stderr",
     "output_type": "stream",
     "text": [
      "100%|██████████| 8810/8810 [00:03<00:00, 2813.19it/s]"
     ]
    },
    {
     "name": "stdout",
     "output_type": "stream",
     "text": [
      "Overall we have 3553 games in split=train\n",
      "Training with 3553 games\n"
     ]
    },
    {
     "name": "stderr",
     "output_type": "stream",
     "text": [
      "\n"
     ]
    }
   ],
   "source": [
    "os.environ[\"ALFWORLD_DATA\"] = \"utils/data\"\n",
    "\n",
    "if not \"base_config.yaml\" in os.listdir(\"utils\"):\n",
    "    response = requests.get(\"https://raw.githubusercontent.com/alfworld/alfworld/master/configs/base_config.yaml\")\n",
    "    \n",
    "    with open(\"utils/base_config.yaml\", \"wb\") as f:\n",
    "        f.write(response.content)\n",
    "\n",
    "env = ALFWorldEnv(config_path=\"utils/base_config.yaml\")\n",
    "meta_tools = MetaTools(reset=GymEnvResetTool(env=env))\n",
    "action_executor = LangchainActionExecutor(env.tools, meta_tools=meta_tools)"
   ],
   "metadata": {
    "collapsed": false,
    "ExecuteTime": {
     "end_time": "2024-04-26T09:55:07.937069Z",
     "start_time": "2024-04-26T09:55:04.620750Z"
    }
   },
   "id": "a79748e60e33a68c",
   "execution_count": 7
  },
  {
   "cell_type": "code",
   "outputs": [
    {
     "name": "stdout",
     "output_type": "stream",
     "text": [
      "-= Welcome to TextWorld, ALFRED! =-\n",
      "\n",
      "You are in the middle of a room. Looking quickly around you, you see a bed 1, a cabinet 4, a cabinet 3, a cabinet 2, a cabinet 1, a desk 1, a drawer 2, a drawer 1, a garbagecan 1, a shelf 1, and a sidetable 1.\n",
      "\n",
      "Your task is to: put some pencil on shelf.\n"
     ]
    }
   ],
   "source": [
    "obs, info = env.reset(options={\"next_episode\": True})\n",
    "print(obs)"
   ],
   "metadata": {
    "collapsed": false,
    "ExecuteTime": {
     "end_time": "2024-04-26T09:55:08.251850Z",
     "start_time": "2024-04-26T09:55:07.937277Z"
    }
   },
   "id": "e6feb0742d5fd134",
   "execution_count": 8
  },
  {
   "cell_type": "markdown",
   "source": [
    "## Strategy"
   ],
   "metadata": {
    "collapsed": false
   },
   "id": "c73a0b66343809e6"
  },
  {
   "cell_type": "markdown",
   "source": [
    "### Hyperparameters"
   ],
   "metadata": {
    "collapsed": false
   },
   "id": "8ea5dbf565405291"
  },
  {
   "cell_type": "code",
   "outputs": [],
   "source": [
    "# ADaPT hyperparameters\n",
    "max_depth = 3  # maximum decomposition depth\n",
    "executor_max_iterations = 2  # maximum number of iterations for the executor; when reached, the loop will exit\n",
    "planner_max_iterations = 20  # maximum number of iterations for the planner; when reached, the loop will exit\n",
    "\n",
    "# other hyperparameters\n",
    "model_name = \"gpt-3.5-turbo\"\n",
    "temperature = 0.8"
   ],
   "metadata": {
    "collapsed": false,
    "ExecuteTime": {
     "end_time": "2024-04-26T09:55:10.085814Z",
     "start_time": "2024-04-26T09:55:10.060199Z"
    }
   },
   "id": "95866c282598a829",
   "execution_count": 9
  },
  {
   "cell_type": "markdown",
   "source": [
    "### Executor"
   ],
   "metadata": {
    "collapsed": false
   },
   "id": "be5638126da22e9d"
  },
  {
   "cell_type": "markdown",
   "source": [
    "Default Executor is powered by any strategy from the library. By default, a simple one is used (see `planning_library/strategies/simple/simple_strategy.py` for more details)."
   ],
   "metadata": {
    "collapsed": false
   },
   "id": "1a668ccc0e924025"
  },
  {
   "cell_type": "code",
   "outputs": [],
   "source": [
    "executor = ADaPTExecutor.create_simple_strategy(llm=ChatOpenAI(model=model_name, temperature=temperature),\n",
    "                                             parser_name=\"openai-tools\",\n",
    "                                                user_message=dedent(\"\"\"\n",
    "            You are ALFRED, an intelligent agent navigating in a household.\n",
    "\n",
    "            {inputs}\"\"\"),      max_iterations=executor_max_iterations,\n",
    "                                                return_intermediate_steps=True,\n",
    "                                                return_finish_log=True,\n",
    "                                                action_executor=action_executor)"
   ],
   "metadata": {
    "collapsed": false,
    "ExecuteTime": {
     "end_time": "2024-04-26T09:56:27.197982Z",
     "start_time": "2024-04-26T09:56:26.988634Z"
    }
   },
   "id": "979177816823c6a7",
   "execution_count": 10
  },
  {
   "cell_type": "markdown",
   "source": [
    "### Planner\n",
    "\n",
    "Planner can either be:\n",
    "\n",
    "* `agent`: llm with tools, can be powered by any strategy from the library. By default, a simple one is used (see `planning_library/strategies/simple/simple_strategy.py` for more details).\n",
    "* `simple`: a single call to llm."
   ],
   "metadata": {
    "collapsed": false
   },
   "id": "9f6d98010f0d114"
  },
  {
   "cell_type": "code",
   "outputs": [],
   "source": [
    "agent_planner = ADaPTPlanner.create_agent_planner(llm=ChatOpenAI(model=model_name, temperature=temperature),\n",
    "                                             parser_name=\"openai-tools\", \n",
    "                                                user_message=dedent(\"\"\"\n",
    "            Here is the essence of the original task:\n",
    "\n",
    "            {inputs}\n",
    "            \"\"\"),\n",
    "            executor_parser_name=\"openai-tools\")"
   ],
   "metadata": {
    "collapsed": false,
    "ExecuteTime": {
     "end_time": "2024-04-26T09:56:28.545281Z",
     "start_time": "2024-04-26T09:56:28.510826Z"
    }
   },
   "id": "7c15cf73c24ab3f4",
   "execution_count": 11
  },
  {
   "cell_type": "code",
   "outputs": [],
   "source": [
    "simple_planner = ADaPTPlanner.create_simple_planner(llm=ChatOpenAI(model=model_name, temperature=temperature),\n",
    "                                                user_message=dedent(\"\"\"\n",
    "            Here is the essence of the original task:\n",
    "\n",
    "            {inputs}\n",
    "            \"\"\"),\n",
    "            executor_parser_name=\"openai-tools\")"
   ],
   "metadata": {
    "collapsed": false,
    "ExecuteTime": {
     "end_time": "2024-04-26T09:56:29.270904Z",
     "start_time": "2024-04-26T09:56:29.237099Z"
    }
   },
   "id": "e682b3c778b7973b",
   "execution_count": 12
  },
  {
   "cell_type": "markdown",
   "source": [
    "## Defining strategy"
   ],
   "metadata": {
    "collapsed": false
   },
   "id": "b1ebe94eff77889e"
  },
  {
   "cell_type": "code",
   "outputs": [],
   "source": [
    "agent_planner_adapt = ADaPTStrategy(\n",
    "    executor=executor,\n",
    "    planner=agent_planner,\n",
    "    max_depth=max_depth,\n",
    "    return_intermediate_steps=True,\n",
    "    return_finish_log=True,\n",
    ")"
   ],
   "metadata": {
    "collapsed": false,
    "ExecuteTime": {
     "end_time": "2024-04-26T09:56:35.826852Z",
     "start_time": "2024-04-26T09:56:35.801304Z"
    }
   },
   "id": "d7c2708702ec7712",
   "execution_count": 13
  },
  {
   "cell_type": "code",
   "outputs": [
    {
     "name": "stdout",
     "output_type": "stream",
     "text": [
      "\n",
      "\n",
      "\u001B[1m> Entering new ADaPTStrategy chain...\u001B[0m\n",
      "\n",
      "\n",
      "\u001B[1m> Entering new SimpleStrategy chain...\u001B[0m\n",
      "\u001B[32;1m\u001B[1;3mI tried to put the pencil on the shelf, but nothing happened. I will attempt to complete the task again.\u001B[0m\n",
      "\n",
      "\u001B[1m> Finished chain.\u001B[0m\n",
      "\n",
      "\n",
      "\u001B[1m> Entering new SimpleStrategy chain...\u001B[0m\n",
      "\u001B[32;1m\u001B[1;3mI have set up the first subtask in the plan, which is to \"Pick up a pencil from the desk 1\" with the requirement to successfully complete this task. The aggregation mode is set to \"and\", meaning all subtasks need to be completed for the overall task to be considered successful. If you have any additional steps or adjustments you'd like to make, feel free to let me know!\u001B[0m\n",
      "\n",
      "\u001B[1m> Finished chain.\u001B[0m\n",
      "\n",
      "\n",
      "\u001B[1m> Entering new SimpleStrategy chain...\u001B[0m\n",
      "\u001B[32;1m\u001B[1;3m\u001B[0m\n",
      "\n",
      "\u001B[1m> Finished chain.\u001B[0m\n",
      "\n",
      "\n",
      "\u001B[1m> Entering new SimpleStrategy chain...\u001B[0m\n",
      "\u001B[32;1m\u001B[1;3mI have added a subtask to try picking up the pencil from desk 1.\u001B[0m\n",
      "\n",
      "\u001B[1m> Finished chain.\u001B[0m\n",
      "\n",
      "\n",
      "\u001B[1m> Entering new SimpleStrategy chain...\u001B[0m\n",
      "\u001B[32;1m\u001B[1;3mI couldn't pick up the pencil from desk 1. Let me try again.\u001B[0m\n",
      "\n",
      "\u001B[1m> Finished chain.\u001B[0m\n",
      "\n",
      "\n",
      "\u001B[1m> Entering new SimpleStrategy chain...\u001B[0m\n",
      "\u001B[32;1m\u001B[1;3mI have added the first step to attempt to take the pencil from desk 1. The plan will stop as soon as this subtask is successfully completed.\u001B[0m\n",
      "\n",
      "\u001B[1m> Finished chain.\u001B[0m\n",
      "\n",
      "\n",
      "\u001B[1m> Entering new SimpleStrategy chain...\u001B[0m\n",
      "\u001B[32;1m\u001B[1;3m\u001B[0m\n",
      "\n",
      "\u001B[1m> Finished chain.\u001B[0m\n",
      "\n",
      "\n",
      "\u001B[1m> Entering new SimpleStrategy chain...\u001B[0m\n",
      "\u001B[32;1m\u001B[1;3mI have added the first subtask to the plan, which is attempting to go to desk 1. The aggregation logic is set to \"and\", meaning all subtasks need to be completed successfully for the original task to be considered solved.\u001B[0m\n",
      "\n",
      "\u001B[1m> Finished chain.\u001B[0m\n",
      "\u001B[32;1m\u001B[1;3mCouldn't solve the task. Last log: Couldn't solve the task. Last log: Couldn't solve the task. Last log: Couldn't solve the task. Last log: Maximum decomposition depth reached.\u001B[0m\n",
      "\n",
      "\u001B[1m> Finished chain.\u001B[0m\n"
     ]
    },
    {
     "data": {
      "text/plain": "{'inputs': {'inputs': '-= Welcome to TextWorld, ALFRED! =-\\n\\nYou are in the middle of a room. Looking quickly around you, you see a bed 1, a cabinet 4, a cabinet 3, a cabinet 2, a cabinet 1, a desk 1, a drawer 2, a drawer 1, a garbagecan 1, a shelf 1, and a sidetable 1.\\n\\nYour task is to: put some pencil on shelf.'},\n 'intermediate_steps': [[]],\n 'finish_log': [\"Couldn't solve the task. Last log: Couldn't solve the task. Last log: Couldn't solve the task. Last log: Couldn't solve the task. Last log: Maximum decomposition depth reached.\"]}"
     },
     "execution_count": 14,
     "metadata": {},
     "output_type": "execute_result"
    }
   ],
   "source": [
    "agent_planner_adapt.invoke(\n",
    "    {\"inputs\": {\"inputs\": obs}}\n",
    ")"
   ],
   "metadata": {
    "collapsed": false,
    "ExecuteTime": {
     "end_time": "2024-04-26T09:57:02.892981Z",
     "start_time": "2024-04-26T09:56:36.221827Z"
    }
   },
   "id": "8d1b5178959c06",
   "execution_count": 14
  },
  {
   "cell_type": "code",
   "outputs": [],
   "source": [
    "simple_planner_adapt = ADaPTStrategy(\n",
    "    executor=executor,\n",
    "    planner=simple_planner,\n",
    "    max_depth=max_depth,\n",
    "    return_intermediate_steps=True,\n",
    "    return_finish_log=True,\n",
    ")"
   ],
   "metadata": {
    "collapsed": false,
    "ExecuteTime": {
     "end_time": "2024-04-24T09:50:32.745288Z",
     "start_time": "2024-04-24T09:50:32.719793Z"
    }
   },
   "id": "4efce110755d134e",
   "execution_count": 8
  },
  {
   "cell_type": "code",
   "outputs": [
    {
     "name": "stdout",
     "output_type": "stream",
     "text": [
      "\n",
      "\n",
      "\u001B[1m> Entering new ADaPTStrategy chain...\u001B[0m\n",
      "\n",
      "\n",
      "\u001B[1m> Entering new SimpleStrategy chain...\u001B[0m\n",
      "\u001B[32;1m\u001B[1;3m\u001B[0m\n",
      "\n",
      "\u001B[1m> Finished chain.\u001B[0m\n",
      "\n",
      "\n",
      "\u001B[1m> Entering new SimpleStrategy chain...\u001B[0m\n",
      "\u001B[32;1m\u001B[1;3m\u001B[0m\n",
      "\n",
      "\u001B[1m> Finished chain.\u001B[0m\n",
      "\n",
      "\n",
      "\u001B[1m> Entering new SimpleStrategy chain...\u001B[0m\n",
      "\u001B[32;1m\u001B[1;3mIt seems I couldn't go to shelf 1. Let me try again.\u001B[0m\n",
      "\n",
      "\u001B[1m> Finished chain.\u001B[0m\n",
      "\n",
      "\n",
      "\u001B[1m> Entering new SimpleStrategy chain...\u001B[0m\n",
      "\u001B[32;1m\u001B[1;3m\u001B[0m\n",
      "\n",
      "\u001B[1m> Finished chain.\u001B[0m\n",
      "\u001B[32;1m\u001B[1;3mCouldn't solve the task. Last log: Couldn't solve the task. Last log: Couldn't solve the task. Last log: Couldn't solve the task. Last log: Maximum decomposition depth reached.\u001B[0m\n",
      "\n",
      "\u001B[1m> Finished chain.\u001B[0m\n"
     ]
    },
    {
     "data": {
      "text/plain": "{'inputs': {'inputs': '-= Welcome to TextWorld, ALFRED! =-\\n\\nYou are in the middle of a room. Looking quickly around you, you see a bed 1, a cabinet 4, a cabinet 3, a cabinet 2, a cabinet 1, a desk 1, a drawer 2, a drawer 1, a garbagecan 1, a shelf 1, and a sidetable 1.\\n\\nYour task is to: put some pencil on shelf.'},\n 'intermediate_steps': [[]],\n 'finish_log': [\"Couldn't solve the task. Last log: Couldn't solve the task. Last log: Couldn't solve the task. Last log: Couldn't solve the task. Last log: Maximum decomposition depth reached.\"]}"
     },
     "execution_count": 9,
     "metadata": {},
     "output_type": "execute_result"
    }
   ],
   "source": [
    "simple_planner_adapt.invoke(\n",
    "    {\"inputs\": {\"inputs\": obs}}\n",
    ")"
   ],
   "metadata": {
    "collapsed": false,
    "ExecuteTime": {
     "end_time": "2024-04-24T09:50:47.930079Z",
     "start_time": "2024-04-24T09:50:32.898494Z"
    }
   },
   "id": "bfcf7662db19240c",
   "execution_count": 9
  }
 ],
 "metadata": {
  "kernelspec": {
   "display_name": "Python 3",
   "language": "python",
   "name": "python3"
  },
  "language_info": {
   "codemirror_mode": {
    "name": "ipython",
    "version": 2
   },
   "file_extension": ".py",
   "mimetype": "text/x-python",
   "name": "python",
   "nbconvert_exporter": "python",
   "pygments_lexer": "ipython2",
   "version": "2.7.6"
  }
 },
 "nbformat": 4,
 "nbformat_minor": 5
}
