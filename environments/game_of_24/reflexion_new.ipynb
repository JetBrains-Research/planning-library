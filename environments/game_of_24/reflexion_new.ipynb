{
 "cells": [
  {
   "cell_type": "markdown",
   "source": [
    "# Utils"
   ],
   "metadata": {
    "collapsed": false
   },
   "id": "1fef8f224fc8d74e"
  },
  {
   "cell_type": "markdown",
   "source": [
    "## Imports"
   ],
   "metadata": {
    "collapsed": false
   },
   "id": "14f9579a2b3aa475"
  },
  {
   "cell_type": "code",
   "outputs": [],
   "source": [
    "from langchain_openai import ChatOpenAI\n",
    "from textwrap import dedent\n",
    "from environments.game_of_24.reflexion.generate_prompts import openai_tools_generate_prompt\n",
    "\n",
    "from planning_library.strategies.reflexion import ReflexionStrategy\n",
    "from planning_library.strategies.reflexion.components import ReflexionActor, ReflexionEvaluator, ReflexionSelfReflection\n",
    "from environments.game_of_24.common.environment import GameOf24Env\n",
    "\n",
    "import os\n",
    "\n",
    "%load_ext autoreload\n",
    "%autoreload 2"
   ],
   "metadata": {
    "collapsed": false,
    "ExecuteTime": {
     "end_time": "2024-04-05T12:44:36.905924Z",
     "start_time": "2024-04-05T12:44:35.797259Z"
    }
   },
   "id": "b53511c71640dcea",
   "execution_count": 1
  },
  {
   "cell_type": "markdown",
   "source": [
    "## Logging"
   ],
   "metadata": {
    "collapsed": false
   },
   "id": "fa006dc2f0d04e39"
  },
  {
   "cell_type": "code",
   "outputs": [],
   "source": [
    "os.environ[\"LANGCHAIN_TRACING_V2\"] = \"true\"\n",
    "os.environ[\"LANGCHAIN_PROJECT\"] = \"Reflexion (new) + Game of 24\"\n",
    "os.environ[\"LANGCHAIN_ENDPOINT\"] = \"https://api.smith.langchain.com\""
   ],
   "metadata": {
    "collapsed": false,
    "ExecuteTime": {
     "end_time": "2024-04-05T12:44:36.917171Z",
     "start_time": "2024-04-05T12:44:36.906406Z"
    }
   },
   "id": "c6dea842a5c669ab",
   "execution_count": 2
  },
  {
   "cell_type": "markdown",
   "source": [
    "## Defining environment"
   ],
   "metadata": {
    "collapsed": false
   },
   "id": "89ceb41dcab95adc"
  },
  {
   "cell_type": "code",
   "outputs": [],
   "source": [
    "env = GameOf24Env()"
   ],
   "metadata": {
    "collapsed": false,
    "ExecuteTime": {
     "end_time": "2024-04-05T12:44:36.932333Z",
     "start_time": "2024-04-05T12:44:36.917401Z"
    }
   },
   "id": "6777295e88f644e7",
   "execution_count": 3
  },
  {
   "cell_type": "markdown",
   "source": [
    "## Defining hyperparameters"
   ],
   "metadata": {
    "collapsed": false
   },
   "id": "57c32637a187d62e"
  },
  {
   "cell_type": "code",
   "outputs": [],
   "source": [
    "# Reflexion hyperparameters\n",
    "value_threshold = 1.0  # threshold for evaluation; when reached, the loop will exit\n",
    "max_num_iterations = 20  # maximum number of iterations; when reached, the loop will exit\n",
    "\n",
    "# other hyperparameters\n",
    "model_name = \"gpt-3.5-turbo\"\n",
    "temperature = 0.8"
   ],
   "metadata": {
    "collapsed": false,
    "ExecuteTime": {
     "end_time": "2024-04-05T12:44:36.940486Z",
     "start_time": "2024-04-05T12:44:36.929263Z"
    }
   },
   "id": "b98d2eebc3a91cbe",
   "execution_count": 4
  },
  {
   "cell_type": "markdown",
   "source": [
    "# Defining strategy components"
   ],
   "metadata": {
    "collapsed": false
   },
   "id": "7f67d00c3360f761"
  },
  {
   "cell_type": "markdown",
   "source": [
    "## Agent"
   ],
   "metadata": {
    "collapsed": false
   },
   "id": "3007e162abab3317"
  },
  {
   "cell_type": "markdown",
   "source": [
    "### Working with function calling parsers\n",
    "\n",
    "There are two base function calling parsers classes (for single-action & for multi-action), defined in `planning_library.function_calling_parsers.base_parser`. \n",
    "\n",
    "I implemented output parsers for OpenAI Functions (in `planning_library.function_calling_parsers.openai_functions_parser`) and OpenAI Tools (in `planning_library.function_calling_parsers.openai_tools_parser`).\n",
    "\n",
    "There is also a registry for accessing available parsers conveniently:"
   ],
   "metadata": {
    "collapsed": false
   },
   "id": "23bd6a1dcccdf6d3"
  },
  {
   "cell_type": "code",
   "outputs": [
    {
     "data": {
      "text/plain": "['openai-functions', 'openai-tools']"
     },
     "execution_count": 5,
     "metadata": {},
     "output_type": "execute_result"
    }
   ],
   "source": [
    "from planning_library.function_calling_parsers import ParserRegistry\n",
    "\n",
    "\n",
    "ParserRegistry.get_available_parsers()"
   ],
   "metadata": {
    "collapsed": false,
    "ExecuteTime": {
     "end_time": "2024-04-05T12:44:37.384702Z",
     "start_time": "2024-04-05T12:44:37.369127Z"
    }
   },
   "id": "d436b68b58554bcc",
   "execution_count": 5
  },
  {
   "cell_type": "code",
   "outputs": [
    {
     "data": {
      "text/plain": "<planning_library.function_calling_parsers.openai_functions_parser.OpenAIFunctionsParser at 0x17f608a10>"
     },
     "execution_count": 6,
     "metadata": {},
     "output_type": "execute_result"
    }
   ],
   "source": [
    "ParserRegistry.get_parser(\"openai-functions\")"
   ],
   "metadata": {
    "collapsed": false,
    "ExecuteTime": {
     "end_time": "2024-04-05T12:44:37.622734Z",
     "start_time": "2024-04-05T12:44:37.606097Z"
    }
   },
   "id": "dc62e0f88fd9e2f5",
   "execution_count": 6
  },
  {
   "cell_type": "code",
   "outputs": [
    {
     "ename": "ValueError",
     "evalue": "Unknown parser openai-123. Currently available are: ['openai-functions', 'openai-tools']",
     "output_type": "error",
     "traceback": [
      "\u001B[0;31m---------------------------------------------------------------------------\u001B[0m",
      "\u001B[0;31mKeyError\u001B[0m                                  Traceback (most recent call last)",
      "File \u001B[0;32m~/PycharmProjects/planning-library/planning_library/function_calling_parsers/parser_registry.py:11\u001B[0m, in \u001B[0;36mParserRegistry.get_parser\u001B[0;34m(cls, parser_name)\u001B[0m\n\u001B[1;32m     10\u001B[0m \u001B[38;5;28;01mtry\u001B[39;00m:\n\u001B[0;32m---> 11\u001B[0m     \u001B[38;5;28;01mreturn\u001B[39;00m \u001B[38;5;28;43mcls\u001B[39;49m\u001B[38;5;241;43m.\u001B[39;49m\u001B[43mregistry\u001B[49m\u001B[43m[\u001B[49m\u001B[43mparser_name\u001B[49m\u001B[43m]\u001B[49m()\n\u001B[1;32m     12\u001B[0m \u001B[38;5;28;01mexcept\u001B[39;00m \u001B[38;5;167;01mKeyError\u001B[39;00m:\n",
      "\u001B[0;31mKeyError\u001B[0m: 'openai-123'",
      "\nDuring handling of the above exception, another exception occurred:\n",
      "\u001B[0;31mValueError\u001B[0m                                Traceback (most recent call last)",
      "Cell \u001B[0;32mIn[7], line 1\u001B[0m\n\u001B[0;32m----> 1\u001B[0m \u001B[43mParserRegistry\u001B[49m\u001B[38;5;241;43m.\u001B[39;49m\u001B[43mget_parser\u001B[49m\u001B[43m(\u001B[49m\u001B[38;5;124;43m\"\u001B[39;49m\u001B[38;5;124;43mopenai-123\u001B[39;49m\u001B[38;5;124;43m\"\u001B[39;49m\u001B[43m)\u001B[49m\n",
      "File \u001B[0;32m~/PycharmProjects/planning-library/planning_library/function_calling_parsers/parser_registry.py:13\u001B[0m, in \u001B[0;36mParserRegistry.get_parser\u001B[0;34m(cls, parser_name)\u001B[0m\n\u001B[1;32m     11\u001B[0m     \u001B[38;5;28;01mreturn\u001B[39;00m \u001B[38;5;28mcls\u001B[39m\u001B[38;5;241m.\u001B[39mregistry[parser_name]()\n\u001B[1;32m     12\u001B[0m \u001B[38;5;28;01mexcept\u001B[39;00m \u001B[38;5;167;01mKeyError\u001B[39;00m:\n\u001B[0;32m---> 13\u001B[0m     \u001B[38;5;28;01mraise\u001B[39;00m \u001B[38;5;167;01mValueError\u001B[39;00m(\u001B[38;5;124mf\u001B[39m\u001B[38;5;124m\"\u001B[39m\u001B[38;5;124mUnknown parser \u001B[39m\u001B[38;5;132;01m{\u001B[39;00mparser_name\u001B[38;5;132;01m}\u001B[39;00m\u001B[38;5;124m. Currently available are: \u001B[39m\u001B[38;5;132;01m{\u001B[39;00m\u001B[38;5;28mcls\u001B[39m\u001B[38;5;241m.\u001B[39mget_available_parsers()\u001B[38;5;132;01m}\u001B[39;00m\u001B[38;5;124m\"\u001B[39m)\n",
      "\u001B[0;31mValueError\u001B[0m: Unknown parser openai-123. Currently available are: ['openai-functions', 'openai-tools']"
     ]
    }
   ],
   "source": [
    "ParserRegistry.get_parser(\"openai-123\")"
   ],
   "metadata": {
    "collapsed": false,
    "ExecuteTime": {
     "end_time": "2024-04-05T12:44:38.054448Z",
     "start_time": "2024-04-05T12:44:37.863327Z"
    }
   },
   "id": "8215e89168ce1a32",
   "execution_count": 7
  },
  {
   "cell_type": "markdown",
   "source": [
    "### Instantiating an agent\n"
   ],
   "metadata": {
    "collapsed": false
   },
   "id": "43d4286579b6ec2e"
  },
  {
   "cell_type": "markdown",
   "source": [
    "Agent components:\n",
    "\n",
    "* LLM (`BaseChatModel` from LangChain)\n",
    "* Prompt (`ChatPromptTemplate` from LangChain)\n",
    "* Tools (`Sequence[BaseTool]`, where `BaseTool` is a LangChain primitive)\n",
    "* Function Calling Parser (either passed explicitly or by its name)"
   ],
   "metadata": {
    "collapsed": false
   },
   "id": "d66fb225e916d5f9"
  },
  {
   "cell_type": "code",
   "outputs": [],
   "source": [
    "from planning_library.components.agent_component import AgentFactory\n",
    "\n",
    "# passing parser's name\n",
    "agent = AgentFactory.create_agent(llm=ChatOpenAI(model=model_name, temperature=temperature), prompt=openai_tools_generate_prompt, tools=env.tools, parser_name=\"openai-tools\")"
   ],
   "metadata": {
    "collapsed": false,
    "ExecuteTime": {
     "end_time": "2024-04-05T12:44:38.753184Z",
     "start_time": "2024-04-05T12:44:38.723544Z"
    }
   },
   "id": "8b4fb78057f1c638",
   "execution_count": 8
  },
  {
   "cell_type": "code",
   "outputs": [],
   "source": [
    "from planning_library.function_calling_parsers import OpenAIToolsParser\n",
    "\n",
    "# passing parser explicitly\n",
    "agent = AgentFactory.create_agent(llm=ChatOpenAI(model=model_name, temperature=temperature), prompt=openai_tools_generate_prompt, tools=env.tools, parser=OpenAIToolsParser())"
   ],
   "metadata": {
    "collapsed": false,
    "ExecuteTime": {
     "end_time": "2024-04-05T12:44:39.051822Z",
     "start_time": "2024-04-05T12:44:39.024660Z"
    }
   },
   "id": "ce217e236c1ac466",
   "execution_count": 9
  },
  {
   "cell_type": "code",
   "outputs": [],
   "source": [
    "actor = ReflexionActor(agent=agent)"
   ],
   "metadata": {
    "collapsed": false,
    "ExecuteTime": {
     "end_time": "2024-04-05T12:44:39.343368Z",
     "start_time": "2024-04-05T12:44:39.325777Z"
    }
   },
   "id": "a3dc51120ddb467b",
   "execution_count": 10
  },
  {
   "cell_type": "code",
   "outputs": [],
   "source": [
    "actor = ReflexionActor.create(llm=ChatOpenAI(model=model_name, temperature=temperature), prompt=openai_tools_generate_prompt, tools=env.tools, parser=OpenAIToolsParser(), user_message=dedent(\"\"\"\n",
    "            You are given four numbers, and your goal is to obtain 24 from given numbers via basic arithmetic operations. \n",
    "            This might be not the first attempt you took, so pay attention to self-reflections about your previous failures. \n",
    "            When you're ready to answer, make sure to include a mathematical expression showing how to obtain 24 from given numbers, \n",
    "            for instance: '(2 + 2) * (12 / 2) = 24'.\n",
    "            \n",
    "            Inputs:\n",
    "            {inputs})\"\"\"))"
   ],
   "metadata": {
    "collapsed": false,
    "ExecuteTime": {
     "end_time": "2024-04-05T12:44:39.673739Z",
     "start_time": "2024-04-05T12:44:39.646873Z"
    }
   },
   "id": "34acfc8b28bbaf2f",
   "execution_count": 11
  },
  {
   "cell_type": "markdown",
   "source": [],
   "metadata": {
    "collapsed": false
   },
   "id": "4125fc03d924f1c8"
  },
  {
   "cell_type": "markdown",
   "source": [
    "## Other components"
   ],
   "metadata": {
    "collapsed": false
   },
   "id": "4289010808288890"
  },
  {
   "cell_type": "markdown",
   "source": [
    "Other Reflexion components are even simpler by default, since they don't use tools.\n",
    "\n",
    "* Self-Reflection needs only prompt + LLM.\n",
    "* Evaluator needs prompt + LLM + threshold (it outputs a float, and the execution loop will continue only if float < threshold).\n",
    "\n",
    "However, in this case, both components also receive intermediate_steps as part of input, so they also need the same parser.\n"
   ],
   "metadata": {
    "collapsed": false
   },
   "id": "c7b14e5e5c101c77"
  },
  {
   "cell_type": "code",
   "outputs": [],
   "source": [
    "evaluator = ReflexionEvaluator.create(llm=ChatOpenAI(model=model_name, temperature=temperature), user_message=dedent(\"\"\"\"Given an input and an answer, give a judgement if the answer is correct, i.e. 1) it uses each given number exactly once; 2) it doesn't use any other number; 3) given mathematical expression correctly reaches 24.\"\"\"), threshold=value_threshold, parser_name=\"openai-tools\")"
   ],
   "metadata": {
    "collapsed": false,
    "ExecuteTime": {
     "end_time": "2024-04-05T12:44:40.890956Z",
     "start_time": "2024-04-05T12:44:40.864153Z"
    }
   },
   "id": "608d21e1c040ba1d",
   "execution_count": 12
  },
  {
   "cell_type": "code",
   "outputs": [],
   "source": [
    "self_reflection = ReflexionSelfReflection.create(llm=ChatOpenAI(model=model_name, temperature=temperature), user_message=dedent(\"\"\"You will be given your previous trial in Game of 24, where you had to use basic arithmetic operations (+ - * /) with given numbers to obtain 24. You were unsuccessful.\"\"\"), parser_name=\"openai-tools\")"
   ],
   "metadata": {
    "collapsed": false,
    "ExecuteTime": {
     "end_time": "2024-04-05T12:44:41.187830Z",
     "start_time": "2024-04-05T12:44:41.161008Z"
    }
   },
   "id": "b20c88b95bc90932",
   "execution_count": 13
  },
  {
   "cell_type": "code",
   "outputs": [],
   "source": [
    "from planning_library.action_executors import GymnasiumActionExecutor\n",
    "from typing import Dict, Any\n",
    "\n",
    "\n",
    "def reset_environment(inputs: Dict[str, Any]) -> None:\n",
    "    env.reset(options={\"numbers\": [float(n) for n in inputs[\"inputs\"].split()]})\n",
    "\n",
    "\n",
    "action_executor = GymnasiumActionExecutor(env)"
   ],
   "metadata": {
    "collapsed": false,
    "ExecuteTime": {
     "end_time": "2024-04-05T12:44:41.502356Z",
     "start_time": "2024-04-05T12:44:41.485390Z"
    }
   },
   "id": "f6e2fed4f770e360",
   "execution_count": 14
  },
  {
   "cell_type": "code",
   "outputs": [],
   "source": [
    "reflexion = ReflexionStrategy.create_from_components(\n",
    "    action_executor=action_executor,\n",
    "    actor=actor,\n",
    "    evaluator=evaluator,\n",
    "    self_reflection=self_reflection,\n",
    "    reset_environment=reset_environment,\n",
    "    max_iterations=max_num_iterations,\n",
    ")"
   ],
   "metadata": {
    "collapsed": false,
    "ExecuteTime": {
     "end_time": "2024-04-05T12:44:41.954442Z",
     "start_time": "2024-04-05T12:44:41.938418Z"
    }
   },
   "id": "d5217c49707cefc",
   "execution_count": 15
  },
  {
   "cell_type": "code",
   "outputs": [
    {
     "data": {
      "text/plain": "{'inputs': {'inputs': '1 1 4 6'},\n 'agent_outcome': AgentFinish(return_values={'output': 'I successfully reached 24 with the following steps:\\n- \\\\(4 \\\\times 6 = 24\\\\)\\n- \\\\(1 \\\\times 24 = 24\\\\)\\n- \\\\(1 \\\\times 24 = 24\\\\)\\n\\nTherefore, the expression to obtain 24 from the numbers 1, 1, 4, and 6 is:\\n\\\\((4 \\\\times 6) \\\\times (1 \\\\times 24) = 24\\\\)'}, log='I successfully reached 24 with the following steps:\\n- \\\\(4 \\\\times 6 = 24\\\\)\\n- \\\\(1 \\\\times 24 = 24\\\\)\\n- \\\\(1 \\\\times 24 = 24\\\\)\\n\\nTherefore, the expression to obtain 24 from the numbers 1, 1, 4, and 6 is:\\n\\\\((4 \\\\times 6) \\\\times (1 \\\\times 24) = 24\\\\)'),\n 'evaluator_should_continue': False,\n 'self_reflection_memory': ChatMessageHistory(messages=[]),\n 'self_reflections': [],\n 'intermediate_steps': [(OpenAIToolAgentAction(tool='multiply', tool_input={'number1': 4, 'number2': 6}, log=\"\\nInvoking: `multiply` with `{'number1': 4, 'number2': 6}`\\n\\n\\n\", message_log=[AIMessageChunk(content='', additional_kwargs={'tool_calls': [{'index': 0, 'id': 'call_u9jPblWdyY1edBAoGtcPKuNF', 'function': {'arguments': '{\"number1\": 4, \"number2\": 6}', 'name': 'multiply'}, 'type': 'function'}, {'index': 1, 'id': 'call_8dOiKH3FT8U86SWaYbgYUTqe', 'function': {'arguments': '{\"number1\": 1, \"number2\": 24}', 'name': 'multiply'}, 'type': 'function'}, {'index': 2, 'id': 'call_3Gd4XmuQXMNk8YWObtMx7e3t', 'function': {'arguments': '{\"number1\": 1, \"number2\": 24}', 'name': 'multiply'}, 'type': 'function'}]})], tool_call_id='call_u9jPblWdyY1edBAoGtcPKuNF'),\n   {'observation': 'result of current arithmetical operation on 4.0 and 6.0 is 24.0',\n    'reward': 0,\n    'terminated': False,\n    'truncated': False,\n    'info': {'numbers': '1.0 1.0 24.0'}}),\n  (OpenAIToolAgentAction(tool='multiply', tool_input={'number1': 1, 'number2': 24}, log=\"\\nInvoking: `multiply` with `{'number1': 1, 'number2': 24}`\\n\\n\\n\", message_log=[AIMessageChunk(content='', additional_kwargs={'tool_calls': [{'index': 0, 'id': 'call_u9jPblWdyY1edBAoGtcPKuNF', 'function': {'arguments': '{\"number1\": 4, \"number2\": 6}', 'name': 'multiply'}, 'type': 'function'}, {'index': 1, 'id': 'call_8dOiKH3FT8U86SWaYbgYUTqe', 'function': {'arguments': '{\"number1\": 1, \"number2\": 24}', 'name': 'multiply'}, 'type': 'function'}, {'index': 2, 'id': 'call_3Gd4XmuQXMNk8YWObtMx7e3t', 'function': {'arguments': '{\"number1\": 1, \"number2\": 24}', 'name': 'multiply'}, 'type': 'function'}]})], tool_call_id='call_8dOiKH3FT8U86SWaYbgYUTqe'),\n   {'observation': 'result of current arithmetical operation on 1.0 and 24.0 is 24.0',\n    'reward': 0,\n    'terminated': False,\n    'truncated': False,\n    'info': {'numbers': '1.0 24.0'}}),\n  (OpenAIToolAgentAction(tool='multiply', tool_input={'number1': 1, 'number2': 24}, log=\"\\nInvoking: `multiply` with `{'number1': 1, 'number2': 24}`\\n\\n\\n\", message_log=[AIMessageChunk(content='', additional_kwargs={'tool_calls': [{'index': 0, 'id': 'call_u9jPblWdyY1edBAoGtcPKuNF', 'function': {'arguments': '{\"number1\": 4, \"number2\": 6}', 'name': 'multiply'}, 'type': 'function'}, {'index': 1, 'id': 'call_8dOiKH3FT8U86SWaYbgYUTqe', 'function': {'arguments': '{\"number1\": 1, \"number2\": 24}', 'name': 'multiply'}, 'type': 'function'}, {'index': 2, 'id': 'call_3Gd4XmuQXMNk8YWObtMx7e3t', 'function': {'arguments': '{\"number1\": 1, \"number2\": 24}', 'name': 'multiply'}, 'type': 'function'}]})], tool_call_id='call_3Gd4XmuQXMNk8YWObtMx7e3t'),\n   {'observation': 'result of current arithmetical operation on 1.0 and 24.0 is 24.0',\n    'reward': 1,\n    'terminated': True,\n    'truncated': False,\n    'info': {'numbers': '24.0'}})],\n 'iteration': 1}"
     },
     "execution_count": 16,
     "metadata": {},
     "output_type": "execute_result"
    }
   ],
   "source": [
    "env.reset(options={\"numbers\": [1, 1, 4, 6]})\n",
    "reflexion.invoke(\n",
    "    {\"inputs\": {\"inputs\": \"1 1 4 6\"}},\n",
    "    {\"recursion_limit\": 1000},\n",
    ")"
   ],
   "metadata": {
    "collapsed": false,
    "ExecuteTime": {
     "end_time": "2024-04-05T12:44:47.476670Z",
     "start_time": "2024-04-05T12:44:42.316688Z"
    }
   },
   "id": "415a8d21878f332d",
   "execution_count": 16
  },
  {
   "cell_type": "code",
   "outputs": [],
   "source": [],
   "metadata": {
    "collapsed": false
   },
   "id": "60d6a66486e925cd"
  }
 ],
 "metadata": {
  "kernelspec": {
   "display_name": "Python 3",
   "language": "python",
   "name": "python3"
  },
  "language_info": {
   "codemirror_mode": {
    "name": "ipython",
    "version": 2
   },
   "file_extension": ".py",
   "mimetype": "text/x-python",
   "name": "python",
   "nbconvert_exporter": "python",
   "pygments_lexer": "ipython2",
   "version": "2.7.6"
  }
 },
 "nbformat": 4,
 "nbformat_minor": 5
}
