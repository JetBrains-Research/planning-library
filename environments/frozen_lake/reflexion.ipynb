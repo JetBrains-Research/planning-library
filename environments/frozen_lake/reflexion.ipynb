{
 "cells": [
  {
   "cell_type": "markdown",
   "source": [
    "# Frozen Lake + Reflexion"
   ],
   "metadata": {
    "collapsed": false
   },
   "id": "f1b3a2c25e7d6943"
  },
  {
   "cell_type": "markdown",
   "source": [
    "## Utils"
   ],
   "metadata": {
    "collapsed": false
   },
   "id": "68cdf5e900cd587c"
  },
  {
   "cell_type": "markdown",
   "source": [
    "### Imports"
   ],
   "metadata": {
    "collapsed": false
   },
   "id": "96aa86ff1291249c"
  },
  {
   "cell_type": "code",
   "outputs": [],
   "source": [
    "import gymnasium as gym\n",
    "from environments.frozen_lake.common.environment import FrozenLakeEnvWrapper\n",
    "from environments.frozen_lake.common.evaluate_output_parser import FrozenMapEvaluateOutputParser\n",
    "from langchain_openai import ChatOpenAI\n",
    "from gymnasium.envs.toy_text.frozen_lake import generate_random_map\n",
    "import os\n",
    "from environments.frozen_lake.reflexion.evaluate_prompts import evaluate_prompt\n",
    "from environments.frozen_lake.reflexion.generate_prompts import generate_openai_tools_prompt\n",
    "from environments.frozen_lake.reflexion.self_reflection_prompts import self_reflection_prompt\n",
    "from planning_library.strategies import ReflexionStrategy\n",
    "from operator import itemgetter\n",
    "from langchain_core.runnables import RunnableLambda\n",
    "from datetime import datetime\n",
    "\n",
    "\n",
    "%load_ext autoreload\n",
    "%autoreload 2"
   ],
   "metadata": {
    "collapsed": false,
    "ExecuteTime": {
     "end_time": "2024-03-18T21:03:12.338333Z",
     "start_time": "2024-03-18T21:03:11.358076Z"
    }
   },
   "id": "48f759757c035685",
   "execution_count": 1
  },
  {
   "cell_type": "markdown",
   "source": [
    "### Logging"
   ],
   "metadata": {
    "collapsed": false
   },
   "id": "64ed0785319527de"
  },
  {
   "cell_type": "code",
   "outputs": [],
   "source": [
    "os.environ[\"LANGCHAIN_TRACING_V2\"] = \"true\"\n",
    "os.environ[\"LANGCHAIN_PROJECT\"] = \"Reflexion + Frozen Lake test\"\n",
    "os.environ[\"LANGCHAIN_ENDPOINT\"] = \"https://api.smith.langchain.com\""
   ],
   "metadata": {
    "collapsed": false,
    "ExecuteTime": {
     "end_time": "2024-03-18T21:03:12.351972Z",
     "start_time": "2024-03-18T21:03:12.338770Z"
    }
   },
   "id": "abd110cdd4d02dd4",
   "execution_count": 2
  },
  {
   "cell_type": "markdown",
   "source": [
    "## Environment"
   ],
   "metadata": {
    "collapsed": false
   },
   "id": "2969cfcecf4a6483"
  },
  {
   "cell_type": "markdown",
   "source": [
    "We use a custom wrapper on top of Frozen Lake from gym. It changes the following:\n",
    "* it accepts `AgentAction` from LangChain and internally calls the original environment with right actions;\n",
    "* it transforms the observations returned by the original environment: instead of a single number, it's now current position (x,y) on the board;\n",
    "* it supports performing a given sequence of actions when resetting an environment."
   ],
   "metadata": {
    "collapsed": false
   },
   "id": "d4f989730a3455f2"
  },
  {
   "cell_type": "code",
   "outputs": [
    {
     "data": {
      "text/plain": "(0, {'prob': 1})"
     },
     "execution_count": 3,
     "metadata": {},
     "output_type": "execute_result"
    }
   ],
   "source": [
    "env = gym.make(\"FrozenLake-v1\", desc=generate_random_map(size=4), is_slippery=True, render_mode=\"rgb_array\")\n",
    "env = FrozenLakeEnvWrapper(env)\n",
    "env = gym.wrappers.RecordVideo(env, video_folder=f\"reflexion_video/slippery_{datetime.strftime(datetime.now(), '%d-%m-%Y;%H:%m:%s')}\", episode_trigger=lambda x: True)\n",
    "env.reset(seed=123)"
   ],
   "metadata": {
    "collapsed": false,
    "ExecuteTime": {
     "end_time": "2024-03-18T21:03:12.536615Z",
     "start_time": "2024-03-18T21:03:12.349827Z"
    }
   },
   "id": "22c99e88bb714b46",
   "execution_count": 3
  },
  {
   "cell_type": "code",
   "outputs": [
    {
     "name": "stdout",
     "output_type": "stream",
     "text": [
      "SHFF\n",
      "FHFF\n",
      "FFFF\n",
      "FFFG\n"
     ]
    }
   ],
   "source": [
    "board = \"\\n\".join(\"\".join(x.decode() for x in y) for y in env.get_wrapper_attr(\"desc\"))\n",
    "print(board)"
   ],
   "metadata": {
    "collapsed": false,
    "ExecuteTime": {
     "end_time": "2024-03-18T21:03:12.547874Z",
     "start_time": "2024-03-18T21:03:12.534198Z"
    }
   },
   "id": "c6ef64474d16827d",
   "execution_count": 4
  },
  {
   "cell_type": "markdown",
   "source": [
    "## Strategy"
   ],
   "metadata": {
    "collapsed": false
   },
   "id": "c1de7cfd7cecbb98"
  },
  {
   "cell_type": "markdown",
   "source": [
    "### Hyperparameters"
   ],
   "metadata": {
    "collapsed": false
   },
   "id": "9ffd154c69636f64"
  },
  {
   "cell_type": "code",
   "outputs": [],
   "source": [
    "# Reflexion hyperparameters\n",
    "value_threshold = 1.0  # threshold for evaluation; when reached, the loop will exit\n",
    "max_num_iterations = 20  # maximum number of iterations; when reached, the loop will exit\n",
    "\n",
    "# other hyperparameters\n",
    "model_name = \"gpt-3.5-turbo\"\n",
    "temperature = 0.8"
   ],
   "metadata": {
    "collapsed": false,
    "ExecuteTime": {
     "end_time": "2024-03-18T21:03:12.565629Z",
     "start_time": "2024-03-18T21:03:12.545838Z"
    }
   },
   "id": "2cc8b7dde93ccca2",
   "execution_count": 5
  },
  {
   "cell_type": "markdown",
   "source": [
    "### Actor"
   ],
   "metadata": {
    "collapsed": false
   },
   "id": "1b89e9beb9140b53"
  },
  {
   "cell_type": "markdown",
   "source": [
    "Default Actor is powered by [any agent available in LangChain](https://python.langchain.com/docs/modules/agents/agent_types/). Specifically, it expects either [`BaseSingleActionAgent`](https://api.python.langchain.com/en/latest/agents/langchain.agents.agent.BaseSingleActionAgent.html#langchain.agents.agent.BaseSingleActionAgent) or [`BaseMultiAgentAgent`](https://api.python.langchain.com/en/latest/agents/langchain.agents.agent.BaseMultiActionAgent.html#langchain.agents.agent.BaseMultiActionAgent)."
   ],
   "metadata": {
    "collapsed": false
   },
   "id": "2d2a1680ccf7ac9b"
  },
  {
   "cell_type": "markdown",
   "source": [
    "### Prompt\n",
    "\n",
    "Here is an example of a simple prompt suitable for Game of 24 with Reflexion."
   ],
   "metadata": {
    "collapsed": false
   },
   "id": "75f30ffccb7b9f32"
  },
  {
   "cell_type": "code",
   "outputs": [
    {
     "data": {
      "text/plain": "['agent_scratchpad', 'inputs', 'self_reflections']"
     },
     "execution_count": 6,
     "metadata": {},
     "output_type": "execute_result"
    }
   ],
   "source": [
    "generate_openai_tools_prompt.input_variables"
   ],
   "metadata": {
    "collapsed": false,
    "ExecuteTime": {
     "end_time": "2024-03-18T21:03:13.365231Z",
     "start_time": "2024-03-18T21:03:13.345002Z"
    }
   },
   "id": "f411ea66ed5d0053",
   "execution_count": 6
  },
  {
   "cell_type": "code",
   "outputs": [
    {
     "name": "stdout",
     "output_type": "stream",
     "text": [
      "System: You are an intelligent agent playing a Frozen Lake game.\n",
      "Human: \n",
      "In Frozen Lake game, you move on a 2D grid. Your goal is to cross this grid from start \n",
      "to finish without falling into any holes.\n",
      "\n",
      "You start at location (0,0) (upper left corner) of the frozen lake grid world, and the finish is located at far extent of the world, i.e., (n - 1, n - 1) for n x n grid (lower right corner).\n",
      "\n",
      "The first coordinate is X axis. \n",
      "When you move right, you increase your first coordinate by 1 (can't be bigger than n - 1).\n",
      "When you move left, you decrease your first coordinate by 1 (can't be lower than 0).\n",
      "\n",
      "The second coordinate is Y axis.\n",
      "When you move up, you decrease your second coordinate by 1 (can't be lower than 0).\n",
      "When you move down, you increase your second coordinate by 1 (can't be bigger than n - 1).\n",
      "\n",
      "The map is an n x n grid where different types of cells are denoted by different letters:\n",
      "* S - start cell\n",
      "* G - goal cell\n",
      "* F - frozen cell\n",
      "* H - hole cell\n",
      "\n",
      "Example for 2 x 2 case:\n",
      "SH\n",
      "FG\n",
      "\n",
      "If you step on the hole, the game ends. You are allowed to step on the frozen cells, but note that they are slippery, so there is a probability that you will move perpendicular to the intended direction. \n",
      "Pay attention to the 'terminated' in tools' output, if it is set to True, it means the game has ended. DO NOT call any tools, just finish.\n",
      "\n",
      "Current map:\n",
      "SHFF\n",
      "FHFF\n",
      "FFFF\n",
      "FFFG \n",
      "\n",
      "Human: \n",
      "This might be not your first attempt to play this game. \n",
      "In this case, you will find self-reflective thoughts below. Make sure to pay extra attention to them, as they aim to identify and mitigate the exact shortcomings that led to failure in previous trials. \n",
      "\n",
      "Human: Good luck! Use tools to move; refrain from calling tools only when the game has ended.\n"
     ]
    }
   ],
   "source": [
    "print(generate_openai_tools_prompt.format(inputs=board, self_reflections=[], agent_scratchpad=[]))"
   ],
   "metadata": {
    "collapsed": false,
    "ExecuteTime": {
     "end_time": "2024-03-18T21:03:13.588765Z",
     "start_time": "2024-03-18T21:03:13.568853Z"
    }
   },
   "id": "f35961d46cbd51dc",
   "execution_count": 7
  },
  {
   "cell_type": "code",
   "outputs": [
    {
     "data": {
      "text/plain": "[MoveTool(env=<FrozenLakeEnvWrapper<TimeLimit<OrderEnforcing<PassiveEnvChecker<FrozenLakeEnv<FrozenLake-v1>>>>>>)]"
     },
     "execution_count": 8,
     "metadata": {},
     "output_type": "execute_result"
    }
   ],
   "source": [
    "tools = env.get_wrapper_attr(\"tools\")\n",
    "tools"
   ],
   "metadata": {
    "collapsed": false,
    "ExecuteTime": {
     "end_time": "2024-03-18T21:03:13.804976Z",
     "start_time": "2024-03-18T21:03:13.788093Z"
    }
   },
   "id": "1f53165999c51eaa",
   "execution_count": 8
  },
  {
   "cell_type": "markdown",
   "source": [
    "### Putting It All Together\n",
    "\n",
    "Let's use [OpenAI Tools](https://python.langchain.com/docs/modules/agents/agent_types/openai_tools) agent."
   ],
   "metadata": {
    "collapsed": false
   },
   "id": "c069d6bb91e29a8"
  },
  {
   "cell_type": "code",
   "outputs": [],
   "source": [
    "from langchain_core.utils.function_calling import convert_to_openai_tool\n",
    "from typing import Tuple, Any\n",
    "from langchain.agents.format_scratchpad.openai_tools import format_to_openai_tool_messages\n",
    "from typing import List\n",
    "from langchain_core.messages import BaseMessage, AIMessage\n",
    "from langchain.agents.output_parsers.openai_tools import OpenAIToolsAgentOutputParser\n",
    "\n",
    "\n",
    "def format_self_reflections(self_reflections: List[Tuple[str, Any]]) -> List[BaseMessage]:\n",
    "    result = []\n",
    "    for t in self_reflections:\n",
    "        if t[0] == \"content\":\n",
    "            content = t[1]\n",
    "            message = AIMessage(content=content)\n",
    "            result.append(message)\n",
    "            \n",
    "    return result\n",
    "\n",
    "\n",
    "# copied from langchain.agents.create_openai_tools_agent to allow for custom formatting of `self_reflections in inputs\n",
    "\n",
    "llm = ChatOpenAI(model=model_name, temperature=temperature).bind(tools=[convert_to_openai_tool(tool) for tool in tools])\n",
    "\n",
    "agent = (\n",
    "    {\n",
    "        \"inputs\": itemgetter(\"inputs\"),\n",
    "        \"agent_scratchpad\": itemgetter(\"intermediate_steps\") | RunnableLambda(format_to_openai_tool_messages),\n",
    "        \"self_reflections\": itemgetter(\"self_reflections\") | RunnableLambda(format_self_reflections),\n",
    "    }\n",
    "    | generate_openai_tools_prompt\n",
    "    | llm\n",
    "    | OpenAIToolsAgentOutputParser()\n",
    ")"
   ],
   "metadata": {
    "collapsed": false,
    "ExecuteTime": {
     "end_time": "2024-03-18T21:03:14.427361Z",
     "start_time": "2024-03-18T21:03:14.322347Z"
    }
   },
   "id": "a4d1ad736ad1d79b",
   "execution_count": 9
  },
  {
   "cell_type": "markdown",
   "source": [
    "### Evaluator\n",
    "\n",
    "Default Evaluator is powered by a [`Runnable`](https://python.langchain.com/docs/expression_language/interface) that takes in:\n",
    "\n",
    "* `inputs`: original inputs\n",
    "* `intermediate_steps`: a sequence of agent actions\n",
    "* `agent_outcome`: final answer\n",
    "\n",
    "It is allowed to return anything. In this case, it returns a float ranging from 0 to 1."
   ],
   "metadata": {
    "collapsed": false
   },
   "id": "2e5020ea567e6733"
  },
  {
   "cell_type": "markdown",
   "source": [
    "### Prompt"
   ],
   "metadata": {
    "collapsed": false
   },
   "id": "380f6b81387743aa"
  },
  {
   "cell_type": "code",
   "outputs": [
    {
     "data": {
      "text/plain": "['inputs', 'intermediate_steps']"
     },
     "execution_count": 10,
     "metadata": {},
     "output_type": "execute_result"
    }
   ],
   "source": [
    "evaluate_prompt.input_variables"
   ],
   "metadata": {
    "collapsed": false,
    "ExecuteTime": {
     "end_time": "2024-03-18T21:03:15.176148Z",
     "start_time": "2024-03-18T21:03:15.162048Z"
    }
   },
   "id": "eb73d59ba336e5a",
   "execution_count": 10
  },
  {
   "cell_type": "code",
   "outputs": [
    {
     "name": "stdout",
     "output_type": "stream",
     "text": [
      "System: You are a helpful assistant that judges whether the episodes of playing the Frozen Lake game ended in failure or success.\n",
      "Human: \n",
      "In the Frozen Lake game, you move on a 2D grid. The end goal is to cross this grid from start \n",
      "to finish without falling into any holes.\n",
      "You start at location (0,0) (upper left corner) of the frozen lake grid world, and the finish is located \n",
      "at far extent of the world, i.e., (n - 1, n - 1) for n x n grid (lower right corner). \n",
      "If you step on the hole, the game ends.\n",
      "\n",
      "You will be given a map and a sequence of intermediate steps from one episode of playing Frozen Lake game. Your goal is to evaluate whether the episode ended in success (i.e., the goal was obtained) or in failure (i.e., the player stepped into the hole or didn't reach a goal for some reason).   \n",
      "\n",
      "Take your time and comment your decision, but make sure to always output either 0 or 1 in the end, where 0 would mean 'the episode ended in failure' and 1 would mean 'the episode ended in success'. \n",
      "Use the following format: [[number]].\n",
      "Human: \n",
      "The map is an n x n grid where different types of cells are denoted by different letters:\n",
      "* S - start cell\n",
      "* G - goal cell\n",
      "* F - frozen cell\n",
      "* H - hole cell\n",
      "\n",
      "Example for 2 x 2 case:\n",
      "SH\n",
      "FG\n",
      "\n",
      "Current map:\n",
      "SHFF\n",
      "FHFF\n",
      "FFFF\n",
      "FFFG\n",
      "Human: \n",
      "Pay attention to the 'terminated' and 'reward' in tools' output. \n",
      "If 'reward' is set to 1, it means the goal has been reached. \n",
      "If 'terminated' is set to True, it means the game has ended. \n",
      "If the reward is not equal to 1 at that time, it means the player has fallen into a hole, hence, it is a failure.\n",
      "\n",
      "Your verdict (ALWAYS output either 0 or 1 in double brackets like [[number]]):\n"
     ]
    }
   ],
   "source": [
    "print(evaluate_prompt.format(inputs=board, intermediate_steps=[]))"
   ],
   "metadata": {
    "collapsed": false,
    "ExecuteTime": {
     "end_time": "2024-03-18T21:03:15.499977Z",
     "start_time": "2024-03-18T21:03:15.482604Z"
    }
   },
   "id": "77fa4781b185b669",
   "execution_count": 11
  },
  {
   "cell_type": "markdown",
   "source": [
    "### Putting It All Together"
   ],
   "metadata": {
    "collapsed": false
   },
   "id": "fbc1e67995391440"
  },
  {
   "cell_type": "code",
   "outputs": [],
   "source": [
    "evaluator_runnable = (\n",
    "    {\n",
    "        \"inputs\": itemgetter(\"inputs\") | RunnableLambda(itemgetter(\"inputs\")),\n",
    "        \"intermediate_steps\": itemgetter(\"intermediate_steps\") | RunnableLambda(format_to_openai_tool_messages),\n",
    "    }\n",
    "    | evaluate_prompt\n",
    "    | ChatOpenAI(model=model_name, temperature=temperature)\n",
    "    | FrozenMapEvaluateOutputParser()\n",
    ")"
   ],
   "metadata": {
    "collapsed": false,
    "ExecuteTime": {
     "end_time": "2024-03-18T21:03:16.084413Z",
     "start_time": "2024-03-18T21:03:16.059343Z"
    }
   },
   "id": "dfc42f8a778f42e0",
   "execution_count": 12
  },
  {
   "cell_type": "markdown",
   "source": [
    "### Self-Reflection"
   ],
   "metadata": {
    "collapsed": false
   },
   "id": "3ee7ddf0f7f7b4fc"
  },
  {
   "cell_type": "markdown",
   "source": [
    "Default Self-Reflection is powered by a [`Runnable`](https://python.langchain.com/docs/expression_language/interface) that takes in:\n",
    "\n",
    "* `inputs`: original inputs\n",
    "* `intermediate_steps`: a sequence of agent actions\n",
    "* `agent_outcome`: final answer\n",
    "\n",
    "And returns a single self-reflection: high-level plan of what went wrong in a current trial."
   ],
   "metadata": {
    "collapsed": false
   },
   "id": "55f5a71783c0429f"
  },
  {
   "cell_type": "markdown",
   "source": [
    "### Prompt"
   ],
   "metadata": {
    "collapsed": false
   },
   "id": "ae1a9b3cdf43989b"
  },
  {
   "cell_type": "code",
   "outputs": [
    {
     "data": {
      "text/plain": "['inputs', 'intermediate_steps']"
     },
     "execution_count": 13,
     "metadata": {},
     "output_type": "execute_result"
    }
   ],
   "source": [
    "self_reflection_prompt.input_variables"
   ],
   "metadata": {
    "collapsed": false,
    "ExecuteTime": {
     "end_time": "2024-03-18T21:03:17.100417Z",
     "start_time": "2024-03-18T21:03:17.084170Z"
    }
   },
   "id": "2404402ce897eb33",
   "execution_count": 13
  },
  {
   "cell_type": "code",
   "outputs": [
    {
     "name": "stdout",
     "output_type": "stream",
     "text": [
      "System: You are an advanced reasoning agent that can self-reflect on their shortcomings when solving reasoning tasks.\n",
      "Human: \n",
      "You will be given your previous trial in the Frozen Lake game.\n",
      "\n",
      "In Frozen Lake game, you move on a 2D grid. The end goal is to cross this grid from start \n",
      "to finish without falling into any holes.\n",
      "\n",
      "You start at location (0,0) (upper left corner) of the frozen lake grid world, and the finish is located \n",
      "at far extent of the world, i.e., (n - 1, n - 1) for n x n grid (lower right corner). \n",
      "\n",
      "The first coordinate is X axis. \n",
      "When you move right, you increase your first coordinate by 1 (can't be bigger than n - 1).\n",
      "When you move left, you decrease your first coordinate by 1 (can't be lower than 0).\n",
      "\n",
      "The second coordinate is Y axis.\n",
      "When you move up, you decrease your second coordinate by 1 (can't be lower than 0).\n",
      "When you move down, you increase your second coordinate by 1 (can't be bigger than n - 1).\n",
      "\n",
      "The map is an n x n grid where different types of cells are denoted by different letters:\n",
      "* S - start cell\n",
      "* G - goal cell\n",
      "* F - frozen cell\n",
      "* H - hole cell\n",
      "\n",
      "Example for 2 x 2 case:\n",
      "SH\n",
      "FG\n",
      "\n",
      "If you step on the hole, the game ends. You are allowed to step on the frozen cells, but note that they are slippery, so there is a probability that you will move perpendicular to the intended direction.\n",
      "\n",
      "Current map:\n",
      "SHFF\n",
      "FHFF\n",
      "FFFF\n",
      "FFFG\n",
      "Human: \n",
      "In this trial, you were unsuccessful. \n",
      "In a few sentences, diagnose a possible reason for failure and devise a new, concise, high level plan that aims to mitigate the same shortcomings. \n",
      "Use complete sentences.\n"
     ]
    }
   ],
   "source": [
    "print(\n",
    "    self_reflection_prompt.format(\n",
    "        inputs=board,\n",
    "        intermediate_steps=[],\n",
    "    )\n",
    ")"
   ],
   "metadata": {
    "collapsed": false,
    "ExecuteTime": {
     "end_time": "2024-03-18T21:03:17.381653Z",
     "start_time": "2024-03-18T21:03:17.366172Z"
    }
   },
   "id": "4aae2e53deb5d011",
   "execution_count": 14
  },
  {
   "cell_type": "markdown",
   "source": [
    "### Putting It All Together"
   ],
   "metadata": {
    "collapsed": false
   },
   "id": "344d994249fc776b"
  },
  {
   "cell_type": "code",
   "outputs": [],
   "source": [
    "self_reflection_runnable = (\n",
    "    {\n",
    "        \"inputs\": itemgetter(\"inputs\") | RunnableLambda(itemgetter(\"inputs\")),\n",
    "        \"intermediate_steps\": lambda x: format_to_openai_tool_messages(x[\"intermediate_steps\"]),\n",
    "        \"agent_outcome\": lambda x: x[\"agent_outcome\"].return_values[\"output\"],\n",
    "    }\n",
    "    | self_reflection_prompt\n",
    "    | ChatOpenAI(model=model_name, temperature=temperature)\n",
    ")"
   ],
   "metadata": {
    "collapsed": false,
    "ExecuteTime": {
     "end_time": "2024-03-18T21:03:18.023979Z",
     "start_time": "2024-03-18T21:03:17.998521Z"
    }
   },
   "id": "8afcc1e559dab7fe",
   "execution_count": 15
  },
  {
   "cell_type": "markdown",
   "source": [
    "## Defining strategy"
   ],
   "metadata": {
    "collapsed": false
   },
   "id": "9085e129d898d238"
  },
  {
   "cell_type": "code",
   "outputs": [],
   "source": [
    "from planning_library.action_executors import GymnasiumActionExecutor\n",
    "from typing import Dict, Any\n",
    "\n",
    "\n",
    "def reset_environment(_: Dict[str, Any]) -> None:\n",
    "    env.reset()\n",
    "\n",
    "\n",
    "action_executor = GymnasiumActionExecutor(env)\n",
    "reflexion = ReflexionStrategy.create(\n",
    "    agent=agent,\n",
    "    tools=tools,\n",
    "    action_executor=action_executor,\n",
    "    evaluator_runnable=evaluator_runnable,\n",
    "    self_reflection_runnable=self_reflection_runnable,\n",
    "    value_threshold=value_threshold,\n",
    "    reset_environment=reset_environment,\n",
    "    max_iterations=max_num_iterations,\n",
    ")"
   ],
   "metadata": {
    "collapsed": false,
    "ExecuteTime": {
     "end_time": "2024-03-18T21:03:18.639805Z",
     "start_time": "2024-03-18T21:03:18.626160Z"
    }
   },
   "id": "1b39a898d9407812",
   "execution_count": 16
  },
  {
   "cell_type": "code",
   "outputs": [
    {
     "name": "stdout",
     "output_type": "stream",
     "text": [
      "Moviepy - Building video /Users/Alexandra.Eliseeva/PycharmProjects/planning-library/environments/frozen_lake/reflexion_video/slippery_18-03-2024;22:03:1710795792/rl-video-episode-0.mp4.\n",
      "Moviepy - Writing video /Users/Alexandra.Eliseeva/PycharmProjects/planning-library/environments/frozen_lake/reflexion_video/slippery_18-03-2024;22:03:1710795792/rl-video-episode-0.mp4\n"
     ]
    },
    {
     "name": "stderr",
     "output_type": "stream",
     "text": [
      "                                                  "
     ]
    },
    {
     "name": "stdout",
     "output_type": "stream",
     "text": [
      "Moviepy - Done !\n",
      "Moviepy - video ready /Users/Alexandra.Eliseeva/PycharmProjects/planning-library/environments/frozen_lake/reflexion_video/slippery_18-03-2024;22:03:1710795792/rl-video-episode-0.mp4\n"
     ]
    },
    {
     "name": "stderr",
     "output_type": "stream",
     "text": [
      "\r"
     ]
    },
    {
     "name": "stdout",
     "output_type": "stream",
     "text": [
      "Moviepy - Building video /Users/Alexandra.Eliseeva/PycharmProjects/planning-library/environments/frozen_lake/reflexion_video/slippery_18-03-2024;22:03:1710795792/rl-video-episode-1.mp4.\n",
      "Moviepy - Writing video /Users/Alexandra.Eliseeva/PycharmProjects/planning-library/environments/frozen_lake/reflexion_video/slippery_18-03-2024;22:03:1710795792/rl-video-episode-1.mp4\n"
     ]
    },
    {
     "name": "stderr",
     "output_type": "stream",
     "text": [
      "                                                  "
     ]
    },
    {
     "name": "stdout",
     "output_type": "stream",
     "text": [
      "Moviepy - Done !\n",
      "Moviepy - video ready /Users/Alexandra.Eliseeva/PycharmProjects/planning-library/environments/frozen_lake/reflexion_video/slippery_18-03-2024;22:03:1710795792/rl-video-episode-1.mp4\n"
     ]
    },
    {
     "name": "stderr",
     "output_type": "stream",
     "text": [
      "\r"
     ]
    },
    {
     "name": "stdout",
     "output_type": "stream",
     "text": [
      "Moviepy - Building video /Users/Alexandra.Eliseeva/PycharmProjects/planning-library/environments/frozen_lake/reflexion_video/slippery_18-03-2024;22:03:1710795792/rl-video-episode-2.mp4.\n",
      "Moviepy - Writing video /Users/Alexandra.Eliseeva/PycharmProjects/planning-library/environments/frozen_lake/reflexion_video/slippery_18-03-2024;22:03:1710795792/rl-video-episode-2.mp4\n"
     ]
    },
    {
     "name": "stderr",
     "output_type": "stream",
     "text": [
      "                                                  "
     ]
    },
    {
     "name": "stdout",
     "output_type": "stream",
     "text": [
      "Moviepy - Done !\n",
      "Moviepy - video ready /Users/Alexandra.Eliseeva/PycharmProjects/planning-library/environments/frozen_lake/reflexion_video/slippery_18-03-2024;22:03:1710795792/rl-video-episode-2.mp4\n"
     ]
    },
    {
     "name": "stderr",
     "output_type": "stream",
     "text": [
      "\r"
     ]
    },
    {
     "name": "stdout",
     "output_type": "stream",
     "text": [
      "Moviepy - Building video /Users/Alexandra.Eliseeva/PycharmProjects/planning-library/environments/frozen_lake/reflexion_video/slippery_18-03-2024;22:03:1710795792/rl-video-episode-3.mp4.\n",
      "Moviepy - Writing video /Users/Alexandra.Eliseeva/PycharmProjects/planning-library/environments/frozen_lake/reflexion_video/slippery_18-03-2024;22:03:1710795792/rl-video-episode-3.mp4\n"
     ]
    },
    {
     "name": "stderr",
     "output_type": "stream",
     "text": [
      "                                                   "
     ]
    },
    {
     "name": "stdout",
     "output_type": "stream",
     "text": [
      "Moviepy - Done !\n",
      "Moviepy - video ready /Users/Alexandra.Eliseeva/PycharmProjects/planning-library/environments/frozen_lake/reflexion_video/slippery_18-03-2024;22:03:1710795792/rl-video-episode-3.mp4\n"
     ]
    },
    {
     "name": "stderr",
     "output_type": "stream",
     "text": [
      "\r"
     ]
    },
    {
     "name": "stdout",
     "output_type": "stream",
     "text": [
      "Moviepy - Building video /Users/Alexandra.Eliseeva/PycharmProjects/planning-library/environments/frozen_lake/reflexion_video/slippery_18-03-2024;22:03:1710795792/rl-video-episode-4.mp4.\n",
      "Moviepy - Writing video /Users/Alexandra.Eliseeva/PycharmProjects/planning-library/environments/frozen_lake/reflexion_video/slippery_18-03-2024;22:03:1710795792/rl-video-episode-4.mp4\n"
     ]
    },
    {
     "name": "stderr",
     "output_type": "stream",
     "text": [
      "                                                  "
     ]
    },
    {
     "name": "stdout",
     "output_type": "stream",
     "text": [
      "Moviepy - Done !\n",
      "Moviepy - video ready /Users/Alexandra.Eliseeva/PycharmProjects/planning-library/environments/frozen_lake/reflexion_video/slippery_18-03-2024;22:03:1710795792/rl-video-episode-4.mp4\n"
     ]
    },
    {
     "name": "stderr",
     "output_type": "stream",
     "text": [
      "\r"
     ]
    },
    {
     "name": "stdout",
     "output_type": "stream",
     "text": [
      "Moviepy - Building video /Users/Alexandra.Eliseeva/PycharmProjects/planning-library/environments/frozen_lake/reflexion_video/slippery_18-03-2024;22:03:1710795792/rl-video-episode-5.mp4.\n",
      "Moviepy - Writing video /Users/Alexandra.Eliseeva/PycharmProjects/planning-library/environments/frozen_lake/reflexion_video/slippery_18-03-2024;22:03:1710795792/rl-video-episode-5.mp4\n"
     ]
    },
    {
     "name": "stderr",
     "output_type": "stream",
     "text": [
      "                                                  "
     ]
    },
    {
     "name": "stdout",
     "output_type": "stream",
     "text": [
      "Moviepy - Done !\n",
      "Moviepy - video ready /Users/Alexandra.Eliseeva/PycharmProjects/planning-library/environments/frozen_lake/reflexion_video/slippery_18-03-2024;22:03:1710795792/rl-video-episode-5.mp4\n"
     ]
    },
    {
     "name": "stderr",
     "output_type": "stream",
     "text": [
      "\r"
     ]
    },
    {
     "name": "stdout",
     "output_type": "stream",
     "text": [
      "Moviepy - Building video /Users/Alexandra.Eliseeva/PycharmProjects/planning-library/environments/frozen_lake/reflexion_video/slippery_18-03-2024;22:03:1710795792/rl-video-episode-6.mp4.\n",
      "Moviepy - Writing video /Users/Alexandra.Eliseeva/PycharmProjects/planning-library/environments/frozen_lake/reflexion_video/slippery_18-03-2024;22:03:1710795792/rl-video-episode-6.mp4\n"
     ]
    },
    {
     "name": "stderr",
     "output_type": "stream",
     "text": [
      "                                                  "
     ]
    },
    {
     "name": "stdout",
     "output_type": "stream",
     "text": [
      "Moviepy - Done !\n",
      "Moviepy - video ready /Users/Alexandra.Eliseeva/PycharmProjects/planning-library/environments/frozen_lake/reflexion_video/slippery_18-03-2024;22:03:1710795792/rl-video-episode-6.mp4\n"
     ]
    },
    {
     "name": "stderr",
     "output_type": "stream",
     "text": [
      "\r"
     ]
    },
    {
     "name": "stdout",
     "output_type": "stream",
     "text": [
      "Moviepy - Building video /Users/Alexandra.Eliseeva/PycharmProjects/planning-library/environments/frozen_lake/reflexion_video/slippery_18-03-2024;22:03:1710795792/rl-video-episode-7.mp4.\n",
      "Moviepy - Writing video /Users/Alexandra.Eliseeva/PycharmProjects/planning-library/environments/frozen_lake/reflexion_video/slippery_18-03-2024;22:03:1710795792/rl-video-episode-7.mp4\n"
     ]
    },
    {
     "name": "stderr",
     "output_type": "stream",
     "text": [
      "                                                  "
     ]
    },
    {
     "name": "stdout",
     "output_type": "stream",
     "text": [
      "Moviepy - Done !\n",
      "Moviepy - video ready /Users/Alexandra.Eliseeva/PycharmProjects/planning-library/environments/frozen_lake/reflexion_video/slippery_18-03-2024;22:03:1710795792/rl-video-episode-7.mp4\n"
     ]
    },
    {
     "name": "stderr",
     "output_type": "stream",
     "text": [
      "\r"
     ]
    },
    {
     "name": "stdout",
     "output_type": "stream",
     "text": [
      "Moviepy - Building video /Users/Alexandra.Eliseeva/PycharmProjects/planning-library/environments/frozen_lake/reflexion_video/slippery_18-03-2024;22:03:1710795792/rl-video-episode-8.mp4.\n",
      "Moviepy - Writing video /Users/Alexandra.Eliseeva/PycharmProjects/planning-library/environments/frozen_lake/reflexion_video/slippery_18-03-2024;22:03:1710795792/rl-video-episode-8.mp4\n"
     ]
    },
    {
     "name": "stderr",
     "output_type": "stream",
     "text": [
      "                                                   "
     ]
    },
    {
     "name": "stdout",
     "output_type": "stream",
     "text": [
      "Moviepy - Done !\n",
      "Moviepy - video ready /Users/Alexandra.Eliseeva/PycharmProjects/planning-library/environments/frozen_lake/reflexion_video/slippery_18-03-2024;22:03:1710795792/rl-video-episode-8.mp4\n"
     ]
    },
    {
     "name": "stderr",
     "output_type": "stream",
     "text": [
      "\r"
     ]
    }
   ],
   "source": [
    "env.reset()\n",
    "reflexion.invoke(\n",
    "    {\"inputs\": {\"inputs\": board}},\n",
    "    {\"recursion_limit\": 10000},\n",
    ")\n",
    "env.close()"
   ],
   "metadata": {
    "collapsed": false,
    "ExecuteTime": {
     "end_time": "2024-03-18T21:04:36.356998Z",
     "start_time": "2024-03-18T21:03:19.013285Z"
    }
   },
   "id": "8df5d22846427958",
   "execution_count": 17
  }
 ],
 "metadata": {
  "kernelspec": {
   "display_name": "Python 3",
   "language": "python",
   "name": "python3"
  },
  "language_info": {
   "codemirror_mode": {
    "name": "ipython",
    "version": 2
   },
   "file_extension": ".py",
   "mimetype": "text/x-python",
   "name": "python",
   "nbconvert_exporter": "python",
   "pygments_lexer": "ipython2",
   "version": "2.7.6"
  }
 },
 "nbformat": 4,
 "nbformat_minor": 5
}
